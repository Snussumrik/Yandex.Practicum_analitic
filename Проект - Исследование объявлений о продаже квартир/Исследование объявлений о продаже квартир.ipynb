{
 "cells": [
  {
   "cell_type": "markdown",
   "metadata": {},
   "source": [
    "# Исследование объявлений о продаже квартир\n",
    "\n",
    "В вашем распоряжении данные сервиса Яндекс.Недвижимость — архив объявлений о продаже квартир в Санкт-Петербурге и соседних населённых пунктов за несколько лет. Нужно научиться определять рыночную стоимость объектов недвижимости. Ваша задача — установить параметры. Это позволит построить автоматизированную систему: она отследит аномалии и мошенническую деятельность. \n",
    "\n",
    "По каждой квартире на продажу доступны два вида данных. Первые вписаны пользователем, вторые — получены автоматически на основе картографических данных. Например, расстояние до центра, аэропорта, ближайшего парка и водоёма. "
   ]
  },
  {
   "cell_type": "markdown",
   "metadata": {},
   "source": [
    "### Откройте файл с данными и изучите общую информацию. "
   ]
  },
  {
   "cell_type": "code",
   "execution_count": 1,
   "metadata": {
    "scrolled": true
   },
   "outputs": [
    {
     "data": {
      "text/html": [
       "<div>\n",
       "<style scoped>\n",
       "    .dataframe tbody tr th:only-of-type {\n",
       "        vertical-align: middle;\n",
       "    }\n",
       "\n",
       "    .dataframe tbody tr th {\n",
       "        vertical-align: top;\n",
       "    }\n",
       "\n",
       "    .dataframe thead th {\n",
       "        text-align: right;\n",
       "    }\n",
       "</style>\n",
       "<table border=\"1\" class=\"dataframe\">\n",
       "  <thead>\n",
       "    <tr style=\"text-align: right;\">\n",
       "      <th></th>\n",
       "      <th>total_images</th>\n",
       "      <th>last_price</th>\n",
       "      <th>total_area</th>\n",
       "      <th>first_day_exposition</th>\n",
       "      <th>rooms</th>\n",
       "      <th>ceiling_height</th>\n",
       "      <th>floors_total</th>\n",
       "      <th>living_area</th>\n",
       "      <th>floor</th>\n",
       "      <th>is_apartment</th>\n",
       "      <th>...</th>\n",
       "      <th>kitchen_area</th>\n",
       "      <th>balcony</th>\n",
       "      <th>locality_name</th>\n",
       "      <th>airports_nearest</th>\n",
       "      <th>cityCenters_nearest</th>\n",
       "      <th>parks_around3000</th>\n",
       "      <th>parks_nearest</th>\n",
       "      <th>ponds_around3000</th>\n",
       "      <th>ponds_nearest</th>\n",
       "      <th>days_exposition</th>\n",
       "    </tr>\n",
       "  </thead>\n",
       "  <tbody>\n",
       "    <tr>\n",
       "      <th>0</th>\n",
       "      <td>20</td>\n",
       "      <td>13000000.0</td>\n",
       "      <td>108.0</td>\n",
       "      <td>2019-03-07T00:00:00</td>\n",
       "      <td>3</td>\n",
       "      <td>2.70</td>\n",
       "      <td>16.0</td>\n",
       "      <td>51.0</td>\n",
       "      <td>8</td>\n",
       "      <td>NaN</td>\n",
       "      <td>...</td>\n",
       "      <td>25.0</td>\n",
       "      <td>NaN</td>\n",
       "      <td>Санкт-Петербург</td>\n",
       "      <td>18863.0</td>\n",
       "      <td>16028.0</td>\n",
       "      <td>1.0</td>\n",
       "      <td>482.0</td>\n",
       "      <td>2.0</td>\n",
       "      <td>755.0</td>\n",
       "      <td>NaN</td>\n",
       "    </tr>\n",
       "    <tr>\n",
       "      <th>1</th>\n",
       "      <td>7</td>\n",
       "      <td>3350000.0</td>\n",
       "      <td>40.4</td>\n",
       "      <td>2018-12-04T00:00:00</td>\n",
       "      <td>1</td>\n",
       "      <td>NaN</td>\n",
       "      <td>11.0</td>\n",
       "      <td>18.6</td>\n",
       "      <td>1</td>\n",
       "      <td>NaN</td>\n",
       "      <td>...</td>\n",
       "      <td>11.0</td>\n",
       "      <td>2.0</td>\n",
       "      <td>посёлок Шушары</td>\n",
       "      <td>12817.0</td>\n",
       "      <td>18603.0</td>\n",
       "      <td>0.0</td>\n",
       "      <td>NaN</td>\n",
       "      <td>0.0</td>\n",
       "      <td>NaN</td>\n",
       "      <td>81.0</td>\n",
       "    </tr>\n",
       "    <tr>\n",
       "      <th>2</th>\n",
       "      <td>10</td>\n",
       "      <td>5196000.0</td>\n",
       "      <td>56.0</td>\n",
       "      <td>2015-08-20T00:00:00</td>\n",
       "      <td>2</td>\n",
       "      <td>NaN</td>\n",
       "      <td>5.0</td>\n",
       "      <td>34.3</td>\n",
       "      <td>4</td>\n",
       "      <td>NaN</td>\n",
       "      <td>...</td>\n",
       "      <td>8.3</td>\n",
       "      <td>0.0</td>\n",
       "      <td>Санкт-Петербург</td>\n",
       "      <td>21741.0</td>\n",
       "      <td>13933.0</td>\n",
       "      <td>1.0</td>\n",
       "      <td>90.0</td>\n",
       "      <td>2.0</td>\n",
       "      <td>574.0</td>\n",
       "      <td>558.0</td>\n",
       "    </tr>\n",
       "    <tr>\n",
       "      <th>3</th>\n",
       "      <td>0</td>\n",
       "      <td>64900000.0</td>\n",
       "      <td>159.0</td>\n",
       "      <td>2015-07-24T00:00:00</td>\n",
       "      <td>3</td>\n",
       "      <td>NaN</td>\n",
       "      <td>14.0</td>\n",
       "      <td>NaN</td>\n",
       "      <td>9</td>\n",
       "      <td>NaN</td>\n",
       "      <td>...</td>\n",
       "      <td>NaN</td>\n",
       "      <td>0.0</td>\n",
       "      <td>Санкт-Петербург</td>\n",
       "      <td>28098.0</td>\n",
       "      <td>6800.0</td>\n",
       "      <td>2.0</td>\n",
       "      <td>84.0</td>\n",
       "      <td>3.0</td>\n",
       "      <td>234.0</td>\n",
       "      <td>424.0</td>\n",
       "    </tr>\n",
       "    <tr>\n",
       "      <th>4</th>\n",
       "      <td>2</td>\n",
       "      <td>10000000.0</td>\n",
       "      <td>100.0</td>\n",
       "      <td>2018-06-19T00:00:00</td>\n",
       "      <td>2</td>\n",
       "      <td>3.03</td>\n",
       "      <td>14.0</td>\n",
       "      <td>32.0</td>\n",
       "      <td>13</td>\n",
       "      <td>NaN</td>\n",
       "      <td>...</td>\n",
       "      <td>41.0</td>\n",
       "      <td>NaN</td>\n",
       "      <td>Санкт-Петербург</td>\n",
       "      <td>31856.0</td>\n",
       "      <td>8098.0</td>\n",
       "      <td>2.0</td>\n",
       "      <td>112.0</td>\n",
       "      <td>1.0</td>\n",
       "      <td>48.0</td>\n",
       "      <td>121.0</td>\n",
       "    </tr>\n",
       "  </tbody>\n",
       "</table>\n",
       "<p>5 rows × 22 columns</p>\n",
       "</div>"
      ],
      "text/plain": [
       "   total_images  last_price  total_area first_day_exposition  rooms  \\\n",
       "0            20  13000000.0       108.0  2019-03-07T00:00:00      3   \n",
       "1             7   3350000.0        40.4  2018-12-04T00:00:00      1   \n",
       "2            10   5196000.0        56.0  2015-08-20T00:00:00      2   \n",
       "3             0  64900000.0       159.0  2015-07-24T00:00:00      3   \n",
       "4             2  10000000.0       100.0  2018-06-19T00:00:00      2   \n",
       "\n",
       "   ceiling_height  floors_total  living_area  floor is_apartment  ...  \\\n",
       "0            2.70          16.0         51.0      8          NaN  ...   \n",
       "1             NaN          11.0         18.6      1          NaN  ...   \n",
       "2             NaN           5.0         34.3      4          NaN  ...   \n",
       "3             NaN          14.0          NaN      9          NaN  ...   \n",
       "4            3.03          14.0         32.0     13          NaN  ...   \n",
       "\n",
       "   kitchen_area  balcony    locality_name  airports_nearest  \\\n",
       "0          25.0      NaN  Санкт-Петербург           18863.0   \n",
       "1          11.0      2.0   посёлок Шушары           12817.0   \n",
       "2           8.3      0.0  Санкт-Петербург           21741.0   \n",
       "3           NaN      0.0  Санкт-Петербург           28098.0   \n",
       "4          41.0      NaN  Санкт-Петербург           31856.0   \n",
       "\n",
       "  cityCenters_nearest  parks_around3000  parks_nearest  ponds_around3000  \\\n",
       "0             16028.0               1.0          482.0               2.0   \n",
       "1             18603.0               0.0            NaN               0.0   \n",
       "2             13933.0               1.0           90.0               2.0   \n",
       "3              6800.0               2.0           84.0               3.0   \n",
       "4              8098.0               2.0          112.0               1.0   \n",
       "\n",
       "   ponds_nearest  days_exposition  \n",
       "0          755.0              NaN  \n",
       "1            NaN             81.0  \n",
       "2          574.0            558.0  \n",
       "3          234.0            424.0  \n",
       "4           48.0            121.0  \n",
       "\n",
       "[5 rows x 22 columns]"
      ]
     },
     "execution_count": 1,
     "metadata": {},
     "output_type": "execute_result"
    }
   ],
   "source": [
    "#Откроем файл real_estate_data с данными и сохраним его в переменной data и выведим первые 5 строк таблицы на экран\n",
    "import pandas as pd\n",
    "import matplotlib.pyplot as plt\n",
    "import seaborn as sbn\n",
    "data = pd.read_csv('/datasets/real_estate_data.csv', sep='\\t')\n",
    "data.head()"
   ]
  },
  {
   "cell_type": "code",
   "execution_count": 2,
   "metadata": {
    "scrolled": false
   },
   "outputs": [
    {
     "name": "stdout",
     "output_type": "stream",
     "text": [
      "<class 'pandas.core.frame.DataFrame'>\n",
      "RangeIndex: 23699 entries, 0 to 23698\n",
      "Data columns (total 22 columns):\n",
      " #   Column                Non-Null Count  Dtype  \n",
      "---  ------                --------------  -----  \n",
      " 0   total_images          23699 non-null  int64  \n",
      " 1   last_price            23699 non-null  float64\n",
      " 2   total_area            23699 non-null  float64\n",
      " 3   first_day_exposition  23699 non-null  object \n",
      " 4   rooms                 23699 non-null  int64  \n",
      " 5   ceiling_height        14504 non-null  float64\n",
      " 6   floors_total          23613 non-null  float64\n",
      " 7   living_area           21796 non-null  float64\n",
      " 8   floor                 23699 non-null  int64  \n",
      " 9   is_apartment          2775 non-null   object \n",
      " 10  studio                23699 non-null  bool   \n",
      " 11  open_plan             23699 non-null  bool   \n",
      " 12  kitchen_area          21421 non-null  float64\n",
      " 13  balcony               12180 non-null  float64\n",
      " 14  locality_name         23650 non-null  object \n",
      " 15  airports_nearest      18157 non-null  float64\n",
      " 16  cityCenters_nearest   18180 non-null  float64\n",
      " 17  parks_around3000      18181 non-null  float64\n",
      " 18  parks_nearest         8079 non-null   float64\n",
      " 19  ponds_around3000      18181 non-null  float64\n",
      " 20  ponds_nearest         9110 non-null   float64\n",
      " 21  days_exposition       20518 non-null  float64\n",
      "dtypes: bool(2), float64(14), int64(3), object(3)\n",
      "memory usage: 3.7+ MB\n"
     ]
    }
   ],
   "source": [
    "#Посмотрим общую информацию о данных таблицы data\n",
    "data.info()"
   ]
  },
  {
   "cell_type": "code",
   "execution_count": 3,
   "metadata": {
    "scrolled": false
   },
   "outputs": [
    {
     "data": {
      "text/plain": [
       "total_images                0\n",
       "last_price                  0\n",
       "total_area                  0\n",
       "first_day_exposition        0\n",
       "rooms                       0\n",
       "ceiling_height           9195\n",
       "floors_total               86\n",
       "living_area              1903\n",
       "floor                       0\n",
       "is_apartment            20924\n",
       "studio                      0\n",
       "open_plan                   0\n",
       "kitchen_area             2278\n",
       "balcony                 11519\n",
       "locality_name              49\n",
       "airports_nearest         5542\n",
       "cityCenters_nearest      5519\n",
       "parks_around3000         5518\n",
       "parks_nearest           15620\n",
       "ponds_around3000         5518\n",
       "ponds_nearest           14589\n",
       "days_exposition          3181\n",
       "dtype: int64"
      ]
     },
     "execution_count": 3,
     "metadata": {},
     "output_type": "execute_result"
    }
   ],
   "source": [
    "#Проверим таблицу на налачие пропусков\n",
    "data.isna().sum()"
   ]
  },
  {
   "cell_type": "code",
   "execution_count": 4,
   "metadata": {
    "scrolled": false
   },
   "outputs": [
    {
     "data": {
      "text/html": [
       "<div>\n",
       "<style scoped>\n",
       "    .dataframe tbody tr th:only-of-type {\n",
       "        vertical-align: middle;\n",
       "    }\n",
       "\n",
       "    .dataframe tbody tr th {\n",
       "        vertical-align: top;\n",
       "    }\n",
       "\n",
       "    .dataframe thead th {\n",
       "        text-align: right;\n",
       "    }\n",
       "</style>\n",
       "<table border=\"1\" class=\"dataframe\">\n",
       "  <thead>\n",
       "    <tr style=\"text-align: right;\">\n",
       "      <th></th>\n",
       "      <th>total_images</th>\n",
       "      <th>last_price</th>\n",
       "      <th>total_area</th>\n",
       "      <th>rooms</th>\n",
       "      <th>ceiling_height</th>\n",
       "      <th>floors_total</th>\n",
       "      <th>living_area</th>\n",
       "      <th>floor</th>\n",
       "      <th>kitchen_area</th>\n",
       "      <th>balcony</th>\n",
       "      <th>airports_nearest</th>\n",
       "      <th>cityCenters_nearest</th>\n",
       "      <th>parks_around3000</th>\n",
       "      <th>parks_nearest</th>\n",
       "      <th>ponds_around3000</th>\n",
       "      <th>ponds_nearest</th>\n",
       "      <th>days_exposition</th>\n",
       "    </tr>\n",
       "  </thead>\n",
       "  <tbody>\n",
       "    <tr>\n",
       "      <th>count</th>\n",
       "      <td>23699.000000</td>\n",
       "      <td>2.369900e+04</td>\n",
       "      <td>23699.000000</td>\n",
       "      <td>23699.000000</td>\n",
       "      <td>14504.000000</td>\n",
       "      <td>23613.000000</td>\n",
       "      <td>21796.000000</td>\n",
       "      <td>23699.000000</td>\n",
       "      <td>21421.000000</td>\n",
       "      <td>12180.000000</td>\n",
       "      <td>18157.000000</td>\n",
       "      <td>18180.000000</td>\n",
       "      <td>18181.000000</td>\n",
       "      <td>8079.000000</td>\n",
       "      <td>18181.000000</td>\n",
       "      <td>9110.000000</td>\n",
       "      <td>20518.000000</td>\n",
       "    </tr>\n",
       "    <tr>\n",
       "      <th>mean</th>\n",
       "      <td>9.858475</td>\n",
       "      <td>6.541549e+06</td>\n",
       "      <td>60.348651</td>\n",
       "      <td>2.070636</td>\n",
       "      <td>2.771499</td>\n",
       "      <td>10.673824</td>\n",
       "      <td>34.457852</td>\n",
       "      <td>5.892358</td>\n",
       "      <td>10.569807</td>\n",
       "      <td>1.150082</td>\n",
       "      <td>28793.672193</td>\n",
       "      <td>14191.277833</td>\n",
       "      <td>0.611408</td>\n",
       "      <td>490.804555</td>\n",
       "      <td>0.770255</td>\n",
       "      <td>517.980900</td>\n",
       "      <td>180.888634</td>\n",
       "    </tr>\n",
       "    <tr>\n",
       "      <th>std</th>\n",
       "      <td>5.682529</td>\n",
       "      <td>1.088701e+07</td>\n",
       "      <td>35.654083</td>\n",
       "      <td>1.078405</td>\n",
       "      <td>1.261056</td>\n",
       "      <td>6.597173</td>\n",
       "      <td>22.030445</td>\n",
       "      <td>4.885249</td>\n",
       "      <td>5.905438</td>\n",
       "      <td>1.071300</td>\n",
       "      <td>12630.880622</td>\n",
       "      <td>8608.386210</td>\n",
       "      <td>0.802074</td>\n",
       "      <td>342.317995</td>\n",
       "      <td>0.938346</td>\n",
       "      <td>277.720643</td>\n",
       "      <td>219.727988</td>\n",
       "    </tr>\n",
       "    <tr>\n",
       "      <th>min</th>\n",
       "      <td>0.000000</td>\n",
       "      <td>1.219000e+04</td>\n",
       "      <td>12.000000</td>\n",
       "      <td>0.000000</td>\n",
       "      <td>1.000000</td>\n",
       "      <td>1.000000</td>\n",
       "      <td>2.000000</td>\n",
       "      <td>1.000000</td>\n",
       "      <td>1.300000</td>\n",
       "      <td>0.000000</td>\n",
       "      <td>0.000000</td>\n",
       "      <td>181.000000</td>\n",
       "      <td>0.000000</td>\n",
       "      <td>1.000000</td>\n",
       "      <td>0.000000</td>\n",
       "      <td>13.000000</td>\n",
       "      <td>1.000000</td>\n",
       "    </tr>\n",
       "    <tr>\n",
       "      <th>25%</th>\n",
       "      <td>6.000000</td>\n",
       "      <td>3.400000e+06</td>\n",
       "      <td>40.000000</td>\n",
       "      <td>1.000000</td>\n",
       "      <td>2.520000</td>\n",
       "      <td>5.000000</td>\n",
       "      <td>18.600000</td>\n",
       "      <td>2.000000</td>\n",
       "      <td>7.000000</td>\n",
       "      <td>0.000000</td>\n",
       "      <td>18585.000000</td>\n",
       "      <td>9238.000000</td>\n",
       "      <td>0.000000</td>\n",
       "      <td>288.000000</td>\n",
       "      <td>0.000000</td>\n",
       "      <td>294.000000</td>\n",
       "      <td>45.000000</td>\n",
       "    </tr>\n",
       "    <tr>\n",
       "      <th>50%</th>\n",
       "      <td>9.000000</td>\n",
       "      <td>4.650000e+06</td>\n",
       "      <td>52.000000</td>\n",
       "      <td>2.000000</td>\n",
       "      <td>2.650000</td>\n",
       "      <td>9.000000</td>\n",
       "      <td>30.000000</td>\n",
       "      <td>4.000000</td>\n",
       "      <td>9.100000</td>\n",
       "      <td>1.000000</td>\n",
       "      <td>26726.000000</td>\n",
       "      <td>13098.500000</td>\n",
       "      <td>0.000000</td>\n",
       "      <td>455.000000</td>\n",
       "      <td>1.000000</td>\n",
       "      <td>502.000000</td>\n",
       "      <td>95.000000</td>\n",
       "    </tr>\n",
       "    <tr>\n",
       "      <th>75%</th>\n",
       "      <td>14.000000</td>\n",
       "      <td>6.800000e+06</td>\n",
       "      <td>69.900000</td>\n",
       "      <td>3.000000</td>\n",
       "      <td>2.800000</td>\n",
       "      <td>16.000000</td>\n",
       "      <td>42.300000</td>\n",
       "      <td>8.000000</td>\n",
       "      <td>12.000000</td>\n",
       "      <td>2.000000</td>\n",
       "      <td>37273.000000</td>\n",
       "      <td>16293.000000</td>\n",
       "      <td>1.000000</td>\n",
       "      <td>612.000000</td>\n",
       "      <td>1.000000</td>\n",
       "      <td>729.000000</td>\n",
       "      <td>232.000000</td>\n",
       "    </tr>\n",
       "    <tr>\n",
       "      <th>max</th>\n",
       "      <td>50.000000</td>\n",
       "      <td>7.630000e+08</td>\n",
       "      <td>900.000000</td>\n",
       "      <td>19.000000</td>\n",
       "      <td>100.000000</td>\n",
       "      <td>60.000000</td>\n",
       "      <td>409.700000</td>\n",
       "      <td>33.000000</td>\n",
       "      <td>112.000000</td>\n",
       "      <td>5.000000</td>\n",
       "      <td>84869.000000</td>\n",
       "      <td>65968.000000</td>\n",
       "      <td>3.000000</td>\n",
       "      <td>3190.000000</td>\n",
       "      <td>3.000000</td>\n",
       "      <td>1344.000000</td>\n",
       "      <td>1580.000000</td>\n",
       "    </tr>\n",
       "  </tbody>\n",
       "</table>\n",
       "</div>"
      ],
      "text/plain": [
       "       total_images    last_price    total_area         rooms  ceiling_height  \\\n",
       "count  23699.000000  2.369900e+04  23699.000000  23699.000000    14504.000000   \n",
       "mean       9.858475  6.541549e+06     60.348651      2.070636        2.771499   \n",
       "std        5.682529  1.088701e+07     35.654083      1.078405        1.261056   \n",
       "min        0.000000  1.219000e+04     12.000000      0.000000        1.000000   \n",
       "25%        6.000000  3.400000e+06     40.000000      1.000000        2.520000   \n",
       "50%        9.000000  4.650000e+06     52.000000      2.000000        2.650000   \n",
       "75%       14.000000  6.800000e+06     69.900000      3.000000        2.800000   \n",
       "max       50.000000  7.630000e+08    900.000000     19.000000      100.000000   \n",
       "\n",
       "       floors_total   living_area         floor  kitchen_area       balcony  \\\n",
       "count  23613.000000  21796.000000  23699.000000  21421.000000  12180.000000   \n",
       "mean      10.673824     34.457852      5.892358     10.569807      1.150082   \n",
       "std        6.597173     22.030445      4.885249      5.905438      1.071300   \n",
       "min        1.000000      2.000000      1.000000      1.300000      0.000000   \n",
       "25%        5.000000     18.600000      2.000000      7.000000      0.000000   \n",
       "50%        9.000000     30.000000      4.000000      9.100000      1.000000   \n",
       "75%       16.000000     42.300000      8.000000     12.000000      2.000000   \n",
       "max       60.000000    409.700000     33.000000    112.000000      5.000000   \n",
       "\n",
       "       airports_nearest  cityCenters_nearest  parks_around3000  parks_nearest  \\\n",
       "count      18157.000000         18180.000000      18181.000000    8079.000000   \n",
       "mean       28793.672193         14191.277833          0.611408     490.804555   \n",
       "std        12630.880622          8608.386210          0.802074     342.317995   \n",
       "min            0.000000           181.000000          0.000000       1.000000   \n",
       "25%        18585.000000          9238.000000          0.000000     288.000000   \n",
       "50%        26726.000000         13098.500000          0.000000     455.000000   \n",
       "75%        37273.000000         16293.000000          1.000000     612.000000   \n",
       "max        84869.000000         65968.000000          3.000000    3190.000000   \n",
       "\n",
       "       ponds_around3000  ponds_nearest  days_exposition  \n",
       "count      18181.000000    9110.000000     20518.000000  \n",
       "mean           0.770255     517.980900       180.888634  \n",
       "std            0.938346     277.720643       219.727988  \n",
       "min            0.000000      13.000000         1.000000  \n",
       "25%            0.000000     294.000000        45.000000  \n",
       "50%            1.000000     502.000000        95.000000  \n",
       "75%            1.000000     729.000000       232.000000  \n",
       "max            3.000000    1344.000000      1580.000000  "
      ]
     },
     "execution_count": 4,
     "metadata": {},
     "output_type": "execute_result"
    }
   ],
   "source": [
    "#Изучим описательную статистику, посмотри на среднее занчение, медианное и пр.\n",
    "data.describe()"
   ]
  },
  {
   "cell_type": "markdown",
   "metadata": {},
   "source": [
    "Файл открыли и изучили. Данный файл содержит 23699 строки и 22 колонки. Таблица содержит 3 столбца с данными представляющие\n",
    "целые числа(тип int), 14 столбцов c вещественными числами (тип float), 3 столбца с типом object и 2 столбца с булевым типом (тип bool)\n",
    "Так же при изучении таблицы можно заметить в некоторых столбцах несоответствие типа данных, например в столбцах days_exposition,\n",
    "balcony,parks_around3000 и др. - должны быть данные представляющие целые числа, а в столбце is_apartment данные с булевым типом (тут либо да, либо нет)\n",
    "Так же в таблице допущено множество пропусков, такие пропуски могли быть вызваны человеческим фактором, могли неуказать какие-то конкретные параметры, возможно из-за его отсутствия\n",
    "(предположим что балкона нет, и в этой строке ничего и не стали указывать), а так же могла произойти техническая ошибка, \n",
    "которая могла возникнуть в результате переноса данных, или же при копировании данных, сбой может произойти даже во время записи\n",
    "данных.\n",
    "Можно отметить, что в столбце ceiling_height- медианное и среднее значение похоже на правду, а вот минимальное - 1 метр,\n",
    "а максимальное - 100, похоже на неверное указанние данных в некоторых строках, и многое другое."
   ]
  },
  {
   "cell_type": "code",
   "execution_count": 5,
   "metadata": {},
   "outputs": [
    {
     "data": {
      "text/plain": [
       "array([[<AxesSubplot:title={'center':'total_images'}>,\n",
       "        <AxesSubplot:title={'center':'last_price'}>,\n",
       "        <AxesSubplot:title={'center':'total_area'}>,\n",
       "        <AxesSubplot:title={'center':'rooms'}>],\n",
       "       [<AxesSubplot:title={'center':'ceiling_height'}>,\n",
       "        <AxesSubplot:title={'center':'floors_total'}>,\n",
       "        <AxesSubplot:title={'center':'living_area'}>,\n",
       "        <AxesSubplot:title={'center':'floor'}>],\n",
       "       [<AxesSubplot:title={'center':'kitchen_area'}>,\n",
       "        <AxesSubplot:title={'center':'balcony'}>,\n",
       "        <AxesSubplot:title={'center':'airports_nearest'}>,\n",
       "        <AxesSubplot:title={'center':'cityCenters_nearest'}>],\n",
       "       [<AxesSubplot:title={'center':'parks_around3000'}>,\n",
       "        <AxesSubplot:title={'center':'parks_nearest'}>,\n",
       "        <AxesSubplot:title={'center':'ponds_around3000'}>,\n",
       "        <AxesSubplot:title={'center':'ponds_nearest'}>],\n",
       "       [<AxesSubplot:title={'center':'days_exposition'}>, <AxesSubplot:>,\n",
       "        <AxesSubplot:>, <AxesSubplot:>]], dtype=object)"
      ]
     },
     "execution_count": 5,
     "metadata": {},
     "output_type": "execute_result"
    },
    {
     "data": {
      "image/png": "[encoded data removed]",
      "text/plain": [
       "<Figure size 1080x1440 with 20 Axes>"
      ]
     },
     "metadata": {
      "needs_background": "light"
     },
     "output_type": "display_data"
    }
   ],
   "source": [
    "data.hist(figsize=(15, 20))"
   ]
  },
  {
   "cell_type": "markdown",
   "metadata": {},
   "source": [
    "### Предобработка данных"
   ]
  },
  {
   "cell_type": "code",
   "execution_count": 6,
   "metadata": {},
   "outputs": [
    {
     "data": {
      "text/plain": [
       "total_images                0\n",
       "last_price                  0\n",
       "total_area                  0\n",
       "first_day_exposition        0\n",
       "rooms                       0\n",
       "ceiling_height           9195\n",
       "floors_total               86\n",
       "living_area              1903\n",
       "floor                       0\n",
       "is_apartment            20924\n",
       "studio                      0\n",
       "open_plan                   0\n",
       "kitchen_area             2278\n",
       "balcony                 11519\n",
       "locality_name              49\n",
       "airports_nearest         5542\n",
       "cityCenters_nearest      5519\n",
       "parks_around3000         5518\n",
       "parks_nearest           15620\n",
       "ponds_around3000         5518\n",
       "ponds_nearest           14589\n",
       "days_exposition          3181\n",
       "dtype: int64"
      ]
     },
     "execution_count": 6,
     "metadata": {},
     "output_type": "execute_result"
    }
   ],
   "source": [
    "#Еще раз посмотрим, в каких столбцах есть пропущенные значения.\n",
    "data.isna().sum()"
   ]
  },
  {
   "cell_type": "code",
   "execution_count": 7,
   "metadata": {},
   "outputs": [
    {
     "data": {
      "text/plain": [
       "array([  1.  ,   1.2 ,   1.75,   2.  ,   2.2 ,   2.25,   2.3 ,   2.34,\n",
       "         2.4 ,   2.45,   2.46,   2.47,   2.48,   2.49,   2.5 ,   2.51,\n",
       "         2.52,   2.53,   2.54,   2.55,   2.56,   2.57,   2.58,   2.59,\n",
       "         2.6 ,   2.61,   2.62,   2.63,   2.64,   2.65,   2.66,   2.67,\n",
       "         2.68,   2.69,   2.7 ,   2.71,   2.72,   2.73,   2.74,   2.75,\n",
       "         2.76,   2.77,   2.78,   2.79,   2.8 ,   2.81,   2.82,   2.83,\n",
       "         2.84,   2.85,   2.86,   2.87,   2.88,   2.89,   2.9 ,   2.91,\n",
       "         2.92,   2.93,   2.94,   2.95,   2.96,   2.97,   2.98,   2.99,\n",
       "         3.  ,   3.01,   3.02,   3.03,   3.04,   3.05,   3.06,   3.07,\n",
       "         3.08,   3.09,   3.1 ,   3.11,   3.12,   3.13,   3.14,   3.15,\n",
       "         3.16,   3.17,   3.18,   3.2 ,   3.21,   3.22,   3.23,   3.24,\n",
       "         3.25,   3.26,   3.27,   3.28,   3.29,   3.3 ,   3.31,   3.32,\n",
       "         3.33,   3.34,   3.35,   3.36,   3.37,   3.38,   3.39,   3.4 ,\n",
       "         3.42,   3.43,   3.44,   3.45,   3.46,   3.47,   3.48,   3.49,\n",
       "         3.5 ,   3.51,   3.52,   3.53,   3.54,   3.55,   3.56,   3.57,\n",
       "         3.58,   3.59,   3.6 ,   3.62,   3.63,   3.65,   3.66,   3.67,\n",
       "         3.68,   3.69,   3.7 ,   3.75,   3.76,   3.78,   3.8 ,   3.82,\n",
       "         3.83,   3.84,   3.85,   3.86,   3.87,   3.88,   3.9 ,   3.93,\n",
       "         3.95,   3.98,   4.  ,   4.06,   4.1 ,   4.14,   4.15,   4.19,\n",
       "         4.2 ,   4.25,   4.3 ,   4.37,   4.4 ,   4.45,   4.5 ,   4.65,\n",
       "         4.7 ,   4.8 ,   4.9 ,   5.  ,   5.2 ,   5.3 ,   5.5 ,   5.6 ,\n",
       "         5.8 ,   6.  ,   8.  ,   8.3 ,  10.3 ,  14.  ,  20.  ,  22.6 ,\n",
       "        24.  ,  25.  ,  26.  ,  27.  ,  27.5 ,  32.  , 100.  ,    nan])"
      ]
     },
     "execution_count": 7,
     "metadata": {},
     "output_type": "execute_result"
    }
   ],
   "source": [
    "#Более детально рассмотрим каждый столбец с пропущенными значениями, и заполним там, где это возможно\n",
    "#Столбец ceiling_height - высота потолков (м), изучим уникальные значения в данном столбце\n",
    "data['ceiling_height'].sort_values().unique()"
   ]
  },
  {
   "cell_type": "code",
   "execution_count": 8,
   "metadata": {},
   "outputs": [],
   "source": [
    "#Потолки с высотой менее 2,5м и более 5м, а так же пустые строки - заменним медианным значением\n",
    "def replace_large_values(row):\n",
    "    if row > 5:\n",
    "        return None\n",
    "    if row < 2.5:\n",
    "        return 2.5\n",
    "    return row \n",
    "data['ceiling_height'] = data['ceiling_height'].apply(replace_large_values)\n",
    "data['ceiling_height'] = data['ceiling_height'].fillna(data['ceiling_height'].median())"
   ]
  },
  {
   "cell_type": "code",
   "execution_count": 9,
   "metadata": {},
   "outputs": [
    {
     "data": {
      "text/plain": [
       "0"
      ]
     },
     "execution_count": 9,
     "metadata": {},
     "output_type": "execute_result"
    }
   ],
   "source": [
    "#Проверим, данный столбец, все ли выбивающиеся за норму значения и пропуски удалось заменить\n",
    "data['ceiling_height'].isna().sum()"
   ]
  },
  {
   "cell_type": "code",
   "execution_count": 10,
   "metadata": {},
   "outputs": [],
   "source": [
    "#Столбец floors_total - всего этажей в доме. Так как количество допущенных пропусков в данном столбце особую роль не играет, мы\n",
    "#заменим их на значения соседнего столбца\n",
    "data['floors_total'] = data['floors_total'].fillna(data['floor'])"
   ]
  },
  {
   "cell_type": "code",
   "execution_count": 11,
   "metadata": {},
   "outputs": [
    {
     "data": {
      "text/plain": [
       "0"
      ]
     },
     "execution_count": 11,
     "metadata": {},
     "output_type": "execute_result"
    }
   ],
   "source": [
    "#Проверим, данный столбец, все ли выбивающиеся за норму значения и пропуски удалось заменить\n",
    "data['floors_total'].isna().sum()"
   ]
  },
  {
   "cell_type": "code",
   "execution_count": 12,
   "metadata": {},
   "outputs": [],
   "source": [
    "#Столбец is_apartment - апартаменты (булев тип), а у нас object, необходимо исправить, но прежде заменим пропущенные значения\n",
    "#на False\n",
    "data['is_apartment'] = data['is_apartment'].fillna(False)"
   ]
  },
  {
   "cell_type": "code",
   "execution_count": 13,
   "metadata": {
    "scrolled": true
   },
   "outputs": [
    {
     "name": "stdout",
     "output_type": "stream",
     "text": [
      "<class 'pandas.core.frame.DataFrame'>\n",
      "RangeIndex: 23699 entries, 0 to 23698\n",
      "Data columns (total 22 columns):\n",
      " #   Column                Non-Null Count  Dtype  \n",
      "---  ------                --------------  -----  \n",
      " 0   total_images          23699 non-null  int64  \n",
      " 1   last_price            23699 non-null  float64\n",
      " 2   total_area            23699 non-null  float64\n",
      " 3   first_day_exposition  23699 non-null  object \n",
      " 4   rooms                 23699 non-null  int64  \n",
      " 5   ceiling_height        23699 non-null  float64\n",
      " 6   floors_total          23699 non-null  float64\n",
      " 7   living_area           21796 non-null  float64\n",
      " 8   floor                 23699 non-null  int64  \n",
      " 9   is_apartment          23699 non-null  bool   \n",
      " 10  studio                23699 non-null  bool   \n",
      " 11  open_plan             23699 non-null  bool   \n",
      " 12  kitchen_area          21421 non-null  float64\n",
      " 13  balcony               12180 non-null  float64\n",
      " 14  locality_name         23650 non-null  object \n",
      " 15  airports_nearest      18157 non-null  float64\n",
      " 16  cityCenters_nearest   18180 non-null  float64\n",
      " 17  parks_around3000      18181 non-null  float64\n",
      " 18  parks_nearest         8079 non-null   float64\n",
      " 19  ponds_around3000      18181 non-null  float64\n",
      " 20  ponds_nearest         9110 non-null   float64\n",
      " 21  days_exposition       20518 non-null  float64\n",
      "dtypes: bool(3), float64(14), int64(3), object(2)\n",
      "memory usage: 3.5+ MB\n"
     ]
    }
   ],
   "source": [
    "#Проверим\n",
    "data.info()"
   ]
  },
  {
   "cell_type": "code",
   "execution_count": 14,
   "metadata": {},
   "outputs": [
    {
     "data": {
      "text/plain": [
       "0"
      ]
     },
     "execution_count": 14,
     "metadata": {},
     "output_type": "execute_result"
    }
   ],
   "source": [
    "#Проверим, данный столбец на количество пропусков\n",
    "data['is_apartment'].isna().sum()"
   ]
  },
  {
   "cell_type": "code",
   "execution_count": 15,
   "metadata": {},
   "outputs": [],
   "source": [
    "#Столбец balcony - число балконов. Предположим, что если балконов нет, то их и не указали, поэтому заменим пропущенное значение - 0\n",
    "data['balcony'] = data['balcony'].fillna(0)"
   ]
  },
  {
   "cell_type": "code",
   "execution_count": 16,
   "metadata": {
    "scrolled": true
   },
   "outputs": [
    {
     "data": {
      "text/plain": [
       "0"
      ]
     },
     "execution_count": 16,
     "metadata": {},
     "output_type": "execute_result"
    }
   ],
   "source": [
    "#Проверим, данный столбец на количество пропусков\n",
    "data['balcony'].isna().sum()"
   ]
  },
  {
   "cell_type": "markdown",
   "metadata": {},
   "source": [
    "Жилая площадь сильнее всего зависит от общей площади, однако не вся общая площадь является жилой, и их соотношение будет\n",
    "зависить от количества комнат, поэтому необходимо расчитать медианное значение для количества комнат."
   ]
  },
  {
   "cell_type": "markdown",
   "metadata": {},
   "source": [
    "Столбец living_area - жилая площадь в квадратных метрах (м²) и kitchen_area - площадь кухни в квадратных метрах (м²)"
   ]
  },
  {
   "cell_type": "code",
   "execution_count": 17,
   "metadata": {},
   "outputs": [
    {
     "data": {
      "text/plain": [
       "count    21796.000000\n",
       "mean        34.457852\n",
       "std         22.030445\n",
       "min          2.000000\n",
       "25%         18.600000\n",
       "50%         30.000000\n",
       "75%         42.300000\n",
       "max        409.700000\n",
       "Name: living_area, dtype: float64"
      ]
     },
     "execution_count": 17,
     "metadata": {},
     "output_type": "execute_result"
    }
   ],
   "source": [
    "# Изучим статистику living_area\n",
    "data['living_area'].describe()"
   ]
  },
  {
   "cell_type": "code",
   "execution_count": 18,
   "metadata": {},
   "outputs": [
    {
     "data": {
      "text/html": [
       "<div>\n",
       "<style scoped>\n",
       "    .dataframe tbody tr th:only-of-type {\n",
       "        vertical-align: middle;\n",
       "    }\n",
       "\n",
       "    .dataframe tbody tr th {\n",
       "        vertical-align: top;\n",
       "    }\n",
       "\n",
       "    .dataframe thead th {\n",
       "        text-align: right;\n",
       "    }\n",
       "</style>\n",
       "<table border=\"1\" class=\"dataframe\">\n",
       "  <thead>\n",
       "    <tr style=\"text-align: right;\">\n",
       "      <th></th>\n",
       "      <th>index</th>\n",
       "      <th>living_area</th>\n",
       "    </tr>\n",
       "  </thead>\n",
       "  <tbody>\n",
       "    <tr>\n",
       "      <th>0</th>\n",
       "      <td>living_area</td>\n",
       "      <td>1.000000</td>\n",
       "    </tr>\n",
       "    <tr>\n",
       "      <th>1</th>\n",
       "      <td>total_area</td>\n",
       "      <td>0.939537</td>\n",
       "    </tr>\n",
       "    <tr>\n",
       "      <th>2</th>\n",
       "      <td>rooms</td>\n",
       "      <td>0.845977</td>\n",
       "    </tr>\n",
       "    <tr>\n",
       "      <th>3</th>\n",
       "      <td>last_price</td>\n",
       "      <td>0.566492</td>\n",
       "    </tr>\n",
       "    <tr>\n",
       "      <th>4</th>\n",
       "      <td>kitchen_area</td>\n",
       "      <td>0.428674</td>\n",
       "    </tr>\n",
       "  </tbody>\n",
       "</table>\n",
       "</div>"
      ],
      "text/plain": [
       "          index  living_area\n",
       "0   living_area     1.000000\n",
       "1    total_area     0.939537\n",
       "2         rooms     0.845977\n",
       "3    last_price     0.566492\n",
       "4  kitchen_area     0.428674"
      ]
     },
     "execution_count": 18,
     "metadata": {},
     "output_type": "execute_result"
    }
   ],
   "source": [
    "#Посмотрим на корреляцию, и найдем самую сильную взаимосвязь\n",
    "data.corr().sort_values(by='living_area', ascending=False)['living_area'].reset_index().head()"
   ]
  },
  {
   "cell_type": "code",
   "execution_count": 19,
   "metadata": {},
   "outputs": [
    {
     "data": {
      "text/plain": [
       "count    21421.000000\n",
       "mean        10.569807\n",
       "std          5.905438\n",
       "min          1.300000\n",
       "25%          7.000000\n",
       "50%          9.100000\n",
       "75%         12.000000\n",
       "max        112.000000\n",
       "Name: kitchen_area, dtype: float64"
      ]
     },
     "execution_count": 19,
     "metadata": {},
     "output_type": "execute_result"
    }
   ],
   "source": [
    "#Изучим статистику kitchen_area\n",
    "data['kitchen_area'].describe()"
   ]
  },
  {
   "cell_type": "code",
   "execution_count": 20,
   "metadata": {
    "scrolled": false
   },
   "outputs": [
    {
     "data": {
      "text/html": [
       "<div>\n",
       "<style scoped>\n",
       "    .dataframe tbody tr th:only-of-type {\n",
       "        vertical-align: middle;\n",
       "    }\n",
       "\n",
       "    .dataframe tbody tr th {\n",
       "        vertical-align: top;\n",
       "    }\n",
       "\n",
       "    .dataframe thead th {\n",
       "        text-align: right;\n",
       "    }\n",
       "</style>\n",
       "<table border=\"1\" class=\"dataframe\">\n",
       "  <thead>\n",
       "    <tr style=\"text-align: right;\">\n",
       "      <th></th>\n",
       "      <th>index</th>\n",
       "      <th>kitchen_area</th>\n",
       "    </tr>\n",
       "  </thead>\n",
       "  <tbody>\n",
       "    <tr>\n",
       "      <th>0</th>\n",
       "      <td>kitchen_area</td>\n",
       "      <td>1.000000</td>\n",
       "    </tr>\n",
       "    <tr>\n",
       "      <th>1</th>\n",
       "      <td>total_area</td>\n",
       "      <td>0.609121</td>\n",
       "    </tr>\n",
       "    <tr>\n",
       "      <th>2</th>\n",
       "      <td>last_price</td>\n",
       "      <td>0.519869</td>\n",
       "    </tr>\n",
       "    <tr>\n",
       "      <th>3</th>\n",
       "      <td>living_area</td>\n",
       "      <td>0.428674</td>\n",
       "    </tr>\n",
       "    <tr>\n",
       "      <th>4</th>\n",
       "      <td>ceiling_height</td>\n",
       "      <td>0.334430</td>\n",
       "    </tr>\n",
       "  </tbody>\n",
       "</table>\n",
       "</div>"
      ],
      "text/plain": [
       "            index  kitchen_area\n",
       "0    kitchen_area      1.000000\n",
       "1      total_area      0.609121\n",
       "2      last_price      0.519869\n",
       "3     living_area      0.428674\n",
       "4  ceiling_height      0.334430"
      ]
     },
     "execution_count": 20,
     "metadata": {},
     "output_type": "execute_result"
    }
   ],
   "source": [
    "#Посмотрим на корреляцию, и найдем самую сильную взаимосвязь\n",
    "data.corr().sort_values(by='kitchen_area', ascending=False)['kitchen_area'].reset_index().head()"
   ]
  },
  {
   "cell_type": "markdown",
   "metadata": {},
   "source": [
    "Площадь кухни так же сильнее всего зависит от общей площади, поэтому расчеты будут производится так же, как и для living_area"
   ]
  },
  {
   "cell_type": "code",
   "execution_count": 21,
   "metadata": {},
   "outputs": [],
   "source": [
    "# Добавим столбцы доли жилой площади в общей и доли кухни в общей площади\n",
    "data['kitchen_share'] = data['kitchen_area'] / data['total_area']\n",
    "data['living_share'] = data['living_area'] / data['total_area']"
   ]
  },
  {
   "cell_type": "code",
   "execution_count": 22,
   "metadata": {},
   "outputs": [],
   "source": [
    "#Так как в квартирах студиях кухня предположительно располагается внутри комнаты, то в данных квартирах проставим значение 0\n",
    "data.loc[data['studio'] == True, 'kitchen_area'] = 0"
   ]
  },
  {
   "cell_type": "code",
   "execution_count": 23,
   "metadata": {},
   "outputs": [
    {
     "data": {
      "text/html": [
       "<div>\n",
       "<style scoped>\n",
       "    .dataframe tbody tr th:only-of-type {\n",
       "        vertical-align: middle;\n",
       "    }\n",
       "\n",
       "    .dataframe tbody tr th {\n",
       "        vertical-align: top;\n",
       "    }\n",
       "\n",
       "    .dataframe thead th {\n",
       "        text-align: right;\n",
       "    }\n",
       "</style>\n",
       "<table border=\"1\" class=\"dataframe\">\n",
       "  <thead>\n",
       "    <tr style=\"text-align: right;\">\n",
       "      <th></th>\n",
       "      <th>rooms</th>\n",
       "      <th>kitchen_share</th>\n",
       "      <th>living_share</th>\n",
       "    </tr>\n",
       "  </thead>\n",
       "  <tbody>\n",
       "    <tr>\n",
       "      <th>0</th>\n",
       "      <td>0</td>\n",
       "      <td>NaN</td>\n",
       "      <td>0.689655</td>\n",
       "    </tr>\n",
       "    <tr>\n",
       "      <th>1</th>\n",
       "      <td>1</td>\n",
       "      <td>0.247839</td>\n",
       "      <td>0.482488</td>\n",
       "    </tr>\n",
       "    <tr>\n",
       "      <th>2</th>\n",
       "      <td>2</td>\n",
       "      <td>0.161075</td>\n",
       "      <td>0.585009</td>\n",
       "    </tr>\n",
       "    <tr>\n",
       "      <th>3</th>\n",
       "      <td>3</td>\n",
       "      <td>0.128571</td>\n",
       "      <td>0.631667</td>\n",
       "    </tr>\n",
       "    <tr>\n",
       "      <th>4</th>\n",
       "      <td>4</td>\n",
       "      <td>0.112245</td>\n",
       "      <td>0.659740</td>\n",
       "    </tr>\n",
       "    <tr>\n",
       "      <th>5</th>\n",
       "      <td>5</td>\n",
       "      <td>0.105386</td>\n",
       "      <td>0.651842</td>\n",
       "    </tr>\n",
       "    <tr>\n",
       "      <th>6</th>\n",
       "      <td>6</td>\n",
       "      <td>0.099502</td>\n",
       "      <td>0.679412</td>\n",
       "    </tr>\n",
       "    <tr>\n",
       "      <th>7</th>\n",
       "      <td>7</td>\n",
       "      <td>0.083717</td>\n",
       "      <td>0.681670</td>\n",
       "    </tr>\n",
       "    <tr>\n",
       "      <th>8</th>\n",
       "      <td>8</td>\n",
       "      <td>0.109170</td>\n",
       "      <td>0.688475</td>\n",
       "    </tr>\n",
       "    <tr>\n",
       "      <th>9</th>\n",
       "      <td>9</td>\n",
       "      <td>0.049620</td>\n",
       "      <td>0.628251</td>\n",
       "    </tr>\n",
       "    <tr>\n",
       "      <th>10</th>\n",
       "      <td>10</td>\n",
       "      <td>0.091624</td>\n",
       "      <td>0.653103</td>\n",
       "    </tr>\n",
       "    <tr>\n",
       "      <th>11</th>\n",
       "      <td>11</td>\n",
       "      <td>0.066855</td>\n",
       "      <td>0.710093</td>\n",
       "    </tr>\n",
       "    <tr>\n",
       "      <th>12</th>\n",
       "      <td>12</td>\n",
       "      <td>0.124444</td>\n",
       "      <td>0.455222</td>\n",
       "    </tr>\n",
       "    <tr>\n",
       "      <th>13</th>\n",
       "      <td>14</td>\n",
       "      <td>0.075636</td>\n",
       "      <td>0.648695</td>\n",
       "    </tr>\n",
       "    <tr>\n",
       "      <th>14</th>\n",
       "      <td>15</td>\n",
       "      <td>0.169492</td>\n",
       "      <td>0.693220</td>\n",
       "    </tr>\n",
       "    <tr>\n",
       "      <th>15</th>\n",
       "      <td>16</td>\n",
       "      <td>0.048148</td>\n",
       "      <td>0.666667</td>\n",
       "    </tr>\n",
       "    <tr>\n",
       "      <th>16</th>\n",
       "      <td>19</td>\n",
       "      <td>0.073679</td>\n",
       "      <td>0.706086</td>\n",
       "    </tr>\n",
       "  </tbody>\n",
       "</table>\n",
       "</div>"
      ],
      "text/plain": [
       "    rooms  kitchen_share  living_share\n",
       "0       0            NaN      0.689655\n",
       "1       1       0.247839      0.482488\n",
       "2       2       0.161075      0.585009\n",
       "3       3       0.128571      0.631667\n",
       "4       4       0.112245      0.659740\n",
       "5       5       0.105386      0.651842\n",
       "6       6       0.099502      0.679412\n",
       "7       7       0.083717      0.681670\n",
       "8       8       0.109170      0.688475\n",
       "9       9       0.049620      0.628251\n",
       "10     10       0.091624      0.653103\n",
       "11     11       0.066855      0.710093\n",
       "12     12       0.124444      0.455222\n",
       "13     14       0.075636      0.648695\n",
       "14     15       0.169492      0.693220\n",
       "15     16       0.048148      0.666667\n",
       "16     19       0.073679      0.706086"
      ]
     },
     "execution_count": 23,
     "metadata": {},
     "output_type": "execute_result"
    }
   ],
   "source": [
    "area_median = (data\n",
    "                    .pivot_table(index='rooms', values=['kitchen_share', 'living_share'], aggfunc='median')\n",
    "                    .reset_index())\n",
    "area_median"
   ]
  },
  {
   "cell_type": "code",
   "execution_count": 24,
   "metadata": {},
   "outputs": [],
   "source": [
    "#Расчитаем медианное значение по количеству комнат, и заполнить пропуски для living_area и kitchen_area\n",
    "for room in range(1, 20):\n",
    "    data.loc[data['rooms'] == room, 'living_area'] = (\n",
    "        data.loc[data['rooms'] == room, 'living_area']\n",
    "        .fillna(data.loc[data['rooms'] == room, 'total_area'] *\n",
    "                area_median[area_median['rooms'] == room]['living_share'].sum()))\n",
    "    data.loc[data['rooms'] == room, 'kitchen_area'] = (\n",
    "        data.loc[data['rooms'] == room, 'kitchen_area']\n",
    "        .fillna(data.loc[data['rooms'] == room, 'total_area'] *\n",
    "                area_median[area_median['rooms'] == room]['kitchen_share'].sum()))"
   ]
  },
  {
   "cell_type": "code",
   "execution_count": 25,
   "metadata": {
    "scrolled": false
   },
   "outputs": [
    {
     "data": {
      "text/plain": [
       "['Санкт-Петербург',\n",
       " 'посёлок Шушары',\n",
       " 'городской посёлок Янино-1',\n",
       " 'посёлок Парголово',\n",
       " 'посёлок Мурино',\n",
       " 'Ломоносов',\n",
       " 'Сертолово',\n",
       " 'Петергоф',\n",
       " 'Пушкин',\n",
       " 'деревня Кудрово',\n",
       " 'Коммунар',\n",
       " 'Колпино',\n",
       " 'поселок городского типа Красный Бор',\n",
       " 'Гатчина',\n",
       " 'поселок Мурино',\n",
       " 'деревня Фёдоровское',\n",
       " 'Выборг',\n",
       " 'Кронштадт',\n",
       " 'Кировск',\n",
       " 'деревня Новое Девяткино',\n",
       " 'посёлок Металлострой',\n",
       " 'посёлок городского типа Лебяжье',\n",
       " 'посёлок городского типа Сиверский',\n",
       " 'поселок Молодцово',\n",
       " 'поселок городского типа Кузьмоловский',\n",
       " 'садовое товарищество Новая Ропша',\n",
       " 'Павловск',\n",
       " 'деревня Пикколово',\n",
       " 'Всеволожск',\n",
       " 'Волхов',\n",
       " 'Кингисепп',\n",
       " 'Приозерск',\n",
       " 'Сестрорецк',\n",
       " 'деревня Куттузи',\n",
       " 'посёлок Аннино',\n",
       " 'поселок городского типа Ефимовский',\n",
       " 'посёлок Плодовое',\n",
       " 'деревня Заклинье',\n",
       " 'поселок Торковичи',\n",
       " 'поселок Первомайское',\n",
       " 'Красное Село',\n",
       " 'посёлок Понтонный',\n",
       " 'Сясьстрой',\n",
       " 'деревня Старая',\n",
       " 'деревня Лесколово',\n",
       " 'посёлок Новый Свет',\n",
       " 'Сланцы',\n",
       " 'село Путилово',\n",
       " 'Ивангород',\n",
       " 'Мурино',\n",
       " 'Шлиссельбург',\n",
       " 'Никольское',\n",
       " 'Зеленогорск',\n",
       " 'Сосновый Бор',\n",
       " 'поселок Новый Свет',\n",
       " 'деревня Оржицы',\n",
       " 'деревня Кальтино',\n",
       " 'Кудрово',\n",
       " 'поселок Романовка',\n",
       " 'посёлок Бугры',\n",
       " 'поселок Бугры',\n",
       " 'поселок городского типа Рощино',\n",
       " 'Кириши',\n",
       " 'Луга',\n",
       " 'Волосово',\n",
       " 'Отрадное',\n",
       " 'село Павлово',\n",
       " 'поселок Оредеж',\n",
       " 'село Копорье',\n",
       " 'посёлок городского типа Красный Бор',\n",
       " 'посёлок Молодёжное',\n",
       " 'Тихвин',\n",
       " 'посёлок Победа',\n",
       " 'деревня Нурма',\n",
       " 'поселок городского типа Синявино',\n",
       " 'Тосно',\n",
       " 'посёлок городского типа Кузьмоловский',\n",
       " 'посёлок Стрельна',\n",
       " 'Бокситогорск',\n",
       " 'посёлок Александровская',\n",
       " 'деревня Лопухинка',\n",
       " 'Пикалёво',\n",
       " 'поселок Терволово',\n",
       " 'поселок городского типа Советский',\n",
       " 'Подпорожье',\n",
       " 'посёлок Петровское',\n",
       " 'посёлок городского типа Токсово',\n",
       " 'поселок Сельцо',\n",
       " 'посёлок городского типа Вырица',\n",
       " 'деревня Кипень',\n",
       " 'деревня Келози',\n",
       " 'деревня Вартемяги',\n",
       " 'посёлок Тельмана',\n",
       " 'поселок Севастьяново',\n",
       " 'городской поселок Большая Ижора',\n",
       " nan,\n",
       " 'городской посёлок Павлово',\n",
       " 'деревня Агалатово',\n",
       " 'посёлок Новогорелово',\n",
       " 'городской посёлок Лесогорский',\n",
       " 'деревня Лаголово',\n",
       " 'поселок Цвелодубово',\n",
       " 'поселок городского типа Рахья',\n",
       " 'поселок городского типа Вырица',\n",
       " 'деревня Белогорка',\n",
       " 'поселок Заводской',\n",
       " 'городской посёлок Новоселье',\n",
       " 'деревня Большие Колпаны',\n",
       " 'деревня Горбунки',\n",
       " 'деревня Батово',\n",
       " 'деревня Заневка',\n",
       " 'деревня Иссад',\n",
       " 'Приморск',\n",
       " 'городской посёлок Фёдоровское',\n",
       " 'деревня Мистолово',\n",
       " 'Новая Ладога',\n",
       " 'поселок Зимитицы',\n",
       " 'поселок Барышево',\n",
       " 'деревня Разметелево',\n",
       " 'поселок городского типа имени Свердлова',\n",
       " 'деревня Пеники',\n",
       " 'поселок Рябово',\n",
       " 'деревня Пудомяги',\n",
       " 'поселок станции Корнево',\n",
       " 'деревня Низино',\n",
       " 'деревня Бегуницы',\n",
       " 'посёлок Поляны',\n",
       " 'городской посёлок Мга',\n",
       " 'поселок Елизаветино',\n",
       " 'посёлок городского типа Кузнечное',\n",
       " 'деревня Колтуши',\n",
       " 'поселок Запорожское',\n",
       " 'посёлок городского типа Рощино',\n",
       " 'деревня Гостилицы',\n",
       " 'деревня Малое Карлино',\n",
       " 'посёлок Мичуринское',\n",
       " 'посёлок городского типа имени Морозова',\n",
       " 'посёлок Песочный',\n",
       " 'посёлок Сосново',\n",
       " 'деревня Аро',\n",
       " 'поселок Ильичёво',\n",
       " 'посёлок городского типа Тайцы',\n",
       " 'деревня Малое Верево',\n",
       " 'деревня Извара',\n",
       " 'поселок станции Вещево',\n",
       " 'село Паша',\n",
       " 'деревня Калитино',\n",
       " 'посёлок городского типа Ульяновка',\n",
       " 'деревня Чудской Бор',\n",
       " 'поселок городского типа Дубровка',\n",
       " 'деревня Мины',\n",
       " 'поселок Войсковицы',\n",
       " 'посёлок городского типа имени Свердлова',\n",
       " 'деревня Коркино',\n",
       " 'посёлок Ропша',\n",
       " 'поселок городского типа Приладожский',\n",
       " 'посёлок Щеглово',\n",
       " 'посёлок Гаврилово',\n",
       " 'Лодейное Поле',\n",
       " 'деревня Рабитицы',\n",
       " 'поселок городского типа Никольский',\n",
       " 'деревня Кузьмолово',\n",
       " 'деревня Малые Колпаны',\n",
       " 'поселок Тельмана',\n",
       " 'посёлок Петро-Славянка',\n",
       " 'городской посёлок Назия',\n",
       " 'посёлок Репино',\n",
       " 'посёлок Ильичёво',\n",
       " 'поселок Углово',\n",
       " 'поселок Старая Малукса',\n",
       " 'садовое товарищество Рахья',\n",
       " 'поселок Аннино',\n",
       " 'поселок Победа',\n",
       " 'деревня Меньково',\n",
       " 'деревня Старые Бегуницы',\n",
       " 'посёлок Сапёрный',\n",
       " 'поселок Семрино',\n",
       " 'поселок Гаврилово',\n",
       " 'поселок Глажево',\n",
       " 'поселок Кобринское',\n",
       " 'деревня Гарболово',\n",
       " 'деревня Юкки',\n",
       " 'поселок станции Приветнинское',\n",
       " 'деревня Мануйлово',\n",
       " 'деревня Пчева',\n",
       " 'поселок Поляны',\n",
       " 'поселок Цвылёво',\n",
       " 'поселок Мельниково',\n",
       " 'посёлок Пудость',\n",
       " 'посёлок Усть-Луга',\n",
       " 'Светогорск',\n",
       " 'Любань',\n",
       " 'поселок Селезнёво',\n",
       " 'поселок городского типа Рябово',\n",
       " 'Каменногорск',\n",
       " 'деревня Кривко',\n",
       " 'поселок Глебычево',\n",
       " 'деревня Парицы',\n",
       " 'поселок Жилпосёлок',\n",
       " 'посёлок городского типа Мга',\n",
       " 'городской поселок Янино-1',\n",
       " 'посёлок Войскорово',\n",
       " 'село Никольское',\n",
       " 'посёлок Терволово',\n",
       " 'поселок Стеклянный',\n",
       " 'посёлок городского типа Важины',\n",
       " 'посёлок Мыза-Ивановка',\n",
       " 'село Русско-Высоцкое',\n",
       " 'поселок городского типа Лебяжье',\n",
       " 'поселок городского типа Форносово',\n",
       " 'село Старая Ладога',\n",
       " 'поселок Житково',\n",
       " 'городской посёлок Виллози',\n",
       " 'деревня Лампово',\n",
       " 'деревня Шпаньково',\n",
       " 'деревня Лаврики',\n",
       " 'посёлок Сумино',\n",
       " 'посёлок Возрождение',\n",
       " 'деревня Старосиверская',\n",
       " 'посёлок Кикерино',\n",
       " 'поселок Возрождение',\n",
       " 'деревня Старое Хинколово',\n",
       " 'посёлок Пригородный',\n",
       " 'посёлок Торфяное',\n",
       " 'городской посёлок Будогощь',\n",
       " 'поселок Суходолье',\n",
       " 'поселок Красная Долина',\n",
       " 'деревня Хапо-Ое',\n",
       " 'поселок городского типа Дружная Горка',\n",
       " 'поселок Лисий Нос',\n",
       " 'деревня Яльгелево',\n",
       " 'посёлок Стеклянный',\n",
       " 'село Рождествено',\n",
       " 'деревня Старополье',\n",
       " 'посёлок Левашово',\n",
       " 'деревня Сяськелево',\n",
       " 'деревня Камышовка',\n",
       " 'садоводческое некоммерческое товарищество Лесная Поляна',\n",
       " 'деревня Хязельки',\n",
       " 'поселок Жилгородок',\n",
       " 'посёлок городского типа Павлово',\n",
       " 'деревня Ялгино',\n",
       " 'поселок Новый Учхоз',\n",
       " 'городской посёлок Рощино',\n",
       " 'поселок Гончарово',\n",
       " 'поселок Почап',\n",
       " 'посёлок Сапёрное',\n",
       " 'посёлок Платформа 69-й километр',\n",
       " 'поселок Каложицы',\n",
       " 'деревня Фалилеево',\n",
       " 'деревня Пельгора',\n",
       " 'поселок городского типа Лесогорский',\n",
       " 'деревня Торошковичи',\n",
       " 'посёлок Белоостров',\n",
       " 'посёлок Алексеевка',\n",
       " 'поселок Серебрянский',\n",
       " 'поселок Лукаши',\n",
       " 'поселок Петровское',\n",
       " 'деревня Щеглово',\n",
       " 'поселок Мичуринское',\n",
       " 'деревня Тарасово',\n",
       " 'поселок Кингисеппский',\n",
       " 'посёлок при железнодорожной станции Вещево',\n",
       " 'поселок Ушаки',\n",
       " 'деревня Котлы',\n",
       " 'деревня Сижно',\n",
       " 'деревня Торосово',\n",
       " 'посёлок Форт Красная Горка',\n",
       " 'поселок городского типа Токсово',\n",
       " 'деревня Новолисино',\n",
       " 'посёлок станции Громово',\n",
       " 'деревня Глинка',\n",
       " 'посёлок Мельниково',\n",
       " 'поселок городского типа Назия',\n",
       " 'деревня Старая Пустошь',\n",
       " 'поселок Коммунары',\n",
       " 'поселок Починок',\n",
       " 'посёлок городского типа Вознесенье',\n",
       " 'деревня Разбегаево',\n",
       " 'посёлок городского типа Рябово',\n",
       " 'поселок Гладкое',\n",
       " 'посёлок при железнодорожной станции Приветнинское',\n",
       " 'поселок Тёсово-4',\n",
       " 'посёлок Жилгородок',\n",
       " 'деревня Бор',\n",
       " 'посёлок Коробицыно',\n",
       " 'деревня Большая Вруда',\n",
       " 'деревня Курковицы',\n",
       " 'посёлок Лисий Нос',\n",
       " 'городской посёлок Советский',\n",
       " 'посёлок Кобралово',\n",
       " 'деревня Суоранда',\n",
       " 'поселок Кобралово',\n",
       " 'поселок городского типа Кондратьево',\n",
       " 'коттеджный поселок Счастье',\n",
       " 'поселок Любань',\n",
       " 'деревня Реброво',\n",
       " 'деревня Зимитицы',\n",
       " 'деревня Тойворово',\n",
       " 'поселок Семиозерье',\n",
       " 'поселок Лесное',\n",
       " 'поселок Совхозный',\n",
       " 'поселок Усть-Луга',\n",
       " 'посёлок Ленинское',\n",
       " 'посёлок Суйда',\n",
       " 'посёлок городского типа Форносово',\n",
       " 'деревня Нижние Осельки',\n",
       " 'посёлок станции Свирь',\n",
       " 'поселок Перово',\n",
       " 'Высоцк',\n",
       " 'поселок Гарболово',\n",
       " 'село Шум',\n",
       " 'поселок Котельский',\n",
       " 'поселок станции Лужайка',\n",
       " 'деревня Большая Пустомержа',\n",
       " 'поселок Красносельское',\n",
       " 'деревня Вахнова Кара',\n",
       " 'деревня Пижма',\n",
       " 'коттеджный поселок Кивеннапа Север',\n",
       " 'поселок Коробицыно',\n",
       " 'поселок Ромашки',\n",
       " 'посёлок Перово',\n",
       " 'деревня Каськово',\n",
       " 'деревня Куровицы',\n",
       " 'посёлок Плоское',\n",
       " 'поселок Сумино',\n",
       " 'поселок городского типа Большая Ижора',\n",
       " 'поселок Кирпичное',\n",
       " 'деревня Ям-Тесово',\n",
       " 'деревня Раздолье',\n",
       " 'деревня Терпилицы',\n",
       " 'посёлок Шугозеро',\n",
       " 'деревня Ваганово',\n",
       " 'поселок Пушное',\n",
       " 'садовое товарищество Садко',\n",
       " 'посёлок Усть-Ижора',\n",
       " 'деревня Выскатка',\n",
       " 'городской посёлок Свирьстрой',\n",
       " 'поселок Громово',\n",
       " 'деревня Кисельня',\n",
       " 'посёлок Старая Малукса',\n",
       " 'деревня Трубников Бор',\n",
       " 'поселок Калитино',\n",
       " 'посёлок Высокоключевой',\n",
       " 'садовое товарищество Приладожский',\n",
       " 'посёлок Пансионат Зелёный Бор',\n",
       " 'деревня Ненимяки',\n",
       " 'поселок Пансионат Зелёный Бор',\n",
       " 'деревня Снегирёвка',\n",
       " 'деревня Рапполово',\n",
       " 'деревня Пустынка',\n",
       " 'поселок Рабитицы',\n",
       " 'деревня Большой Сабск',\n",
       " 'деревня Русско',\n",
       " 'деревня Лупполово',\n",
       " 'деревня Большое Рейзино',\n",
       " 'деревня Малая Романовка',\n",
       " 'поселок Дружноселье',\n",
       " 'поселок Пчевжа',\n",
       " 'поселок Володарское',\n",
       " 'деревня Нижняя',\n",
       " 'коттеджный посёлок Лесное',\n",
       " 'деревня Тихковицы',\n",
       " 'деревня Борисова Грива',\n",
       " 'посёлок Дзержинского']"
      ]
     },
     "execution_count": 25,
     "metadata": {},
     "output_type": "execute_result"
    }
   ],
   "source": [
    "#проверим написание названий городов\n",
    "data['locality_name'].unique().tolist()"
   ]
  },
  {
   "cell_type": "code",
   "execution_count": 26,
   "metadata": {},
   "outputs": [
    {
     "data": {
      "text/plain": [
       "365"
      ]
     },
     "execution_count": 26,
     "metadata": {},
     "output_type": "execute_result"
    }
   ],
   "source": [
    "#посмотрим, сколько уникальных значений\n",
    "len(data['locality_name'].unique())"
   ]
  },
  {
   "cell_type": "code",
   "execution_count": 27,
   "metadata": {},
   "outputs": [],
   "source": [
    "#заменяем \"ё\" на \"е\"\n",
    "data['locality_name'] = data['locality_name'].str.replace('ё', 'е', regex=True)"
   ]
  },
  {
   "cell_type": "code",
   "execution_count": 28,
   "metadata": {},
   "outputs": [
    {
     "data": {
      "text/plain": [
       "331"
      ]
     },
     "execution_count": 28,
     "metadata": {},
     "output_type": "execute_result"
    }
   ],
   "source": [
    "#посмотрим, сколько уникальных значений осталось после\n",
    "len(data['locality_name'].unique())"
   ]
  },
  {
   "cell_type": "code",
   "execution_count": 29,
   "metadata": {},
   "outputs": [
    {
     "data": {
      "text/plain": [
       "49"
      ]
     },
     "execution_count": 29,
     "metadata": {},
     "output_type": "execute_result"
    }
   ],
   "source": [
    "#проверим сколько отсуствующих значений в столбце с названием города\n",
    "data['locality_name'].isna().sum()"
   ]
  },
  {
   "cell_type": "code",
   "execution_count": 30,
   "metadata": {},
   "outputs": [],
   "source": [
    "#Считаю, что отсутствующие данные необходимо удалить, так как без информации о городе, нельзя сделать конкретных выводов\n",
    "#а по имеющимся данным, определить самостоятельно какой конкретно город необходимо указать нет возможности, да и отсутствующих\n",
    "#данных мало, их удаление не повлияет на выводы\n",
    "data = data.dropna(subset=['locality_name'])"
   ]
  },
  {
   "cell_type": "code",
   "execution_count": 31,
   "metadata": {},
   "outputs": [
    {
     "name": "stdout",
     "output_type": "stream",
     "text": [
      "<class 'pandas.core.frame.DataFrame'>\n",
      "Int64Index: 23650 entries, 0 to 23698\n",
      "Data columns (total 24 columns):\n",
      " #   Column                Non-Null Count  Dtype  \n",
      "---  ------                --------------  -----  \n",
      " 0   total_images          23650 non-null  int64  \n",
      " 1   last_price            23650 non-null  float64\n",
      " 2   total_area            23650 non-null  float64\n",
      " 3   first_day_exposition  23650 non-null  object \n",
      " 4   rooms                 23650 non-null  int64  \n",
      " 5   ceiling_height        23650 non-null  float64\n",
      " 6   floors_total          23650 non-null  float64\n",
      " 7   living_area           23636 non-null  float64\n",
      " 8   floor                 23650 non-null  int64  \n",
      " 9   is_apartment          23650 non-null  bool   \n",
      " 10  studio                23650 non-null  bool   \n",
      " 11  open_plan             23650 non-null  bool   \n",
      " 12  kitchen_area          23591 non-null  float64\n",
      " 13  balcony               23650 non-null  float64\n",
      " 14  locality_name         23650 non-null  object \n",
      " 15  airports_nearest      18116 non-null  float64\n",
      " 16  cityCenters_nearest   18139 non-null  float64\n",
      " 17  parks_around3000      18140 non-null  float64\n",
      " 18  parks_nearest         8064 non-null   float64\n",
      " 19  ponds_around3000      18140 non-null  float64\n",
      " 20  ponds_nearest         9085 non-null   float64\n",
      " 21  days_exposition       20470 non-null  float64\n",
      " 22  kitchen_share         21381 non-null  float64\n",
      " 23  living_share          21752 non-null  float64\n",
      "dtypes: bool(3), float64(16), int64(3), object(2)\n",
      "memory usage: 4.0+ MB\n"
     ]
    }
   ],
   "source": [
    "#проверим удалились ли строки\n",
    "data.info()"
   ]
  },
  {
   "cell_type": "code",
   "execution_count": 32,
   "metadata": {},
   "outputs": [],
   "source": [
    "#Произведем замену в существующем столбце, с обозначениями одних и тех же населённых пунктов но по разному\n",
    "#(напр.'городской поселок Назия'- 'поселок городского типа Назия',), для корректного анализа\n",
    "old_word = 'городской поселок Большая Ижора', 'городской поселок Лесогорский', 'городской поселок Мга', 'городской поселок Назия', 'городской поселок Павлово', 'городской поселок Рощино', 'городской поселок Советский', 'поселок при железнодорожной станции Вещево', 'поселок при железнодорожной станции Приветнинское'\n",
    "new_word = 'поселок городского типа Большая Ижора', 'поселок городского типа Лесогорский', 'поселок городского типа Мга', 'поселок городского типа Назия', 'поселок городского типа Павлово', 'поселок городского типа Рощино', 'поселок городского типа Советский', 'поселок станции Вещево', 'поселок станции Приветнинское'\n",
    "data['locality_name'] = data['locality_name'].replace(old_word, new_word)"
   ]
  },
  {
   "cell_type": "code",
   "execution_count": 33,
   "metadata": {},
   "outputs": [
    {
     "data": {
      "text/plain": [
       "3180"
      ]
     },
     "execution_count": 33,
     "metadata": {},
     "output_type": "execute_result"
    }
   ],
   "source": [
    "#Проанализируем столбец days_exposition - сколько дней было размещено объявление (от публикации до снятия), для начала \n",
    "#проверим сколько отсуствующих значений в столбце\n",
    "data['days_exposition'].isna().sum()"
   ]
  },
  {
   "cell_type": "markdown",
   "metadata": {},
   "source": [
    "Так как данный столбец говорит нам о том, сколько дней объявление \"провисело\" до наступления продажи, то его мы не можем \n",
    "заполнить средним или медианным значением, так как данные пропуски могут быть связаны с тем, что , недвижимость еще \n",
    "не продана и она \"ожидает\" на сайте."
   ]
  },
  {
   "cell_type": "markdown",
   "metadata": {},
   "source": [
    "Аналогично считаю, что оставшиеся столбцы, airports_nearest — расстояние до ближайшего аэропорта в метрах (м),\n",
    "cityCenters_nearest — расстояние до центра города (м), parks_around3000 — число парков в радиусе 3 км,\n",
    "parks_nearest — расстояние до ближайшего парка (м), ponds_around3000 — число водоёмов в радиусе 3 км,\n",
    "ponds_nearest — расстояние до ближайшего водоёма (м), так как нет возможности с точностью вычеслить данные пропуски, \n",
    "а заполнение их средним или медианным значением может привести к искаженным результатам."
   ]
  },
  {
   "cell_type": "code",
   "execution_count": 34,
   "metadata": {},
   "outputs": [],
   "source": [
    "#создадим словарь для столбцов,тип данных которых необходимо изменить на целочисленный, так будет проще воспринимать значения.\n",
    "changing_types = {'balcony': int,\n",
    "                  'floors_total': int\n",
    "             }\n",
    "\n",
    "data = data.astype(changing_types, errors='ignore')"
   ]
  },
  {
   "cell_type": "code",
   "execution_count": 35,
   "metadata": {},
   "outputs": [
    {
     "data": {
      "text/plain": [
       "total_images                0\n",
       "last_price                  0\n",
       "total_area                  0\n",
       "first_day_exposition        0\n",
       "rooms                       0\n",
       "ceiling_height              0\n",
       "floors_total                0\n",
       "living_area                14\n",
       "floor                       0\n",
       "is_apartment                0\n",
       "studio                      0\n",
       "open_plan                   0\n",
       "kitchen_area               59\n",
       "balcony                     0\n",
       "locality_name               0\n",
       "airports_nearest         5534\n",
       "cityCenters_nearest      5511\n",
       "parks_around3000         5510\n",
       "parks_nearest           15586\n",
       "ponds_around3000         5510\n",
       "ponds_nearest           14565\n",
       "days_exposition          3180\n",
       "kitchen_share            2269\n",
       "living_share             1898\n",
       "dtype: int64"
      ]
     },
     "execution_count": 35,
     "metadata": {},
     "output_type": "execute_result"
    }
   ],
   "source": [
    "data.isna().sum()"
   ]
  },
  {
   "cell_type": "markdown",
   "metadata": {},
   "source": [
    "- общая площадь квартиры"
   ]
  },
  {
   "cell_type": "code",
   "execution_count": 36,
   "metadata": {},
   "outputs": [
    {
     "data": {
      "text/plain": [
       "23650"
      ]
     },
     "execution_count": 36,
     "metadata": {},
     "output_type": "execute_result"
    }
   ],
   "source": [
    "data['total_area'].shape[0]"
   ]
  },
  {
   "cell_type": "code",
   "execution_count": 37,
   "metadata": {},
   "outputs": [],
   "source": [
    "def boxplot(column, measure):\n",
    "    fig, ax = plt.subplots()\n",
    "    plt.title('Распределение '+column+' (без выбросов)')\n",
    "    ax = apartments_info.boxplot(column, showfliers=False)\n",
    "    plt.ylabel(measure)\n",
    "    plt.show()"
   ]
  },
  {
   "cell_type": "code",
   "execution_count": 38,
   "metadata": {
    "scrolled": true
   },
   "outputs": [
    {
     "data": {
      "image/png": "[encoded data removed]",
      "text/plain": [
       "<Figure size 1080x144 with 1 Axes>"
      ]
     },
     "metadata": {
      "needs_background": "light"
     },
     "output_type": "display_data"
    }
   ],
   "source": [
    "#Построим диаграмму размаха, чтобы увидеть явные выбросы\n",
    "total_area_no_emissions=data.boxplot('total_area', vert=False, figsize=(15,2), patch_artist=True, flierprops=dict(markeredgecolor=\"#e0434b\"),\n",
    "            medianprops=dict(color='#71c451'))\n",
    "total_area_no_emissions.set_yticklabels(['Площадь'])\n",
    "plt.show()"
   ]
  },
  {
   "cell_type": "code",
   "execution_count": 39,
   "metadata": {
    "scrolled": true
   },
   "outputs": [
    {
     "data": {
      "image/png": "[encoded data removed]",
      "text/plain": [
       "<Figure size 1080x144 with 1 Axes>"
      ]
     },
     "metadata": {
      "needs_background": "light"
     },
     "output_type": "display_data"
    }
   ],
   "source": [
    "#Удалим выбросы\n",
    "data.drop(data[data['total_area'] > 100].index, inplace=True)\n",
    "total_area_no_emissions=data.boxplot('total_area', vert=False, figsize=(15,2), patch_artist=True, flierprops=dict(markeredgecolor=\"#e0434b\"),\n",
    "            medianprops=dict(color='#71c451'))\n",
    "total_area_no_emissions.set_yticklabels(['Площадь'])\n",
    "plt.show()"
   ]
  },
  {
   "cell_type": "code",
   "execution_count": 40,
   "metadata": {},
   "outputs": [
    {
     "data": {
      "image/png": "[encoded data removed]",
      "text/plain": [
       "<Figure size 432x288 with 1 Axes>"
      ]
     },
     "metadata": {
      "needs_background": "light"
     },
     "output_type": "display_data"
    }
   ],
   "source": [
    "#Теперь посмотрим нашу гистрограмму, с новыми значениями\n",
    "data.hist('total_area', bins=100)\n",
    "plt.title('Площади квартир', size=14)\n",
    "plt.xlabel('Площадь, м²')\n",
    "plt.ylabel('Количество квартир, шт.')\n",
    "plt.show()"
   ]
  },
  {
   "cell_type": "code",
   "execution_count": 41,
   "metadata": {},
   "outputs": [
    {
     "data": {
      "text/plain": [
       "21820"
      ]
     },
     "execution_count": 41,
     "metadata": {},
     "output_type": "execute_result"
    }
   ],
   "source": [
    "data['total_area'].shape[0]"
   ]
  },
  {
   "cell_type": "markdown",
   "metadata": {},
   "source": [
    "Мы почистили столбец общая плащадь квартрры от выбросов, было удалено чуть больше 7% от изначального объема."
   ]
  },
  {
   "cell_type": "markdown",
   "metadata": {},
   "source": [
    "- количество комнат "
   ]
  },
  {
   "cell_type": "code",
   "execution_count": 42,
   "metadata": {},
   "outputs": [
    {
     "data": {
      "text/plain": [
       "21820"
      ]
     },
     "execution_count": 42,
     "metadata": {},
     "output_type": "execute_result"
    }
   ],
   "source": [
    "data['rooms'].shape[0]"
   ]
  },
  {
   "cell_type": "code",
   "execution_count": 43,
   "metadata": {},
   "outputs": [
    {
     "data": {
      "image/png": "[encoded data removed]",
      "text/plain": [
       "<Figure size 1080x144 with 1 Axes>"
      ]
     },
     "metadata": {
      "needs_background": "light"
     },
     "output_type": "display_data"
    }
   ],
   "source": [
    "#Построим диаграмму размаха, чтобы увидеть явные выбросы\n",
    "rooms_no_emissions=data.boxplot('rooms', vert=False, figsize=(15,2), patch_artist=True, flierprops=dict(markeredgecolor=\"#e0434b\"),\n",
    "            medianprops=dict(color='#71c451'))\n",
    "rooms_no_emissions.set_yticklabels(['Количество комнат'])\n",
    "plt.show()"
   ]
  },
  {
   "cell_type": "markdown",
   "metadata": {},
   "source": [
    "Видно, что большая часть квартир имеет 1, 2 и 3 комнаты, но так же имеет хвост, это могут быть реальные комнаты, так как бывают и двухуровневые квартиры, с большим числом комнат. Считаю что данные удалять не стоит, так как это не похож на выброс, от которго необходимо избавится. И соответственно на итоговое решение не сильно повлияет."
   ]
  },
  {
   "cell_type": "markdown",
   "metadata": {},
   "source": [
    "- стоимость квартиры\n",
    "\n",
    "Для удобности чтения столбца 'last_price' поделем его на 1 млн."
   ]
  },
  {
   "cell_type": "code",
   "execution_count": 44,
   "metadata": {},
   "outputs": [],
   "source": [
    "data['last_price'] = data['last_price'] / 1000000"
   ]
  },
  {
   "cell_type": "code",
   "execution_count": 45,
   "metadata": {},
   "outputs": [
    {
     "data": {
      "text/plain": [
       "21820"
      ]
     },
     "execution_count": 45,
     "metadata": {},
     "output_type": "execute_result"
    }
   ],
   "source": [
    "data['last_price'].shape[0]"
   ]
  },
  {
   "cell_type": "code",
   "execution_count": 46,
   "metadata": {},
   "outputs": [
    {
     "data": {
      "text/plain": [
       "count    21820.000000\n",
       "mean         5.088921\n",
       "std          2.984261\n",
       "min          0.430000\n",
       "25%          3.304380\n",
       "50%          4.450000\n",
       "75%          6.100000\n",
       "max         53.000000\n",
       "Name: last_price, dtype: float64"
      ]
     },
     "execution_count": 46,
     "metadata": {},
     "output_type": "execute_result"
    }
   ],
   "source": [
    "data['last_price'].describe()"
   ]
  },
  {
   "cell_type": "markdown",
   "metadata": {},
   "source": [
    "Имеем 21 820 значений, минимальная стоимость квартир - 430000 рублей, максимальная стоимость составляет - 53млн.рублей. Достаточно большой разброс, но в то же время среднее и медианное значение отличаются с небольшой разнецей, средняя стоимость - 4,45млн.рублей, медианное значение - 5088921, разница в 600 тыс.рублей, считаю это допустимым, так как в зависимости от района и населенного пункта, цены могут разница."
   ]
  },
  {
   "cell_type": "code",
   "execution_count": 47,
   "metadata": {},
   "outputs": [
    {
     "data": {
      "image/png": "[encoded data removed]",
      "text/plain": [
       "<Figure size 1080x144 with 1 Axes>"
      ]
     },
     "metadata": {
      "needs_background": "light"
     },
     "output_type": "display_data"
    }
   ],
   "source": [
    "#Построим диаграмму размаха, чтобы увидеть явные выбросы\n",
    "last_price_no_emissions=data.boxplot('last_price', vert=False, figsize=(15,2), patch_artist=True, flierprops=dict(markeredgecolor=\"#e0434b\"),\n",
    "            medianprops=dict(color='#71c451'))\n",
    "last_price_no_emissions.set_yticklabels(['Стоимость квартир'])\n",
    "plt.show()"
   ]
  },
  {
   "cell_type": "code",
   "execution_count": 48,
   "metadata": {},
   "outputs": [
    {
     "data": {
      "image/png": "[encoded data removed]",
      "text/plain": [
       "<Figure size 1080x144 with 1 Axes>"
      ]
     },
     "metadata": {
      "needs_background": "light"
     },
     "output_type": "display_data"
    }
   ],
   "source": [
    "#Удалим явные выбросы\n",
    "data.drop(data[data['last_price'] > 20].index, inplace=True)\n",
    "data.drop(data[data['last_price'] < 0.4].index, inplace=True)\n",
    "last_price_no_emissions=data.boxplot('last_price', vert=False, figsize=(15,2), patch_artist=True, flierprops=dict(markeredgecolor=\"#e0434b\"),\n",
    "            medianprops=dict(color='#71c451'))\n",
    "last_price_no_emissions.set_yticklabels(['Цена'])\n",
    "plt.show()"
   ]
  },
  {
   "cell_type": "code",
   "execution_count": 49,
   "metadata": {},
   "outputs": [
    {
     "data": {
      "text/plain": [
       "21742"
      ]
     },
     "execution_count": 49,
     "metadata": {},
     "output_type": "execute_result"
    }
   ],
   "source": [
    "data['last_price'].shape[0]"
   ]
  },
  {
   "cell_type": "markdown",
   "metadata": {},
   "source": [
    "Подчистили явные выбросы. Весь хвост считаю удалять не правильно, так как недвижимость в Санкт-Петербурге может достигать и больших сумм. Это и люксовые квартиры, и квартиры знаменитостей."
   ]
  },
  {
   "cell_type": "markdown",
   "metadata": {},
   "source": [
    "Удалили все небходимые выдающиеся значения, и количество уделений не превышает 10% от изначального объёма данных."
   ]
  },
  {
   "cell_type": "markdown",
   "metadata": {},
   "source": [
    "### Посчитайте и добавьте в таблицу новые столбцы"
   ]
  },
  {
   "cell_type": "code",
   "execution_count": 50,
   "metadata": {
    "scrolled": true
   },
   "outputs": [],
   "source": [
    "#Добавим новый столбец - цена одного квадратного метра. Расчитывается как соотношение цены недвижимости на момент снятия\n",
    "#с публикации к общей площади.\n",
    "\n",
    "data['one_square_meter'] = (data['last_price'] / data['total_area'])"
   ]
  },
  {
   "cell_type": "code",
   "execution_count": 51,
   "metadata": {},
   "outputs": [],
   "source": [
    "#Переведем день публикации объявления в формат datetime\n",
    "data['first_day_exposition'] = pd.to_datetime(data['first_day_exposition'], format=\"%Y-%m-%dT%H:%M:%S\")"
   ]
  },
  {
   "cell_type": "code",
   "execution_count": 52,
   "metadata": {
    "scrolled": true
   },
   "outputs": [],
   "source": [
    "#Добавим новый столбец - день недели публикации объявления\n",
    "data['day_of_publication'] = pd.DatetimeIndex(data['first_day_exposition']).weekday"
   ]
  },
  {
   "cell_type": "code",
   "execution_count": 53,
   "metadata": {},
   "outputs": [],
   "source": [
    "#Добавим новый столбец - месяц публикации объявления\n",
    "data['publication_month'] = pd.DatetimeIndex(data['first_day_exposition']).month"
   ]
  },
  {
   "cell_type": "code",
   "execution_count": 54,
   "metadata": {
    "scrolled": true
   },
   "outputs": [],
   "source": [
    "#Добавим новый столбец - год публикации объявления\n",
    "data['publication_year'] = pd.DatetimeIndex(data['first_day_exposition']).year"
   ]
  },
  {
   "cell_type": "code",
   "execution_count": 55,
   "metadata": {},
   "outputs": [
    {
     "data": {
      "text/plain": [
       "другой       15909\n",
       "Последний     3056\n",
       "первый        2777\n",
       "Name: floor_type, dtype: int64"
      ]
     },
     "execution_count": 55,
     "metadata": {},
     "output_type": "execute_result"
    }
   ],
   "source": [
    "#Тип этажа квартиры - добавим новый столбец по этажу, на котором находится квартира\n",
    "def floor_type(row):\n",
    "        if row[8] == 1:\n",
    "            return 'первый'\n",
    "        if row['floor'] == row['floors_total']:\n",
    "            return 'Последний'\n",
    "        else:\n",
    "            return 'другой'\n",
    "data['floor_type'] = data.apply(floor_type, axis=1)\n",
    "data['floor_type'].value_counts()"
   ]
  },
  {
   "cell_type": "code",
   "execution_count": 56,
   "metadata": {},
   "outputs": [],
   "source": [
    "#Добавим новый столбец -расстояние до центра города в километрах (переведите из м в км и округлите до целых значений)\n",
    "data['cityCenters_nearest_km'] = (data['cityCenters_nearest'] / 1000).round()"
   ]
  },
  {
   "cell_type": "markdown",
   "metadata": {},
   "source": [
    "### Проведите исследовательский анализ данных"
   ]
  },
  {
   "cell_type": "code",
   "execution_count": 57,
   "metadata": {
    "scrolled": true
   },
   "outputs": [
    {
     "data": {
      "text/plain": [
       "<AxesSubplot:ylabel='Frequency'>"
      ]
     },
     "execution_count": 57,
     "metadata": {},
     "output_type": "execute_result"
    },
    {
     "data": {
      "image/png": "[encoded data removed]",
      "text/plain": [
       "<Figure size 720x216 with 1 Axes>"
      ]
     },
     "metadata": {
      "needs_background": "light"
     },
     "output_type": "display_data"
    }
   ],
   "source": [
    "#общая площадь\n",
    "data.plot(y = 'total_area', kind = 'hist', bins = 100, grid=True, figsize = (10,3), range = (0,400))"
   ]
  },
  {
   "cell_type": "markdown",
   "metadata": {},
   "source": [
    "Большинство квартир менее 100 кв.м., большая площать встрачается редко. Наибольшее число квартир наблюдается с общей блощадью от 30 до 50 кв.м."
   ]
  },
  {
   "cell_type": "code",
   "execution_count": 58,
   "metadata": {
    "scrolled": true
   },
   "outputs": [
    {
     "data": {
      "text/plain": [
       "<AxesSubplot:ylabel='Frequency'>"
      ]
     },
     "execution_count": 58,
     "metadata": {},
     "output_type": "execute_result"
    },
    {
     "data": {
      "image/png": "[encoded data removed]",
      "text/plain": [
       "<Figure size 720x216 with 1 Axes>"
      ]
     },
     "metadata": {
      "needs_background": "light"
     },
     "output_type": "display_data"
    }
   ],
   "source": [
    "#жилая площадь\n",
    "data.plot(y = 'living_area', kind = 'hist', bins = 100, grid=True, figsize = (10,3), range = (0,200))"
   ]
  },
  {
   "cell_type": "markdown",
   "metadata": {},
   "source": [
    "Самы распространенные варианты жилой площади от 10 до 20, резкое понижение, и следующие по большему колличеству от 25 до 30. \n",
    "После 75 единичные случае."
   ]
  },
  {
   "cell_type": "code",
   "execution_count": 59,
   "metadata": {
    "scrolled": true
   },
   "outputs": [
    {
     "data": {
      "text/plain": [
       "<AxesSubplot:ylabel='Frequency'>"
      ]
     },
     "execution_count": 59,
     "metadata": {},
     "output_type": "execute_result"
    },
    {
     "data": {
      "image/png": "[encoded data removed]",
      "text/plain": [
       "<Figure size 720x216 with 1 Axes>"
      ]
     },
     "metadata": {
      "needs_background": "light"
     },
     "output_type": "display_data"
    }
   ],
   "source": [
    "#площадь кухни\n",
    "data.plot(y = 'kitchen_area', kind = 'hist', bins = 100, grid=True, figsize = (10,3), range = (0,60))"
   ]
  },
  {
   "cell_type": "markdown",
   "metadata": {},
   "source": [
    "Самые распространенные варианты по площади кухни, встречается от 5 до 10 кв.м. Более 30 кв.м. единичные случа"
   ]
  },
  {
   "cell_type": "code",
   "execution_count": 60,
   "metadata": {
    "scrolled": true
   },
   "outputs": [
    {
     "data": {
      "text/plain": [
       "<AxesSubplot:ylabel='Frequency'>"
      ]
     },
     "execution_count": 60,
     "metadata": {},
     "output_type": "execute_result"
    },
    {
     "data": {
      "image/png": "[encoded data removed]",
      "text/plain": [
       "<Figure size 720x216 with 1 Axes>"
      ]
     },
     "metadata": {
      "needs_background": "light"
     },
     "output_type": "display_data"
    }
   ],
   "source": [
    "#цена объекта\n",
    "data.plot(y = 'last_price', kind = 'hist', bins = 100, grid=True, range = (0,20), figsize = (10,3))"
   ]
  },
  {
   "cell_type": "markdown",
   "metadata": {},
   "source": [
    "Большая часть квартир встречаются в диапозоне от 2,7 до 5 миллионов рублей.  После 8 миллионов идет резкое понижение в стоимости и встречаются единичные случаи."
   ]
  },
  {
   "cell_type": "code",
   "execution_count": 61,
   "metadata": {
    "scrolled": true
   },
   "outputs": [
    {
     "data": {
      "text/plain": [
       "<AxesSubplot:ylabel='Frequency'>"
      ]
     },
     "execution_count": 61,
     "metadata": {},
     "output_type": "execute_result"
    },
    {
     "data": {
      "image/png": "[encoded data removed]",
      "text/plain": [
       "<Figure size 720x216 with 1 Axes>"
      ]
     },
     "metadata": {
      "needs_background": "light"
     },
     "output_type": "display_data"
    }
   ],
   "source": [
    " #количество комнат\n",
    "data.plot(y = 'rooms', kind = 'hist', bins = 30, grid=True,range = (1,8), figsize = (10,3))"
   ]
  },
  {
   "cell_type": "markdown",
   "metadata": {},
   "source": [
    "Больше всего квартир 1, 2 и 3-х комнатные. Так же имеются квартиры с количеством комнат более 5, это подозрительно, возможно это квартиры которые относятся к комуналкам."
   ]
  },
  {
   "cell_type": "code",
   "execution_count": 62,
   "metadata": {
    "scrolled": false
   },
   "outputs": [
    {
     "data": {
      "text/plain": [
       "<AxesSubplot:ylabel='Frequency'>"
      ]
     },
     "execution_count": 62,
     "metadata": {},
     "output_type": "execute_result"
    },
    {
     "data": {
      "image/png": "[encoded data removed]",
      "text/plain": [
       "<Figure size 720x216 with 1 Axes>"
      ]
     },
     "metadata": {
      "needs_background": "light"
     },
     "output_type": "display_data"
    }
   ],
   "source": [
    "#высота потолков\n",
    "data.plot(y = 'ceiling_height', kind = 'hist', bins = 30, range = (2.5,5), grid=True, figsize = (10,3))"
   ]
  },
  {
   "cell_type": "markdown",
   "metadata": {},
   "source": [
    "Больше всего квартир с высотой потолков 2,6."
   ]
  },
  {
   "cell_type": "code",
   "execution_count": 63,
   "metadata": {
    "scrolled": true
   },
   "outputs": [
    {
     "data": {
      "text/plain": [
       "<AxesSubplot:ylabel='Frequency'>"
      ]
     },
     "execution_count": 63,
     "metadata": {},
     "output_type": "execute_result"
    },
    {
     "data": {
      "image/png": "[encoded data removed]",
      "text/plain": [
       "<Figure size 720x216 with 1 Axes>"
      ]
     },
     "metadata": {
      "needs_background": "light"
     },
     "output_type": "display_data"
    }
   ],
   "source": [
    "#этаж квартиры\n",
    "data.plot(y = 'floor', kind = 'hist', bins = 30, range = (1,35), grid=True, figsize = (10,3))"
   ]
  },
  {
   "cell_type": "markdown",
   "metadata": {},
   "source": [
    "Большое количествоквартр находятся с 1 по 5 этаж."
   ]
  },
  {
   "cell_type": "code",
   "execution_count": 64,
   "metadata": {
    "scrolled": false
   },
   "outputs": [
    {
     "data": {
      "text/plain": [
       "<AxesSubplot:>"
      ]
     },
     "execution_count": 64,
     "metadata": {},
     "output_type": "execute_result"
    },
    {
     "data": {
      "image/png": "[encoded data removed]",
      "text/plain": [
       "<Figure size 432x288 with 1 Axes>"
      ]
     },
     "metadata": {
      "needs_background": "light"
     },
     "output_type": "display_data"
    }
   ],
   "source": [
    "#тип этажа квартиры \n",
    "data['floor_type'].hist(bins = 30)"
   ]
  },
  {
   "cell_type": "markdown",
   "metadata": {},
   "source": [
    "Большее количество квартир находятся не на первом и не на последнем этаже."
   ]
  },
  {
   "cell_type": "code",
   "execution_count": 65,
   "metadata": {
    "scrolled": false
   },
   "outputs": [
    {
     "data": {
      "text/plain": [
       "<AxesSubplot:ylabel='Frequency'>"
      ]
     },
     "execution_count": 65,
     "metadata": {},
     "output_type": "execute_result"
    },
    {
     "data": {
      "image/png": "[encoded data removed]",
      "text/plain": [
       "<Figure size 720x216 with 1 Axes>"
      ]
     },
     "metadata": {
      "needs_background": "light"
     },
     "output_type": "display_data"
    }
   ],
   "source": [
    "#общее количество этажей в доме\n",
    "data.plot(y = 'floors_total', kind = 'hist', bins = 30, range = (1,50), grid=True, figsize = (10,3))"
   ]
  },
  {
   "cell_type": "markdown",
   "metadata": {},
   "source": [
    "Большинство домов имеет 5 этажей."
   ]
  },
  {
   "cell_type": "code",
   "execution_count": 66,
   "metadata": {
    "scrolled": false
   },
   "outputs": [
    {
     "data": {
      "text/plain": [
       "<AxesSubplot:ylabel='Frequency'>"
      ]
     },
     "execution_count": 66,
     "metadata": {},
     "output_type": "execute_result"
    },
    {
     "data": {
      "image/png": "[encoded data removed]",
      "text/plain": [
       "<Figure size 720x216 with 1 Axes>"
      ]
     },
     "metadata": {
      "needs_background": "light"
     },
     "output_type": "display_data"
    }
   ],
   "source": [
    "#расстояние до центра города в метрах\n",
    "data.plot(y = 'cityCenters_nearest', kind = 'hist', bins = 30, range = (0,70000), grid=True, figsize = (10,3))"
   ]
  },
  {
   "cell_type": "markdown",
   "metadata": {},
   "source": [
    "Часто встречаемые объявления находятся далее чем 15000 м от центра города. Так же встречаются единичные случаи от 40000 и далее, можно предположить что это квартиры которые находятся в селах."
   ]
  },
  {
   "cell_type": "code",
   "execution_count": 67,
   "metadata": {
    "scrolled": false
   },
   "outputs": [
    {
     "data": {
      "text/plain": [
       "<AxesSubplot:ylabel='Frequency'>"
      ]
     },
     "execution_count": 67,
     "metadata": {},
     "output_type": "execute_result"
    },
    {
     "data": {
      "image/png": "[encoded data removed]",
      "text/plain": [
       "<Figure size 720x216 with 1 Axes>"
      ]
     },
     "metadata": {
      "needs_background": "light"
     },
     "output_type": "display_data"
    }
   ],
   "source": [
    "#расстояние до ближайшего аэропорта\n",
    "data.plot(y = 'airports_nearest', kind = 'hist', bins = 70, range = (0,100000), grid=True, figsize = (10,3))"
   ]
  },
  {
   "cell_type": "markdown",
   "metadata": {},
   "source": [
    "Больше всего квартир находятся на расстоянии до аэропорта от 18000 до 25000 м."
   ]
  },
  {
   "cell_type": "code",
   "execution_count": 68,
   "metadata": {},
   "outputs": [
    {
     "data": {
      "text/plain": [
       "<AxesSubplot:ylabel='Frequency'>"
      ]
     },
     "execution_count": 68,
     "metadata": {},
     "output_type": "execute_result"
    },
    {
     "data": {
      "image/png": "[encoded data removed]",
      "text/plain": [
       "<Figure size 720x216 with 1 Axes>"
      ]
     },
     "metadata": {
      "needs_background": "light"
     },
     "output_type": "display_data"
    }
   ],
   "source": [
    "#расстояние до ближайшего парка\n",
    "data.plot(y = 'parks_nearest', kind = 'hist', bins = 70, range = (0,3300), grid=True, figsize = (10,3))"
   ]
  },
  {
   "cell_type": "markdown",
   "metadata": {},
   "source": [
    "Пик наблюдается в отметке 500м.Имеются единичные случаи квартир с расстоянием до ближайшего парка от 1000 до 3200м, предполагаю что эти квартиры располагаются в городах, селах и деревнях, где парка внутри населеного пункта не имеется."
   ]
  },
  {
   "cell_type": "code",
   "execution_count": 69,
   "metadata": {
    "scrolled": true
   },
   "outputs": [
    {
     "data": {
      "text/plain": [
       "<AxesSubplot:ylabel='Frequency'>"
      ]
     },
     "execution_count": 69,
     "metadata": {},
     "output_type": "execute_result"
    },
    {
     "data": {
      "image/png": "[encoded data removed]",
      "text/plain": [
       "<Figure size 720x216 with 1 Axes>"
      ]
     },
     "metadata": {
      "needs_background": "light"
     },
     "output_type": "display_data"
    }
   ],
   "source": [
    "#день и месяц публикации объявления\n",
    "data.plot(y = ['day_of_publication','publication_month'], kind = 'hist', bins = 70, range = (1,30), grid=True, figsize = (10,3))"
   ]
  },
  {
   "cell_type": "markdown",
   "metadata": {},
   "source": [
    "Большая часть объявлений подавалась до 5 числа каждого месяца, и пик пришелся на первый квартал месяца."
   ]
  },
  {
   "cell_type": "markdown",
   "metadata": {},
   "source": [
    "__Задание__\n"
   ]
  },
  {
   "cell_type": "markdown",
   "metadata": {},
   "source": [
    "Изучите, как быстро продавались квартиры (столбец days_exposition). Этот параметр показывает, сколько дней было размещено каждое объявление."
   ]
  },
  {
   "cell_type": "code",
   "execution_count": 70,
   "metadata": {
    "scrolled": true
   },
   "outputs": [
    {
     "data": {
      "text/plain": [
       "count    19034.000000\n",
       "mean       172.246769\n",
       "std        210.749920\n",
       "min          1.000000\n",
       "25%         44.000000\n",
       "50%         91.000000\n",
       "75%        217.000000\n",
       "max       1580.000000\n",
       "Name: days_exposition, dtype: float64"
      ]
     },
     "execution_count": 70,
     "metadata": {},
     "output_type": "execute_result"
    }
   ],
   "source": [
    "#Посчитаем среднее и медианное значение\n",
    "data['days_exposition'].describe()"
   ]
  },
  {
   "cell_type": "code",
   "execution_count": 71,
   "metadata": {},
   "outputs": [
    {
     "data": {
      "image/png": "[encoded data removed]",
      "text/plain": [
       "<Figure size 720x216 with 1 Axes>"
      ]
     },
     "metadata": {
      "needs_background": "light"
     },
     "output_type": "display_data"
    }
   ],
   "source": [
    "data['days_exposition'].hist(bins=100, range=(0,600), figsize = (10,3));"
   ]
  },
  {
   "cell_type": "markdown",
   "metadata": {},
   "source": [
    "Медианное время продажи - 91 день, среднее время продажи - 172 день. В основном квартиры продаются в течении 3-х месяцев. Но среднее значение больше медианной, это говорит о том, что распределение имеет длинный хвост, что мы и видим в числовом описании выше, максимальное - 1580. 1580 дней это более 4-х лет, можно предположить, что квартиру уже продали, и объявление продалжает \"висеть\" в активных, либо в какой-то момент передумали продавать и попросту забыли снять объявление.\n",
    "Так же имеются продажи в 1 день."
   ]
  },
  {
   "cell_type": "markdown",
   "metadata": {},
   "source": [
    "__Задание__"
   ]
  },
  {
   "cell_type": "markdown",
   "metadata": {},
   "source": [
    "Какие факторы больше всего влияют на общую (полную) стоимость объекта?"
   ]
  },
  {
   "cell_type": "markdown",
   "metadata": {},
   "source": [
    "- Зависит ли цена от общей площади "
   ]
  },
  {
   "cell_type": "code",
   "execution_count": 72,
   "metadata": {
    "scrolled": false
   },
   "outputs": [
    {
     "data": {
      "text/plain": [
       "<AxesSubplot:xlabel='total_area'>"
      ]
     },
     "execution_count": 72,
     "metadata": {},
     "output_type": "execute_result"
    },
    {
     "data": {
      "image/png": "[encoded data removed]",
      "text/plain": [
       "<Figure size 360x360 with 1 Axes>"
      ]
     },
     "metadata": {
      "needs_background": "light"
     },
     "output_type": "display_data"
    }
   ],
   "source": [
    "data.pivot_table(index='total_area', values='last_price').plot(grid=True, style='o', figsize=(5, 5))"
   ]
  },
  {
   "cell_type": "markdown",
   "metadata": {},
   "source": [
    "Цена зависит от общей площади, чем больше площадь, тем выше цена."
   ]
  },
  {
   "cell_type": "markdown",
   "metadata": {},
   "source": [
    "- зависит ли цена от жилой площади"
   ]
  },
  {
   "cell_type": "code",
   "execution_count": 73,
   "metadata": {
    "scrolled": true
   },
   "outputs": [
    {
     "data": {
      "text/plain": [
       "<AxesSubplot:xlabel='living_area'>"
      ]
     },
     "execution_count": 73,
     "metadata": {},
     "output_type": "execute_result"
    },
    {
     "data": {
      "image/png": "[encoded data removed]",
      "text/plain": [
       "<Figure size 360x360 with 1 Axes>"
      ]
     },
     "metadata": {
      "needs_background": "light"
     },
     "output_type": "display_data"
    }
   ],
   "source": [
    "data.pivot_table(index='living_area', values='last_price').plot(grid=True, style='o', figsize=(5, 5))"
   ]
  },
  {
   "cell_type": "markdown",
   "metadata": {},
   "source": [
    "Цена зависит от жилой площади, чем больше площадь, тем выше цена."
   ]
  },
  {
   "cell_type": "markdown",
   "metadata": {},
   "source": [
    "- зависит ли цена от площади кухни"
   ]
  },
  {
   "cell_type": "code",
   "execution_count": 74,
   "metadata": {},
   "outputs": [
    {
     "data": {
      "text/plain": [
       "<AxesSubplot:xlabel='last_price'>"
      ]
     },
     "execution_count": 74,
     "metadata": {},
     "output_type": "execute_result"
    },
    {
     "data": {
      "image/png": "[encoded data removed]",
      "text/plain": [
       "<Figure size 360x360 with 1 Axes>"
      ]
     },
     "metadata": {
      "needs_background": "light"
     },
     "output_type": "display_data"
    }
   ],
   "source": [
    "data.pivot_table(index='last_price', values='kitchen_area').plot(grid=True, style='o', figsize=(5, 5))"
   ]
  },
  {
   "cell_type": "markdown",
   "metadata": {},
   "source": [
    "Основная масса показателей находится приблезительно в одном интервале, поэтому можно сделать вывод, что площадь кухни не сильно влияет на ее стоимость."
   ]
  },
  {
   "cell_type": "markdown",
   "metadata": {},
   "source": [
    "- зависит ли цена от количества комнат.\n",
    "\n",
    "Прежде почистим и уберем редкие и выбивающиеся значения"
   ]
  },
  {
   "cell_type": "code",
   "execution_count": 75,
   "metadata": {},
   "outputs": [],
   "source": [
    "data_iz = data.query('rooms >= 1 and rooms <= 10')"
   ]
  },
  {
   "cell_type": "code",
   "execution_count": 76,
   "metadata": {
    "scrolled": true
   },
   "outputs": [
    {
     "data": {
      "text/plain": [
       "<AxesSubplot:xlabel='rooms'>"
      ]
     },
     "execution_count": 76,
     "metadata": {},
     "output_type": "execute_result"
    },
    {
     "data": {
      "image/png": "[encoded data removed]",
      "text/plain": [
       "<Figure size 720x360 with 1 Axes>"
      ]
     },
     "metadata": {
      "needs_background": "light"
     },
     "output_type": "display_data"
    }
   ],
   "source": [
    "data_iz.pivot_table(index='rooms', values='last_price').plot(grid=True, style='o-', figsize=(10, 5))"
   ]
  },
  {
   "cell_type": "markdown",
   "metadata": {},
   "source": [
    "Можно сделать вывод, что однокомнатные квартиры стоят дешевле всего, далее стоимость квартир растет по мере увелечения комнат."
   ]
  },
  {
   "cell_type": "markdown",
   "metadata": {},
   "source": [
    "- зависит ли цена от этажа, на котором расположена квартира (первый, последний, другой)"
   ]
  },
  {
   "cell_type": "code",
   "execution_count": 77,
   "metadata": {},
   "outputs": [
    {
     "data": {
      "text/plain": [
       "<AxesSubplot:xlabel='floor_type'>"
      ]
     },
     "execution_count": 77,
     "metadata": {},
     "output_type": "execute_result"
    },
    {
     "data": {
      "image/png": "[encoded data removed]",
      "text/plain": [
       "<Figure size 360x360 with 1 Axes>"
      ]
     },
     "metadata": {
      "needs_background": "light"
     },
     "output_type": "display_data"
    }
   ],
   "source": [
    "data.pivot_table(index='floor_type', values='last_price', aggfunc='median').plot(grid=True, style='o-', figsize=(5, 5))"
   ]
  },
  {
   "cell_type": "markdown",
   "metadata": {},
   "source": [
    "Квартиры расположенные на первом этаже стоят дешевле всего, пик стоимости приходится на \"другие этажи\", и квартиры расположенные на последнем этаже стоят дешевле, чем те что в сегменте \"другие\"."
   ]
  },
  {
   "cell_type": "markdown",
   "metadata": {},
   "source": [
    "- зависит ли цена от даты размещения (день недели, месяц, год)"
   ]
  },
  {
   "cell_type": "code",
   "execution_count": 78,
   "metadata": {},
   "outputs": [
    {
     "data": {
      "text/plain": [
       "<AxesSubplot:xlabel='day_of_publication'>"
      ]
     },
     "execution_count": 78,
     "metadata": {},
     "output_type": "execute_result"
    },
    {
     "data": {
      "image/png": "[encoded data removed]",
      "text/plain": [
       "<Figure size 360x360 with 1 Axes>"
      ]
     },
     "metadata": {
      "needs_background": "light"
     },
     "output_type": "display_data"
    }
   ],
   "source": [
    "# Зависимость от дня недели\n",
    "data.pivot_table(index='day_of_publication', values='last_price').plot(grid=True, style='o-', figsize=(5, 5))"
   ]
  },
  {
   "cell_type": "markdown",
   "metadata": {},
   "source": [
    "Самые дорогие квартиры опубликован в среду, а самые дешевые в выходные дни."
   ]
  },
  {
   "cell_type": "code",
   "execution_count": 79,
   "metadata": {
    "scrolled": true
   },
   "outputs": [
    {
     "data": {
      "text/plain": [
       "<AxesSubplot:xlabel='publication_month'>"
      ]
     },
     "execution_count": 79,
     "metadata": {},
     "output_type": "execute_result"
    },
    {
     "data": {
      "image/png": "[encoded data removed]",
      "text/plain": [
       "<Figure size 720x216 with 1 Axes>"
      ]
     },
     "metadata": {
      "needs_background": "light"
     },
     "output_type": "display_data"
    }
   ],
   "source": [
    "# Зависимость от месяца\n",
    "data.pivot_table(index='publication_month', values='last_price').plot(grid=True, style='o-', figsize=(10, 3))"
   ]
  },
  {
   "cell_type": "markdown",
   "metadata": {},
   "source": [
    "Пик стоимости квартир приходится на апрель."
   ]
  },
  {
   "cell_type": "code",
   "execution_count": 80,
   "metadata": {},
   "outputs": [
    {
     "data": {
      "text/plain": [
       "<AxesSubplot:xlabel='publication_year'>"
      ]
     },
     "execution_count": 80,
     "metadata": {},
     "output_type": "execute_result"
    },
    {
     "data": {
      "image/png": "[encoded data removed]",
      "text/plain": [
       "<Figure size 720x216 with 1 Axes>"
      ]
     },
     "metadata": {
      "needs_background": "light"
     },
     "output_type": "display_data"
    }
   ],
   "source": [
    "# Зависимость от года\n",
    "data.pivot_table(index='publication_year', values='last_price').plot(grid=True, style='o-', figsize=(10, 3))"
   ]
  },
  {
   "cell_type": "markdown",
   "metadata": {},
   "source": [
    "Самые дорогие квартиры продавались в 2014г., после 2014г. по 2018 наблюдается активный спад, скорее всего это было связано с падение цен на недвижимость и покупательскую способность, в связи с экономической ситуацией в мире. Начиная с 2019г. стоимость на квартиры начала рости."
   ]
  },
  {
   "cell_type": "markdown",
   "metadata": {},
   "source": [
    "__Задание__\n",
    "\n",
    "Посчитайте среднюю цену одного квадратного метра в 10 населённых пунктах с наибольшим числом объявлений. Выделите населённые пункты с самой высокой и низкой стоимостью квадратного метра. Эти данные можно найти по имени в столбце locality_name."
   ]
  },
  {
   "cell_type": "code",
   "execution_count": 81,
   "metadata": {
    "scrolled": false
   },
   "outputs": [
    {
     "data": {
      "text/html": [
       "<div>\n",
       "<style scoped>\n",
       "    .dataframe tbody tr th:only-of-type {\n",
       "        vertical-align: middle;\n",
       "    }\n",
       "\n",
       "    .dataframe tbody tr th {\n",
       "        vertical-align: top;\n",
       "    }\n",
       "\n",
       "    .dataframe thead th {\n",
       "        text-align: right;\n",
       "    }\n",
       "</style>\n",
       "<table border=\"1\" class=\"dataframe\">\n",
       "  <thead>\n",
       "    <tr style=\"text-align: right;\">\n",
       "      <th></th>\n",
       "      <th>count</th>\n",
       "      <th>median</th>\n",
       "    </tr>\n",
       "    <tr>\n",
       "      <th>locality_name</th>\n",
       "      <th></th>\n",
       "      <th></th>\n",
       "    </tr>\n",
       "  </thead>\n",
       "  <tbody>\n",
       "    <tr>\n",
       "      <th>Санкт-Петербург</th>\n",
       "      <td>13972</td>\n",
       "      <td>0.103448</td>\n",
       "    </tr>\n",
       "    <tr>\n",
       "      <th>поселок Мурино</th>\n",
       "      <td>556</td>\n",
       "      <td>0.085878</td>\n",
       "    </tr>\n",
       "    <tr>\n",
       "      <th>поселок Шушары</th>\n",
       "      <td>431</td>\n",
       "      <td>0.077049</td>\n",
       "    </tr>\n",
       "    <tr>\n",
       "      <th>Всеволожск</th>\n",
       "      <td>392</td>\n",
       "      <td>0.065789</td>\n",
       "    </tr>\n",
       "    <tr>\n",
       "      <th>Пушкин</th>\n",
       "      <td>339</td>\n",
       "      <td>0.098601</td>\n",
       "    </tr>\n",
       "    <tr>\n",
       "      <th>Колпино</th>\n",
       "      <td>332</td>\n",
       "      <td>0.074724</td>\n",
       "    </tr>\n",
       "    <tr>\n",
       "      <th>поселок Парголово</th>\n",
       "      <td>324</td>\n",
       "      <td>0.091984</td>\n",
       "    </tr>\n",
       "    <tr>\n",
       "      <th>Гатчина</th>\n",
       "      <td>301</td>\n",
       "      <td>0.067925</td>\n",
       "    </tr>\n",
       "    <tr>\n",
       "      <th>деревня Кудрово</th>\n",
       "      <td>297</td>\n",
       "      <td>0.091803</td>\n",
       "    </tr>\n",
       "    <tr>\n",
       "      <th>Выборг</th>\n",
       "      <td>223</td>\n",
       "      <td>0.058158</td>\n",
       "    </tr>\n",
       "  </tbody>\n",
       "</table>\n",
       "</div>"
      ],
      "text/plain": [
       "                   count    median\n",
       "locality_name                     \n",
       "Санкт-Петербург    13972  0.103448\n",
       "поселок Мурино       556  0.085878\n",
       "поселок Шушары       431  0.077049\n",
       "Всеволожск           392  0.065789\n",
       "Пушкин               339  0.098601\n",
       "Колпино              332  0.074724\n",
       "поселок Парголово    324  0.091984\n",
       "Гатчина              301  0.067925\n",
       "деревня Кудрово      297  0.091803\n",
       "Выборг               223  0.058158"
      ]
     },
     "execution_count": 81,
     "metadata": {},
     "output_type": "execute_result"
    }
   ],
   "source": [
    "top10_max = (data\n",
    " .pivot_table(index='locality_name', values='one_square_meter',aggfunc=('count', 'median'))\n",
    " .sort_values('count',axis=0, ascending=False)              \n",
    " .head(10))\n",
    "top10_max"
   ]
  },
  {
   "cell_type": "markdown",
   "metadata": {},
   "source": [
    "В Санкт-Петербурге самая высокая стоимость квадратного метра. Самая низкая стоимость квадратного метра в Выборге."
   ]
  },
  {
   "cell_type": "markdown",
   "metadata": {},
   "source": [
    "__Задание__\n",
    "\n",
    "Ранее вы посчитали расстояние до центра в километрах. Теперь выделите квартиры в Санкт-Петербурге с помощью столбца locality_name и вычислите среднюю цену каждого километра. Опишите, как стоимость объектов зависит от расстояния до центра города."
   ]
  },
  {
   "cell_type": "code",
   "execution_count": 82,
   "metadata": {},
   "outputs": [
    {
     "data": {
      "text/plain": [
       "<AxesSubplot:xlabel='cityCenters_nearest_km'>"
      ]
     },
     "execution_count": 82,
     "metadata": {},
     "output_type": "execute_result"
    },
    {
     "data": {
      "image/png": "[encoded data removed]",
      "text/plain": [
       "<Figure size 720x360 with 1 Axes>"
      ]
     },
     "metadata": {
      "needs_background": "light"
     },
     "output_type": "display_data"
    }
   ],
   "source": [
    "data.query('locality_name == \"Санкт-Петербург\"').pivot_table(index='cityCenters_nearest_km', values='last_price').plot(grid=True, style='o-', xlim=(0,15), figsize=(10, 5))"
   ]
  },
  {
   "cell_type": "markdown",
   "metadata": {},
   "source": [
    "Стоимость объякта напрямую зависит от расстояния до центра города. Чем ближе квартира к центру, тем она дороже."
   ]
  },
  {
   "cell_type": "markdown",
   "metadata": {},
   "source": [
    "### Общий вывод"
   ]
  },
  {
   "cell_type": "markdown",
   "metadata": {},
   "source": [
    "<div class=\"alert alert-info\">\n",
    "<b>Комментарий студента:</b>\n",
    "<br>В этом проекте были проанализированы данные объявлений о продаже квартир в городе Санкт-Петербурге и пригороде, которые включают в себя такие характеристики как цена, площадь квартиры, дата публикации, число комнат, высота потолков, этажность дома, жилая площадь, этаж, принадлежность квартиры к студии или апартаментам, наличие свободной планировки, площадь кухни, число балконов, название населённого пункта, расстояние до ближайшего аэропорта, центра города, парка и водоёма, длительность размещения объявления.\n",
    "Были рассчитаны и добавлены в таблицу данные о цене одного квадратного метра; день недели публикации, месяц и год публикации объявления; категория этажа квартиры. Эти данные использовались для корректного анализа.\n",
    "\n",
    "В процессе анализа было выявлено, что в основном квартиры продаются в течении 3-х месяцев – это медианное значение. Но среднее значение больше медианной, это говорит о том, что распределение имеет длинный хвост, что мы и видим в числовом описании выше, максимальное - 1580. 1580 дней это более 4-х лет, можно предположить, что квартиру уже продали, и объявление продолжает \"висеть\" в активных, либо в какой-то момент передумали продавать и попросту забыли снять объявление.\n",
    "Изучили факторы влияющие на стоимость квартир, так например между общей и жилой площадью квартиры и ее стоимостью есть прямая связь, чем выше площадь квартиры, тем выше ее стоимость, в то же время количество комнат не влияет на стоимость, как и площадь кухни.  Стоимость объекта напрямую зависит от расстояния до центра города. Чем ближе квартира к центру, тем она дороже.\n",
    "Стоит отметить, что этаж квартиры, так же влияет на стоимость, так квартиры, расположенные на первом и последнем этаже, стоят дешевле всего, пик стоимости приходится на «другие этажи».\n",
    "Провели анализ по году размещения объявления, и увидели, что самые дорогие квартиры продавались в 2014г., после 2014г. по 2018 наблюдается активный спад, скорее всего это было связано с падение цен на недвижимость и покупательскую способность, в связи с экономической ситуацией в мире. Начиная с 2019г. стоимость на квартиры начала расти.\n",
    "Провели анализ в самом крупном по количеству объявление городе – Санкт-Петербург. Так в Санкт-Петербурге стоимость 1 кв.м. значительно выше, чем в соседних городах и селах, входящие в один регион проживания. И чем ближе квартира располагается к центру Санкт-Петербурга, тем она дороже.\n",
    "\n",
    "</div>"
   ]
  },
  {
   "cell_type": "markdown",
   "metadata": {},
   "source": [
    "**Чек-лист готовности проекта**\n",
    "\n",
    "Поставьте 'x' в выполненных пунктах. Далее нажмите Shift+Enter."
   ]
  },
  {
   "cell_type": "markdown",
   "metadata": {},
   "source": [
    "- [x]  открыт файл\n",
    "- [x]  файлы изучены (выведены первые строки, метод `info()`, гистограммы и т.д.)\n",
    "- [x]  определены пропущенные значения\n",
    "- [x]  заполнены пропущенные значения там, где это возможно\n",
    "- [x]  есть пояснение, какие пропущенные значения обнаружены\n",
    "- [x]  изменены типы данных\n",
    "- [x]  есть пояснение, в каких столбцах изменены типы и почему\n",
    "- [x]  устранены неявные дубликаты в названиях населённых пунктов\n",
    "- [x]  устранены редкие и выбивающиеся значения (аномалии) во всех столбцах\n",
    "- [x]  посчитано и добавлено в таблицу: цена одного квадратного метра\n",
    "- [x]  посчитано и добавлено в таблицу: день публикации объявления (0 - понедельник, 1 - вторник и т.д.)\n",
    "- [x]  посчитано и добавлено в таблицу: месяц публикации объявления\n",
    "- [x]  посчитано и добавлено в таблицу: год публикации объявления\n",
    "- [x]  посчитано и добавлено в таблицу: тип этажа квартиры (значения — «первый», «последний», «другой»)\n",
    "- [x]  посчитано и добавлено в таблицу: расстояние в км до центра города\n",
    "- [x]  изучены и описаны следующие параметры:\n",
    "        - общая площадь;\n",
    "        - жилая площадь;\n",
    "        - площадь кухни;\n",
    "        - цена объекта;\n",
    "        - количество комнат;\n",
    "        - высота потолков;\n",
    "        - этаж квартиры;\n",
    "        - тип этажа квартиры («первый», «последний», «другой»);\n",
    "        - общее количество этажей в доме;\n",
    "        - расстояние до центра города в метрах;\n",
    "        - расстояние до ближайшего аэропорта;\n",
    "        - расстояние до ближайшего парка;\n",
    "        - день и месяц публикации объявления\n",
    "- [x]  построены гистограммы для каждого параметра\n",
    "- [x]  выполнено задание: \"Изучите, как быстро продавались квартиры (столбец days_exposition). Этот параметр показывает, сколько дней «висело» каждое объявление.\n",
    "    - Постройте гистограмму.\n",
    "    - Посчитайте среднее и медиану.\n",
    "    - В ячейке типа markdown опишите, сколько обычно занимает продажа. Какие продажи можно считать быстрыми, а какие — необычно долгими?\"\n",
    "- [x]  выполнено задание: \"Какие факторы больше всего влияют на общую (полную) стоимость объекта? Постройте графики, которые покажут зависимость цены от указанных ниже параметров. Для подготовки данных перед визуализацией вы можете использовать сводные таблицы.\"\n",
    "        - общей площади;\n",
    "        - жилой площади;\n",
    "        - площади кухни;\n",
    "        - количество комнат;\n",
    "        - типа этажа, на котором расположена квартира (первый, последний, другой);\n",
    "        - даты размещения (день недели, месяц, год);\n",
    "- [x]  выполнено задание: \"Посчитайте среднюю цену одного квадратного метра в 10 населённых пунктах с наибольшим числом объявлений. Выделите населённые пункты с самой высокой и низкой стоимостью квадратного метра. Эти данные можно найти по имени в столбце `locality_name`.\"\n",
    "- [x]  выполнено задание: \"Ранее вы посчитали расстояние до центра в километрах. Теперь выделите квартиры в Санкт-Петербурге с помощью столбца `locality_name` и вычислите среднюю цену каждого километра. Опишите, как стоимость объектов зависит от расстояния до центра города.\"\n",
    "- [x]  в каждом этапе есть промежуточные выводы\n",
    "- [x]  есть общий вывод"
   ]
  }
 ],
 "metadata": {
  "ExecuteTimeLog": [
   {
    "duration": 708,
    "start_time": "2022-10-10T11:49:42.185Z"
   },
   {
    "duration": 136,
    "start_time": "2022-10-10T11:50:04.779Z"
   },
   {
    "duration": 134,
    "start_time": "2022-10-10T11:51:08.804Z"
   },
   {
    "duration": 106,
    "start_time": "2022-10-10T11:51:18.410Z"
   },
   {
    "duration": 119,
    "start_time": "2022-10-10T11:51:43.025Z"
   },
   {
    "duration": 118,
    "start_time": "2022-10-10T11:52:27.757Z"
   },
   {
    "duration": 15,
    "start_time": "2022-10-10T11:52:39.565Z"
   },
   {
    "duration": 13,
    "start_time": "2022-10-10T11:52:45.325Z"
   },
   {
    "duration": 15,
    "start_time": "2022-10-10T11:53:38.322Z"
   },
   {
    "duration": 9,
    "start_time": "2022-10-10T11:54:06.762Z"
   },
   {
    "duration": 9,
    "start_time": "2022-10-10T11:54:11.379Z"
   },
   {
    "duration": 75,
    "start_time": "2022-10-10T11:54:22.993Z"
   },
   {
    "duration": 95,
    "start_time": "2022-10-10T11:54:48.818Z"
   },
   {
    "duration": 23,
    "start_time": "2022-10-10T11:54:54.241Z"
   },
   {
    "duration": 79,
    "start_time": "2022-10-10T11:55:37.511Z"
   },
   {
    "duration": 84,
    "start_time": "2022-10-10T11:55:40.919Z"
   },
   {
    "duration": 681,
    "start_time": "2022-10-10T17:02:46.658Z"
   },
   {
    "duration": 23,
    "start_time": "2022-10-10T17:02:57.169Z"
   },
   {
    "duration": 85,
    "start_time": "2022-10-10T17:03:01.617Z"
   },
   {
    "duration": 21,
    "start_time": "2022-10-10T17:03:02.779Z"
   },
   {
    "duration": 510,
    "start_time": "2022-10-10T17:03:25.985Z"
   },
   {
    "duration": 30,
    "start_time": "2022-10-10T17:03:34.913Z"
   },
   {
    "duration": 15,
    "start_time": "2022-10-10T17:03:55.015Z"
   },
   {
    "duration": 10,
    "start_time": "2022-10-10T17:04:23.617Z"
   },
   {
    "duration": 478,
    "start_time": "2022-10-10T17:18:34.563Z"
   },
   {
    "duration": 103,
    "start_time": "2022-10-10T17:18:39.754Z"
   },
   {
    "duration": 14,
    "start_time": "2022-10-10T17:20:34.007Z"
   },
   {
    "duration": 10,
    "start_time": "2022-10-10T17:22:55.425Z"
   },
   {
    "duration": 72,
    "start_time": "2022-10-10T17:23:23.254Z"
   },
   {
    "duration": 12,
    "start_time": "2022-10-10T17:23:49.341Z"
   },
   {
    "duration": 14,
    "start_time": "2022-10-10T17:24:01.972Z"
   },
   {
    "duration": 9,
    "start_time": "2022-10-10T17:24:06.509Z"
   },
   {
    "duration": 62,
    "start_time": "2022-10-10T17:24:38.900Z"
   },
   {
    "duration": 3,
    "start_time": "2022-10-10T17:27:48.835Z"
   },
   {
    "duration": 9,
    "start_time": "2022-10-10T17:27:52.179Z"
   },
   {
    "duration": 48,
    "start_time": "2022-10-10T19:39:35.716Z"
   },
   {
    "duration": 6,
    "start_time": "2022-10-10T19:40:04.210Z"
   },
   {
    "duration": 741,
    "start_time": "2022-10-10T19:40:10.195Z"
   },
   {
    "duration": 14,
    "start_time": "2022-10-10T19:40:16.141Z"
   },
   {
    "duration": 9,
    "start_time": "2022-10-10T19:40:18.821Z"
   },
   {
    "duration": 64,
    "start_time": "2022-10-10T19:40:21.782Z"
   },
   {
    "duration": 10,
    "start_time": "2022-10-10T19:40:24.413Z"
   },
   {
    "duration": 9,
    "start_time": "2022-10-10T19:41:03.281Z"
   },
   {
    "duration": 8,
    "start_time": "2022-10-10T19:41:45.866Z"
   },
   {
    "duration": 7,
    "start_time": "2022-10-10T19:44:37.058Z"
   },
   {
    "duration": 6,
    "start_time": "2022-10-10T19:51:58.267Z"
   },
   {
    "duration": 7,
    "start_time": "2022-10-10T19:59:53.147Z"
   },
   {
    "duration": 5,
    "start_time": "2022-10-10T19:59:56.083Z"
   },
   {
    "duration": 9,
    "start_time": "2022-10-10T20:00:09.136Z"
   },
   {
    "duration": 4,
    "start_time": "2022-10-10T20:00:42.673Z"
   },
   {
    "duration": 6,
    "start_time": "2022-10-10T20:00:46.466Z"
   },
   {
    "duration": 11,
    "start_time": "2022-10-10T20:01:15.162Z"
   },
   {
    "duration": 243,
    "start_time": "2022-10-10T20:29:55.464Z"
   },
   {
    "duration": 3,
    "start_time": "2022-10-10T20:30:17.276Z"
   },
   {
    "duration": 14,
    "start_time": "2022-10-10T20:30:38.765Z"
   },
   {
    "duration": 83,
    "start_time": "2022-10-10T20:31:07.133Z"
   },
   {
    "duration": 10,
    "start_time": "2022-10-10T20:31:13.580Z"
   },
   {
    "duration": 9,
    "start_time": "2022-10-10T20:31:17.826Z"
   },
   {
    "duration": 5,
    "start_time": "2022-10-10T20:31:46.932Z"
   },
   {
    "duration": 4,
    "start_time": "2022-10-10T20:33:04.364Z"
   },
   {
    "duration": 4,
    "start_time": "2022-10-10T20:54:39.950Z"
   },
   {
    "duration": 4,
    "start_time": "2022-10-10T20:54:42.177Z"
   },
   {
    "duration": 4,
    "start_time": "2022-10-10T20:55:07.794Z"
   },
   {
    "duration": 4,
    "start_time": "2022-10-10T20:55:13.048Z"
   },
   {
    "duration": 11,
    "start_time": "2022-10-10T20:55:23.808Z"
   },
   {
    "duration": 4,
    "start_time": "2022-10-10T21:08:26.587Z"
   },
   {
    "duration": 5,
    "start_time": "2022-10-10T21:08:36.295Z"
   },
   {
    "duration": 4,
    "start_time": "2022-10-10T21:08:39.867Z"
   },
   {
    "duration": 5,
    "start_time": "2022-10-10T21:09:22.902Z"
   },
   {
    "duration": 4,
    "start_time": "2022-10-10T21:09:28.909Z"
   },
   {
    "duration": 5,
    "start_time": "2022-10-10T21:09:38.012Z"
   },
   {
    "duration": 5,
    "start_time": "2022-10-10T21:12:42.389Z"
   },
   {
    "duration": 5,
    "start_time": "2022-10-10T21:13:00.156Z"
   },
   {
    "duration": 5,
    "start_time": "2022-10-10T21:13:02.613Z"
   },
   {
    "duration": 1489,
    "start_time": "2022-10-10T21:15:30.558Z"
   },
   {
    "duration": 4,
    "start_time": "2022-10-10T21:15:39.606Z"
   },
   {
    "duration": 5,
    "start_time": "2022-10-10T21:15:54.773Z"
   },
   {
    "duration": 5,
    "start_time": "2022-10-10T21:16:08.581Z"
   },
   {
    "duration": 4,
    "start_time": "2022-10-10T21:16:27.412Z"
   },
   {
    "duration": 4,
    "start_time": "2022-10-10T21:16:52.155Z"
   },
   {
    "duration": 5,
    "start_time": "2022-10-10T21:16:56.294Z"
   },
   {
    "duration": 4,
    "start_time": "2022-10-10T21:16:59.851Z"
   },
   {
    "duration": 4,
    "start_time": "2022-10-10T21:17:02.690Z"
   },
   {
    "duration": 4,
    "start_time": "2022-10-10T21:17:13.627Z"
   },
   {
    "duration": 4,
    "start_time": "2022-10-10T21:17:20.578Z"
   },
   {
    "duration": 6,
    "start_time": "2022-10-10T21:34:42.963Z"
   },
   {
    "duration": 5,
    "start_time": "2022-10-10T21:35:18.911Z"
   },
   {
    "duration": 13,
    "start_time": "2022-10-10T21:35:58.732Z"
   },
   {
    "duration": 9,
    "start_time": "2022-10-10T21:36:10.020Z"
   },
   {
    "duration": 12,
    "start_time": "2022-10-10T21:36:18.499Z"
   },
   {
    "duration": 4,
    "start_time": "2022-10-10T21:42:27.849Z"
   },
   {
    "duration": 5,
    "start_time": "2022-10-10T21:42:52.491Z"
   },
   {
    "duration": 4,
    "start_time": "2022-10-10T21:46:31.505Z"
   },
   {
    "duration": 12,
    "start_time": "2022-10-10T21:46:41.840Z"
   },
   {
    "duration": 4,
    "start_time": "2022-10-10T21:46:54.329Z"
   },
   {
    "duration": 8,
    "start_time": "2022-10-10T21:51:14.830Z"
   },
   {
    "duration": 41,
    "start_time": "2022-10-10T21:56:28.401Z"
   },
   {
    "duration": 23,
    "start_time": "2022-10-10T21:56:49.441Z"
   },
   {
    "duration": 38,
    "start_time": "2022-10-10T21:57:01.674Z"
   },
   {
    "duration": 9,
    "start_time": "2022-10-10T22:06:27.947Z"
   },
   {
    "duration": 8,
    "start_time": "2022-10-10T22:08:36.787Z"
   },
   {
    "duration": 4,
    "start_time": "2022-10-10T22:11:13.852Z"
   },
   {
    "duration": 9,
    "start_time": "2022-10-10T22:11:31.395Z"
   },
   {
    "duration": 4,
    "start_time": "2022-10-10T22:12:23.851Z"
   },
   {
    "duration": 4,
    "start_time": "2022-10-10T22:12:55.809Z"
   },
   {
    "duration": 6,
    "start_time": "2022-10-10T22:13:44.605Z"
   },
   {
    "duration": 4,
    "start_time": "2022-10-10T22:13:46.954Z"
   },
   {
    "duration": 5,
    "start_time": "2022-10-10T22:14:06.652Z"
   },
   {
    "duration": 4,
    "start_time": "2022-10-10T22:14:08.445Z"
   },
   {
    "duration": 25,
    "start_time": "2022-10-10T22:15:31.786Z"
   },
   {
    "duration": 9,
    "start_time": "2022-10-10T22:32:29.987Z"
   },
   {
    "duration": 7,
    "start_time": "2022-10-10T22:35:06.605Z"
   },
   {
    "duration": 40,
    "start_time": "2022-10-10T22:36:10.430Z"
   },
   {
    "duration": 4,
    "start_time": "2022-10-10T22:43:20.217Z"
   },
   {
    "duration": 2,
    "start_time": "2022-10-10T22:44:12.722Z"
   },
   {
    "duration": 8,
    "start_time": "2022-10-10T22:45:01.176Z"
   },
   {
    "duration": 8,
    "start_time": "2022-10-10T22:45:10.904Z"
   },
   {
    "duration": 37,
    "start_time": "2022-10-10T22:45:35.519Z"
   },
   {
    "duration": 2,
    "start_time": "2022-10-10T22:46:59.524Z"
   },
   {
    "duration": 6,
    "start_time": "2022-10-10T22:56:20.522Z"
   },
   {
    "duration": 5,
    "start_time": "2022-10-10T22:57:18.840Z"
   },
   {
    "duration": 8,
    "start_time": "2022-10-10T22:59:00.692Z"
   },
   {
    "duration": 7,
    "start_time": "2022-10-10T22:59:33.244Z"
   },
   {
    "duration": 12,
    "start_time": "2022-10-10T23:00:22.880Z"
   },
   {
    "duration": 8,
    "start_time": "2022-10-10T23:03:55.695Z"
   },
   {
    "duration": 4,
    "start_time": "2022-10-10T23:04:39.509Z"
   },
   {
    "duration": 4,
    "start_time": "2022-10-10T23:05:01.039Z"
   },
   {
    "duration": 8,
    "start_time": "2022-10-10T23:05:28.199Z"
   },
   {
    "duration": 36,
    "start_time": "2022-10-10T23:08:33.861Z"
   },
   {
    "duration": 9,
    "start_time": "2022-10-10T23:09:33.619Z"
   },
   {
    "duration": 7,
    "start_time": "2022-10-10T23:10:38.176Z"
   },
   {
    "duration": 8,
    "start_time": "2022-10-10T23:11:08.894Z"
   },
   {
    "duration": 8,
    "start_time": "2022-10-10T23:11:24.013Z"
   },
   {
    "duration": 8,
    "start_time": "2022-10-10T23:15:03.196Z"
   },
   {
    "duration": 9,
    "start_time": "2022-10-10T23:15:32.307Z"
   },
   {
    "duration": 12,
    "start_time": "2022-10-10T23:17:02.830Z"
   },
   {
    "duration": 38,
    "start_time": "2022-10-10T23:17:14.238Z"
   },
   {
    "duration": 4,
    "start_time": "2022-10-10T23:18:58.739Z"
   },
   {
    "duration": 4,
    "start_time": "2022-10-10T23:19:41.391Z"
   },
   {
    "duration": 17,
    "start_time": "2022-10-10T23:21:08.629Z"
   },
   {
    "duration": 756,
    "start_time": "2022-10-10T23:23:02.825Z"
   },
   {
    "duration": 15,
    "start_time": "2022-10-10T23:26:17.588Z"
   },
   {
    "duration": 13,
    "start_time": "2022-10-10T23:28:05.347Z"
   },
   {
    "duration": 11,
    "start_time": "2022-10-10T23:28:58.001Z"
   },
   {
    "duration": 12,
    "start_time": "2022-10-10T23:29:07.833Z"
   },
   {
    "duration": 77,
    "start_time": "2022-10-10T23:29:17.688Z"
   },
   {
    "duration": 80,
    "start_time": "2022-10-10T23:29:23.061Z"
   },
   {
    "duration": 7,
    "start_time": "2022-10-10T23:29:42.760Z"
   },
   {
    "duration": 5,
    "start_time": "2022-10-10T23:30:12.929Z"
   },
   {
    "duration": 4,
    "start_time": "2022-10-10T23:30:25.519Z"
   },
   {
    "duration": 5,
    "start_time": "2022-10-10T23:30:54.755Z"
   },
   {
    "duration": 4,
    "start_time": "2022-10-10T23:31:00.926Z"
   },
   {
    "duration": 8,
    "start_time": "2022-10-10T23:31:51.434Z"
   },
   {
    "duration": 7,
    "start_time": "2022-10-10T23:33:27.477Z"
   },
   {
    "duration": 8,
    "start_time": "2022-10-10T23:33:55.276Z"
   },
   {
    "duration": 7,
    "start_time": "2022-10-10T23:34:07.296Z"
   },
   {
    "duration": 8,
    "start_time": "2022-10-10T23:34:38.100Z"
   },
   {
    "duration": 11,
    "start_time": "2022-10-10T23:38:09.403Z"
   },
   {
    "duration": 10,
    "start_time": "2022-10-10T23:38:56.023Z"
   },
   {
    "duration": 9,
    "start_time": "2022-10-10T23:39:09.863Z"
   },
   {
    "duration": 7,
    "start_time": "2022-10-10T23:39:17.007Z"
   },
   {
    "duration": 7,
    "start_time": "2022-10-10T23:39:44.677Z"
   },
   {
    "duration": 22,
    "start_time": "2022-10-10T23:39:57.872Z"
   },
   {
    "duration": 5,
    "start_time": "2022-10-10T23:40:28.821Z"
   },
   {
    "duration": 27,
    "start_time": "2022-10-10T23:40:54.528Z"
   },
   {
    "duration": 3,
    "start_time": "2022-10-10T23:41:35.530Z"
   },
   {
    "duration": 0,
    "start_time": "2022-10-10T23:43:19.659Z"
   },
   {
    "duration": 0,
    "start_time": "2022-10-10T23:43:19.661Z"
   },
   {
    "duration": 86234,
    "start_time": "2022-10-10T23:43:23.134Z"
   },
   {
    "duration": 0,
    "start_time": "2022-10-10T23:44:49.370Z"
   },
   {
    "duration": 0,
    "start_time": "2022-10-10T23:44:49.371Z"
   },
   {
    "duration": 0,
    "start_time": "2022-10-10T23:44:49.372Z"
   },
   {
    "duration": 5,
    "start_time": "2022-10-10T23:46:45.898Z"
   },
   {
    "duration": 5,
    "start_time": "2022-10-10T23:50:17.564Z"
   },
   {
    "duration": 5,
    "start_time": "2022-10-10T23:50:25.301Z"
   },
   {
    "duration": 5,
    "start_time": "2022-10-10T23:50:29.124Z"
   },
   {
    "duration": 7,
    "start_time": "2022-10-10T23:55:28.904Z"
   },
   {
    "duration": 1098,
    "start_time": "2022-10-12T19:26:30.872Z"
   },
   {
    "duration": 14,
    "start_time": "2022-10-12T19:26:37.212Z"
   },
   {
    "duration": 9,
    "start_time": "2022-10-12T19:26:40.437Z"
   },
   {
    "duration": 68,
    "start_time": "2022-10-12T19:26:43.028Z"
   },
   {
    "duration": 3,
    "start_time": "2022-10-12T19:26:44.964Z"
   },
   {
    "duration": 9,
    "start_time": "2022-10-12T19:26:47.827Z"
   },
   {
    "duration": 7,
    "start_time": "2022-10-12T19:26:50.748Z"
   },
   {
    "duration": 10,
    "start_time": "2022-10-12T19:26:54.995Z"
   },
   {
    "duration": 5,
    "start_time": "2022-10-12T19:27:10.058Z"
   },
   {
    "duration": 3,
    "start_time": "2022-10-12T19:27:11.988Z"
   },
   {
    "duration": 4,
    "start_time": "2022-10-12T19:27:13.987Z"
   },
   {
    "duration": 6,
    "start_time": "2022-10-12T19:27:20.092Z"
   },
   {
    "duration": 11,
    "start_time": "2022-10-12T19:29:10.415Z"
   },
   {
    "duration": 4,
    "start_time": "2022-10-12T19:29:16.710Z"
   },
   {
    "duration": 4,
    "start_time": "2022-10-12T19:29:18.813Z"
   },
   {
    "duration": 4,
    "start_time": "2022-10-12T19:29:21.126Z"
   },
   {
    "duration": 4,
    "start_time": "2022-10-12T19:29:23.173Z"
   },
   {
    "duration": 8,
    "start_time": "2022-10-12T19:29:24.420Z"
   },
   {
    "duration": 38,
    "start_time": "2022-10-12T19:29:31.165Z"
   },
   {
    "duration": 8,
    "start_time": "2022-10-12T19:29:34.948Z"
   },
   {
    "duration": 2,
    "start_time": "2022-10-12T19:29:38.622Z"
   },
   {
    "duration": 9,
    "start_time": "2022-10-12T19:29:44.223Z"
   },
   {
    "duration": 33,
    "start_time": "2022-10-12T19:29:47.541Z"
   },
   {
    "duration": 2,
    "start_time": "2022-10-12T19:29:49.997Z"
   },
   {
    "duration": 7,
    "start_time": "2022-10-12T19:29:51.364Z"
   },
   {
    "duration": 4,
    "start_time": "2022-10-12T19:29:52.235Z"
   },
   {
    "duration": 17,
    "start_time": "2022-10-12T19:29:56.257Z"
   },
   {
    "duration": 94,
    "start_time": "2022-10-12T19:30:01.518Z"
   },
   {
    "duration": 5,
    "start_time": "2022-10-12T19:31:22.338Z"
   },
   {
    "duration": 97,
    "start_time": "2022-10-12T19:33:06.365Z"
   },
   {
    "duration": 1300,
    "start_time": "2022-10-12T19:42:39.605Z"
   },
   {
    "duration": 9,
    "start_time": "2022-10-12T19:43:15.723Z"
   },
   {
    "duration": 5,
    "start_time": "2022-10-12T19:43:52.746Z"
   },
   {
    "duration": 2424,
    "start_time": "2022-10-12T19:45:01.575Z"
   },
   {
    "duration": 12,
    "start_time": "2022-10-12T19:45:08.575Z"
   },
   {
    "duration": 12,
    "start_time": "2022-10-12T19:45:22.110Z"
   },
   {
    "duration": 5,
    "start_time": "2022-10-12T19:45:36.797Z"
   },
   {
    "duration": 6,
    "start_time": "2022-10-12T19:46:08.325Z"
   },
   {
    "duration": 14,
    "start_time": "2022-10-12T19:46:17.308Z"
   },
   {
    "duration": 8,
    "start_time": "2022-10-12T19:55:28.464Z"
   },
   {
    "duration": 6,
    "start_time": "2022-10-12T20:57:01.312Z"
   },
   {
    "duration": 5,
    "start_time": "2022-10-12T20:57:50.046Z"
   },
   {
    "duration": 4,
    "start_time": "2022-10-12T20:58:47.426Z"
   },
   {
    "duration": 5,
    "start_time": "2022-10-12T20:59:29.968Z"
   },
   {
    "duration": 4,
    "start_time": "2022-10-12T21:00:22.912Z"
   },
   {
    "duration": 8,
    "start_time": "2022-10-12T21:00:41.318Z"
   },
   {
    "duration": 3,
    "start_time": "2022-10-12T21:03:14.423Z"
   },
   {
    "duration": 8,
    "start_time": "2022-10-12T21:14:19.148Z"
   },
   {
    "duration": 74,
    "start_time": "2022-10-12T21:26:26.430Z"
   },
   {
    "duration": 4,
    "start_time": "2022-10-12T21:27:10.693Z"
   },
   {
    "duration": 5,
    "start_time": "2022-10-12T21:27:35.715Z"
   },
   {
    "duration": 3,
    "start_time": "2022-10-12T21:27:55.204Z"
   },
   {
    "duration": 3,
    "start_time": "2022-10-12T21:27:57.793Z"
   },
   {
    "duration": 3,
    "start_time": "2022-10-12T21:27:59.225Z"
   },
   {
    "duration": 4,
    "start_time": "2022-10-12T22:28:38.826Z"
   },
   {
    "duration": 8,
    "start_time": "2022-10-12T22:29:21.563Z"
   },
   {
    "duration": 212,
    "start_time": "2022-10-12T22:30:32.288Z"
   },
   {
    "duration": 187,
    "start_time": "2022-10-12T22:30:35.393Z"
   },
   {
    "duration": 82,
    "start_time": "2022-10-12T22:30:41.791Z"
   },
   {
    "duration": 5,
    "start_time": "2022-10-12T22:30:50.278Z"
   },
   {
    "duration": 21,
    "start_time": "2022-10-12T22:30:52.694Z"
   },
   {
    "duration": 4,
    "start_time": "2022-10-12T22:30:54.567Z"
   },
   {
    "duration": 99,
    "start_time": "2022-10-12T22:31:13.978Z"
   },
   {
    "duration": 101,
    "start_time": "2022-10-12T22:31:51.831Z"
   },
   {
    "duration": 109,
    "start_time": "2022-10-12T22:32:39.515Z"
   },
   {
    "duration": 13,
    "start_time": "2022-10-12T22:32:44.289Z"
   },
   {
    "duration": 8,
    "start_time": "2022-10-12T22:32:48.482Z"
   },
   {
    "duration": 512,
    "start_time": "2022-10-12T22:33:05.906Z"
   },
   {
    "duration": 14,
    "start_time": "2022-10-12T22:33:09.554Z"
   },
   {
    "duration": 8,
    "start_time": "2022-10-12T22:33:17.833Z"
   },
   {
    "duration": 64,
    "start_time": "2022-10-12T22:33:21.801Z"
   },
   {
    "duration": 8,
    "start_time": "2022-10-12T22:33:25.040Z"
   },
   {
    "duration": 7,
    "start_time": "2022-10-12T22:33:31.528Z"
   },
   {
    "duration": 10,
    "start_time": "2022-10-12T22:33:34.777Z"
   },
   {
    "duration": 4,
    "start_time": "2022-10-12T22:33:37.072Z"
   },
   {
    "duration": 3,
    "start_time": "2022-10-12T22:33:40.055Z"
   },
   {
    "duration": 5,
    "start_time": "2022-10-12T22:33:42.190Z"
   },
   {
    "duration": 5,
    "start_time": "2022-10-12T22:33:44.570Z"
   },
   {
    "duration": 11,
    "start_time": "2022-10-12T22:33:46.743Z"
   },
   {
    "duration": 4,
    "start_time": "2022-10-12T22:33:51.095Z"
   },
   {
    "duration": 4,
    "start_time": "2022-10-12T22:33:52.863Z"
   },
   {
    "duration": 5,
    "start_time": "2022-10-12T22:33:55.215Z"
   },
   {
    "duration": 8,
    "start_time": "2022-10-12T22:33:58.359Z"
   },
   {
    "duration": 34,
    "start_time": "2022-10-12T22:34:02.631Z"
   },
   {
    "duration": 10,
    "start_time": "2022-10-12T22:34:05.670Z"
   },
   {
    "duration": 33,
    "start_time": "2022-10-12T22:34:08.630Z"
   },
   {
    "duration": 7,
    "start_time": "2022-10-12T22:34:11.006Z"
   },
   {
    "duration": 6,
    "start_time": "2022-10-12T22:34:13.870Z"
   },
   {
    "duration": 18,
    "start_time": "2022-10-12T22:34:17.599Z"
   },
   {
    "duration": 82,
    "start_time": "2022-10-12T22:34:20.519Z"
   },
   {
    "duration": 7,
    "start_time": "2022-10-12T22:35:24.556Z"
   },
   {
    "duration": 4,
    "start_time": "2022-10-12T22:35:58.283Z"
   },
   {
    "duration": 5,
    "start_time": "2022-10-12T22:36:12.577Z"
   },
   {
    "duration": 2074,
    "start_time": "2022-10-12T22:36:37.506Z"
   },
   {
    "duration": 10,
    "start_time": "2022-10-12T22:37:04.304Z"
   },
   {
    "duration": 5,
    "start_time": "2022-10-12T22:37:19.278Z"
   },
   {
    "duration": 5,
    "start_time": "2022-10-12T22:37:53.694Z"
   },
   {
    "duration": 5,
    "start_time": "2022-10-12T22:39:10.356Z"
   },
   {
    "duration": 7,
    "start_time": "2022-10-12T22:43:44.087Z"
   },
   {
    "duration": 17,
    "start_time": "2022-10-12T22:43:55.712Z"
   },
   {
    "duration": 8,
    "start_time": "2022-10-12T22:44:31.349Z"
   },
   {
    "duration": 9,
    "start_time": "2022-10-12T22:44:55.532Z"
   },
   {
    "duration": 4,
    "start_time": "2022-10-12T23:03:02.635Z"
   },
   {
    "duration": 14,
    "start_time": "2022-10-12T23:05:20.451Z"
   },
   {
    "duration": 12,
    "start_time": "2022-10-12T23:05:28.378Z"
   },
   {
    "duration": 13,
    "start_time": "2022-10-12T23:05:37.913Z"
   },
   {
    "duration": 13,
    "start_time": "2022-10-12T23:06:35.567Z"
   },
   {
    "duration": 2,
    "start_time": "2022-10-12T23:06:56.839Z"
   },
   {
    "duration": 5,
    "start_time": "2022-10-12T23:08:25.091Z"
   },
   {
    "duration": 10,
    "start_time": "2022-10-12T23:17:30.910Z"
   },
   {
    "duration": 753,
    "start_time": "2022-10-13T11:33:30.761Z"
   },
   {
    "duration": 15,
    "start_time": "2022-10-13T11:33:33.814Z"
   },
   {
    "duration": 11,
    "start_time": "2022-10-13T11:33:37.606Z"
   },
   {
    "duration": 88,
    "start_time": "2022-10-13T11:33:40.815Z"
   },
   {
    "duration": 10,
    "start_time": "2022-10-13T11:33:43.782Z"
   },
   {
    "duration": 7,
    "start_time": "2022-10-13T11:33:46.575Z"
   },
   {
    "duration": 12,
    "start_time": "2022-10-13T11:33:49.356Z"
   },
   {
    "duration": 6,
    "start_time": "2022-10-13T11:33:51.206Z"
   },
   {
    "duration": 3,
    "start_time": "2022-10-13T11:33:53.158Z"
   },
   {
    "duration": 5,
    "start_time": "2022-10-13T11:33:55.054Z"
   },
   {
    "duration": 5,
    "start_time": "2022-10-13T11:33:57.029Z"
   },
   {
    "duration": 13,
    "start_time": "2022-10-13T11:33:58.692Z"
   },
   {
    "duration": 4,
    "start_time": "2022-10-13T11:34:02.277Z"
   },
   {
    "duration": 3,
    "start_time": "2022-10-13T11:34:03.902Z"
   },
   {
    "duration": 5,
    "start_time": "2022-10-13T11:34:11.615Z"
   },
   {
    "duration": 12,
    "start_time": "2022-10-13T11:34:13.764Z"
   },
   {
    "duration": 42,
    "start_time": "2022-10-13T11:34:16.592Z"
   },
   {
    "duration": 9,
    "start_time": "2022-10-13T11:34:19.404Z"
   },
   {
    "duration": 43,
    "start_time": "2022-10-13T11:34:21.781Z"
   },
   {
    "duration": 24,
    "start_time": "2022-10-13T11:34:24.044Z"
   },
   {
    "duration": 4,
    "start_time": "2022-10-13T11:34:25.916Z"
   },
   {
    "duration": 21,
    "start_time": "2022-10-13T11:34:28.629Z"
   },
   {
    "duration": 109,
    "start_time": "2022-10-13T11:34:31.524Z"
   },
   {
    "duration": 8,
    "start_time": "2022-10-13T11:34:33.620Z"
   },
   {
    "duration": 4,
    "start_time": "2022-10-13T11:34:36.141Z"
   },
   {
    "duration": 14,
    "start_time": "2022-10-13T11:34:37.844Z"
   },
   {
    "duration": 5,
    "start_time": "2022-10-13T11:34:39.285Z"
   },
   {
    "duration": 8,
    "start_time": "2022-10-13T11:34:40.796Z"
   },
   {
    "duration": 2035,
    "start_time": "2022-10-13T11:34:43.052Z"
   },
   {
    "duration": 62,
    "start_time": "2022-10-13T11:37:05.166Z"
   },
   {
    "duration": 7,
    "start_time": "2022-10-13T11:37:10.718Z"
   },
   {
    "duration": 7,
    "start_time": "2022-10-13T11:37:15.990Z"
   },
   {
    "duration": 22,
    "start_time": "2022-10-13T11:37:22.549Z"
   },
   {
    "duration": 21,
    "start_time": "2022-10-13T11:37:26.740Z"
   },
   {
    "duration": 104,
    "start_time": "2022-10-13T11:58:15.726Z"
   },
   {
    "duration": 3,
    "start_time": "2022-10-13T12:00:23.004Z"
   },
   {
    "duration": 9,
    "start_time": "2022-10-13T12:11:45.112Z"
   },
   {
    "duration": 5,
    "start_time": "2022-10-13T12:11:59.767Z"
   },
   {
    "duration": 8,
    "start_time": "2022-10-13T12:12:30.778Z"
   },
   {
    "duration": 9,
    "start_time": "2022-10-13T12:43:11.685Z"
   },
   {
    "duration": 6,
    "start_time": "2022-10-13T12:43:17.484Z"
   },
   {
    "duration": 4,
    "start_time": "2022-10-13T12:43:33.188Z"
   },
   {
    "duration": 99,
    "start_time": "2022-10-13T12:44:00.934Z"
   },
   {
    "duration": 11,
    "start_time": "2022-10-13T12:44:12.813Z"
   },
   {
    "duration": 10,
    "start_time": "2022-10-13T12:44:15.170Z"
   },
   {
    "duration": 98,
    "start_time": "2022-10-13T12:44:22.837Z"
   },
   {
    "duration": 13,
    "start_time": "2022-10-13T12:44:25.706Z"
   },
   {
    "duration": 7,
    "start_time": "2022-10-13T12:44:28.179Z"
   },
   {
    "duration": 63,
    "start_time": "2022-10-13T12:44:31.770Z"
   },
   {
    "duration": 8,
    "start_time": "2022-10-13T12:44:34.031Z"
   },
   {
    "duration": 7,
    "start_time": "2022-10-13T12:44:36.298Z"
   },
   {
    "duration": 10,
    "start_time": "2022-10-13T12:44:40.345Z"
   },
   {
    "duration": 4,
    "start_time": "2022-10-13T12:44:42.040Z"
   },
   {
    "duration": 3,
    "start_time": "2022-10-13T12:44:43.713Z"
   },
   {
    "duration": 4,
    "start_time": "2022-10-13T12:44:45.465Z"
   },
   {
    "duration": 5,
    "start_time": "2022-10-13T12:44:47.785Z"
   },
   {
    "duration": 12,
    "start_time": "2022-10-13T12:44:49.713Z"
   },
   {
    "duration": 4,
    "start_time": "2022-10-13T12:44:52.107Z"
   },
   {
    "duration": 3,
    "start_time": "2022-10-13T12:44:53.592Z"
   },
   {
    "duration": 5,
    "start_time": "2022-10-13T12:44:54.961Z"
   },
   {
    "duration": 9,
    "start_time": "2022-10-13T12:44:56.896Z"
   },
   {
    "duration": 34,
    "start_time": "2022-10-13T12:45:00.002Z"
   },
   {
    "duration": 9,
    "start_time": "2022-10-13T12:45:02.424Z"
   },
   {
    "duration": 33,
    "start_time": "2022-10-13T12:45:05.144Z"
   },
   {
    "duration": 6,
    "start_time": "2022-10-13T12:45:07.497Z"
   },
   {
    "duration": 5,
    "start_time": "2022-10-13T12:45:09.168Z"
   },
   {
    "duration": 17,
    "start_time": "2022-10-13T12:45:11.586Z"
   },
   {
    "duration": 87,
    "start_time": "2022-10-13T12:45:14.489Z"
   },
   {
    "duration": 8,
    "start_time": "2022-10-13T12:45:16.303Z"
   },
   {
    "duration": 5,
    "start_time": "2022-10-13T12:45:19.319Z"
   },
   {
    "duration": 10,
    "start_time": "2022-10-13T12:45:21.175Z"
   },
   {
    "duration": 5,
    "start_time": "2022-10-13T12:45:46.406Z"
   },
   {
    "duration": 5,
    "start_time": "2022-10-13T12:46:05.966Z"
   },
   {
    "duration": 105,
    "start_time": "2022-10-13T12:46:30.253Z"
   },
   {
    "duration": 13,
    "start_time": "2022-10-13T12:46:32.829Z"
   },
   {
    "duration": 8,
    "start_time": "2022-10-13T12:46:35.397Z"
   },
   {
    "duration": 71,
    "start_time": "2022-10-13T12:46:37.646Z"
   },
   {
    "duration": 8,
    "start_time": "2022-10-13T12:46:40.372Z"
   },
   {
    "duration": 7,
    "start_time": "2022-10-13T12:46:43.398Z"
   },
   {
    "duration": 10,
    "start_time": "2022-10-13T12:46:46.037Z"
   },
   {
    "duration": 7,
    "start_time": "2022-10-13T12:46:47.444Z"
   },
   {
    "duration": 3,
    "start_time": "2022-10-13T12:46:49.157Z"
   },
   {
    "duration": 4,
    "start_time": "2022-10-13T12:46:50.900Z"
   },
   {
    "duration": 5,
    "start_time": "2022-10-13T12:46:53.460Z"
   },
   {
    "duration": 13,
    "start_time": "2022-10-13T12:46:54.995Z"
   },
   {
    "duration": 4,
    "start_time": "2022-10-13T12:46:57.739Z"
   },
   {
    "duration": 3,
    "start_time": "2022-10-13T12:46:59.332Z"
   },
   {
    "duration": 5,
    "start_time": "2022-10-13T12:47:01.022Z"
   },
   {
    "duration": 8,
    "start_time": "2022-10-13T12:47:03.556Z"
   },
   {
    "duration": 33,
    "start_time": "2022-10-13T12:47:05.517Z"
   },
   {
    "duration": 9,
    "start_time": "2022-10-13T12:47:07.693Z"
   },
   {
    "duration": 33,
    "start_time": "2022-10-13T12:47:09.851Z"
   },
   {
    "duration": 5,
    "start_time": "2022-10-13T12:47:12.492Z"
   },
   {
    "duration": 4,
    "start_time": "2022-10-13T12:47:14.204Z"
   },
   {
    "duration": 16,
    "start_time": "2022-10-13T12:47:17.220Z"
   },
   {
    "duration": 85,
    "start_time": "2022-10-13T12:47:19.842Z"
   },
   {
    "duration": 8,
    "start_time": "2022-10-13T12:47:21.339Z"
   },
   {
    "duration": 5,
    "start_time": "2022-10-13T12:47:23.778Z"
   },
   {
    "duration": 10,
    "start_time": "2022-10-13T12:47:25.514Z"
   },
   {
    "duration": 4,
    "start_time": "2022-10-13T12:47:27.122Z"
   },
   {
    "duration": 5,
    "start_time": "2022-10-13T12:47:35.570Z"
   },
   {
    "duration": 9,
    "start_time": "2022-10-13T12:47:41.313Z"
   },
   {
    "duration": 12,
    "start_time": "2022-10-13T12:47:46.915Z"
   },
   {
    "duration": 9,
    "start_time": "2022-10-13T12:50:03.933Z"
   },
   {
    "duration": 6,
    "start_time": "2022-10-13T12:50:17.947Z"
   },
   {
    "duration": 9,
    "start_time": "2022-10-13T12:50:40.227Z"
   },
   {
    "duration": 1230,
    "start_time": "2022-10-13T12:54:41.923Z"
   },
   {
    "duration": 5,
    "start_time": "2022-10-13T12:54:48.147Z"
   },
   {
    "duration": 1106,
    "start_time": "2022-10-13T12:56:11.142Z"
   },
   {
    "duration": 6,
    "start_time": "2022-10-13T12:56:18.284Z"
   },
   {
    "duration": 5,
    "start_time": "2022-10-13T12:59:04.325Z"
   },
   {
    "duration": 588,
    "start_time": "2022-10-13T17:46:26.085Z"
   },
   {
    "duration": 16,
    "start_time": "2022-10-13T17:46:29.785Z"
   },
   {
    "duration": 8,
    "start_time": "2022-10-13T17:46:40.427Z"
   },
   {
    "duration": 71,
    "start_time": "2022-10-13T17:46:42.386Z"
   },
   {
    "duration": 9,
    "start_time": "2022-10-13T17:46:46.499Z"
   },
   {
    "duration": 7,
    "start_time": "2022-10-13T17:46:49.193Z"
   },
   {
    "duration": 11,
    "start_time": "2022-10-13T17:46:52.378Z"
   },
   {
    "duration": 5,
    "start_time": "2022-10-13T17:46:54.329Z"
   },
   {
    "duration": 7,
    "start_time": "2022-10-13T17:46:56.202Z"
   },
   {
    "duration": 5,
    "start_time": "2022-10-13T17:46:57.824Z"
   },
   {
    "duration": 5,
    "start_time": "2022-10-13T17:47:00.002Z"
   },
   {
    "duration": 14,
    "start_time": "2022-10-13T17:47:05.804Z"
   },
   {
    "duration": 4,
    "start_time": "2022-10-13T17:47:07.938Z"
   },
   {
    "duration": 4,
    "start_time": "2022-10-13T17:47:09.632Z"
   },
   {
    "duration": 5,
    "start_time": "2022-10-13T17:47:11.443Z"
   },
   {
    "duration": 9,
    "start_time": "2022-10-13T17:47:13.936Z"
   },
   {
    "duration": 36,
    "start_time": "2022-10-13T17:47:16.081Z"
   },
   {
    "duration": 9,
    "start_time": "2022-10-13T17:47:18.280Z"
   },
   {
    "duration": 35,
    "start_time": "2022-10-13T17:47:20.739Z"
   },
   {
    "duration": 6,
    "start_time": "2022-10-13T17:47:22.849Z"
   },
   {
    "duration": 4,
    "start_time": "2022-10-13T17:47:25.025Z"
   },
   {
    "duration": 18,
    "start_time": "2022-10-13T17:47:27.249Z"
   },
   {
    "duration": 89,
    "start_time": "2022-10-13T17:47:30.192Z"
   },
   {
    "duration": 8,
    "start_time": "2022-10-13T17:47:31.984Z"
   },
   {
    "duration": 5,
    "start_time": "2022-10-13T17:47:34.615Z"
   },
   {
    "duration": 10,
    "start_time": "2022-10-13T17:47:36.697Z"
   },
   {
    "duration": 6,
    "start_time": "2022-10-13T17:47:38.767Z"
   },
   {
    "duration": 5,
    "start_time": "2022-10-13T17:47:40.799Z"
   },
   {
    "duration": 7,
    "start_time": "2022-10-13T17:47:55.671Z"
   },
   {
    "duration": 13,
    "start_time": "2022-10-13T17:48:01.646Z"
   },
   {
    "duration": 11,
    "start_time": "2022-10-13T17:48:07.223Z"
   },
   {
    "duration": 5,
    "start_time": "2022-10-13T17:48:09.837Z"
   },
   {
    "duration": 62,
    "start_time": "2022-10-13T17:48:51.541Z"
   },
   {
    "duration": 11,
    "start_time": "2022-10-13T17:59:41.529Z"
   },
   {
    "duration": 15,
    "start_time": "2022-10-13T18:00:55.438Z"
   },
   {
    "duration": 9,
    "start_time": "2022-10-13T18:01:14.181Z"
   },
   {
    "duration": 11,
    "start_time": "2022-10-13T18:01:17.989Z"
   },
   {
    "duration": 13,
    "start_time": "2022-10-13T18:01:21.149Z"
   },
   {
    "duration": 43,
    "start_time": "2022-10-13T18:18:51.070Z"
   },
   {
    "duration": 11,
    "start_time": "2022-10-13T18:20:23.080Z"
   },
   {
    "duration": 5,
    "start_time": "2022-10-13T18:27:47.412Z"
   },
   {
    "duration": 11,
    "start_time": "2022-10-13T18:32:08.050Z"
   },
   {
    "duration": 10,
    "start_time": "2022-10-13T18:33:43.543Z"
   },
   {
    "duration": 16,
    "start_time": "2022-10-13T18:47:32.613Z"
   },
   {
    "duration": 22,
    "start_time": "2022-10-13T18:47:48.267Z"
   },
   {
    "duration": 10,
    "start_time": "2022-10-13T18:50:21.211Z"
   },
   {
    "duration": 5,
    "start_time": "2022-10-13T18:50:24.436Z"
   },
   {
    "duration": 9,
    "start_time": "2022-10-13T18:50:59.703Z"
   },
   {
    "duration": 9,
    "start_time": "2022-10-13T18:51:35.449Z"
   },
   {
    "duration": 10,
    "start_time": "2022-10-13T18:53:10.200Z"
   },
   {
    "duration": 5,
    "start_time": "2022-10-13T18:53:14.428Z"
   },
   {
    "duration": 5,
    "start_time": "2022-10-13T18:53:29.197Z"
   },
   {
    "duration": 5,
    "start_time": "2022-10-13T18:53:32.883Z"
   },
   {
    "duration": 7,
    "start_time": "2022-10-13T18:53:40.516Z"
   },
   {
    "duration": 4,
    "start_time": "2022-10-13T18:55:25.191Z"
   },
   {
    "duration": 4,
    "start_time": "2022-10-13T18:55:27.935Z"
   },
   {
    "duration": 4,
    "start_time": "2022-10-13T18:58:55.520Z"
   },
   {
    "duration": 42,
    "start_time": "2022-10-13T18:58:59.207Z"
   },
   {
    "duration": 9,
    "start_time": "2022-10-13T18:59:01.584Z"
   },
   {
    "duration": 5,
    "start_time": "2022-10-13T18:59:04.143Z"
   },
   {
    "duration": 7,
    "start_time": "2022-10-13T18:59:08.471Z"
   },
   {
    "duration": 10,
    "start_time": "2022-10-13T19:02:03.038Z"
   },
   {
    "duration": 24,
    "start_time": "2022-10-13T19:04:12.212Z"
   },
   {
    "duration": 3,
    "start_time": "2022-10-13T19:17:27.579Z"
   },
   {
    "duration": 104,
    "start_time": "2022-10-13T19:24:52.863Z"
   },
   {
    "duration": 9,
    "start_time": "2022-10-13T19:24:59.345Z"
   },
   {
    "duration": 6,
    "start_time": "2022-10-13T19:25:10.742Z"
   },
   {
    "duration": 10,
    "start_time": "2022-10-13T19:25:36.126Z"
   },
   {
    "duration": 12,
    "start_time": "2022-10-13T19:29:00.813Z"
   },
   {
    "duration": 8,
    "start_time": "2022-10-13T19:29:02.901Z"
   },
   {
    "duration": 6,
    "start_time": "2022-10-13T19:34:34.055Z"
   },
   {
    "duration": 4,
    "start_time": "2022-10-13T19:34:43.615Z"
   },
   {
    "duration": 6,
    "start_time": "2022-10-13T19:35:02.846Z"
   },
   {
    "duration": 7,
    "start_time": "2022-10-13T19:36:22.820Z"
   },
   {
    "duration": 6,
    "start_time": "2022-10-13T19:36:45.146Z"
   },
   {
    "duration": 7,
    "start_time": "2022-10-13T19:37:42.791Z"
   },
   {
    "duration": 6,
    "start_time": "2022-10-13T19:37:54.903Z"
   },
   {
    "duration": 6,
    "start_time": "2022-10-13T19:38:01.660Z"
   },
   {
    "duration": 615,
    "start_time": "2022-10-13T19:43:08.674Z"
   },
   {
    "duration": 6,
    "start_time": "2022-10-13T19:44:18.567Z"
   },
   {
    "duration": 8,
    "start_time": "2022-10-13T19:44:38.929Z"
   },
   {
    "duration": 15,
    "start_time": "2022-10-13T19:45:18.782Z"
   },
   {
    "duration": 8,
    "start_time": "2022-10-13T19:49:00.732Z"
   },
   {
    "duration": 7,
    "start_time": "2022-10-13T19:57:25.382Z"
   },
   {
    "duration": 8,
    "start_time": "2022-10-13T19:58:34.227Z"
   },
   {
    "duration": 7,
    "start_time": "2022-10-13T19:59:08.977Z"
   },
   {
    "duration": 8,
    "start_time": "2022-10-13T20:01:42.225Z"
   },
   {
    "duration": 14,
    "start_time": "2022-10-13T20:02:01.451Z"
   },
   {
    "duration": 8,
    "start_time": "2022-10-13T20:02:51.952Z"
   },
   {
    "duration": 307,
    "start_time": "2022-10-13T20:05:56.708Z"
   },
   {
    "duration": 290,
    "start_time": "2022-10-13T20:07:34.230Z"
   },
   {
    "duration": 4,
    "start_time": "2022-10-13T20:22:06.195Z"
   },
   {
    "duration": 8,
    "start_time": "2022-10-13T20:22:18.082Z"
   },
   {
    "duration": 4,
    "start_time": "2022-10-13T20:22:45.101Z"
   },
   {
    "duration": 10,
    "start_time": "2022-10-13T20:22:48.456Z"
   },
   {
    "duration": 5,
    "start_time": "2022-10-13T20:22:51.983Z"
   },
   {
    "duration": 6,
    "start_time": "2022-10-13T20:22:55.672Z"
   },
   {
    "duration": 6,
    "start_time": "2022-10-13T20:23:00.216Z"
   },
   {
    "duration": 3,
    "start_time": "2022-10-13T20:23:08.576Z"
   },
   {
    "duration": 599,
    "start_time": "2022-10-14T09:42:08.400Z"
   },
   {
    "duration": 17,
    "start_time": "2022-10-14T09:42:11.354Z"
   },
   {
    "duration": 9,
    "start_time": "2022-10-14T09:42:15.436Z"
   },
   {
    "duration": 80,
    "start_time": "2022-10-14T09:42:17.884Z"
   },
   {
    "duration": 9,
    "start_time": "2022-10-14T09:42:20.934Z"
   },
   {
    "duration": 7,
    "start_time": "2022-10-14T09:42:25.468Z"
   },
   {
    "duration": 12,
    "start_time": "2022-10-14T09:42:28.415Z"
   },
   {
    "duration": 5,
    "start_time": "2022-10-14T09:42:30.283Z"
   },
   {
    "duration": 4,
    "start_time": "2022-10-14T09:42:31.967Z"
   },
   {
    "duration": 4,
    "start_time": "2022-10-14T09:42:33.523Z"
   },
   {
    "duration": 5,
    "start_time": "2022-10-14T09:42:35.460Z"
   },
   {
    "duration": 16,
    "start_time": "2022-10-14T09:42:37.139Z"
   },
   {
    "duration": 5,
    "start_time": "2022-10-14T09:42:39.642Z"
   },
   {
    "duration": 3,
    "start_time": "2022-10-14T09:42:41.219Z"
   },
   {
    "duration": 5,
    "start_time": "2022-10-14T09:42:42.955Z"
   },
   {
    "duration": 9,
    "start_time": "2022-10-14T09:42:45.916Z"
   },
   {
    "duration": 39,
    "start_time": "2022-10-14T09:42:48.215Z"
   },
   {
    "duration": 9,
    "start_time": "2022-10-14T09:42:51.018Z"
   },
   {
    "duration": 41,
    "start_time": "2022-10-14T09:42:52.866Z"
   },
   {
    "duration": 6,
    "start_time": "2022-10-14T09:42:55.378Z"
   },
   {
    "duration": 5,
    "start_time": "2022-10-14T09:42:57.098Z"
   },
   {
    "duration": 19,
    "start_time": "2022-10-14T09:42:59.564Z"
   },
   {
    "duration": 90,
    "start_time": "2022-10-14T09:43:53.871Z"
   },
   {
    "duration": 8,
    "start_time": "2022-10-14T09:43:56.024Z"
   },
   {
    "duration": 5,
    "start_time": "2022-10-14T09:43:58.608Z"
   },
   {
    "duration": 11,
    "start_time": "2022-10-14T09:44:00.744Z"
   },
   {
    "duration": 6,
    "start_time": "2022-10-14T09:44:02.463Z"
   },
   {
    "duration": 6,
    "start_time": "2022-10-14T09:44:04.663Z"
   },
   {
    "duration": 7,
    "start_time": "2022-10-14T09:44:06.416Z"
   },
   {
    "duration": 13,
    "start_time": "2022-10-14T09:44:08.065Z"
   },
   {
    "duration": 12,
    "start_time": "2022-10-14T09:44:10.617Z"
   },
   {
    "duration": 5,
    "start_time": "2022-10-14T09:44:12.929Z"
   },
   {
    "duration": 12,
    "start_time": "2022-10-14T09:44:47.214Z"
   },
   {
    "duration": 10,
    "start_time": "2022-10-14T09:44:48.893Z"
   },
   {
    "duration": 4,
    "start_time": "2022-10-14T09:44:54.065Z"
   },
   {
    "duration": 8,
    "start_time": "2022-10-14T09:44:56.965Z"
   },
   {
    "duration": 6,
    "start_time": "2022-10-14T09:44:59.226Z"
   },
   {
    "duration": 5,
    "start_time": "2022-10-14T09:45:00.949Z"
   },
   {
    "duration": 6,
    "start_time": "2022-10-14T09:45:02.607Z"
   },
   {
    "duration": 361,
    "start_time": "2022-10-14T09:45:06.439Z"
   },
   {
    "duration": 4,
    "start_time": "2022-10-14T09:45:12.027Z"
   },
   {
    "duration": 9,
    "start_time": "2022-10-14T09:50:07.097Z"
   },
   {
    "duration": 655,
    "start_time": "2022-10-14T09:53:31.382Z"
   },
   {
    "duration": 236,
    "start_time": "2022-10-14T09:54:07.502Z"
   },
   {
    "duration": 246,
    "start_time": "2022-10-14T09:55:18.459Z"
   },
   {
    "duration": 234,
    "start_time": "2022-10-14T09:56:19.427Z"
   },
   {
    "duration": 7,
    "start_time": "2022-10-14T09:56:28.712Z"
   },
   {
    "duration": 6,
    "start_time": "2022-10-14T09:57:35.325Z"
   },
   {
    "duration": 6,
    "start_time": "2022-10-14T09:57:47.132Z"
   },
   {
    "duration": 5,
    "start_time": "2022-10-14T09:59:11.460Z"
   },
   {
    "duration": 244,
    "start_time": "2022-10-14T09:59:20.442Z"
   },
   {
    "duration": 236,
    "start_time": "2022-10-14T09:59:27.554Z"
   },
   {
    "duration": 317,
    "start_time": "2022-10-14T10:00:14.848Z"
   },
   {
    "duration": 250,
    "start_time": "2022-10-14T10:00:20.207Z"
   },
   {
    "duration": 231,
    "start_time": "2022-10-14T10:00:24.597Z"
   },
   {
    "duration": 241,
    "start_time": "2022-10-14T10:00:29.366Z"
   },
   {
    "duration": 231,
    "start_time": "2022-10-14T10:00:34.397Z"
   },
   {
    "duration": 387,
    "start_time": "2022-10-14T10:02:18.758Z"
   },
   {
    "duration": 225,
    "start_time": "2022-10-14T10:02:27.705Z"
   },
   {
    "duration": 5,
    "start_time": "2022-10-14T10:02:43.921Z"
   },
   {
    "duration": 1359,
    "start_time": "2022-10-14T10:04:26.052Z"
   },
   {
    "duration": 13920,
    "start_time": "2022-10-14T10:04:30.524Z"
   },
   {
    "duration": 239,
    "start_time": "2022-10-14T10:04:53.436Z"
   },
   {
    "duration": 233,
    "start_time": "2022-10-14T10:05:09.642Z"
   },
   {
    "duration": 5,
    "start_time": "2022-10-14T10:05:31.028Z"
   },
   {
    "duration": 71,
    "start_time": "2022-10-14T10:05:45.905Z"
   },
   {
    "duration": 8,
    "start_time": "2022-10-14T10:06:14.186Z"
   },
   {
    "duration": 7,
    "start_time": "2022-10-14T10:07:28.949Z"
   },
   {
    "duration": 11,
    "start_time": "2022-10-14T10:09:12.227Z"
   },
   {
    "duration": 19,
    "start_time": "2022-10-14T10:09:32.473Z"
   },
   {
    "duration": 299,
    "start_time": "2022-10-14T10:20:10.383Z"
   },
   {
    "duration": 299,
    "start_time": "2022-10-14T10:20:17.935Z"
   },
   {
    "duration": 3,
    "start_time": "2022-10-14T10:20:23.461Z"
   },
   {
    "duration": 15,
    "start_time": "2022-10-14T10:20:26.381Z"
   },
   {
    "duration": 12,
    "start_time": "2022-10-14T10:20:35.492Z"
   },
   {
    "duration": 4,
    "start_time": "2022-10-14T10:20:43.307Z"
   },
   {
    "duration": 11,
    "start_time": "2022-10-14T10:20:44.956Z"
   },
   {
    "duration": 1706,
    "start_time": "2022-10-14T10:21:06.408Z"
   },
   {
    "duration": 253,
    "start_time": "2022-10-14T10:21:11.286Z"
   },
   {
    "duration": 257,
    "start_time": "2022-10-14T10:21:19.044Z"
   },
   {
    "duration": 251,
    "start_time": "2022-10-14T10:21:21.682Z"
   },
   {
    "duration": 4,
    "start_time": "2022-10-14T10:21:24.322Z"
   },
   {
    "duration": 4,
    "start_time": "2022-10-14T10:21:35.740Z"
   },
   {
    "duration": 10,
    "start_time": "2022-10-14T10:21:38.017Z"
   },
   {
    "duration": 11,
    "start_time": "2022-10-14T10:21:57.459Z"
   },
   {
    "duration": 10,
    "start_time": "2022-10-14T10:22:04.257Z"
   },
   {
    "duration": 3,
    "start_time": "2022-10-14T10:22:08.521Z"
   },
   {
    "duration": 10,
    "start_time": "2022-10-14T10:22:09.994Z"
   },
   {
    "duration": 9,
    "start_time": "2022-10-14T10:22:46.312Z"
   },
   {
    "duration": 105,
    "start_time": "2022-10-14T10:23:04.504Z"
   },
   {
    "duration": 16,
    "start_time": "2022-10-14T10:23:07.581Z"
   },
   {
    "duration": 10,
    "start_time": "2022-10-14T10:23:10.550Z"
   },
   {
    "duration": 81,
    "start_time": "2022-10-14T10:23:12.984Z"
   },
   {
    "duration": 11,
    "start_time": "2022-10-14T10:23:15.869Z"
   },
   {
    "duration": 531,
    "start_time": "2022-10-14T10:23:25.620Z"
   },
   {
    "duration": 16,
    "start_time": "2022-10-14T10:23:28.646Z"
   },
   {
    "duration": 10,
    "start_time": "2022-10-14T10:23:31.235Z"
   },
   {
    "duration": 82,
    "start_time": "2022-10-14T10:23:33.758Z"
   },
   {
    "duration": 9,
    "start_time": "2022-10-14T10:23:36.331Z"
   },
   {
    "duration": 8,
    "start_time": "2022-10-14T10:23:38.627Z"
   },
   {
    "duration": 12,
    "start_time": "2022-10-14T10:23:41.347Z"
   },
   {
    "duration": 5,
    "start_time": "2022-10-14T10:23:43.004Z"
   },
   {
    "duration": 4,
    "start_time": "2022-10-14T10:23:44.716Z"
   },
   {
    "duration": 4,
    "start_time": "2022-10-14T10:23:46.507Z"
   },
   {
    "duration": 5,
    "start_time": "2022-10-14T10:23:48.115Z"
   },
   {
    "duration": 13,
    "start_time": "2022-10-14T10:23:49.914Z"
   },
   {
    "duration": 6,
    "start_time": "2022-10-14T10:23:53.618Z"
   },
   {
    "duration": 4,
    "start_time": "2022-10-14T10:23:55.289Z"
   },
   {
    "duration": 5,
    "start_time": "2022-10-14T10:23:56.803Z"
   },
   {
    "duration": 10,
    "start_time": "2022-10-14T10:23:58.530Z"
   },
   {
    "duration": 39,
    "start_time": "2022-10-14T10:24:01.130Z"
   },
   {
    "duration": 10,
    "start_time": "2022-10-14T10:24:03.106Z"
   },
   {
    "duration": 41,
    "start_time": "2022-10-14T10:24:05.843Z"
   },
   {
    "duration": 7,
    "start_time": "2022-10-14T10:24:09.570Z"
   },
   {
    "duration": 4,
    "start_time": "2022-10-14T10:24:11.706Z"
   },
   {
    "duration": 22,
    "start_time": "2022-10-14T10:24:18.780Z"
   },
   {
    "duration": 90,
    "start_time": "2022-10-14T10:24:21.927Z"
   },
   {
    "duration": 8,
    "start_time": "2022-10-14T10:24:23.817Z"
   },
   {
    "duration": 5,
    "start_time": "2022-10-14T10:24:26.537Z"
   },
   {
    "duration": 10,
    "start_time": "2022-10-14T10:24:28.146Z"
   },
   {
    "duration": 6,
    "start_time": "2022-10-14T10:24:29.855Z"
   },
   {
    "duration": 7,
    "start_time": "2022-10-14T10:24:31.530Z"
   },
   {
    "duration": 8,
    "start_time": "2022-10-14T10:24:33.311Z"
   },
   {
    "duration": 15,
    "start_time": "2022-10-14T10:24:35.320Z"
   },
   {
    "duration": 11,
    "start_time": "2022-10-14T10:24:38.641Z"
   },
   {
    "duration": 5,
    "start_time": "2022-10-14T10:24:40.354Z"
   },
   {
    "duration": 11,
    "start_time": "2022-10-14T10:24:44.200Z"
   },
   {
    "duration": 8,
    "start_time": "2022-10-14T10:24:46.181Z"
   },
   {
    "duration": 5,
    "start_time": "2022-10-14T10:24:49.616Z"
   },
   {
    "duration": 7,
    "start_time": "2022-10-14T10:24:51.456Z"
   },
   {
    "duration": 6,
    "start_time": "2022-10-14T10:24:53.751Z"
   },
   {
    "duration": 6,
    "start_time": "2022-10-14T10:24:55.927Z"
   },
   {
    "duration": 5,
    "start_time": "2022-10-14T10:24:58.160Z"
   },
   {
    "duration": 386,
    "start_time": "2022-10-14T10:25:00.735Z"
   },
   {
    "duration": 5,
    "start_time": "2022-10-14T10:25:03.943Z"
   },
   {
    "duration": 433,
    "start_time": "2022-10-14T10:25:07.464Z"
   },
   {
    "duration": 298,
    "start_time": "2022-10-14T10:25:10.937Z"
   },
   {
    "duration": 232,
    "start_time": "2022-10-14T10:25:14.743Z"
   },
   {
    "duration": 3,
    "start_time": "2022-10-14T10:25:17.378Z"
   },
   {
    "duration": 78,
    "start_time": "2022-10-14T10:25:19.471Z"
   },
   {
    "duration": 7,
    "start_time": "2022-10-14T10:25:47.238Z"
   },
   {
    "duration": 12,
    "start_time": "2022-10-14T10:26:08.373Z"
   },
   {
    "duration": 38,
    "start_time": "2022-10-14T10:26:49.837Z"
   },
   {
    "duration": 4,
    "start_time": "2022-10-14T10:27:14.163Z"
   },
   {
    "duration": 39,
    "start_time": "2022-10-14T10:27:16.062Z"
   },
   {
    "duration": 3,
    "start_time": "2022-10-14T10:27:40.433Z"
   },
   {
    "duration": 31,
    "start_time": "2022-10-14T10:27:42.084Z"
   },
   {
    "duration": 5,
    "start_time": "2022-10-14T10:29:42.436Z"
   },
   {
    "duration": 516,
    "start_time": "2022-10-14T10:29:56.022Z"
   },
   {
    "duration": 15,
    "start_time": "2022-10-14T10:29:58.517Z"
   },
   {
    "duration": 10,
    "start_time": "2022-10-14T10:30:01.031Z"
   },
   {
    "duration": 78,
    "start_time": "2022-10-14T10:30:05.038Z"
   },
   {
    "duration": 9,
    "start_time": "2022-10-14T10:30:08.233Z"
   },
   {
    "duration": 8,
    "start_time": "2022-10-14T10:30:10.822Z"
   },
   {
    "duration": 12,
    "start_time": "2022-10-14T10:30:15.412Z"
   },
   {
    "duration": 5,
    "start_time": "2022-10-14T10:30:17.019Z"
   },
   {
    "duration": 4,
    "start_time": "2022-10-14T10:30:17.736Z"
   },
   {
    "duration": 4,
    "start_time": "2022-10-14T10:30:18.358Z"
   },
   {
    "duration": 5,
    "start_time": "2022-10-14T10:30:19.076Z"
   },
   {
    "duration": 13,
    "start_time": "2022-10-14T10:30:19.952Z"
   },
   {
    "duration": 5,
    "start_time": "2022-10-14T10:30:20.863Z"
   },
   {
    "duration": 3,
    "start_time": "2022-10-14T10:30:21.634Z"
   },
   {
    "duration": 4,
    "start_time": "2022-10-14T10:30:22.583Z"
   },
   {
    "duration": 3,
    "start_time": "2022-10-14T10:30:23.558Z"
   },
   {
    "duration": 3,
    "start_time": "2022-10-14T10:30:24.977Z"
   },
   {
    "duration": 10,
    "start_time": "2022-10-14T10:30:25.650Z"
   },
   {
    "duration": 53,
    "start_time": "2022-10-14T10:30:26.493Z"
   },
   {
    "duration": 11,
    "start_time": "2022-10-14T10:30:27.569Z"
   },
   {
    "duration": 44,
    "start_time": "2022-10-14T10:30:28.489Z"
   },
   {
    "duration": 2,
    "start_time": "2022-10-14T10:30:29.486Z"
   },
   {
    "duration": 7,
    "start_time": "2022-10-14T10:30:30.317Z"
   },
   {
    "duration": 4,
    "start_time": "2022-10-14T10:30:32.213Z"
   },
   {
    "duration": 18,
    "start_time": "2022-10-14T10:30:33.505Z"
   },
   {
    "duration": 97,
    "start_time": "2022-10-14T10:30:34.686Z"
   },
   {
    "duration": 8,
    "start_time": "2022-10-14T10:30:37.002Z"
   },
   {
    "duration": 5,
    "start_time": "2022-10-14T10:30:38.694Z"
   },
   {
    "duration": 11,
    "start_time": "2022-10-14T10:30:40.004Z"
   },
   {
    "duration": 5,
    "start_time": "2022-10-14T10:30:40.962Z"
   },
   {
    "duration": 6,
    "start_time": "2022-10-14T10:30:41.830Z"
   },
   {
    "duration": 9,
    "start_time": "2022-10-14T10:30:43.139Z"
   },
   {
    "duration": 15,
    "start_time": "2022-10-14T10:30:44.250Z"
   },
   {
    "duration": 11,
    "start_time": "2022-10-14T10:30:46.912Z"
   },
   {
    "duration": 5,
    "start_time": "2022-10-14T10:30:49.966Z"
   },
   {
    "duration": 2,
    "start_time": "2022-10-14T10:30:51.031Z"
   },
   {
    "duration": 2,
    "start_time": "2022-10-14T10:30:51.506Z"
   },
   {
    "duration": 11,
    "start_time": "2022-10-14T10:30:52.842Z"
   },
   {
    "duration": 9,
    "start_time": "2022-10-14T10:30:54.608Z"
   },
   {
    "duration": 4,
    "start_time": "2022-10-14T10:30:57.668Z"
   },
   {
    "duration": 10,
    "start_time": "2022-10-14T10:30:58.474Z"
   },
   {
    "duration": 6,
    "start_time": "2022-10-14T10:30:59.186Z"
   },
   {
    "duration": 6,
    "start_time": "2022-10-14T10:31:00.248Z"
   },
   {
    "duration": 6,
    "start_time": "2022-10-14T10:31:00.735Z"
   },
   {
    "duration": 351,
    "start_time": "2022-10-14T10:31:01.926Z"
   },
   {
    "duration": 5,
    "start_time": "2022-10-14T10:31:03.721Z"
   },
   {
    "duration": 451,
    "start_time": "2022-10-14T10:31:09.393Z"
   },
   {
    "duration": 328,
    "start_time": "2022-10-14T10:31:19.992Z"
   },
   {
    "duration": 252,
    "start_time": "2022-10-14T10:31:25.008Z"
   },
   {
    "duration": 6,
    "start_time": "2022-10-14T10:31:40.882Z"
   },
   {
    "duration": 70,
    "start_time": "2022-10-14T10:33:34.734Z"
   },
   {
    "duration": 231,
    "start_time": "2022-10-14T10:34:07.533Z"
   },
   {
    "duration": 177,
    "start_time": "2022-10-14T10:34:55.602Z"
   },
   {
    "duration": 185,
    "start_time": "2022-10-14T10:35:02.833Z"
   },
   {
    "duration": 166,
    "start_time": "2022-10-14T10:35:13.873Z"
   },
   {
    "duration": 212,
    "start_time": "2022-10-14T10:35:30.577Z"
   },
   {
    "duration": 196,
    "start_time": "2022-10-14T10:35:39.289Z"
   },
   {
    "duration": 186,
    "start_time": "2022-10-14T10:35:46.775Z"
   },
   {
    "duration": 3,
    "start_time": "2022-10-14T10:37:46.533Z"
   },
   {
    "duration": 2,
    "start_time": "2022-10-14T10:37:50.919Z"
   },
   {
    "duration": 329,
    "start_time": "2022-10-14T10:39:25.078Z"
   },
   {
    "duration": 241,
    "start_time": "2022-10-14T10:39:39.549Z"
   },
   {
    "duration": 250,
    "start_time": "2022-10-14T10:39:42.342Z"
   },
   {
    "duration": 9,
    "start_time": "2022-10-14T10:39:47.478Z"
   },
   {
    "duration": 253,
    "start_time": "2022-10-14T10:40:23.035Z"
   },
   {
    "duration": 10,
    "start_time": "2022-10-14T10:40:37.334Z"
   },
   {
    "duration": 279,
    "start_time": "2022-10-14T10:41:17.804Z"
   },
   {
    "duration": 10,
    "start_time": "2022-10-14T10:41:24.723Z"
   },
   {
    "duration": 191,
    "start_time": "2022-10-14T10:41:31.651Z"
   },
   {
    "duration": 10,
    "start_time": "2022-10-14T10:41:43.033Z"
   },
   {
    "duration": 247,
    "start_time": "2022-10-14T10:42:55.528Z"
   },
   {
    "duration": 138,
    "start_time": "2022-10-14T10:43:00.981Z"
   },
   {
    "duration": 154,
    "start_time": "2022-10-14T10:43:05.613Z"
   },
   {
    "duration": 251,
    "start_time": "2022-10-14T10:44:15.738Z"
   },
   {
    "duration": 114,
    "start_time": "2022-10-14T10:45:53.888Z"
   },
   {
    "duration": 268,
    "start_time": "2022-10-14T10:46:48.204Z"
   },
   {
    "duration": 253,
    "start_time": "2022-10-14T11:03:14.852Z"
   },
   {
    "duration": 260,
    "start_time": "2022-10-14T11:04:19.080Z"
   },
   {
    "duration": 307,
    "start_time": "2022-10-14T11:04:37.808Z"
   },
   {
    "duration": 365,
    "start_time": "2022-10-14T11:05:03.976Z"
   },
   {
    "duration": 309,
    "start_time": "2022-10-14T11:05:14.061Z"
   },
   {
    "duration": 288,
    "start_time": "2022-10-14T11:05:52.843Z"
   },
   {
    "duration": 315,
    "start_time": "2022-10-14T11:06:52.042Z"
   },
   {
    "duration": 378,
    "start_time": "2022-10-14T11:07:15.631Z"
   },
   {
    "duration": 453,
    "start_time": "2022-10-14T11:07:19.639Z"
   },
   {
    "duration": 205,
    "start_time": "2022-10-14T11:07:36.663Z"
   },
   {
    "duration": 236,
    "start_time": "2022-10-14T11:07:39.063Z"
   },
   {
    "duration": 9,
    "start_time": "2022-10-14T11:07:51.831Z"
   },
   {
    "duration": 8,
    "start_time": "2022-10-14T11:08:07.927Z"
   },
   {
    "duration": 314,
    "start_time": "2022-10-14T11:08:22.020Z"
   },
   {
    "duration": 300,
    "start_time": "2022-10-14T11:08:34.807Z"
   },
   {
    "duration": 303,
    "start_time": "2022-10-14T11:08:57.548Z"
   },
   {
    "duration": 335,
    "start_time": "2022-10-14T11:09:18.274Z"
   },
   {
    "duration": 200,
    "start_time": "2022-10-14T11:09:28.107Z"
   },
   {
    "duration": 391,
    "start_time": "2022-10-14T11:09:39.506Z"
   },
   {
    "duration": 225,
    "start_time": "2022-10-14T11:09:43.923Z"
   },
   {
    "duration": 192,
    "start_time": "2022-10-14T11:11:52.214Z"
   },
   {
    "duration": 195,
    "start_time": "2022-10-14T11:11:59.875Z"
   },
   {
    "duration": 194,
    "start_time": "2022-10-14T11:12:03.861Z"
   },
   {
    "duration": 191,
    "start_time": "2022-10-14T11:12:26.387Z"
   },
   {
    "duration": 207,
    "start_time": "2022-10-14T11:12:36.562Z"
   },
   {
    "duration": 206,
    "start_time": "2022-10-14T11:12:43.248Z"
   },
   {
    "duration": 19,
    "start_time": "2022-10-14T11:13:31.825Z"
   },
   {
    "duration": 158,
    "start_time": "2022-10-14T11:14:07.112Z"
   },
   {
    "duration": 186,
    "start_time": "2022-10-14T11:14:19.054Z"
   },
   {
    "duration": 239,
    "start_time": "2022-10-14T11:14:33.301Z"
   },
   {
    "duration": 5,
    "start_time": "2022-10-14T11:14:35.756Z"
   },
   {
    "duration": 172,
    "start_time": "2022-10-14T11:14:48.132Z"
   },
   {
    "duration": 218,
    "start_time": "2022-10-14T11:15:54.923Z"
   },
   {
    "duration": 220,
    "start_time": "2022-10-14T11:16:01.681Z"
   },
   {
    "duration": 212,
    "start_time": "2022-10-14T11:16:20.241Z"
   },
   {
    "duration": 205,
    "start_time": "2022-10-14T11:17:19.918Z"
   },
   {
    "duration": 227,
    "start_time": "2022-10-14T11:17:33.294Z"
   },
   {
    "duration": 423,
    "start_time": "2022-10-14T11:17:40.045Z"
   },
   {
    "duration": 1348,
    "start_time": "2022-10-14T11:18:29.195Z"
   },
   {
    "duration": 220,
    "start_time": "2022-10-14T11:18:37.109Z"
   },
   {
    "duration": 191,
    "start_time": "2022-10-14T11:18:43.050Z"
   },
   {
    "duration": 614,
    "start_time": "2022-10-14T11:18:57.577Z"
   },
   {
    "duration": 289,
    "start_time": "2022-10-14T11:19:03.466Z"
   },
   {
    "duration": 180,
    "start_time": "2022-10-14T11:19:11.035Z"
   },
   {
    "duration": 244,
    "start_time": "2022-10-14T11:19:19.448Z"
   },
   {
    "duration": 479,
    "start_time": "2022-10-14T11:19:34.233Z"
   },
   {
    "duration": 242,
    "start_time": "2022-10-14T11:19:45.984Z"
   },
   {
    "duration": 255,
    "start_time": "2022-10-14T11:20:01.760Z"
   },
   {
    "duration": 239,
    "start_time": "2022-10-14T11:20:07.343Z"
   },
   {
    "duration": 250,
    "start_time": "2022-10-14T11:20:16.107Z"
   },
   {
    "duration": 221,
    "start_time": "2022-10-14T11:20:21.463Z"
   },
   {
    "duration": 215,
    "start_time": "2022-10-14T11:20:32.262Z"
   },
   {
    "duration": 213,
    "start_time": "2022-10-14T11:20:39.392Z"
   },
   {
    "duration": 221,
    "start_time": "2022-10-14T11:20:44.325Z"
   },
   {
    "duration": 343,
    "start_time": "2022-10-14T11:20:50.772Z"
   },
   {
    "duration": 312,
    "start_time": "2022-10-14T11:20:57.436Z"
   },
   {
    "duration": 563,
    "start_time": "2022-10-14T11:21:03.444Z"
   },
   {
    "duration": 394,
    "start_time": "2022-10-14T11:21:08.867Z"
   },
   {
    "duration": 248,
    "start_time": "2022-10-14T11:21:21.483Z"
   },
   {
    "duration": 247,
    "start_time": "2022-10-14T11:22:07.907Z"
   },
   {
    "duration": 278,
    "start_time": "2022-10-14T11:22:17.619Z"
   },
   {
    "duration": 380,
    "start_time": "2022-10-14T11:22:27.713Z"
   },
   {
    "duration": 1376,
    "start_time": "2022-10-14T11:24:40.771Z"
   },
   {
    "duration": 392,
    "start_time": "2022-10-14T11:24:47.900Z"
   },
   {
    "duration": 610,
    "start_time": "2022-10-14T11:24:57.954Z"
   },
   {
    "duration": 376,
    "start_time": "2022-10-14T11:25:26.242Z"
   },
   {
    "duration": 368,
    "start_time": "2022-10-14T11:25:47.081Z"
   },
   {
    "duration": 390,
    "start_time": "2022-10-14T11:25:53.345Z"
   },
   {
    "duration": 406,
    "start_time": "2022-10-14T11:25:56.186Z"
   },
   {
    "duration": 8,
    "start_time": "2022-10-14T11:25:59.820Z"
   },
   {
    "duration": 602,
    "start_time": "2022-10-14T11:26:29.730Z"
   },
   {
    "duration": 394,
    "start_time": "2022-10-14T11:26:32.926Z"
   },
   {
    "duration": 380,
    "start_time": "2022-10-14T11:27:09.349Z"
   },
   {
    "duration": 19,
    "start_time": "2022-10-14T11:32:36.415Z"
   },
   {
    "duration": 315,
    "start_time": "2022-10-14T11:33:28.573Z"
   },
   {
    "duration": 64,
    "start_time": "2022-10-14T11:36:21.728Z"
   },
   {
    "duration": 18,
    "start_time": "2022-10-14T11:39:40.985Z"
   },
   {
    "duration": 307,
    "start_time": "2022-10-14T11:45:36.671Z"
   },
   {
    "duration": 493,
    "start_time": "2022-10-14T11:46:00.647Z"
   },
   {
    "duration": 378,
    "start_time": "2022-10-14T11:46:11.640Z"
   },
   {
    "duration": 336,
    "start_time": "2022-10-14T11:46:26.109Z"
   },
   {
    "duration": 352,
    "start_time": "2022-10-14T11:51:26.142Z"
   },
   {
    "duration": 342,
    "start_time": "2022-10-14T11:54:47.338Z"
   },
   {
    "duration": 304,
    "start_time": "2022-10-14T11:55:01.280Z"
   },
   {
    "duration": 337,
    "start_time": "2022-10-14T11:55:03.257Z"
   },
   {
    "duration": 310,
    "start_time": "2022-10-14T11:56:32.813Z"
   },
   {
    "duration": 510,
    "start_time": "2022-10-14T11:56:35.363Z"
   },
   {
    "duration": 306,
    "start_time": "2022-10-14T11:57:00.235Z"
   },
   {
    "duration": 300,
    "start_time": "2022-10-14T11:57:53.473Z"
   },
   {
    "duration": 306,
    "start_time": "2022-10-14T11:58:05.404Z"
   },
   {
    "duration": 310,
    "start_time": "2022-10-14T11:58:10.641Z"
   },
   {
    "duration": 377,
    "start_time": "2022-10-14T11:58:55.809Z"
   },
   {
    "duration": 338,
    "start_time": "2022-10-14T11:59:03.847Z"
   },
   {
    "duration": 309,
    "start_time": "2022-10-14T11:59:35.701Z"
   },
   {
    "duration": 320,
    "start_time": "2022-10-14T11:59:45.085Z"
   },
   {
    "duration": 218,
    "start_time": "2022-10-14T12:00:37.217Z"
   },
   {
    "duration": 404,
    "start_time": "2022-10-14T12:01:30.754Z"
   },
   {
    "duration": 208,
    "start_time": "2022-10-14T12:01:38.568Z"
   },
   {
    "duration": 183,
    "start_time": "2022-10-14T12:03:30.900Z"
   },
   {
    "duration": 200,
    "start_time": "2022-10-14T12:03:34.452Z"
   },
   {
    "duration": 210,
    "start_time": "2022-10-14T12:03:41.100Z"
   },
   {
    "duration": 201,
    "start_time": "2022-10-14T12:03:46.498Z"
   },
   {
    "duration": 181,
    "start_time": "2022-10-14T12:04:48.055Z"
   },
   {
    "duration": 194,
    "start_time": "2022-10-14T12:04:51.388Z"
   },
   {
    "duration": 192,
    "start_time": "2022-10-14T12:05:36.288Z"
   },
   {
    "duration": 200,
    "start_time": "2022-10-14T12:06:12.693Z"
   },
   {
    "duration": 205,
    "start_time": "2022-10-14T12:06:17.708Z"
   },
   {
    "duration": 202,
    "start_time": "2022-10-14T12:06:26.435Z"
   },
   {
    "duration": 208,
    "start_time": "2022-10-14T12:06:32.676Z"
   },
   {
    "duration": 237,
    "start_time": "2022-10-14T12:06:39.307Z"
   },
   {
    "duration": 227,
    "start_time": "2022-10-14T12:06:43.915Z"
   },
   {
    "duration": 162,
    "start_time": "2022-10-14T12:07:07.106Z"
   },
   {
    "duration": 172,
    "start_time": "2022-10-14T12:07:09.164Z"
   },
   {
    "duration": 210,
    "start_time": "2022-10-14T12:07:49.140Z"
   },
   {
    "duration": 193,
    "start_time": "2022-10-14T12:07:51.287Z"
   },
   {
    "duration": 222,
    "start_time": "2022-10-14T12:09:05.696Z"
   },
   {
    "duration": 288,
    "start_time": "2022-10-14T12:09:18.908Z"
   },
   {
    "duration": 206,
    "start_time": "2022-10-14T12:09:24.069Z"
   },
   {
    "duration": 226,
    "start_time": "2022-10-14T12:09:50.939Z"
   },
   {
    "duration": 227,
    "start_time": "2022-10-14T12:09:52.996Z"
   },
   {
    "duration": 221,
    "start_time": "2022-10-14T12:10:02.589Z"
   },
   {
    "duration": 211,
    "start_time": "2022-10-14T12:10:46.562Z"
   },
   {
    "duration": 533,
    "start_time": "2022-10-14T12:12:27.191Z"
   },
   {
    "duration": 267,
    "start_time": "2022-10-14T12:12:29.634Z"
   },
   {
    "duration": 269,
    "start_time": "2022-10-14T12:12:51.244Z"
   },
   {
    "duration": 264,
    "start_time": "2022-10-14T12:23:52.238Z"
   },
   {
    "duration": 303,
    "start_time": "2022-10-14T12:24:23.342Z"
   },
   {
    "duration": 337,
    "start_time": "2022-10-14T12:24:45.627Z"
   },
   {
    "duration": 310,
    "start_time": "2022-10-14T12:24:52.316Z"
   },
   {
    "duration": 252,
    "start_time": "2022-10-14T12:27:24.136Z"
   },
   {
    "duration": 536,
    "start_time": "2022-10-14T12:30:02.373Z"
   },
   {
    "duration": 65,
    "start_time": "2022-10-14T12:30:09.990Z"
   },
   {
    "duration": 276,
    "start_time": "2022-10-14T12:30:25.685Z"
   },
   {
    "duration": 276,
    "start_time": "2022-10-14T12:30:29.660Z"
   },
   {
    "duration": 265,
    "start_time": "2022-10-14T12:30:36.335Z"
   },
   {
    "duration": 24,
    "start_time": "2022-10-14T12:33:41.220Z"
   },
   {
    "duration": 9,
    "start_time": "2022-10-14T12:37:02.216Z"
   },
   {
    "duration": 603,
    "start_time": "2022-10-14T15:10:32.028Z"
   },
   {
    "duration": 19,
    "start_time": "2022-10-14T15:10:35.151Z"
   },
   {
    "duration": 14,
    "start_time": "2022-10-14T15:10:38.239Z"
   },
   {
    "duration": 68,
    "start_time": "2022-10-14T15:10:39.442Z"
   },
   {
    "duration": 8,
    "start_time": "2022-10-14T15:10:42.775Z"
   },
   {
    "duration": 7,
    "start_time": "2022-10-14T15:10:43.765Z"
   },
   {
    "duration": 12,
    "start_time": "2022-10-14T15:10:45.902Z"
   },
   {
    "duration": 5,
    "start_time": "2022-10-14T15:10:46.686Z"
   },
   {
    "duration": 4,
    "start_time": "2022-10-14T15:10:47.478Z"
   },
   {
    "duration": 5,
    "start_time": "2022-10-14T15:10:48.126Z"
   },
   {
    "duration": 7,
    "start_time": "2022-10-14T15:10:49.814Z"
   },
   {
    "duration": 13,
    "start_time": "2022-10-14T15:10:50.480Z"
   },
   {
    "duration": 4,
    "start_time": "2022-10-14T15:10:53.118Z"
   },
   {
    "duration": 3,
    "start_time": "2022-10-14T15:10:53.941Z"
   },
   {
    "duration": 5,
    "start_time": "2022-10-14T15:10:54.589Z"
   },
   {
    "duration": 8,
    "start_time": "2022-10-14T15:10:58.335Z"
   },
   {
    "duration": 40,
    "start_time": "2022-10-14T15:10:58.959Z"
   },
   {
    "duration": 11,
    "start_time": "2022-10-14T15:11:02.102Z"
   },
   {
    "duration": 40,
    "start_time": "2022-10-14T15:11:03.154Z"
   },
   {
    "duration": 5,
    "start_time": "2022-10-14T15:11:04.877Z"
   },
   {
    "duration": 5,
    "start_time": "2022-10-14T15:11:05.552Z"
   },
   {
    "duration": 22,
    "start_time": "2022-10-14T15:11:06.413Z"
   },
   {
    "duration": 89,
    "start_time": "2022-10-14T15:11:12.957Z"
   },
   {
    "duration": 8,
    "start_time": "2022-10-14T15:11:13.662Z"
   },
   {
    "duration": 9,
    "start_time": "2022-10-14T15:11:15.639Z"
   },
   {
    "duration": 11,
    "start_time": "2022-10-14T15:11:16.333Z"
   },
   {
    "duration": 7,
    "start_time": "2022-10-14T15:11:16.887Z"
   },
   {
    "duration": 6,
    "start_time": "2022-10-14T15:11:17.668Z"
   },
   {
    "duration": 9,
    "start_time": "2022-10-14T15:11:18.660Z"
   },
   {
    "duration": 18,
    "start_time": "2022-10-14T15:11:20.135Z"
   },
   {
    "duration": 12,
    "start_time": "2022-10-14T15:11:21.933Z"
   },
   {
    "duration": 6,
    "start_time": "2022-10-14T15:11:22.509Z"
   },
   {
    "duration": 11,
    "start_time": "2022-10-14T15:11:24.277Z"
   },
   {
    "duration": 11,
    "start_time": "2022-10-14T15:11:25.148Z"
   },
   {
    "duration": 5,
    "start_time": "2022-10-14T15:11:30.710Z"
   },
   {
    "duration": 8,
    "start_time": "2022-10-14T15:11:31.435Z"
   },
   {
    "duration": 4,
    "start_time": "2022-10-14T15:11:32.093Z"
   },
   {
    "duration": 5,
    "start_time": "2022-10-14T15:11:32.740Z"
   },
   {
    "duration": 5,
    "start_time": "2022-10-14T15:11:33.365Z"
   },
   {
    "duration": 406,
    "start_time": "2022-10-14T15:11:34.267Z"
   },
   {
    "duration": 5,
    "start_time": "2022-10-14T15:11:36.564Z"
   },
   {
    "duration": 652,
    "start_time": "2022-10-14T15:11:38.379Z"
   },
   {
    "duration": 251,
    "start_time": "2022-10-14T15:11:40.531Z"
   },
   {
    "duration": 279,
    "start_time": "2022-10-14T15:11:48.187Z"
   },
   {
    "duration": 367,
    "start_time": "2022-10-14T15:11:51.050Z"
   },
   {
    "duration": 227,
    "start_time": "2022-10-14T15:11:53.747Z"
   },
   {
    "duration": 235,
    "start_time": "2022-10-14T15:11:56.334Z"
   },
   {
    "duration": 176,
    "start_time": "2022-10-14T15:11:58.932Z"
   },
   {
    "duration": 139,
    "start_time": "2022-10-14T15:12:01.203Z"
   },
   {
    "duration": 222,
    "start_time": "2022-10-14T15:12:04.066Z"
   },
   {
    "duration": 210,
    "start_time": "2022-10-14T15:12:06.540Z"
   },
   {
    "duration": 236,
    "start_time": "2022-10-14T15:12:08.913Z"
   },
   {
    "duration": 224,
    "start_time": "2022-10-14T15:12:11.050Z"
   },
   {
    "duration": 387,
    "start_time": "2022-10-14T15:12:13.268Z"
   },
   {
    "duration": 11,
    "start_time": "2022-10-14T15:12:18.933Z"
   },
   {
    "duration": 9,
    "start_time": "2022-10-14T15:14:55.869Z"
   },
   {
    "duration": 75,
    "start_time": "2022-10-14T15:15:12.685Z"
   },
   {
    "duration": 10,
    "start_time": "2022-10-14T15:17:54.224Z"
   },
   {
    "duration": 203,
    "start_time": "2022-10-14T15:19:44.162Z"
   },
   {
    "duration": 266,
    "start_time": "2022-10-14T15:26:30.833Z"
   },
   {
    "duration": 250,
    "start_time": "2022-10-14T15:26:54.232Z"
   },
   {
    "duration": 212,
    "start_time": "2022-10-14T15:27:06.864Z"
   },
   {
    "duration": 123,
    "start_time": "2022-10-14T15:27:38.373Z"
   },
   {
    "duration": 1219,
    "start_time": "2022-10-14T15:27:48.830Z"
   },
   {
    "duration": 216,
    "start_time": "2022-10-14T15:27:57.840Z"
   },
   {
    "duration": 326,
    "start_time": "2022-10-14T15:28:51.419Z"
   },
   {
    "duration": 224,
    "start_time": "2022-10-14T15:29:01.426Z"
   },
   {
    "duration": 479,
    "start_time": "2022-10-14T15:29:37.011Z"
   },
   {
    "duration": 214,
    "start_time": "2022-10-14T15:29:46.904Z"
   },
   {
    "duration": 125,
    "start_time": "2022-10-14T16:15:23.783Z"
   },
   {
    "duration": 221,
    "start_time": "2022-10-14T16:16:10.117Z"
   },
   {
    "duration": 119,
    "start_time": "2022-10-14T16:19:21.743Z"
   },
   {
    "duration": 131,
    "start_time": "2022-10-14T16:19:28.389Z"
   },
   {
    "duration": 196,
    "start_time": "2022-10-14T16:19:39.669Z"
   },
   {
    "duration": 141,
    "start_time": "2022-10-14T16:19:45.260Z"
   },
   {
    "duration": 17,
    "start_time": "2022-10-14T16:26:54.347Z"
   },
   {
    "duration": 199,
    "start_time": "2022-10-14T16:30:00.916Z"
   },
   {
    "duration": 221,
    "start_time": "2022-10-14T16:30:14.250Z"
   },
   {
    "duration": 199,
    "start_time": "2022-10-14T16:30:35.344Z"
   },
   {
    "duration": 196,
    "start_time": "2022-10-14T16:30:40.946Z"
   },
   {
    "duration": 211,
    "start_time": "2022-10-14T16:30:45.855Z"
   },
   {
    "duration": 133,
    "start_time": "2022-10-14T16:31:23.133Z"
   },
   {
    "duration": 107,
    "start_time": "2022-10-14T16:36:34.820Z"
   },
   {
    "duration": 253,
    "start_time": "2022-10-14T16:36:56.274Z"
   },
   {
    "duration": 330,
    "start_time": "2022-10-14T16:37:05.241Z"
   },
   {
    "duration": 129,
    "start_time": "2022-10-14T16:37:12.393Z"
   },
   {
    "duration": 169,
    "start_time": "2022-10-14T16:37:25.670Z"
   },
   {
    "duration": 190,
    "start_time": "2022-10-14T16:37:38.439Z"
   },
   {
    "duration": 123,
    "start_time": "2022-10-14T16:38:34.862Z"
   },
   {
    "duration": 17,
    "start_time": "2022-10-14T16:39:24.654Z"
   },
   {
    "duration": 110,
    "start_time": "2022-10-14T16:39:43.773Z"
   },
   {
    "duration": 144,
    "start_time": "2022-10-14T16:40:01.408Z"
   },
   {
    "duration": 202,
    "start_time": "2022-10-14T16:40:59.207Z"
   },
   {
    "duration": 124,
    "start_time": "2022-10-14T16:41:07.097Z"
   },
   {
    "duration": 555,
    "start_time": "2022-10-14T20:31:06.565Z"
   },
   {
    "duration": 16,
    "start_time": "2022-10-14T20:31:08.419Z"
   },
   {
    "duration": 9,
    "start_time": "2022-10-14T20:31:12.068Z"
   },
   {
    "duration": 75,
    "start_time": "2022-10-14T20:31:13.637Z"
   },
   {
    "duration": 10,
    "start_time": "2022-10-14T20:31:22.648Z"
   },
   {
    "duration": 9,
    "start_time": "2022-10-14T20:31:25.676Z"
   },
   {
    "duration": 13,
    "start_time": "2022-10-14T20:31:27.828Z"
   },
   {
    "duration": 4,
    "start_time": "2022-10-14T20:31:29.356Z"
   },
   {
    "duration": 4,
    "start_time": "2022-10-14T20:31:29.688Z"
   },
   {
    "duration": 5,
    "start_time": "2022-10-14T20:31:30.960Z"
   },
   {
    "duration": 5,
    "start_time": "2022-10-14T20:31:31.915Z"
   },
   {
    "duration": 13,
    "start_time": "2022-10-14T20:31:32.812Z"
   },
   {
    "duration": 5,
    "start_time": "2022-10-14T20:31:36.099Z"
   },
   {
    "duration": 3,
    "start_time": "2022-10-14T20:31:48.244Z"
   },
   {
    "duration": 6,
    "start_time": "2022-10-14T20:31:49.362Z"
   },
   {
    "duration": 11,
    "start_time": "2022-10-14T20:31:54.453Z"
   },
   {
    "duration": 51,
    "start_time": "2022-10-14T20:31:56.829Z"
   },
   {
    "duration": 10,
    "start_time": "2022-10-14T20:31:58.365Z"
   },
   {
    "duration": 41,
    "start_time": "2022-10-14T20:32:08.145Z"
   },
   {
    "duration": 6,
    "start_time": "2022-10-14T20:32:13.795Z"
   },
   {
    "duration": 4,
    "start_time": "2022-10-14T20:32:14.932Z"
   },
   {
    "duration": 18,
    "start_time": "2022-10-14T20:32:16.000Z"
   },
   {
    "duration": 100,
    "start_time": "2022-10-14T20:32:19.220Z"
   },
   {
    "duration": 8,
    "start_time": "2022-10-14T20:32:20.054Z"
   },
   {
    "duration": 6,
    "start_time": "2022-10-14T20:32:23.325Z"
   },
   {
    "duration": 10,
    "start_time": "2022-10-14T20:32:23.970Z"
   },
   {
    "duration": 5,
    "start_time": "2022-10-14T20:32:24.615Z"
   },
   {
    "duration": 5,
    "start_time": "2022-10-14T20:32:25.446Z"
   },
   {
    "duration": 11,
    "start_time": "2022-10-14T20:32:26.429Z"
   },
   {
    "duration": 15,
    "start_time": "2022-10-14T20:32:28.836Z"
   },
   {
    "duration": 10,
    "start_time": "2022-10-14T20:32:32.022Z"
   },
   {
    "duration": 5,
    "start_time": "2022-10-14T20:32:32.733Z"
   },
   {
    "duration": 10,
    "start_time": "2022-10-14T20:32:35.218Z"
   },
   {
    "duration": 10,
    "start_time": "2022-10-14T20:32:36.099Z"
   },
   {
    "duration": 5,
    "start_time": "2022-10-14T20:32:40.898Z"
   },
   {
    "duration": 8,
    "start_time": "2022-10-14T20:32:41.507Z"
   },
   {
    "duration": 6,
    "start_time": "2022-10-14T20:32:42.371Z"
   },
   {
    "duration": 5,
    "start_time": "2022-10-14T20:32:43.233Z"
   },
   {
    "duration": 6,
    "start_time": "2022-10-14T20:32:44.107Z"
   },
   {
    "duration": 334,
    "start_time": "2022-10-14T20:32:44.939Z"
   },
   {
    "duration": 5,
    "start_time": "2022-10-14T20:32:47.632Z"
   },
   {
    "duration": 748,
    "start_time": "2022-10-14T20:32:49.439Z"
   },
   {
    "duration": 345,
    "start_time": "2022-10-14T20:32:52.608Z"
   },
   {
    "duration": 293,
    "start_time": "2022-10-14T20:32:56.932Z"
   },
   {
    "duration": 323,
    "start_time": "2022-10-14T20:33:02.108Z"
   },
   {
    "duration": 184,
    "start_time": "2022-10-14T20:33:05.547Z"
   },
   {
    "duration": 190,
    "start_time": "2022-10-14T20:33:08.355Z"
   },
   {
    "duration": 208,
    "start_time": "2022-10-14T20:33:12.408Z"
   },
   {
    "duration": 169,
    "start_time": "2022-10-14T20:33:16.830Z"
   },
   {
    "duration": 258,
    "start_time": "2022-10-14T20:33:20.596Z"
   },
   {
    "duration": 208,
    "start_time": "2022-10-14T20:33:23.954Z"
   },
   {
    "duration": 244,
    "start_time": "2022-10-14T20:33:26.172Z"
   },
   {
    "duration": 264,
    "start_time": "2022-10-14T20:33:29.316Z"
   },
   {
    "duration": 379,
    "start_time": "2022-10-14T20:33:34.235Z"
   },
   {
    "duration": 11,
    "start_time": "2022-10-14T20:33:48.676Z"
   },
   {
    "duration": 280,
    "start_time": "2022-10-14T20:33:51.723Z"
   },
   {
    "duration": 265,
    "start_time": "2022-10-14T20:33:56.372Z"
   },
   {
    "duration": 54,
    "start_time": "2022-10-14T20:36:26.299Z"
   },
   {
    "duration": 214,
    "start_time": "2022-10-14T20:36:40.065Z"
   },
   {
    "duration": 218,
    "start_time": "2022-10-14T20:36:52.464Z"
   },
   {
    "duration": 216,
    "start_time": "2022-10-14T20:39:05.349Z"
   },
   {
    "duration": 763,
    "start_time": "2022-10-14T20:39:41.550Z"
   },
   {
    "duration": 848,
    "start_time": "2022-10-14T20:39:52.217Z"
   },
   {
    "duration": 754,
    "start_time": "2022-10-14T20:40:07.499Z"
   },
   {
    "duration": 209,
    "start_time": "2022-10-14T20:41:19.374Z"
   },
   {
    "duration": 201,
    "start_time": "2022-10-14T20:42:25.711Z"
   },
   {
    "duration": 183,
    "start_time": "2022-10-14T20:43:40.074Z"
   },
   {
    "duration": 147,
    "start_time": "2022-10-14T20:45:23.941Z"
   },
   {
    "duration": 201,
    "start_time": "2022-10-14T20:45:33.964Z"
   },
   {
    "duration": 157,
    "start_time": "2022-10-14T20:46:06.841Z"
   },
   {
    "duration": 170,
    "start_time": "2022-10-14T20:47:10.334Z"
   },
   {
    "duration": 141,
    "start_time": "2022-10-14T20:47:39.638Z"
   },
   {
    "duration": 9,
    "start_time": "2022-10-14T20:48:20.917Z"
   },
   {
    "duration": 6,
    "start_time": "2022-10-14T20:48:40.572Z"
   },
   {
    "duration": 133,
    "start_time": "2022-10-14T21:29:10.496Z"
   },
   {
    "duration": 4,
    "start_time": "2022-10-14T21:52:47.971Z"
   },
   {
    "duration": 10,
    "start_time": "2022-10-14T21:53:06.674Z"
   },
   {
    "duration": 8,
    "start_time": "2022-10-14T21:53:18.178Z"
   },
   {
    "duration": 7,
    "start_time": "2022-10-14T21:53:33.920Z"
   },
   {
    "duration": 8,
    "start_time": "2022-10-14T21:53:47.207Z"
   },
   {
    "duration": 139,
    "start_time": "2022-10-14T21:54:25.144Z"
   },
   {
    "duration": 129,
    "start_time": "2022-10-14T21:54:43.957Z"
   },
   {
    "duration": 5,
    "start_time": "2022-10-14T21:54:46.206Z"
   },
   {
    "duration": 137,
    "start_time": "2022-10-14T21:55:25.243Z"
   },
   {
    "duration": 5,
    "start_time": "2022-10-14T21:55:30.611Z"
   },
   {
    "duration": 198,
    "start_time": "2022-10-14T21:55:56.971Z"
   },
   {
    "duration": 192,
    "start_time": "2022-10-14T21:56:34.930Z"
   },
   {
    "duration": 345,
    "start_time": "2022-10-14T21:57:31.175Z"
   },
   {
    "duration": 136,
    "start_time": "2022-10-14T21:57:51.101Z"
   },
   {
    "duration": 162,
    "start_time": "2022-10-14T21:58:18.776Z"
   },
   {
    "duration": 119,
    "start_time": "2022-10-14T21:58:33.590Z"
   },
   {
    "duration": 128,
    "start_time": "2022-10-14T21:58:38.663Z"
   },
   {
    "duration": 148,
    "start_time": "2022-10-14T21:59:28.477Z"
   },
   {
    "duration": 174,
    "start_time": "2022-10-14T22:03:09.409Z"
   },
   {
    "duration": 9,
    "start_time": "2022-10-14T22:04:11.494Z"
   },
   {
    "duration": 231,
    "start_time": "2022-10-14T22:04:18.821Z"
   },
   {
    "duration": 143,
    "start_time": "2022-10-14T22:05:32.470Z"
   },
   {
    "duration": 186,
    "start_time": "2022-10-14T22:06:42.520Z"
   },
   {
    "duration": 173,
    "start_time": "2022-10-14T22:06:56.671Z"
   },
   {
    "duration": 155,
    "start_time": "2022-10-14T22:07:09.801Z"
   },
   {
    "duration": 199,
    "start_time": "2022-10-14T22:07:16.199Z"
   },
   {
    "duration": 172,
    "start_time": "2022-10-14T22:07:37.421Z"
   },
   {
    "duration": 164,
    "start_time": "2022-10-14T22:07:45.143Z"
   },
   {
    "duration": 198,
    "start_time": "2022-10-14T22:08:38.282Z"
   },
   {
    "duration": 4,
    "start_time": "2022-10-14T22:09:19.970Z"
   },
   {
    "duration": 5,
    "start_time": "2022-10-14T22:09:43.257Z"
   },
   {
    "duration": 162,
    "start_time": "2022-10-14T22:11:30.195Z"
   },
   {
    "duration": 137,
    "start_time": "2022-10-14T22:13:47.070Z"
   },
   {
    "duration": 166,
    "start_time": "2022-10-14T22:14:44.574Z"
   },
   {
    "duration": 21,
    "start_time": "2022-10-14T22:15:59.225Z"
   },
   {
    "duration": 20,
    "start_time": "2022-10-14T22:16:03.858Z"
   },
   {
    "duration": 7,
    "start_time": "2022-10-14T22:17:06.997Z"
   },
   {
    "duration": 340,
    "start_time": "2022-10-14T22:17:12.134Z"
   },
   {
    "duration": 9,
    "start_time": "2022-10-14T22:19:44.039Z"
   },
   {
    "duration": 228,
    "start_time": "2022-10-14T22:19:52.799Z"
   },
   {
    "duration": 9,
    "start_time": "2022-10-14T22:21:07.898Z"
   },
   {
    "duration": 233,
    "start_time": "2022-10-14T22:21:09.108Z"
   },
   {
    "duration": 224,
    "start_time": "2022-10-14T22:21:37.617Z"
   },
   {
    "duration": 225,
    "start_time": "2022-10-14T22:21:48.410Z"
   },
   {
    "duration": 218,
    "start_time": "2022-10-14T22:21:54.257Z"
   },
   {
    "duration": 211,
    "start_time": "2022-10-14T22:21:59.880Z"
   },
   {
    "duration": 162,
    "start_time": "2022-10-14T22:39:47.310Z"
   },
   {
    "duration": 161,
    "start_time": "2022-10-14T22:40:06.624Z"
   },
   {
    "duration": 179,
    "start_time": "2022-10-14T22:40:19.194Z"
   },
   {
    "duration": 149,
    "start_time": "2022-10-14T22:40:44.436Z"
   },
   {
    "duration": 17,
    "start_time": "2022-10-14T22:41:20.530Z"
   },
   {
    "duration": 163,
    "start_time": "2022-10-14T22:41:23.225Z"
   },
   {
    "duration": 11,
    "start_time": "2022-10-14T22:41:36.007Z"
   },
   {
    "duration": 138,
    "start_time": "2022-10-14T22:41:40.279Z"
   },
   {
    "duration": 143,
    "start_time": "2022-10-14T22:41:57.795Z"
   },
   {
    "duration": 142,
    "start_time": "2022-10-14T22:42:09.759Z"
   },
   {
    "duration": 144,
    "start_time": "2022-10-14T22:42:16.167Z"
   },
   {
    "duration": 149,
    "start_time": "2022-10-14T22:42:21.151Z"
   },
   {
    "duration": 172,
    "start_time": "2022-10-14T22:48:02.592Z"
   },
   {
    "duration": 148,
    "start_time": "2022-10-14T22:48:21.959Z"
   },
   {
    "duration": 153,
    "start_time": "2022-10-14T22:48:29.264Z"
   },
   {
    "duration": 177,
    "start_time": "2022-10-14T22:57:21.256Z"
   },
   {
    "duration": 184,
    "start_time": "2022-10-14T22:59:56.747Z"
   },
   {
    "duration": 173,
    "start_time": "2022-10-14T23:00:03.641Z"
   },
   {
    "duration": 185,
    "start_time": "2022-10-14T23:00:14.075Z"
   },
   {
    "duration": 159,
    "start_time": "2022-10-14T23:00:18.331Z"
   },
   {
    "duration": 334,
    "start_time": "2022-10-14T23:02:16.006Z"
   },
   {
    "duration": 6,
    "start_time": "2022-10-14T23:08:09.790Z"
   },
   {
    "duration": 5,
    "start_time": "2022-10-14T23:08:26.045Z"
   },
   {
    "duration": 143,
    "start_time": "2022-10-14T23:09:10.932Z"
   },
   {
    "duration": 5,
    "start_time": "2022-10-14T23:09:31.035Z"
   },
   {
    "duration": 7,
    "start_time": "2022-10-14T23:09:42.570Z"
   },
   {
    "duration": 310,
    "start_time": "2022-10-14T23:13:02.133Z"
   },
   {
    "duration": 24,
    "start_time": "2022-10-14T23:16:03.971Z"
   },
   {
    "duration": 22,
    "start_time": "2022-10-14T23:20:23.369Z"
   },
   {
    "duration": 21,
    "start_time": "2022-10-14T23:20:41.984Z"
   },
   {
    "duration": 21,
    "start_time": "2022-10-14T23:20:51.328Z"
   },
   {
    "duration": 23,
    "start_time": "2022-10-14T23:21:25.782Z"
   },
   {
    "duration": 19,
    "start_time": "2022-10-14T23:21:30.912Z"
   },
   {
    "duration": 4,
    "start_time": "2022-10-14T23:23:02.762Z"
   },
   {
    "duration": 45,
    "start_time": "2022-10-14T23:23:17.917Z"
   },
   {
    "duration": 5,
    "start_time": "2022-10-14T23:23:25.767Z"
   },
   {
    "duration": 20,
    "start_time": "2022-10-14T23:27:08.352Z"
   },
   {
    "duration": 49,
    "start_time": "2022-10-14T23:28:48.676Z"
   },
   {
    "duration": 48,
    "start_time": "2022-10-14T23:29:37.384Z"
   },
   {
    "duration": 44,
    "start_time": "2022-10-14T23:30:23.032Z"
   },
   {
    "duration": 46,
    "start_time": "2022-10-14T23:30:31.129Z"
   },
   {
    "duration": 20,
    "start_time": "2022-10-14T23:35:10.732Z"
   },
   {
    "duration": 21,
    "start_time": "2022-10-14T23:35:29.953Z"
   },
   {
    "duration": 20,
    "start_time": "2022-10-14T23:36:49.735Z"
   },
   {
    "duration": 22,
    "start_time": "2022-10-14T23:36:54.007Z"
   },
   {
    "duration": 23,
    "start_time": "2022-10-14T23:36:57.111Z"
   },
   {
    "duration": 21,
    "start_time": "2022-10-14T23:38:21.564Z"
   },
   {
    "duration": 23,
    "start_time": "2022-10-14T23:38:59.921Z"
   },
   {
    "duration": 23,
    "start_time": "2022-10-14T23:39:02.322Z"
   },
   {
    "duration": 23,
    "start_time": "2022-10-14T23:39:20.507Z"
   },
   {
    "duration": 21,
    "start_time": "2022-10-14T23:39:26.824Z"
   },
   {
    "duration": 20,
    "start_time": "2022-10-14T23:39:55.000Z"
   },
   {
    "duration": 20,
    "start_time": "2022-10-14T23:40:02.354Z"
   },
   {
    "duration": 25,
    "start_time": "2022-10-14T23:41:33.484Z"
   },
   {
    "duration": 27,
    "start_time": "2022-10-14T23:41:48.930Z"
   },
   {
    "duration": 20,
    "start_time": "2022-10-14T23:43:49.997Z"
   },
   {
    "duration": 20,
    "start_time": "2022-10-14T23:44:02.958Z"
   },
   {
    "duration": 40,
    "start_time": "2022-10-14T23:57:26.532Z"
   },
   {
    "duration": 7,
    "start_time": "2022-10-14T23:57:38.780Z"
   },
   {
    "duration": 14,
    "start_time": "2022-10-15T00:04:08.902Z"
   },
   {
    "duration": 13,
    "start_time": "2022-10-15T00:05:02.884Z"
   },
   {
    "duration": 51,
    "start_time": "2022-10-15T00:07:14.582Z"
   },
   {
    "duration": 45,
    "start_time": "2022-10-15T00:07:27.891Z"
   },
   {
    "duration": 15,
    "start_time": "2022-10-15T00:07:30.277Z"
   },
   {
    "duration": 158,
    "start_time": "2022-10-15T00:09:17.407Z"
   },
   {
    "duration": 14,
    "start_time": "2022-10-15T00:10:28.228Z"
   },
   {
    "duration": 454,
    "start_time": "2022-10-15T00:27:36.965Z"
   },
   {
    "duration": 14,
    "start_time": "2022-10-15T00:27:40.815Z"
   },
   {
    "duration": 8,
    "start_time": "2022-10-15T00:27:45.370Z"
   },
   {
    "duration": 71,
    "start_time": "2022-10-15T00:27:48.567Z"
   },
   {
    "duration": 9,
    "start_time": "2022-10-15T00:27:54.261Z"
   },
   {
    "duration": 8,
    "start_time": "2022-10-15T00:27:56.288Z"
   },
   {
    "duration": 13,
    "start_time": "2022-10-15T00:27:59.977Z"
   },
   {
    "duration": 5,
    "start_time": "2022-10-15T00:28:00.996Z"
   },
   {
    "duration": 3,
    "start_time": "2022-10-15T00:28:01.706Z"
   },
   {
    "duration": 5,
    "start_time": "2022-10-15T00:28:02.409Z"
   },
   {
    "duration": 6,
    "start_time": "2022-10-15T00:28:03.491Z"
   },
   {
    "duration": 15,
    "start_time": "2022-10-15T00:28:04.246Z"
   },
   {
    "duration": 5,
    "start_time": "2022-10-15T00:28:06.781Z"
   },
   {
    "duration": 3,
    "start_time": "2022-10-15T00:28:07.580Z"
   },
   {
    "duration": 5,
    "start_time": "2022-10-15T00:28:08.243Z"
   },
   {
    "duration": 9,
    "start_time": "2022-10-15T00:28:12.678Z"
   },
   {
    "duration": 37,
    "start_time": "2022-10-15T00:28:13.582Z"
   },
   {
    "duration": 9,
    "start_time": "2022-10-15T00:28:15.207Z"
   },
   {
    "duration": 36,
    "start_time": "2022-10-15T00:28:16.528Z"
   },
   {
    "duration": 7,
    "start_time": "2022-10-15T00:28:27.125Z"
   },
   {
    "duration": 3,
    "start_time": "2022-10-15T00:28:27.829Z"
   },
   {
    "duration": 18,
    "start_time": "2022-10-15T00:28:28.811Z"
   },
   {
    "duration": 93,
    "start_time": "2022-10-15T00:28:33.390Z"
   },
   {
    "duration": 9,
    "start_time": "2022-10-15T00:28:34.430Z"
   },
   {
    "duration": 5,
    "start_time": "2022-10-15T00:28:36.362Z"
   },
   {
    "duration": 11,
    "start_time": "2022-10-15T00:28:37.345Z"
   },
   {
    "duration": 5,
    "start_time": "2022-10-15T00:28:37.941Z"
   },
   {
    "duration": 5,
    "start_time": "2022-10-15T00:28:39.018Z"
   },
   {
    "duration": 8,
    "start_time": "2022-10-15T00:28:44.169Z"
   },
   {
    "duration": 13,
    "start_time": "2022-10-15T00:28:45.025Z"
   },
   {
    "duration": 10,
    "start_time": "2022-10-15T00:28:47.503Z"
   },
   {
    "duration": 5,
    "start_time": "2022-10-15T00:28:49.118Z"
   },
   {
    "duration": 12,
    "start_time": "2022-10-15T00:28:53.815Z"
   },
   {
    "duration": 8,
    "start_time": "2022-10-15T00:28:54.477Z"
   },
   {
    "duration": 4,
    "start_time": "2022-10-15T00:28:59.843Z"
   },
   {
    "duration": 8,
    "start_time": "2022-10-15T00:29:00.774Z"
   },
   {
    "duration": 6,
    "start_time": "2022-10-15T00:29:01.905Z"
   },
   {
    "duration": 6,
    "start_time": "2022-10-15T00:29:02.580Z"
   },
   {
    "duration": 6,
    "start_time": "2022-10-15T00:29:03.345Z"
   },
   {
    "duration": 336,
    "start_time": "2022-10-15T00:29:04.487Z"
   },
   {
    "duration": 4,
    "start_time": "2022-10-15T00:29:09.220Z"
   },
   {
    "duration": 493,
    "start_time": "2022-10-15T00:29:11.869Z"
   },
   {
    "duration": 338,
    "start_time": "2022-10-15T00:29:16.055Z"
   },
   {
    "duration": 288,
    "start_time": "2022-10-15T00:29:19.607Z"
   },
   {
    "duration": 287,
    "start_time": "2022-10-15T00:29:23.173Z"
   },
   {
    "duration": 181,
    "start_time": "2022-10-15T00:29:26.219Z"
   },
   {
    "duration": 182,
    "start_time": "2022-10-15T00:29:29.512Z"
   },
   {
    "duration": 189,
    "start_time": "2022-10-15T00:29:33.676Z"
   },
   {
    "duration": 144,
    "start_time": "2022-10-15T00:29:36.523Z"
   },
   {
    "duration": 177,
    "start_time": "2022-10-15T00:29:39.724Z"
   },
   {
    "duration": 263,
    "start_time": "2022-10-15T00:29:42.841Z"
   },
   {
    "duration": 229,
    "start_time": "2022-10-15T00:29:45.013Z"
   },
   {
    "duration": 237,
    "start_time": "2022-10-15T00:29:48.249Z"
   },
   {
    "duration": 370,
    "start_time": "2022-10-15T00:29:51.423Z"
   },
   {
    "duration": 10,
    "start_time": "2022-10-15T00:29:55.128Z"
   },
   {
    "duration": 229,
    "start_time": "2022-10-15T00:29:56.944Z"
   },
   {
    "duration": 135,
    "start_time": "2022-10-15T00:30:01.258Z"
   },
   {
    "duration": 231,
    "start_time": "2022-10-15T00:30:06.492Z"
   },
   {
    "duration": 159,
    "start_time": "2022-10-15T00:30:10.363Z"
   },
   {
    "duration": 10,
    "start_time": "2022-10-15T00:30:14.129Z"
   },
   {
    "duration": 135,
    "start_time": "2022-10-15T00:30:15.049Z"
   },
   {
    "duration": 132,
    "start_time": "2022-10-15T00:30:18.364Z"
   },
   {
    "duration": 147,
    "start_time": "2022-10-15T00:30:22.173Z"
   },
   {
    "duration": 137,
    "start_time": "2022-10-15T00:30:25.622Z"
   },
   {
    "duration": 146,
    "start_time": "2022-10-15T00:30:28.488Z"
   },
   {
    "duration": 23,
    "start_time": "2022-10-15T00:30:31.680Z"
   },
   {
    "duration": 161,
    "start_time": "2022-10-15T00:30:34.868Z"
   },
   {
    "duration": 530,
    "start_time": "2022-10-15T04:59:58.930Z"
   },
   {
    "duration": 13,
    "start_time": "2022-10-15T04:59:59.461Z"
   },
   {
    "duration": 8,
    "start_time": "2022-10-15T04:59:59.475Z"
   },
   {
    "duration": 76,
    "start_time": "2022-10-15T04:59:59.485Z"
   },
   {
    "duration": 8,
    "start_time": "2022-10-15T04:59:59.563Z"
   },
   {
    "duration": 6,
    "start_time": "2022-10-15T04:59:59.572Z"
   },
   {
    "duration": 10,
    "start_time": "2022-10-15T04:59:59.580Z"
   },
   {
    "duration": 4,
    "start_time": "2022-10-15T04:59:59.608Z"
   },
   {
    "duration": 4,
    "start_time": "2022-10-15T04:59:59.614Z"
   },
   {
    "duration": 15,
    "start_time": "2022-10-15T04:59:59.620Z"
   },
   {
    "duration": 5,
    "start_time": "2022-10-15T04:59:59.637Z"
   },
   {
    "duration": 14,
    "start_time": "2022-10-15T04:59:59.643Z"
   },
   {
    "duration": 4,
    "start_time": "2022-10-15T04:59:59.658Z"
   },
   {
    "duration": 9,
    "start_time": "2022-10-15T04:59:59.663Z"
   },
   {
    "duration": 5,
    "start_time": "2022-10-15T04:59:59.674Z"
   },
   {
    "duration": 9,
    "start_time": "2022-10-15T04:59:59.680Z"
   },
   {
    "duration": 38,
    "start_time": "2022-10-15T04:59:59.709Z"
   },
   {
    "duration": 8,
    "start_time": "2022-10-15T04:59:59.749Z"
   },
   {
    "duration": 58,
    "start_time": "2022-10-15T04:59:59.759Z"
   },
   {
    "duration": 6,
    "start_time": "2022-10-15T04:59:59.819Z"
   },
   {
    "duration": 7,
    "start_time": "2022-10-15T04:59:59.826Z"
   },
   {
    "duration": 19,
    "start_time": "2022-10-15T04:59:59.834Z"
   },
   {
    "duration": 93,
    "start_time": "2022-10-15T04:59:59.854Z"
   },
   {
    "duration": 8,
    "start_time": "2022-10-15T04:59:59.948Z"
   },
   {
    "duration": 8,
    "start_time": "2022-10-15T04:59:59.958Z"
   },
   {
    "duration": 10,
    "start_time": "2022-10-15T04:59:59.968Z"
   },
   {
    "duration": 4,
    "start_time": "2022-10-15T04:59:59.980Z"
   },
   {
    "duration": 22,
    "start_time": "2022-10-15T04:59:59.989Z"
   },
   {
    "duration": 16,
    "start_time": "2022-10-15T05:00:00.013Z"
   },
   {
    "duration": 15,
    "start_time": "2022-10-15T05:00:00.031Z"
   },
   {
    "duration": 11,
    "start_time": "2022-10-15T05:00:00.048Z"
   },
   {
    "duration": 5,
    "start_time": "2022-10-15T05:00:00.061Z"
   },
   {
    "duration": 14,
    "start_time": "2022-10-15T05:00:00.067Z"
   },
   {
    "duration": 29,
    "start_time": "2022-10-15T05:00:00.083Z"
   },
   {
    "duration": 4,
    "start_time": "2022-10-15T05:00:00.114Z"
   },
   {
    "duration": 17,
    "start_time": "2022-10-15T05:00:00.119Z"
   },
   {
    "duration": 8,
    "start_time": "2022-10-15T05:00:00.138Z"
   },
   {
    "duration": 8,
    "start_time": "2022-10-15T05:00:00.147Z"
   },
   {
    "duration": 7,
    "start_time": "2022-10-15T05:00:00.156Z"
   },
   {
    "duration": 333,
    "start_time": "2022-10-15T05:00:00.164Z"
   },
   {
    "duration": 10,
    "start_time": "2022-10-15T05:00:00.499Z"
   },
   {
    "duration": 661,
    "start_time": "2022-10-15T05:00:00.510Z"
   },
   {
    "duration": 257,
    "start_time": "2022-10-15T05:00:01.173Z"
   },
   {
    "duration": 264,
    "start_time": "2022-10-15T05:00:01.431Z"
   },
   {
    "duration": 265,
    "start_time": "2022-10-15T05:00:01.697Z"
   },
   {
    "duration": 167,
    "start_time": "2022-10-15T05:00:01.963Z"
   },
   {
    "duration": 168,
    "start_time": "2022-10-15T05:00:02.132Z"
   },
   {
    "duration": 173,
    "start_time": "2022-10-15T05:00:02.302Z"
   },
   {
    "duration": 133,
    "start_time": "2022-10-15T05:00:02.477Z"
   },
   {
    "duration": 213,
    "start_time": "2022-10-15T05:00:02.612Z"
   },
   {
    "duration": 173,
    "start_time": "2022-10-15T05:00:02.826Z"
   },
   {
    "duration": 210,
    "start_time": "2022-10-15T05:00:03.000Z"
   },
   {
    "duration": 214,
    "start_time": "2022-10-15T05:00:03.211Z"
   },
   {
    "duration": 308,
    "start_time": "2022-10-15T05:00:03.427Z"
   },
   {
    "duration": 8,
    "start_time": "2022-10-15T05:00:03.737Z"
   },
   {
    "duration": 235,
    "start_time": "2022-10-15T05:00:03.746Z"
   },
   {
    "duration": 194,
    "start_time": "2022-10-15T05:00:03.983Z"
   },
   {
    "duration": 130,
    "start_time": "2022-10-15T05:00:04.179Z"
   },
   {
    "duration": 166,
    "start_time": "2022-10-15T05:00:04.310Z"
   },
   {
    "duration": 10,
    "start_time": "2022-10-15T05:00:04.477Z"
   },
   {
    "duration": 143,
    "start_time": "2022-10-15T05:00:04.488Z"
   },
   {
    "duration": 126,
    "start_time": "2022-10-15T05:00:04.633Z"
   },
   {
    "duration": 143,
    "start_time": "2022-10-15T05:00:04.761Z"
   },
   {
    "duration": 132,
    "start_time": "2022-10-15T05:00:04.906Z"
   },
   {
    "duration": 148,
    "start_time": "2022-10-15T05:00:05.040Z"
   },
   {
    "duration": 30,
    "start_time": "2022-10-15T05:00:05.189Z"
   },
   {
    "duration": 163,
    "start_time": "2022-10-15T05:00:05.221Z"
   },
   {
    "duration": 7,
    "start_time": "2022-10-15T05:01:58.362Z"
   },
   {
    "duration": 13,
    "start_time": "2022-10-15T05:02:34.283Z"
   },
   {
    "duration": 83,
    "start_time": "2022-10-15T05:02:37.883Z"
   },
   {
    "duration": 76,
    "start_time": "2022-10-15T05:02:51.029Z"
   },
   {
    "duration": 12,
    "start_time": "2022-10-15T05:02:53.797Z"
   },
   {
    "duration": 769,
    "start_time": "2022-10-15T09:22:15.895Z"
   },
   {
    "duration": 15,
    "start_time": "2022-10-15T09:22:19.270Z"
   },
   {
    "duration": 9,
    "start_time": "2022-10-15T09:22:22.519Z"
   },
   {
    "duration": 69,
    "start_time": "2022-10-15T09:22:24.084Z"
   },
   {
    "duration": 2137,
    "start_time": "2022-10-15T09:23:40.011Z"
   },
   {
    "duration": 65,
    "start_time": "2022-10-15T10:14:34.492Z"
   },
   {
    "duration": 3,
    "start_time": "2022-10-15T10:14:44.248Z"
   },
   {
    "duration": 6,
    "start_time": "2022-10-15T10:15:01.070Z"
   },
   {
    "duration": 3,
    "start_time": "2022-10-15T10:19:53.992Z"
   },
   {
    "duration": 103,
    "start_time": "2022-10-15T10:24:03.008Z"
   },
   {
    "duration": 124,
    "start_time": "2022-10-15T10:26:33.982Z"
   },
   {
    "duration": 130,
    "start_time": "2022-10-15T10:27:46.656Z"
   },
   {
    "duration": 121,
    "start_time": "2022-10-15T10:27:49.432Z"
   },
   {
    "duration": 103,
    "start_time": "2022-10-15T10:30:44.513Z"
   },
   {
    "duration": 95,
    "start_time": "2022-10-15T10:31:32.867Z"
   },
   {
    "duration": 179,
    "start_time": "2022-10-15T10:31:42.126Z"
   },
   {
    "duration": 95,
    "start_time": "2022-10-15T10:31:46.457Z"
   },
   {
    "duration": 129,
    "start_time": "2022-10-15T10:31:56.008Z"
   },
   {
    "duration": 95,
    "start_time": "2022-10-15T10:32:03.745Z"
   },
   {
    "duration": 89,
    "start_time": "2022-10-15T10:32:08.513Z"
   },
   {
    "duration": 109,
    "start_time": "2022-10-15T10:32:12.466Z"
   },
   {
    "duration": 84,
    "start_time": "2022-10-15T10:32:20.094Z"
   },
   {
    "duration": 100,
    "start_time": "2022-10-15T10:32:24.422Z"
   },
   {
    "duration": 98,
    "start_time": "2022-10-15T10:32:29.886Z"
   },
   {
    "duration": 82,
    "start_time": "2022-10-15T10:32:57.230Z"
   },
   {
    "duration": 81,
    "start_time": "2022-10-15T10:33:02.102Z"
   },
   {
    "duration": 725,
    "start_time": "2022-10-15T10:33:19.129Z"
   },
   {
    "duration": 22,
    "start_time": "2022-10-15T10:33:22.313Z"
   },
   {
    "duration": 8,
    "start_time": "2022-10-15T10:33:24.545Z"
   },
   {
    "duration": 66,
    "start_time": "2022-10-15T10:33:27.293Z"
   },
   {
    "duration": 1914,
    "start_time": "2022-10-15T10:33:34.842Z"
   },
   {
    "duration": 13,
    "start_time": "2022-10-15T10:33:41.006Z"
   },
   {
    "duration": 11,
    "start_time": "2022-10-15T10:33:43.068Z"
   },
   {
    "duration": 12,
    "start_time": "2022-10-15T10:33:44.159Z"
   },
   {
    "duration": 7,
    "start_time": "2022-10-15T10:33:45.849Z"
   },
   {
    "duration": 6,
    "start_time": "2022-10-15T10:33:49.386Z"
   },
   {
    "duration": 5,
    "start_time": "2022-10-15T10:33:51.156Z"
   },
   {
    "duration": 8,
    "start_time": "2022-10-15T10:33:52.007Z"
   },
   {
    "duration": 26,
    "start_time": "2022-10-15T10:33:53.129Z"
   },
   {
    "duration": 7,
    "start_time": "2022-10-15T10:33:56.030Z"
   },
   {
    "duration": 3,
    "start_time": "2022-10-15T10:33:57.207Z"
   },
   {
    "duration": 5,
    "start_time": "2022-10-15T10:33:57.705Z"
   },
   {
    "duration": 10,
    "start_time": "2022-10-15T10:34:00.924Z"
   },
   {
    "duration": 35,
    "start_time": "2022-10-15T10:34:02.240Z"
   },
   {
    "duration": 10,
    "start_time": "2022-10-15T10:34:04.176Z"
   },
   {
    "duration": 51,
    "start_time": "2022-10-15T10:34:04.941Z"
   },
   {
    "duration": 7,
    "start_time": "2022-10-15T10:34:07.372Z"
   },
   {
    "duration": 9,
    "start_time": "2022-10-15T10:34:07.880Z"
   },
   {
    "duration": 18,
    "start_time": "2022-10-15T10:34:08.703Z"
   },
   {
    "duration": 97,
    "start_time": "2022-10-15T10:34:10.725Z"
   },
   {
    "duration": 13,
    "start_time": "2022-10-15T10:34:13.914Z"
   },
   {
    "duration": 7,
    "start_time": "2022-10-15T10:34:20.420Z"
   },
   {
    "duration": 11,
    "start_time": "2022-10-15T10:34:21.125Z"
   },
   {
    "duration": 6,
    "start_time": "2022-10-15T10:34:21.681Z"
   },
   {
    "duration": 6,
    "start_time": "2022-10-15T10:34:22.413Z"
   },
   {
    "duration": 13,
    "start_time": "2022-10-15T10:34:23.343Z"
   },
   {
    "duration": 13,
    "start_time": "2022-10-15T10:34:24.342Z"
   },
   {
    "duration": 12,
    "start_time": "2022-10-15T10:34:28.010Z"
   },
   {
    "duration": 6,
    "start_time": "2022-10-15T10:34:29.384Z"
   },
   {
    "duration": 12,
    "start_time": "2022-10-15T10:34:33.022Z"
   },
   {
    "duration": 11,
    "start_time": "2022-10-15T10:34:33.761Z"
   },
   {
    "duration": 5,
    "start_time": "2022-10-15T10:34:37.646Z"
   },
   {
    "duration": 136,
    "start_time": "2022-10-15T10:34:38.867Z"
   },
   {
    "duration": 94,
    "start_time": "2022-10-15T10:34:45.103Z"
   },
   {
    "duration": 94,
    "start_time": "2022-10-15T10:35:25.788Z"
   },
   {
    "duration": 249,
    "start_time": "2022-10-15T10:35:55.027Z"
   },
   {
    "duration": 294,
    "start_time": "2022-10-15T10:36:59.776Z"
   },
   {
    "duration": 5,
    "start_time": "2022-10-15T10:37:09.545Z"
   },
   {
    "duration": 3,
    "start_time": "2022-10-15T10:39:19.924Z"
   },
   {
    "duration": 69,
    "start_time": "2022-10-15T10:39:50.045Z"
   },
   {
    "duration": 4,
    "start_time": "2022-10-15T10:43:44.117Z"
   },
   {
    "duration": 67,
    "start_time": "2022-10-15T10:45:06.455Z"
   },
   {
    "duration": 8,
    "start_time": "2022-10-15T10:46:37.360Z"
   },
   {
    "duration": 10,
    "start_time": "2022-10-15T10:51:05.617Z"
   },
   {
    "duration": 13,
    "start_time": "2022-10-15T10:51:42.982Z"
   },
   {
    "duration": 8,
    "start_time": "2022-10-15T10:52:48.323Z"
   },
   {
    "duration": 9,
    "start_time": "2022-10-15T10:53:58.641Z"
   },
   {
    "duration": 44,
    "start_time": "2022-10-15T10:54:28.981Z"
   },
   {
    "duration": 12,
    "start_time": "2022-10-15T10:54:45.632Z"
   },
   {
    "duration": 4,
    "start_time": "2022-10-15T10:56:34.717Z"
   },
   {
    "duration": 101,
    "start_time": "2022-10-15T10:56:44.047Z"
   },
   {
    "duration": 12,
    "start_time": "2022-10-15T10:56:47.708Z"
   },
   {
    "duration": 9,
    "start_time": "2022-10-15T10:56:49.828Z"
   },
   {
    "duration": 72,
    "start_time": "2022-10-15T10:56:51.793Z"
   },
   {
    "duration": 1746,
    "start_time": "2022-10-15T10:56:55.196Z"
   },
   {
    "duration": 12,
    "start_time": "2022-10-15T10:57:01.469Z"
   },
   {
    "duration": 7,
    "start_time": "2022-10-15T10:57:03.002Z"
   },
   {
    "duration": 11,
    "start_time": "2022-10-15T10:57:05.563Z"
   },
   {
    "duration": 5,
    "start_time": "2022-10-15T10:57:06.151Z"
   },
   {
    "duration": 5,
    "start_time": "2022-10-15T10:57:08.325Z"
   },
   {
    "duration": 7,
    "start_time": "2022-10-15T10:57:09.378Z"
   },
   {
    "duration": 6,
    "start_time": "2022-10-15T10:57:11.974Z"
   },
   {
    "duration": 13,
    "start_time": "2022-10-15T10:57:12.701Z"
   },
   {
    "duration": 4,
    "start_time": "2022-10-15T10:57:15.132Z"
   },
   {
    "duration": 4,
    "start_time": "2022-10-15T10:57:15.863Z"
   },
   {
    "duration": 5,
    "start_time": "2022-10-15T10:57:16.543Z"
   },
   {
    "duration": 9,
    "start_time": "2022-10-15T10:57:18.050Z"
   },
   {
    "duration": 43,
    "start_time": "2022-10-15T10:57:20.201Z"
   },
   {
    "duration": 22,
    "start_time": "2022-10-15T10:57:22.273Z"
   },
   {
    "duration": 34,
    "start_time": "2022-10-15T10:57:22.997Z"
   },
   {
    "duration": 5,
    "start_time": "2022-10-15T10:57:24.500Z"
   },
   {
    "duration": 4,
    "start_time": "2022-10-15T10:57:26.588Z"
   },
   {
    "duration": 23,
    "start_time": "2022-10-15T10:57:27.621Z"
   },
   {
    "duration": 170,
    "start_time": "2022-10-15T10:57:29.894Z"
   },
   {
    "duration": 8,
    "start_time": "2022-10-15T10:57:31.409Z"
   },
   {
    "duration": 6,
    "start_time": "2022-10-15T10:57:37.783Z"
   },
   {
    "duration": 10,
    "start_time": "2022-10-15T10:57:38.794Z"
   },
   {
    "duration": 5,
    "start_time": "2022-10-15T10:57:39.371Z"
   },
   {
    "duration": 5,
    "start_time": "2022-10-15T10:57:40.188Z"
   },
   {
    "duration": 7,
    "start_time": "2022-10-15T10:57:41.184Z"
   },
   {
    "duration": 13,
    "start_time": "2022-10-15T10:57:42.160Z"
   },
   {
    "duration": 12,
    "start_time": "2022-10-15T10:57:45.971Z"
   },
   {
    "duration": 4,
    "start_time": "2022-10-15T10:57:46.535Z"
   },
   {
    "duration": 10,
    "start_time": "2022-10-15T10:57:51.831Z"
   },
   {
    "duration": 8,
    "start_time": "2022-10-15T10:57:52.448Z"
   },
   {
    "duration": 4,
    "start_time": "2022-10-15T10:57:56.421Z"
   },
   {
    "duration": 99,
    "start_time": "2022-10-15T10:58:07.372Z"
   },
   {
    "duration": 102,
    "start_time": "2022-10-15T10:58:11.121Z"
   },
   {
    "duration": 212,
    "start_time": "2022-10-15T10:58:15.559Z"
   },
   {
    "duration": 4,
    "start_time": "2022-10-15T10:58:18.989Z"
   },
   {
    "duration": 139,
    "start_time": "2022-10-15T11:00:14.930Z"
   },
   {
    "duration": 4,
    "start_time": "2022-10-15T11:01:41.236Z"
   },
   {
    "duration": 7,
    "start_time": "2022-10-15T11:01:42.042Z"
   },
   {
    "duration": 5,
    "start_time": "2022-10-15T11:01:42.836Z"
   },
   {
    "duration": 5,
    "start_time": "2022-10-15T11:01:45.101Z"
   },
   {
    "duration": 5,
    "start_time": "2022-10-15T11:01:45.651Z"
   },
   {
    "duration": 259,
    "start_time": "2022-10-15T11:01:46.473Z"
   },
   {
    "duration": 4,
    "start_time": "2022-10-15T11:01:49.490Z"
   },
   {
    "duration": 279,
    "start_time": "2022-10-15T11:01:53.180Z"
   },
   {
    "duration": 271,
    "start_time": "2022-10-15T11:02:35.330Z"
   },
   {
    "duration": 399,
    "start_time": "2022-10-15T11:02:49.683Z"
   },
   {
    "duration": 310,
    "start_time": "2022-10-15T11:03:00.793Z"
   },
   {
    "duration": 196,
    "start_time": "2022-10-15T11:03:12.057Z"
   },
   {
    "duration": 166,
    "start_time": "2022-10-15T11:03:18.452Z"
   },
   {
    "duration": 227,
    "start_time": "2022-10-15T11:03:22.195Z"
   },
   {
    "duration": 135,
    "start_time": "2022-10-15T11:03:30.463Z"
   },
   {
    "duration": 181,
    "start_time": "2022-10-15T11:03:45.850Z"
   },
   {
    "duration": 179,
    "start_time": "2022-10-15T11:03:54.393Z"
   },
   {
    "duration": 355,
    "start_time": "2022-10-15T11:03:57.267Z"
   },
   {
    "duration": 232,
    "start_time": "2022-10-15T11:04:05.741Z"
   },
   {
    "duration": 372,
    "start_time": "2022-10-15T11:04:21.408Z"
   },
   {
    "duration": 9,
    "start_time": "2022-10-15T11:04:27.960Z"
   },
   {
    "duration": 229,
    "start_time": "2022-10-15T11:04:30.803Z"
   },
   {
    "duration": 163,
    "start_time": "2022-10-15T11:07:27.735Z"
   },
   {
    "duration": 126,
    "start_time": "2022-10-15T11:07:38.042Z"
   },
   {
    "duration": 132,
    "start_time": "2022-10-15T11:07:47.138Z"
   },
   {
    "duration": 10,
    "start_time": "2022-10-15T11:07:55.330Z"
   },
   {
    "duration": 145,
    "start_time": "2022-10-15T11:07:56.361Z"
   },
   {
    "duration": 159,
    "start_time": "2022-10-15T11:08:06.760Z"
   },
   {
    "duration": 129,
    "start_time": "2022-10-15T11:08:17.567Z"
   },
   {
    "duration": 149,
    "start_time": "2022-10-15T11:08:26.570Z"
   },
   {
    "duration": 145,
    "start_time": "2022-10-15T11:08:29.446Z"
   },
   {
    "duration": 22,
    "start_time": "2022-10-15T11:08:33.015Z"
   },
   {
    "duration": 149,
    "start_time": "2022-10-15T11:08:38.659Z"
   },
   {
    "duration": 1178,
    "start_time": "2022-10-15T11:18:21.668Z"
   },
   {
    "duration": 4,
    "start_time": "2022-10-15T11:18:26.726Z"
   },
   {
    "duration": 101,
    "start_time": "2022-10-15T11:18:39.175Z"
   },
   {
    "duration": 12,
    "start_time": "2022-10-15T11:18:45.167Z"
   },
   {
    "duration": 8,
    "start_time": "2022-10-15T11:18:47.278Z"
   },
   {
    "duration": 65,
    "start_time": "2022-10-15T11:18:49.596Z"
   },
   {
    "duration": 1847,
    "start_time": "2022-10-15T11:18:55.744Z"
   },
   {
    "duration": 9,
    "start_time": "2022-10-15T11:19:01.871Z"
   },
   {
    "duration": 7,
    "start_time": "2022-10-15T11:19:04.060Z"
   },
   {
    "duration": 11,
    "start_time": "2022-10-15T11:19:06.862Z"
   },
   {
    "duration": 4,
    "start_time": "2022-10-15T11:19:07.682Z"
   },
   {
    "duration": 5,
    "start_time": "2022-10-15T11:19:09.702Z"
   },
   {
    "duration": 4,
    "start_time": "2022-10-15T11:19:10.750Z"
   },
   {
    "duration": 5,
    "start_time": "2022-10-15T11:19:11.645Z"
   },
   {
    "duration": 14,
    "start_time": "2022-10-15T11:19:12.310Z"
   },
   {
    "duration": 5,
    "start_time": "2022-10-15T11:19:15.217Z"
   },
   {
    "duration": 3,
    "start_time": "2022-10-15T11:19:15.871Z"
   },
   {
    "duration": 4,
    "start_time": "2022-10-15T11:19:16.433Z"
   },
   {
    "duration": 10,
    "start_time": "2022-10-15T11:19:17.965Z"
   },
   {
    "duration": 32,
    "start_time": "2022-10-15T11:19:24.278Z"
   },
   {
    "duration": 8,
    "start_time": "2022-10-15T11:19:25.534Z"
   },
   {
    "duration": 36,
    "start_time": "2022-10-15T11:19:27.449Z"
   },
   {
    "duration": 5,
    "start_time": "2022-10-15T11:19:28.898Z"
   },
   {
    "duration": 4,
    "start_time": "2022-10-15T11:19:29.504Z"
   },
   {
    "duration": 15,
    "start_time": "2022-10-15T11:19:31.440Z"
   },
   {
    "duration": 89,
    "start_time": "2022-10-15T11:19:34.262Z"
   },
   {
    "duration": 9,
    "start_time": "2022-10-15T11:19:36.527Z"
   },
   {
    "duration": 5,
    "start_time": "2022-10-15T11:19:43.039Z"
   },
   {
    "duration": 10,
    "start_time": "2022-10-15T11:19:44.260Z"
   },
   {
    "duration": 4,
    "start_time": "2022-10-15T11:19:45.055Z"
   },
   {
    "duration": 5,
    "start_time": "2022-10-15T11:19:45.880Z"
   },
   {
    "duration": 8,
    "start_time": "2022-10-15T11:19:47.735Z"
   },
   {
    "duration": 13,
    "start_time": "2022-10-15T11:19:49.264Z"
   },
   {
    "duration": 11,
    "start_time": "2022-10-15T11:19:52.210Z"
   },
   {
    "duration": 6,
    "start_time": "2022-10-15T11:19:52.941Z"
   },
   {
    "duration": 12,
    "start_time": "2022-10-15T11:19:57.739Z"
   },
   {
    "duration": 8,
    "start_time": "2022-10-15T11:19:58.667Z"
   },
   {
    "duration": 4,
    "start_time": "2022-10-15T11:20:02.874Z"
   },
   {
    "duration": 98,
    "start_time": "2022-10-15T11:20:04.988Z"
   },
   {
    "duration": 137,
    "start_time": "2022-10-15T11:20:06.021Z"
   },
   {
    "duration": 226,
    "start_time": "2022-10-15T11:20:08.652Z"
   },
   {
    "duration": 4,
    "start_time": "2022-10-15T11:20:09.856Z"
   },
   {
    "duration": 5,
    "start_time": "2022-10-15T11:20:16.406Z"
   },
   {
    "duration": 100,
    "start_time": "2022-10-15T11:21:35.512Z"
   },
   {
    "duration": 14,
    "start_time": "2022-10-15T11:24:48.017Z"
   },
   {
    "duration": 708,
    "start_time": "2022-10-15T11:25:30.528Z"
   },
   {
    "duration": 13,
    "start_time": "2022-10-15T11:25:35.594Z"
   },
   {
    "duration": 9,
    "start_time": "2022-10-15T11:25:37.612Z"
   },
   {
    "duration": 73,
    "start_time": "2022-10-15T11:25:39.363Z"
   },
   {
    "duration": 1799,
    "start_time": "2022-10-15T11:25:42.507Z"
   },
   {
    "duration": 8,
    "start_time": "2022-10-15T11:25:47.660Z"
   },
   {
    "duration": 7,
    "start_time": "2022-10-15T11:25:58.618Z"
   },
   {
    "duration": 11,
    "start_time": "2022-10-15T11:26:01.299Z"
   },
   {
    "duration": 4,
    "start_time": "2022-10-15T11:26:01.883Z"
   },
   {
    "duration": 3,
    "start_time": "2022-10-15T11:26:03.636Z"
   },
   {
    "duration": 5,
    "start_time": "2022-10-15T11:26:04.746Z"
   },
   {
    "duration": 14,
    "start_time": "2022-10-15T11:26:07.257Z"
   },
   {
    "duration": 5,
    "start_time": "2022-10-15T11:26:20.858Z"
   },
   {
    "duration": 3,
    "start_time": "2022-10-15T11:26:21.746Z"
   },
   {
    "duration": 5,
    "start_time": "2022-10-15T11:26:23.074Z"
   },
   {
    "duration": 10,
    "start_time": "2022-10-15T11:26:26.568Z"
   },
   {
    "duration": 30,
    "start_time": "2022-10-15T11:26:27.218Z"
   },
   {
    "duration": 8,
    "start_time": "2022-10-15T11:26:29.409Z"
   },
   {
    "duration": 30,
    "start_time": "2022-10-15T11:26:30.720Z"
   },
   {
    "duration": 5,
    "start_time": "2022-10-15T11:26:33.720Z"
   },
   {
    "duration": 4,
    "start_time": "2022-10-15T11:26:34.609Z"
   },
   {
    "duration": 17,
    "start_time": "2022-10-15T11:26:37.306Z"
   },
   {
    "duration": 86,
    "start_time": "2022-10-15T11:26:51.145Z"
   },
   {
    "duration": 9,
    "start_time": "2022-10-15T11:26:52.815Z"
   },
   {
    "duration": 5,
    "start_time": "2022-10-15T11:26:58.297Z"
   },
   {
    "duration": 10,
    "start_time": "2022-10-15T11:26:59.417Z"
   },
   {
    "duration": 5,
    "start_time": "2022-10-15T11:27:00.794Z"
   },
   {
    "duration": 5,
    "start_time": "2022-10-15T11:27:01.500Z"
   },
   {
    "duration": 8,
    "start_time": "2022-10-15T11:27:02.681Z"
   },
   {
    "duration": 13,
    "start_time": "2022-10-15T11:27:16.335Z"
   },
   {
    "duration": 15,
    "start_time": "2022-10-15T11:27:21.632Z"
   },
   {
    "duration": 5,
    "start_time": "2022-10-15T11:27:22.281Z"
   },
   {
    "duration": 10,
    "start_time": "2022-10-15T11:27:25.832Z"
   },
   {
    "duration": 8,
    "start_time": "2022-10-15T11:27:26.856Z"
   },
   {
    "duration": 4,
    "start_time": "2022-10-15T11:27:30.768Z"
   },
   {
    "duration": 92,
    "start_time": "2022-10-15T11:27:32.640Z"
   },
   {
    "duration": 98,
    "start_time": "2022-10-15T11:27:34.697Z"
   },
   {
    "duration": 235,
    "start_time": "2022-10-15T11:27:37.230Z"
   },
   {
    "duration": 92,
    "start_time": "2022-10-15T11:27:47.063Z"
   },
   {
    "duration": 413,
    "start_time": "2022-10-15T11:27:49.758Z"
   },
   {
    "duration": 275,
    "start_time": "2022-10-15T11:27:55.199Z"
   },
   {
    "duration": 89,
    "start_time": "2022-10-15T11:28:05.247Z"
   },
   {
    "duration": 224,
    "start_time": "2022-10-15T11:28:06.704Z"
   },
   {
    "duration": 4,
    "start_time": "2022-10-15T11:28:07.846Z"
   },
   {
    "duration": 4,
    "start_time": "2022-10-15T11:28:24.483Z"
   },
   {
    "duration": 32,
    "start_time": "2022-10-15T11:29:03.534Z"
   },
   {
    "duration": 113,
    "start_time": "2022-10-15T11:29:12.662Z"
   },
   {
    "duration": 10,
    "start_time": "2022-10-15T11:32:28.890Z"
   },
   {
    "duration": 13,
    "start_time": "2022-10-15T11:33:04.035Z"
   },
   {
    "duration": 4,
    "start_time": "2022-10-15T11:34:15.161Z"
   },
   {
    "duration": 99,
    "start_time": "2022-10-15T12:19:40.330Z"
   },
   {
    "duration": 13,
    "start_time": "2022-10-15T12:20:15.475Z"
   },
   {
    "duration": 8,
    "start_time": "2022-10-15T12:20:17.423Z"
   },
   {
    "duration": 64,
    "start_time": "2022-10-15T12:20:19.292Z"
   },
   {
    "duration": 1648,
    "start_time": "2022-10-15T12:20:23.712Z"
   },
   {
    "duration": 8,
    "start_time": "2022-10-15T12:20:28.565Z"
   },
   {
    "duration": 7,
    "start_time": "2022-10-15T12:20:30.477Z"
   },
   {
    "duration": 11,
    "start_time": "2022-10-15T12:20:32.696Z"
   },
   {
    "duration": 4,
    "start_time": "2022-10-15T12:20:33.196Z"
   },
   {
    "duration": 3,
    "start_time": "2022-10-15T12:20:35.268Z"
   },
   {
    "duration": 5,
    "start_time": "2022-10-15T12:20:36.740Z"
   },
   {
    "duration": 5,
    "start_time": "2022-10-15T12:20:37.393Z"
   },
   {
    "duration": 13,
    "start_time": "2022-10-15T12:20:37.997Z"
   },
   {
    "duration": 4,
    "start_time": "2022-10-15T12:20:40.570Z"
   },
   {
    "duration": 4,
    "start_time": "2022-10-15T12:20:41.582Z"
   },
   {
    "duration": 4,
    "start_time": "2022-10-15T12:20:42.212Z"
   },
   {
    "duration": 9,
    "start_time": "2022-10-15T12:20:46.721Z"
   },
   {
    "duration": 33,
    "start_time": "2022-10-15T12:20:47.585Z"
   },
   {
    "duration": 9,
    "start_time": "2022-10-15T12:20:50.152Z"
   },
   {
    "duration": 33,
    "start_time": "2022-10-15T12:20:51.205Z"
   },
   {
    "duration": 5,
    "start_time": "2022-10-15T12:20:53.425Z"
   },
   {
    "duration": 4,
    "start_time": "2022-10-15T12:20:53.947Z"
   },
   {
    "duration": 16,
    "start_time": "2022-10-15T12:20:54.731Z"
   },
   {
    "duration": 360,
    "start_time": "2022-10-15T12:20:56.582Z"
   },
   {
    "duration": 7,
    "start_time": "2022-10-15T12:20:59.052Z"
   },
   {
    "duration": 4,
    "start_time": "2022-10-15T12:21:04.735Z"
   },
   {
    "duration": 10,
    "start_time": "2022-10-15T12:21:05.680Z"
   },
   {
    "duration": 8,
    "start_time": "2022-10-15T12:21:06.217Z"
   },
   {
    "duration": 5,
    "start_time": "2022-10-15T12:21:07.349Z"
   },
   {
    "duration": 8,
    "start_time": "2022-10-15T12:21:09.762Z"
   },
   {
    "duration": 14,
    "start_time": "2022-10-15T12:21:10.661Z"
   },
   {
    "duration": 12,
    "start_time": "2022-10-15T12:21:13.981Z"
   },
   {
    "duration": 5,
    "start_time": "2022-10-15T12:21:14.518Z"
   },
   {
    "duration": 10,
    "start_time": "2022-10-15T12:21:19.508Z"
   },
   {
    "duration": 8,
    "start_time": "2022-10-15T12:21:20.138Z"
   },
   {
    "duration": 4,
    "start_time": "2022-10-15T12:21:24.342Z"
   },
   {
    "duration": 3,
    "start_time": "2022-10-15T12:21:29.195Z"
   },
   {
    "duration": 93,
    "start_time": "2022-10-15T12:21:31.892Z"
   },
   {
    "duration": 95,
    "start_time": "2022-10-15T12:21:34.419Z"
   },
   {
    "duration": 220,
    "start_time": "2022-10-15T12:21:36.934Z"
   },
   {
    "duration": 4,
    "start_time": "2022-10-15T12:21:38.718Z"
   },
   {
    "duration": 3,
    "start_time": "2022-10-15T12:21:42.417Z"
   },
   {
    "duration": 97,
    "start_time": "2022-10-15T12:22:48.630Z"
   },
   {
    "duration": 4,
    "start_time": "2022-10-15T12:24:02.988Z"
   },
   {
    "duration": 9,
    "start_time": "2022-10-15T12:24:12.319Z"
   },
   {
    "duration": 121,
    "start_time": "2022-10-15T12:24:46.158Z"
   },
   {
    "duration": 19,
    "start_time": "2022-10-15T12:25:00.006Z"
   },
   {
    "duration": 92,
    "start_time": "2022-10-15T12:25:10.490Z"
   },
   {
    "duration": 84,
    "start_time": "2022-10-15T12:26:08.380Z"
   },
   {
    "duration": 98,
    "start_time": "2022-10-15T12:26:18.014Z"
   },
   {
    "duration": 16,
    "start_time": "2022-10-15T12:26:22.781Z"
   },
   {
    "duration": 9,
    "start_time": "2022-10-15T12:26:23.835Z"
   },
   {
    "duration": 68,
    "start_time": "2022-10-15T12:26:26.374Z"
   },
   {
    "duration": 1652,
    "start_time": "2022-10-15T12:26:31.227Z"
   },
   {
    "duration": 8,
    "start_time": "2022-10-15T12:26:36.368Z"
   },
   {
    "duration": 8,
    "start_time": "2022-10-15T12:26:37.258Z"
   },
   {
    "duration": 11,
    "start_time": "2022-10-15T12:26:39.813Z"
   },
   {
    "duration": 4,
    "start_time": "2022-10-15T12:26:40.474Z"
   },
   {
    "duration": 4,
    "start_time": "2022-10-15T12:26:42.886Z"
   },
   {
    "duration": 4,
    "start_time": "2022-10-15T12:26:44.310Z"
   },
   {
    "duration": 6,
    "start_time": "2022-10-15T12:26:45.079Z"
   },
   {
    "duration": 13,
    "start_time": "2022-10-15T12:26:45.630Z"
   },
   {
    "duration": 4,
    "start_time": "2022-10-15T12:26:47.921Z"
   },
   {
    "duration": 4,
    "start_time": "2022-10-15T12:26:48.527Z"
   },
   {
    "duration": 5,
    "start_time": "2022-10-15T12:26:49.190Z"
   },
   {
    "duration": 10,
    "start_time": "2022-10-15T12:26:50.739Z"
   },
   {
    "duration": 33,
    "start_time": "2022-10-15T12:26:52.464Z"
   },
   {
    "duration": 9,
    "start_time": "2022-10-15T12:26:53.095Z"
   },
   {
    "duration": 32,
    "start_time": "2022-10-15T12:26:53.776Z"
   },
   {
    "duration": 5,
    "start_time": "2022-10-15T12:26:56.834Z"
   },
   {
    "duration": 4,
    "start_time": "2022-10-15T12:26:57.682Z"
   },
   {
    "duration": 17,
    "start_time": "2022-10-15T12:26:58.707Z"
   },
   {
    "duration": 86,
    "start_time": "2022-10-15T12:27:01.713Z"
   },
   {
    "duration": 8,
    "start_time": "2022-10-15T12:27:07.841Z"
   },
   {
    "duration": 5,
    "start_time": "2022-10-15T12:27:13.018Z"
   },
   {
    "duration": 11,
    "start_time": "2022-10-15T12:27:14.262Z"
   },
   {
    "duration": 6,
    "start_time": "2022-10-15T12:27:14.809Z"
   },
   {
    "duration": 5,
    "start_time": "2022-10-15T12:27:15.425Z"
   },
   {
    "duration": 7,
    "start_time": "2022-10-15T12:27:16.013Z"
   },
   {
    "duration": 13,
    "start_time": "2022-10-15T12:27:16.783Z"
   },
   {
    "duration": 10,
    "start_time": "2022-10-15T12:27:19.270Z"
   },
   {
    "duration": 4,
    "start_time": "2022-10-15T12:27:19.790Z"
   },
   {
    "duration": 10,
    "start_time": "2022-10-15T12:27:21.493Z"
   },
   {
    "duration": 8,
    "start_time": "2022-10-15T12:27:22.215Z"
   },
   {
    "duration": 4,
    "start_time": "2022-10-15T12:27:25.766Z"
   },
   {
    "duration": 3,
    "start_time": "2022-10-15T12:27:26.655Z"
   },
   {
    "duration": 93,
    "start_time": "2022-10-15T12:27:28.487Z"
   },
   {
    "duration": 105,
    "start_time": "2022-10-15T12:27:29.660Z"
   },
   {
    "duration": 218,
    "start_time": "2022-10-15T12:27:31.090Z"
   },
   {
    "duration": 4,
    "start_time": "2022-10-15T12:27:33.456Z"
   },
   {
    "duration": 4,
    "start_time": "2022-10-15T12:27:35.241Z"
   },
   {
    "duration": 96,
    "start_time": "2022-10-15T12:27:37.153Z"
   },
   {
    "duration": 4,
    "start_time": "2022-10-15T12:27:40.298Z"
   },
   {
    "duration": 8,
    "start_time": "2022-10-15T12:27:42.179Z"
   },
   {
    "duration": 96,
    "start_time": "2022-10-15T12:27:55.933Z"
   },
   {
    "duration": 99,
    "start_time": "2022-10-15T12:28:54.888Z"
   },
   {
    "duration": 91,
    "start_time": "2022-10-15T12:29:28.531Z"
   },
   {
    "duration": 87,
    "start_time": "2022-10-15T12:29:35.463Z"
   },
   {
    "duration": 98,
    "start_time": "2022-10-15T12:29:39.955Z"
   },
   {
    "duration": 92,
    "start_time": "2022-10-15T12:29:45.289Z"
   },
   {
    "duration": 3,
    "start_time": "2022-10-15T12:30:20.491Z"
   },
   {
    "duration": 5,
    "start_time": "2022-10-15T12:30:28.816Z"
   },
   {
    "duration": 85,
    "start_time": "2022-10-15T12:31:27.104Z"
   },
   {
    "duration": 4,
    "start_time": "2022-10-15T12:31:33.430Z"
   },
   {
    "duration": 4,
    "start_time": "2022-10-15T12:31:43.833Z"
   },
   {
    "duration": 109,
    "start_time": "2022-10-15T12:31:59.320Z"
   },
   {
    "duration": 13,
    "start_time": "2022-10-15T12:32:03.176Z"
   },
   {
    "duration": 8,
    "start_time": "2022-10-15T12:32:05.424Z"
   },
   {
    "duration": 69,
    "start_time": "2022-10-15T12:32:06.968Z"
   },
   {
    "duration": 2158,
    "start_time": "2022-10-15T12:32:11.295Z"
   },
   {
    "duration": 9,
    "start_time": "2022-10-15T12:32:17.107Z"
   },
   {
    "duration": 7,
    "start_time": "2022-10-15T12:32:18.093Z"
   },
   {
    "duration": 11,
    "start_time": "2022-10-15T12:32:20.443Z"
   },
   {
    "duration": 5,
    "start_time": "2022-10-15T12:32:20.944Z"
   },
   {
    "duration": 4,
    "start_time": "2022-10-15T12:32:23.023Z"
   },
   {
    "duration": 4,
    "start_time": "2022-10-15T12:32:24.009Z"
   },
   {
    "duration": 5,
    "start_time": "2022-10-15T12:32:24.541Z"
   },
   {
    "duration": 14,
    "start_time": "2022-10-15T12:32:25.079Z"
   },
   {
    "duration": 4,
    "start_time": "2022-10-15T12:32:27.516Z"
   },
   {
    "duration": 3,
    "start_time": "2022-10-15T12:32:28.174Z"
   },
   {
    "duration": 5,
    "start_time": "2022-10-15T12:32:28.742Z"
   },
   {
    "duration": 9,
    "start_time": "2022-10-15T12:32:31.853Z"
   },
   {
    "duration": 32,
    "start_time": "2022-10-15T12:32:34.816Z"
   },
   {
    "duration": 7,
    "start_time": "2022-10-15T12:32:35.444Z"
   },
   {
    "duration": 37,
    "start_time": "2022-10-15T12:32:36.616Z"
   },
   {
    "duration": 5,
    "start_time": "2022-10-15T12:32:39.274Z"
   },
   {
    "duration": 4,
    "start_time": "2022-10-15T12:32:39.816Z"
   },
   {
    "duration": 21,
    "start_time": "2022-10-15T12:32:40.573Z"
   },
   {
    "duration": 97,
    "start_time": "2022-10-15T12:32:42.574Z"
   },
   {
    "duration": 8,
    "start_time": "2022-10-15T12:32:44.895Z"
   },
   {
    "duration": 5,
    "start_time": "2022-10-15T12:32:52.433Z"
   },
   {
    "duration": 10,
    "start_time": "2022-10-15T12:32:53.187Z"
   },
   {
    "duration": 7,
    "start_time": "2022-10-15T12:32:53.723Z"
   },
   {
    "duration": 5,
    "start_time": "2022-10-15T12:32:54.363Z"
   },
   {
    "duration": 7,
    "start_time": "2022-10-15T12:32:55.449Z"
   },
   {
    "duration": 16,
    "start_time": "2022-10-15T12:32:56.085Z"
   },
   {
    "duration": 10,
    "start_time": "2022-10-15T12:32:58.398Z"
   },
   {
    "duration": 4,
    "start_time": "2022-10-15T12:32:58.966Z"
   },
   {
    "duration": 9,
    "start_time": "2022-10-15T12:33:01.533Z"
   },
   {
    "duration": 8,
    "start_time": "2022-10-15T12:33:03.553Z"
   },
   {
    "duration": 5,
    "start_time": "2022-10-15T12:33:06.471Z"
   },
   {
    "duration": 3,
    "start_time": "2022-10-15T12:33:07.360Z"
   },
   {
    "duration": 92,
    "start_time": "2022-10-15T12:33:08.298Z"
   },
   {
    "duration": 108,
    "start_time": "2022-10-15T12:33:10.577Z"
   },
   {
    "duration": 259,
    "start_time": "2022-10-15T12:33:11.570Z"
   },
   {
    "duration": 4,
    "start_time": "2022-10-15T12:33:13.631Z"
   },
   {
    "duration": 3,
    "start_time": "2022-10-15T12:33:15.034Z"
   },
   {
    "duration": 110,
    "start_time": "2022-10-15T12:33:17.837Z"
   },
   {
    "duration": 4,
    "start_time": "2022-10-15T12:33:20.419Z"
   },
   {
    "duration": 3,
    "start_time": "2022-10-15T12:33:21.553Z"
   },
   {
    "duration": 8,
    "start_time": "2022-10-15T12:33:26.636Z"
   },
   {
    "duration": 98,
    "start_time": "2022-10-15T12:33:29.515Z"
   },
   {
    "duration": 108,
    "start_time": "2022-10-15T12:33:32.588Z"
   },
   {
    "duration": 5,
    "start_time": "2022-10-15T12:33:34.349Z"
   },
   {
    "duration": 132,
    "start_time": "2022-10-15T12:35:06.211Z"
   },
   {
    "duration": 5,
    "start_time": "2022-10-15T12:35:13.881Z"
   },
   {
    "duration": 1177,
    "start_time": "2022-10-15T12:38:58.659Z"
   },
   {
    "duration": 19,
    "start_time": "2022-10-15T12:38:59.840Z"
   },
   {
    "duration": 11,
    "start_time": "2022-10-15T12:38:59.860Z"
   },
   {
    "duration": 91,
    "start_time": "2022-10-15T12:38:59.873Z"
   },
   {
    "duration": 1883,
    "start_time": "2022-10-15T12:38:59.965Z"
   },
   {
    "duration": 10,
    "start_time": "2022-10-15T12:39:01.850Z"
   },
   {
    "duration": 16,
    "start_time": "2022-10-15T12:39:01.862Z"
   },
   {
    "duration": 22,
    "start_time": "2022-10-15T12:39:01.880Z"
   },
   {
    "duration": 12,
    "start_time": "2022-10-15T12:39:01.904Z"
   },
   {
    "duration": 14,
    "start_time": "2022-10-15T12:39:01.919Z"
   },
   {
    "duration": 47,
    "start_time": "2022-10-15T12:39:01.935Z"
   },
   {
    "duration": 28,
    "start_time": "2022-10-15T12:39:01.984Z"
   },
   {
    "duration": 42,
    "start_time": "2022-10-15T12:39:02.014Z"
   },
   {
    "duration": 9,
    "start_time": "2022-10-15T12:39:02.058Z"
   },
   {
    "duration": 18,
    "start_time": "2022-10-15T12:39:02.068Z"
   },
   {
    "duration": 28,
    "start_time": "2022-10-15T12:39:02.087Z"
   },
   {
    "duration": 15,
    "start_time": "2022-10-15T12:39:02.117Z"
   },
   {
    "duration": 57,
    "start_time": "2022-10-15T12:39:02.134Z"
   },
   {
    "duration": 10,
    "start_time": "2022-10-15T12:39:02.193Z"
   },
   {
    "duration": 66,
    "start_time": "2022-10-15T12:39:02.204Z"
   },
   {
    "duration": 6,
    "start_time": "2022-10-15T12:39:02.272Z"
   },
   {
    "duration": 16,
    "start_time": "2022-10-15T12:39:02.280Z"
   },
   {
    "duration": 42,
    "start_time": "2022-10-15T12:39:02.298Z"
   },
   {
    "duration": 136,
    "start_time": "2022-10-15T12:39:02.342Z"
   },
   {
    "duration": 8,
    "start_time": "2022-10-15T12:39:02.480Z"
   },
   {
    "duration": 21,
    "start_time": "2022-10-15T12:39:02.490Z"
   },
   {
    "duration": 22,
    "start_time": "2022-10-15T12:39:02.512Z"
   },
   {
    "duration": 16,
    "start_time": "2022-10-15T12:39:02.540Z"
   },
   {
    "duration": 13,
    "start_time": "2022-10-15T12:39:02.558Z"
   },
   {
    "duration": 29,
    "start_time": "2022-10-15T12:39:02.573Z"
   },
   {
    "duration": 22,
    "start_time": "2022-10-15T12:39:02.604Z"
   },
   {
    "duration": 15,
    "start_time": "2022-10-15T12:39:02.628Z"
   },
   {
    "duration": 24,
    "start_time": "2022-10-15T12:39:02.644Z"
   },
   {
    "duration": 32,
    "start_time": "2022-10-15T12:39:02.670Z"
   },
   {
    "duration": 13,
    "start_time": "2022-10-15T12:39:02.704Z"
   },
   {
    "duration": 13,
    "start_time": "2022-10-15T12:39:02.719Z"
   },
   {
    "duration": 36,
    "start_time": "2022-10-15T12:39:02.734Z"
   },
   {
    "duration": 124,
    "start_time": "2022-10-15T12:39:02.772Z"
   },
   {
    "duration": 124,
    "start_time": "2022-10-15T12:39:02.899Z"
   },
   {
    "duration": 258,
    "start_time": "2022-10-15T12:39:03.026Z"
   },
   {
    "duration": 6,
    "start_time": "2022-10-15T12:39:03.285Z"
   },
   {
    "duration": 8,
    "start_time": "2022-10-15T12:39:03.293Z"
   },
   {
    "duration": 121,
    "start_time": "2022-10-15T12:39:03.302Z"
   },
   {
    "duration": 4,
    "start_time": "2022-10-15T12:39:03.426Z"
   },
   {
    "duration": 13,
    "start_time": "2022-10-15T12:39:03.431Z"
   },
   {
    "duration": 10,
    "start_time": "2022-10-15T12:39:03.446Z"
   },
   {
    "duration": 134,
    "start_time": "2022-10-15T12:39:03.458Z"
   },
   {
    "duration": 143,
    "start_time": "2022-10-15T12:39:03.594Z"
   },
   {
    "duration": 4,
    "start_time": "2022-10-15T12:39:03.739Z"
   },
   {
    "duration": 7,
    "start_time": "2022-10-15T12:39:03.745Z"
   },
   {
    "duration": 16,
    "start_time": "2022-10-15T12:39:03.754Z"
   },
   {
    "duration": 10,
    "start_time": "2022-10-15T12:39:03.772Z"
   },
   {
    "duration": 23,
    "start_time": "2022-10-15T12:39:03.784Z"
   },
   {
    "duration": 8,
    "start_time": "2022-10-15T12:39:03.808Z"
   },
   {
    "duration": 344,
    "start_time": "2022-10-15T12:39:03.817Z"
   },
   {
    "duration": 5,
    "start_time": "2022-10-15T12:39:04.163Z"
   },
   {
    "duration": 274,
    "start_time": "2022-10-15T12:39:04.169Z"
   },
   {
    "duration": 297,
    "start_time": "2022-10-15T12:39:04.445Z"
   },
   {
    "duration": 271,
    "start_time": "2022-10-15T12:39:04.746Z"
   },
   {
    "duration": 335,
    "start_time": "2022-10-15T12:39:05.019Z"
   },
   {
    "duration": 174,
    "start_time": "2022-10-15T12:39:05.356Z"
   },
   {
    "duration": 170,
    "start_time": "2022-10-15T12:39:05.532Z"
   },
   {
    "duration": 288,
    "start_time": "2022-10-15T12:39:05.704Z"
   },
   {
    "duration": 179,
    "start_time": "2022-10-15T12:39:05.994Z"
   },
   {
    "duration": 207,
    "start_time": "2022-10-15T12:39:06.174Z"
   },
   {
    "duration": 181,
    "start_time": "2022-10-15T12:39:06.382Z"
   },
   {
    "duration": 209,
    "start_time": "2022-10-15T12:39:06.564Z"
   },
   {
    "duration": 222,
    "start_time": "2022-10-15T12:39:06.774Z"
   },
   {
    "duration": 327,
    "start_time": "2022-10-15T12:39:06.997Z"
   },
   {
    "duration": 8,
    "start_time": "2022-10-15T12:39:07.326Z"
   },
   {
    "duration": 244,
    "start_time": "2022-10-15T12:39:07.336Z"
   },
   {
    "duration": 270,
    "start_time": "2022-10-15T12:39:07.582Z"
   },
   {
    "duration": 151,
    "start_time": "2022-10-15T12:39:07.854Z"
   },
   {
    "duration": 155,
    "start_time": "2022-10-15T12:39:08.007Z"
   },
   {
    "duration": 8,
    "start_time": "2022-10-15T12:39:08.164Z"
   },
   {
    "duration": 149,
    "start_time": "2022-10-15T12:39:08.173Z"
   },
   {
    "duration": 136,
    "start_time": "2022-10-15T12:39:08.324Z"
   },
   {
    "duration": 157,
    "start_time": "2022-10-15T12:39:08.461Z"
   },
   {
    "duration": 145,
    "start_time": "2022-10-15T12:39:08.619Z"
   },
   {
    "duration": 147,
    "start_time": "2022-10-15T12:39:08.765Z"
   },
   {
    "duration": 26,
    "start_time": "2022-10-15T12:39:08.913Z"
   },
   {
    "duration": 167,
    "start_time": "2022-10-15T12:39:08.943Z"
   },
   {
    "duration": 261,
    "start_time": "2022-10-15T12:42:08.480Z"
   },
   {
    "duration": 1189,
    "start_time": "2022-10-15T13:56:53.418Z"
   },
   {
    "duration": 21,
    "start_time": "2022-10-15T13:56:54.609Z"
   },
   {
    "duration": 10,
    "start_time": "2022-10-15T13:56:54.631Z"
   },
   {
    "duration": 68,
    "start_time": "2022-10-15T13:56:54.642Z"
   },
   {
    "duration": 1800,
    "start_time": "2022-10-15T13:56:54.712Z"
   },
   {
    "duration": 9,
    "start_time": "2022-10-15T13:56:56.513Z"
   },
   {
    "duration": 7,
    "start_time": "2022-10-15T13:56:56.523Z"
   },
   {
    "duration": 14,
    "start_time": "2022-10-15T13:56:56.531Z"
   },
   {
    "duration": 4,
    "start_time": "2022-10-15T13:56:56.546Z"
   },
   {
    "duration": 4,
    "start_time": "2022-10-15T13:56:56.552Z"
   },
   {
    "duration": 8,
    "start_time": "2022-10-15T13:56:56.557Z"
   },
   {
    "duration": 6,
    "start_time": "2022-10-15T13:56:56.567Z"
   },
   {
    "duration": 14,
    "start_time": "2022-10-15T13:56:56.574Z"
   },
   {
    "duration": 3,
    "start_time": "2022-10-15T13:56:56.590Z"
   },
   {
    "duration": 3,
    "start_time": "2022-10-15T13:56:56.622Z"
   },
   {
    "duration": 7,
    "start_time": "2022-10-15T13:56:56.626Z"
   },
   {
    "duration": 10,
    "start_time": "2022-10-15T13:56:56.635Z"
   },
   {
    "duration": 35,
    "start_time": "2022-10-15T13:56:56.646Z"
   },
   {
    "duration": 7,
    "start_time": "2022-10-15T13:56:56.682Z"
   },
   {
    "duration": 57,
    "start_time": "2022-10-15T13:56:56.691Z"
   },
   {
    "duration": 4,
    "start_time": "2022-10-15T13:56:56.750Z"
   },
   {
    "duration": 5,
    "start_time": "2022-10-15T13:56:56.756Z"
   },
   {
    "duration": 19,
    "start_time": "2022-10-15T13:56:56.763Z"
   },
   {
    "duration": 101,
    "start_time": "2022-10-15T13:56:56.784Z"
   },
   {
    "duration": 7,
    "start_time": "2022-10-15T13:56:56.887Z"
   },
   {
    "duration": 8,
    "start_time": "2022-10-15T13:56:56.895Z"
   },
   {
    "duration": 17,
    "start_time": "2022-10-15T13:56:56.904Z"
   },
   {
    "duration": 5,
    "start_time": "2022-10-15T13:56:56.925Z"
   },
   {
    "duration": 8,
    "start_time": "2022-10-15T13:56:56.931Z"
   },
   {
    "duration": 12,
    "start_time": "2022-10-15T13:56:56.940Z"
   },
   {
    "duration": 12,
    "start_time": "2022-10-15T13:56:56.954Z"
   },
   {
    "duration": 16,
    "start_time": "2022-10-15T13:56:56.967Z"
   },
   {
    "duration": 11,
    "start_time": "2022-10-15T13:56:56.985Z"
   },
   {
    "duration": 31,
    "start_time": "2022-10-15T13:56:56.998Z"
   },
   {
    "duration": 9,
    "start_time": "2022-10-15T13:56:57.030Z"
   },
   {
    "duration": 5,
    "start_time": "2022-10-15T13:56:57.041Z"
   },
   {
    "duration": 9,
    "start_time": "2022-10-15T13:56:57.047Z"
   },
   {
    "duration": 112,
    "start_time": "2022-10-15T13:56:57.057Z"
   },
   {
    "duration": 102,
    "start_time": "2022-10-15T13:56:57.171Z"
   },
   {
    "duration": 231,
    "start_time": "2022-10-15T13:56:57.274Z"
   },
   {
    "duration": 5,
    "start_time": "2022-10-15T13:56:57.507Z"
   },
   {
    "duration": 20,
    "start_time": "2022-10-15T13:56:57.513Z"
   },
   {
    "duration": 107,
    "start_time": "2022-10-15T13:56:57.534Z"
   },
   {
    "duration": 4,
    "start_time": "2022-10-15T13:56:57.643Z"
   },
   {
    "duration": 18,
    "start_time": "2022-10-15T13:56:57.648Z"
   },
   {
    "duration": 10,
    "start_time": "2022-10-15T13:56:57.668Z"
   },
   {
    "duration": 96,
    "start_time": "2022-10-15T13:56:57.680Z"
   },
   {
    "duration": 129,
    "start_time": "2022-10-15T13:56:57.778Z"
   },
   {
    "duration": 14,
    "start_time": "2022-10-15T13:56:57.908Z"
   },
   {
    "duration": 4,
    "start_time": "2022-10-15T13:56:57.924Z"
   },
   {
    "duration": 10,
    "start_time": "2022-10-15T13:56:57.929Z"
   },
   {
    "duration": 8,
    "start_time": "2022-10-15T13:56:57.940Z"
   },
   {
    "duration": 14,
    "start_time": "2022-10-15T13:56:57.950Z"
   },
   {
    "duration": 5,
    "start_time": "2022-10-15T13:56:57.966Z"
   },
   {
    "duration": 357,
    "start_time": "2022-10-15T13:56:57.973Z"
   },
   {
    "duration": 4,
    "start_time": "2022-10-15T13:56:58.332Z"
   },
   {
    "duration": 260,
    "start_time": "2022-10-15T13:56:58.338Z"
   },
   {
    "duration": 268,
    "start_time": "2022-10-15T13:56:58.600Z"
   },
   {
    "duration": 257,
    "start_time": "2022-10-15T13:56:58.870Z"
   },
   {
    "duration": 273,
    "start_time": "2022-10-15T13:56:59.129Z"
   },
   {
    "duration": 185,
    "start_time": "2022-10-15T13:56:59.403Z"
   },
   {
    "duration": 172,
    "start_time": "2022-10-15T13:56:59.590Z"
   },
   {
    "duration": 270,
    "start_time": "2022-10-15T13:56:59.764Z"
   },
   {
    "duration": 144,
    "start_time": "2022-10-15T13:57:00.036Z"
   },
   {
    "duration": 172,
    "start_time": "2022-10-15T13:57:00.182Z"
   },
   {
    "duration": 192,
    "start_time": "2022-10-15T13:57:00.356Z"
   },
   {
    "duration": 210,
    "start_time": "2022-10-15T13:57:00.551Z"
   },
   {
    "duration": 220,
    "start_time": "2022-10-15T13:57:00.762Z"
   },
   {
    "duration": 345,
    "start_time": "2022-10-15T13:57:00.984Z"
   },
   {
    "duration": 9,
    "start_time": "2022-10-15T13:57:01.330Z"
   },
   {
    "duration": 252,
    "start_time": "2022-10-15T13:57:01.341Z"
   },
   {
    "duration": 262,
    "start_time": "2022-10-15T13:57:01.595Z"
   },
   {
    "duration": 148,
    "start_time": "2022-10-15T13:57:01.859Z"
   },
   {
    "duration": 149,
    "start_time": "2022-10-15T13:57:02.009Z"
   },
   {
    "duration": 9,
    "start_time": "2022-10-15T13:57:02.160Z"
   },
   {
    "duration": 177,
    "start_time": "2022-10-15T13:57:02.171Z"
   },
   {
    "duration": 149,
    "start_time": "2022-10-15T13:57:02.350Z"
   },
   {
    "duration": 153,
    "start_time": "2022-10-15T13:57:02.500Z"
   },
   {
    "duration": 132,
    "start_time": "2022-10-15T13:57:02.654Z"
   },
   {
    "duration": 140,
    "start_time": "2022-10-15T13:57:02.788Z"
   },
   {
    "duration": 19,
    "start_time": "2022-10-15T13:57:02.929Z"
   },
   {
    "duration": 153,
    "start_time": "2022-10-15T13:57:02.953Z"
   },
   {
    "duration": 1294,
    "start_time": "2022-10-15T15:41:06.809Z"
   },
   {
    "duration": 13,
    "start_time": "2022-10-15T15:41:08.105Z"
   },
   {
    "duration": 11,
    "start_time": "2022-10-15T15:41:08.119Z"
   },
   {
    "duration": 77,
    "start_time": "2022-10-15T15:41:08.133Z"
   },
   {
    "duration": 1745,
    "start_time": "2022-10-15T15:41:08.212Z"
   },
   {
    "duration": 12,
    "start_time": "2022-10-15T15:41:09.959Z"
   },
   {
    "duration": 7,
    "start_time": "2022-10-15T15:41:09.973Z"
   },
   {
    "duration": 35,
    "start_time": "2022-10-15T15:41:09.982Z"
   },
   {
    "duration": 31,
    "start_time": "2022-10-15T15:41:10.018Z"
   },
   {
    "duration": 24,
    "start_time": "2022-10-15T15:41:10.053Z"
   },
   {
    "duration": 11,
    "start_time": "2022-10-15T15:41:10.079Z"
   },
   {
    "duration": 15,
    "start_time": "2022-10-15T15:41:10.092Z"
   },
   {
    "duration": 33,
    "start_time": "2022-10-15T15:41:10.109Z"
   },
   {
    "duration": 21,
    "start_time": "2022-10-15T15:41:10.143Z"
   },
   {
    "duration": 15,
    "start_time": "2022-10-15T15:41:10.165Z"
   },
   {
    "duration": 7,
    "start_time": "2022-10-15T15:41:10.182Z"
   },
   {
    "duration": 9,
    "start_time": "2022-10-15T15:41:10.190Z"
   },
   {
    "duration": 39,
    "start_time": "2022-10-15T15:41:10.200Z"
   },
   {
    "duration": 8,
    "start_time": "2022-10-15T15:41:10.241Z"
   },
   {
    "duration": 38,
    "start_time": "2022-10-15T15:41:10.250Z"
   },
   {
    "duration": 23,
    "start_time": "2022-10-15T15:41:10.289Z"
   },
   {
    "duration": 8,
    "start_time": "2022-10-15T15:41:10.313Z"
   },
   {
    "duration": 17,
    "start_time": "2022-10-15T15:41:10.323Z"
   },
   {
    "duration": 90,
    "start_time": "2022-10-15T15:41:10.342Z"
   },
   {
    "duration": 7,
    "start_time": "2022-10-15T15:41:10.434Z"
   },
   {
    "duration": 11,
    "start_time": "2022-10-15T15:41:10.443Z"
   },
   {
    "duration": 11,
    "start_time": "2022-10-15T15:41:10.456Z"
   },
   {
    "duration": 6,
    "start_time": "2022-10-15T15:41:10.471Z"
   },
   {
    "duration": 7,
    "start_time": "2022-10-15T15:41:10.478Z"
   },
   {
    "duration": 27,
    "start_time": "2022-10-15T15:41:10.487Z"
   },
   {
    "duration": 12,
    "start_time": "2022-10-15T15:41:10.516Z"
   },
   {
    "duration": 11,
    "start_time": "2022-10-15T15:41:10.529Z"
   },
   {
    "duration": 4,
    "start_time": "2022-10-15T15:41:10.541Z"
   },
   {
    "duration": 17,
    "start_time": "2022-10-15T15:41:10.547Z"
   },
   {
    "duration": 19,
    "start_time": "2022-10-15T15:41:10.566Z"
   },
   {
    "duration": 25,
    "start_time": "2022-10-15T15:41:10.587Z"
   },
   {
    "duration": 9,
    "start_time": "2022-10-15T15:41:10.613Z"
   },
   {
    "duration": 123,
    "start_time": "2022-10-15T15:41:10.624Z"
   },
   {
    "duration": 109,
    "start_time": "2022-10-15T15:41:10.750Z"
   },
   {
    "duration": 243,
    "start_time": "2022-10-15T15:41:10.860Z"
   },
   {
    "duration": 6,
    "start_time": "2022-10-15T15:41:11.104Z"
   },
   {
    "duration": 27,
    "start_time": "2022-10-15T15:41:11.111Z"
   },
   {
    "duration": 119,
    "start_time": "2022-10-15T15:41:11.139Z"
   },
   {
    "duration": 4,
    "start_time": "2022-10-15T15:41:11.259Z"
   },
   {
    "duration": 10,
    "start_time": "2022-10-15T15:41:11.264Z"
   },
   {
    "duration": 12,
    "start_time": "2022-10-15T15:41:11.275Z"
   },
   {
    "duration": 114,
    "start_time": "2022-10-15T15:41:11.288Z"
   },
   {
    "duration": 128,
    "start_time": "2022-10-15T15:41:11.410Z"
   },
   {
    "duration": 5,
    "start_time": "2022-10-15T15:41:11.540Z"
   },
   {
    "duration": 5,
    "start_time": "2022-10-15T15:41:11.547Z"
   },
   {
    "duration": 9,
    "start_time": "2022-10-15T15:41:11.553Z"
   },
   {
    "duration": 6,
    "start_time": "2022-10-15T15:41:11.564Z"
   },
   {
    "duration": 5,
    "start_time": "2022-10-15T15:41:11.572Z"
   },
   {
    "duration": 5,
    "start_time": "2022-10-15T15:41:11.578Z"
   },
   {
    "duration": 373,
    "start_time": "2022-10-15T15:41:11.608Z"
   },
   {
    "duration": 4,
    "start_time": "2022-10-15T15:41:11.983Z"
   },
   {
    "duration": 271,
    "start_time": "2022-10-15T15:41:11.989Z"
   },
   {
    "duration": 271,
    "start_time": "2022-10-15T15:41:12.261Z"
   },
   {
    "duration": 254,
    "start_time": "2022-10-15T15:41:12.534Z"
   },
   {
    "duration": 268,
    "start_time": "2022-10-15T15:41:12.789Z"
   },
   {
    "duration": 176,
    "start_time": "2022-10-15T15:41:13.058Z"
   },
   {
    "duration": 171,
    "start_time": "2022-10-15T15:41:13.236Z"
   },
   {
    "duration": 256,
    "start_time": "2022-10-15T15:41:13.409Z"
   },
   {
    "duration": 137,
    "start_time": "2022-10-15T15:41:13.666Z"
   },
   {
    "duration": 165,
    "start_time": "2022-10-15T15:41:13.804Z"
   },
   {
    "duration": 182,
    "start_time": "2022-10-15T15:41:13.970Z"
   },
   {
    "duration": 214,
    "start_time": "2022-10-15T15:41:14.154Z"
   },
   {
    "duration": 276,
    "start_time": "2022-10-15T15:41:14.370Z"
   },
   {
    "duration": 313,
    "start_time": "2022-10-15T15:41:14.648Z"
   },
   {
    "duration": 8,
    "start_time": "2022-10-15T15:41:14.963Z"
   },
   {
    "duration": 225,
    "start_time": "2022-10-15T15:41:14.972Z"
   },
   {
    "duration": 252,
    "start_time": "2022-10-15T15:41:15.198Z"
   },
   {
    "duration": 143,
    "start_time": "2022-10-15T15:41:15.452Z"
   },
   {
    "duration": 150,
    "start_time": "2022-10-15T15:41:15.597Z"
   },
   {
    "duration": 9,
    "start_time": "2022-10-15T15:41:15.749Z"
   },
   {
    "duration": 161,
    "start_time": "2022-10-15T15:41:15.759Z"
   },
   {
    "duration": 144,
    "start_time": "2022-10-15T15:41:15.922Z"
   },
   {
    "duration": 156,
    "start_time": "2022-10-15T15:41:16.067Z"
   },
   {
    "duration": 156,
    "start_time": "2022-10-15T15:41:16.225Z"
   },
   {
    "duration": 150,
    "start_time": "2022-10-15T15:41:16.383Z"
   },
   {
    "duration": 26,
    "start_time": "2022-10-15T15:41:16.534Z"
   },
   {
    "duration": 163,
    "start_time": "2022-10-15T15:41:16.565Z"
   },
   {
    "duration": 18,
    "start_time": "2022-10-15T15:41:43.252Z"
   },
   {
    "duration": 83,
    "start_time": "2022-10-15T15:41:47.116Z"
   }
  ],
  "kernelspec": {
   "display_name": "Python 3 (ipykernel)",
   "language": "python",
   "name": "python3"
  },
  "language_info": {
   "codemirror_mode": {
    "name": "ipython",
    "version": 3
   },
   "file_extension": ".py",
   "mimetype": "text/x-python",
   "name": "python",
   "nbconvert_exporter": "python",
   "pygments_lexer": "ipython3",
   "version": "3.9.12"
  },
  "toc": {
   "base_numbering": 1,
   "nav_menu": {},
   "number_sections": true,
   "sideBar": true,
   "skip_h1_title": true,
   "title_cell": "Table of Contents",
   "title_sidebar": "Contents",
   "toc_cell": false,
   "toc_position": {},
   "toc_section_display": true,
   "toc_window_display": false
  }
 },
 "nbformat": 4,
 "nbformat_minor": 2
}
