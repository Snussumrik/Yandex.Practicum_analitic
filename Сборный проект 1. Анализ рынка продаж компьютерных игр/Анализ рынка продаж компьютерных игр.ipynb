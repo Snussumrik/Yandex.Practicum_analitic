{
 "cells": [
  {
   "cell_type": "markdown",
   "metadata": {},
   "source": [
    "## Шаг 1. Откройте файл с данными и изучите общую информацию\n",
    "\n",
    "Путь к файлу: /datasets/games.csv"
   ]
  },
  {
   "cell_type": "markdown",
   "metadata": {},
   "source": [
    "## Шаг 2. Подготовьте данные\n",
    "- Замените названия столбцов (приведите к нижнему регистру);\n",
    "- Преобразуйте данные в нужные типы. Опишите, в каких столбцах заменили тип данных и почему;\n",
    "- Обработайте пропуски при необходимости:\n",
    "           o\tОбъясните, почему заполнили пропуски определённым образом или почему не стали это делать;\n",
    "           o\tОпишите причины, которые могли привести к пропускам;\n",
    "           o\tОбратите внимание на аббревиатуру 'tbd' в столбце с оценкой пользователей. Отдельно разберите это значение и опишите, как его обработать;\n",
    "- Посчитайте суммарные продажи во всех регионах и запишите их в отдельный столбец."
   ]
  },
  {
   "cell_type": "markdown",
   "metadata": {},
   "source": [
    "## Шаг 3. Проведите исследовательский анализ данных\n",
    "- Посмотрите, сколько игр выпускалось в разные годы. Важны ли данные за все периоды?\n",
    "- Посмотрите, как менялись продажи по платформам. Выберите платформы с наибольшими суммарными продажами и постройте распределение по годам. За какой характерный срок появляются новые и исчезают старые платформы?\n",
    "- Возьмите данные за соответствующий актуальный период. Актуальный период определите самостоятельно в результате исследования предыдущих вопросов. Основной фактор — эти данные помогут построить прогноз на 2017 год.\n",
    "- Не учитывайте в работе данные за предыдущие годы.\n",
    "- Какие платформы лидируют по продажам, растут или падают? Выберите несколько потенциально прибыльных платформ.\n",
    "- Постройте график «ящик с усами» по глобальным продажам игр в разбивке по платформам. Опишите результат.\n",
    "- Посмотрите, как влияют на продажи внутри одной популярной платформы отзывы пользователей и критиков. Постройте диаграмму рассеяния и посчитайте корреляцию между отзывами и продажами. Сформулируйте выводы.\n",
    "- Соотнесите выводы с продажами игр на других платформах.\n",
    "- Посмотрите на общее распределение игр по жанрам. Что можно сказать о самых прибыльных жанрах? Выделяются ли жанры с высокими и низкими продажами?\n"
   ]
  },
  {
   "cell_type": "markdown",
   "metadata": {},
   "source": [
    "## Шаг 4. Составьте портрет пользователя каждого региона\n",
    "Определите для пользователя каждого региона (NA, EU, JP):\n",
    "- Самые популярные платформы (топ-5). Опишите различия в долях продаж.\n",
    "- Самые популярные жанры (топ-5). Поясните разницу.\n",
    "- Влияет ли рейтинг ESRB на продажи в отдельном регионе?"
   ]
  },
  {
   "cell_type": "markdown",
   "metadata": {},
   "source": [
    "## Шаг 5. Проверьте гипотезы\n",
    "- Средние пользовательские рейтинги платформ Xbox One и PC одинаковые;\n",
    "- Средние пользовательские рейтинги жанров Action (англ. «действие», экшен-игры) и Sports (англ. «спортивные соревнования») разные.\n",
    "Задайте самостоятельно пороговое значение alpha.\n",
    "Поясните:\n",
    "- Как вы сформулировали нулевую и альтернативную гипотезы;\n",
    "- Какой критерий применили для проверки гипотез и почему."
   ]
  },
  {
   "cell_type": "markdown",
   "metadata": {},
   "source": [
    "## Шаг 6. Напишите общий вывод\n",
    "__Оформление:__ Выполните задание в Jupyter Notebook. Заполните программный код в ячейках типа code, текстовые пояснения — в ячейках типа markdown. Примените форматирование и заголовки."
   ]
  },
  {
   "cell_type": "markdown",
   "metadata": {},
   "source": [
    "# Откроем файл с данными и изучим информацию"
   ]
  },
  {
   "cell_type": "code",
   "execution_count": 1,
   "metadata": {},
   "outputs": [],
   "source": [
    "#Импортируем необходимые библиотеки\n",
    "import pandas as pd\n",
    "import numpy as np\n",
    "import matplotlib.pyplot as plt\n",
    "import seaborn as sbn\n",
    "from scipy import stats as st"
   ]
  },
  {
   "cell_type": "code",
   "execution_count": 2,
   "metadata": {},
   "outputs": [
    {
     "data": {
      "text/html": [
       "<div>\n",
       "<style scoped>\n",
       "    .dataframe tbody tr th:only-of-type {\n",
       "        vertical-align: middle;\n",
       "    }\n",
       "\n",
       "    .dataframe tbody tr th {\n",
       "        vertical-align: top;\n",
       "    }\n",
       "\n",
       "    .dataframe thead th {\n",
       "        text-align: right;\n",
       "    }\n",
       "</style>\n",
       "<table border=\"1\" class=\"dataframe\">\n",
       "  <thead>\n",
       "    <tr style=\"text-align: right;\">\n",
       "      <th></th>\n",
       "      <th>Name</th>\n",
       "      <th>Platform</th>\n",
       "      <th>Year_of_Release</th>\n",
       "      <th>Genre</th>\n",
       "      <th>NA_sales</th>\n",
       "      <th>EU_sales</th>\n",
       "      <th>JP_sales</th>\n",
       "      <th>Other_sales</th>\n",
       "      <th>Critic_Score</th>\n",
       "      <th>User_Score</th>\n",
       "      <th>Rating</th>\n",
       "    </tr>\n",
       "  </thead>\n",
       "  <tbody>\n",
       "    <tr>\n",
       "      <th>0</th>\n",
       "      <td>Wii Sports</td>\n",
       "      <td>Wii</td>\n",
       "      <td>2006.0</td>\n",
       "      <td>Sports</td>\n",
       "      <td>41.36</td>\n",
       "      <td>28.96</td>\n",
       "      <td>3.77</td>\n",
       "      <td>8.45</td>\n",
       "      <td>76.0</td>\n",
       "      <td>8</td>\n",
       "      <td>E</td>\n",
       "    </tr>\n",
       "    <tr>\n",
       "      <th>1</th>\n",
       "      <td>Super Mario Bros.</td>\n",
       "      <td>NES</td>\n",
       "      <td>1985.0</td>\n",
       "      <td>Platform</td>\n",
       "      <td>29.08</td>\n",
       "      <td>3.58</td>\n",
       "      <td>6.81</td>\n",
       "      <td>0.77</td>\n",
       "      <td>NaN</td>\n",
       "      <td>NaN</td>\n",
       "      <td>NaN</td>\n",
       "    </tr>\n",
       "    <tr>\n",
       "      <th>2</th>\n",
       "      <td>Mario Kart Wii</td>\n",
       "      <td>Wii</td>\n",
       "      <td>2008.0</td>\n",
       "      <td>Racing</td>\n",
       "      <td>15.68</td>\n",
       "      <td>12.76</td>\n",
       "      <td>3.79</td>\n",
       "      <td>3.29</td>\n",
       "      <td>82.0</td>\n",
       "      <td>8.3</td>\n",
       "      <td>E</td>\n",
       "    </tr>\n",
       "    <tr>\n",
       "      <th>3</th>\n",
       "      <td>Wii Sports Resort</td>\n",
       "      <td>Wii</td>\n",
       "      <td>2009.0</td>\n",
       "      <td>Sports</td>\n",
       "      <td>15.61</td>\n",
       "      <td>10.93</td>\n",
       "      <td>3.28</td>\n",
       "      <td>2.95</td>\n",
       "      <td>80.0</td>\n",
       "      <td>8</td>\n",
       "      <td>E</td>\n",
       "    </tr>\n",
       "    <tr>\n",
       "      <th>4</th>\n",
       "      <td>Pokemon Red/Pokemon Blue</td>\n",
       "      <td>GB</td>\n",
       "      <td>1996.0</td>\n",
       "      <td>Role-Playing</td>\n",
       "      <td>11.27</td>\n",
       "      <td>8.89</td>\n",
       "      <td>10.22</td>\n",
       "      <td>1.00</td>\n",
       "      <td>NaN</td>\n",
       "      <td>NaN</td>\n",
       "      <td>NaN</td>\n",
       "    </tr>\n",
       "  </tbody>\n",
       "</table>\n",
       "</div>"
      ],
      "text/plain": [
       "                       Name Platform  Year_of_Release         Genre  NA_sales  \\\n",
       "0                Wii Sports      Wii           2006.0        Sports     41.36   \n",
       "1         Super Mario Bros.      NES           1985.0      Platform     29.08   \n",
       "2            Mario Kart Wii      Wii           2008.0        Racing     15.68   \n",
       "3         Wii Sports Resort      Wii           2009.0        Sports     15.61   \n",
       "4  Pokemon Red/Pokemon Blue       GB           1996.0  Role-Playing     11.27   \n",
       "\n",
       "   EU_sales  JP_sales  Other_sales  Critic_Score User_Score Rating  \n",
       "0     28.96      3.77         8.45          76.0          8      E  \n",
       "1      3.58      6.81         0.77           NaN        NaN    NaN  \n",
       "2     12.76      3.79         3.29          82.0        8.3      E  \n",
       "3     10.93      3.28         2.95          80.0          8      E  \n",
       "4      8.89     10.22         1.00           NaN        NaN    NaN  "
      ]
     },
     "execution_count": 2,
     "metadata": {},
     "output_type": "execute_result"
    }
   ],
   "source": [
    "# Откроем файл с данными и сохраним его в переменной games \n",
    "data = pd.read_csv('/datasets/games.csv')\n",
    "data.head()"
   ]
  },
  {
   "cell_type": "code",
   "execution_count": 3,
   "metadata": {
    "scrolled": true
   },
   "outputs": [
    {
     "name": "stdout",
     "output_type": "stream",
     "text": [
      "<class 'pandas.core.frame.DataFrame'>\n",
      "RangeIndex: 16715 entries, 0 to 16714\n",
      "Data columns (total 11 columns):\n",
      " #   Column           Non-Null Count  Dtype  \n",
      "---  ------           --------------  -----  \n",
      " 0   Name             16713 non-null  object \n",
      " 1   Platform         16715 non-null  object \n",
      " 2   Year_of_Release  16446 non-null  float64\n",
      " 3   Genre            16713 non-null  object \n",
      " 4   NA_sales         16715 non-null  float64\n",
      " 5   EU_sales         16715 non-null  float64\n",
      " 6   JP_sales         16715 non-null  float64\n",
      " 7   Other_sales      16715 non-null  float64\n",
      " 8   Critic_Score     8137 non-null   float64\n",
      " 9   User_Score       10014 non-null  object \n",
      " 10  Rating           9949 non-null   object \n",
      "dtypes: float64(6), object(5)\n",
      "memory usage: 1.4+ MB\n"
     ]
    }
   ],
   "source": [
    "#посмотрим общие сведения о таблице\n",
    "data.info()"
   ]
  },
  {
   "cell_type": "code",
   "execution_count": 4,
   "metadata": {
    "scrolled": true
   },
   "outputs": [
    {
     "data": {
      "text/plain": [
       "Name                  2\n",
       "Platform              0\n",
       "Year_of_Release     269\n",
       "Genre                 2\n",
       "NA_sales              0\n",
       "EU_sales              0\n",
       "JP_sales              0\n",
       "Other_sales           0\n",
       "Critic_Score       8578\n",
       "User_Score         6701\n",
       "Rating             6766\n",
       "dtype: int64"
      ]
     },
     "execution_count": 4,
     "metadata": {},
     "output_type": "execute_result"
    }
   ],
   "source": [
    "#Проверим таблицу на налачие пропусков\n",
    "data.isna().sum()"
   ]
  },
  {
   "cell_type": "markdown",
   "metadata": {},
   "source": [
    "Файл открыли и изучили. Данный файл содержит 16715 строк и 11 колонок. Таблица содержит 6 столбцов c вещественными числами (тип float), 5 столбцов с типом object. Так же при изучении таблицы можно заметить в некоторых столбцах несоответствие типа данных, например в столбце Year_of_Release - должны быть данные представляющие целые числа. Так же в таблице допущено множество пропусков, такие пропуски могли быть вызваны человеческим фактором, могли неуказать какие-то конкретные параметры, возможно из-за его отсутствия (предположим, что столбец \"Rating\" имеет пропуски, так как возростную категорию  могли не указать, так как на момент выхода игры отсутствовало обязательство по присвоению возростного ценза), а так же могла произойти техническая ошибка, которая могла возникнуть в результате переноса данных, или же при копировании данных, сбой может произойти даже во время записи данных. "
   ]
  },
  {
   "cell_type": "markdown",
   "metadata": {},
   "source": [
    "# Шаг 2. Подготовьте данные"
   ]
  },
  {
   "cell_type": "markdown",
   "metadata": {},
   "source": [
    "__Замените названия столбцов (приведите к нижнему регистру)__"
   ]
  },
  {
   "cell_type": "code",
   "execution_count": 5,
   "metadata": {},
   "outputs": [
    {
     "data": {
      "text/html": [
       "<div>\n",
       "<style scoped>\n",
       "    .dataframe tbody tr th:only-of-type {\n",
       "        vertical-align: middle;\n",
       "    }\n",
       "\n",
       "    .dataframe tbody tr th {\n",
       "        vertical-align: top;\n",
       "    }\n",
       "\n",
       "    .dataframe thead th {\n",
       "        text-align: right;\n",
       "    }\n",
       "</style>\n",
       "<table border=\"1\" class=\"dataframe\">\n",
       "  <thead>\n",
       "    <tr style=\"text-align: right;\">\n",
       "      <th></th>\n",
       "      <th>name</th>\n",
       "      <th>platform</th>\n",
       "      <th>year_of_release</th>\n",
       "      <th>genre</th>\n",
       "      <th>na_sales</th>\n",
       "      <th>eu_sales</th>\n",
       "      <th>jp_sales</th>\n",
       "      <th>other_sales</th>\n",
       "      <th>critic_score</th>\n",
       "      <th>user_score</th>\n",
       "      <th>rating</th>\n",
       "    </tr>\n",
       "  </thead>\n",
       "  <tbody>\n",
       "    <tr>\n",
       "      <th>0</th>\n",
       "      <td>Wii Sports</td>\n",
       "      <td>Wii</td>\n",
       "      <td>2006.0</td>\n",
       "      <td>Sports</td>\n",
       "      <td>41.36</td>\n",
       "      <td>28.96</td>\n",
       "      <td>3.77</td>\n",
       "      <td>8.45</td>\n",
       "      <td>76.0</td>\n",
       "      <td>8</td>\n",
       "      <td>E</td>\n",
       "    </tr>\n",
       "    <tr>\n",
       "      <th>1</th>\n",
       "      <td>Super Mario Bros.</td>\n",
       "      <td>NES</td>\n",
       "      <td>1985.0</td>\n",
       "      <td>Platform</td>\n",
       "      <td>29.08</td>\n",
       "      <td>3.58</td>\n",
       "      <td>6.81</td>\n",
       "      <td>0.77</td>\n",
       "      <td>NaN</td>\n",
       "      <td>NaN</td>\n",
       "      <td>NaN</td>\n",
       "    </tr>\n",
       "    <tr>\n",
       "      <th>2</th>\n",
       "      <td>Mario Kart Wii</td>\n",
       "      <td>Wii</td>\n",
       "      <td>2008.0</td>\n",
       "      <td>Racing</td>\n",
       "      <td>15.68</td>\n",
       "      <td>12.76</td>\n",
       "      <td>3.79</td>\n",
       "      <td>3.29</td>\n",
       "      <td>82.0</td>\n",
       "      <td>8.3</td>\n",
       "      <td>E</td>\n",
       "    </tr>\n",
       "    <tr>\n",
       "      <th>3</th>\n",
       "      <td>Wii Sports Resort</td>\n",
       "      <td>Wii</td>\n",
       "      <td>2009.0</td>\n",
       "      <td>Sports</td>\n",
       "      <td>15.61</td>\n",
       "      <td>10.93</td>\n",
       "      <td>3.28</td>\n",
       "      <td>2.95</td>\n",
       "      <td>80.0</td>\n",
       "      <td>8</td>\n",
       "      <td>E</td>\n",
       "    </tr>\n",
       "    <tr>\n",
       "      <th>4</th>\n",
       "      <td>Pokemon Red/Pokemon Blue</td>\n",
       "      <td>GB</td>\n",
       "      <td>1996.0</td>\n",
       "      <td>Role-Playing</td>\n",
       "      <td>11.27</td>\n",
       "      <td>8.89</td>\n",
       "      <td>10.22</td>\n",
       "      <td>1.00</td>\n",
       "      <td>NaN</td>\n",
       "      <td>NaN</td>\n",
       "      <td>NaN</td>\n",
       "    </tr>\n",
       "  </tbody>\n",
       "</table>\n",
       "</div>"
      ],
      "text/plain": [
       "                       name platform  year_of_release         genre  na_sales  \\\n",
       "0                Wii Sports      Wii           2006.0        Sports     41.36   \n",
       "1         Super Mario Bros.      NES           1985.0      Platform     29.08   \n",
       "2            Mario Kart Wii      Wii           2008.0        Racing     15.68   \n",
       "3         Wii Sports Resort      Wii           2009.0        Sports     15.61   \n",
       "4  Pokemon Red/Pokemon Blue       GB           1996.0  Role-Playing     11.27   \n",
       "\n",
       "   eu_sales  jp_sales  other_sales  critic_score user_score rating  \n",
       "0     28.96      3.77         8.45          76.0          8      E  \n",
       "1      3.58      6.81         0.77           NaN        NaN    NaN  \n",
       "2     12.76      3.79         3.29          82.0        8.3      E  \n",
       "3     10.93      3.28         2.95          80.0          8      E  \n",
       "4      8.89     10.22         1.00           NaN        NaN    NaN  "
      ]
     },
     "execution_count": 5,
     "metadata": {},
     "output_type": "execute_result"
    }
   ],
   "source": [
    "data.columns = data.columns.str.lower()\n",
    "\n",
    "# Посмотрим что получилось\n",
    "data.head()"
   ]
  },
  {
   "cell_type": "markdown",
   "metadata": {},
   "source": [
    "Название столбцов приведены к нижнему регистру"
   ]
  },
  {
   "cell_type": "markdown",
   "metadata": {},
   "source": [
    "__Преобразуйте данные в нужные типы. Опишите, в каких столбцах заменили тип данных и почему__"
   ]
  },
  {
   "cell_type": "code",
   "execution_count": 6,
   "metadata": {
    "scrolled": true
   },
   "outputs": [
    {
     "data": {
      "text/html": [
       "<div>\n",
       "<style scoped>\n",
       "    .dataframe tbody tr th:only-of-type {\n",
       "        vertical-align: middle;\n",
       "    }\n",
       "\n",
       "    .dataframe tbody tr th {\n",
       "        vertical-align: top;\n",
       "    }\n",
       "\n",
       "    .dataframe thead th {\n",
       "        text-align: right;\n",
       "    }\n",
       "</style>\n",
       "<table border=\"1\" class=\"dataframe\">\n",
       "  <thead>\n",
       "    <tr style=\"text-align: right;\">\n",
       "      <th></th>\n",
       "      <th>name</th>\n",
       "      <th>platform</th>\n",
       "      <th>year_of_release</th>\n",
       "      <th>genre</th>\n",
       "      <th>na_sales</th>\n",
       "      <th>eu_sales</th>\n",
       "      <th>jp_sales</th>\n",
       "      <th>other_sales</th>\n",
       "      <th>critic_score</th>\n",
       "      <th>user_score</th>\n",
       "      <th>rating</th>\n",
       "    </tr>\n",
       "  </thead>\n",
       "  <tbody>\n",
       "    <tr>\n",
       "      <th>0</th>\n",
       "      <td>Wii Sports</td>\n",
       "      <td>Wii</td>\n",
       "      <td>2006</td>\n",
       "      <td>Sports</td>\n",
       "      <td>41.36</td>\n",
       "      <td>28.96</td>\n",
       "      <td>3.77</td>\n",
       "      <td>8.45</td>\n",
       "      <td>76</td>\n",
       "      <td>8</td>\n",
       "      <td>E</td>\n",
       "    </tr>\n",
       "    <tr>\n",
       "      <th>1</th>\n",
       "      <td>Super Mario Bros.</td>\n",
       "      <td>NES</td>\n",
       "      <td>1985</td>\n",
       "      <td>Platform</td>\n",
       "      <td>29.08</td>\n",
       "      <td>3.58</td>\n",
       "      <td>6.81</td>\n",
       "      <td>0.77</td>\n",
       "      <td>&lt;NA&gt;</td>\n",
       "      <td>NaN</td>\n",
       "      <td>NaN</td>\n",
       "    </tr>\n",
       "    <tr>\n",
       "      <th>2</th>\n",
       "      <td>Mario Kart Wii</td>\n",
       "      <td>Wii</td>\n",
       "      <td>2008</td>\n",
       "      <td>Racing</td>\n",
       "      <td>15.68</td>\n",
       "      <td>12.76</td>\n",
       "      <td>3.79</td>\n",
       "      <td>3.29</td>\n",
       "      <td>82</td>\n",
       "      <td>8.3</td>\n",
       "      <td>E</td>\n",
       "    </tr>\n",
       "    <tr>\n",
       "      <th>3</th>\n",
       "      <td>Wii Sports Resort</td>\n",
       "      <td>Wii</td>\n",
       "      <td>2009</td>\n",
       "      <td>Sports</td>\n",
       "      <td>15.61</td>\n",
       "      <td>10.93</td>\n",
       "      <td>3.28</td>\n",
       "      <td>2.95</td>\n",
       "      <td>80</td>\n",
       "      <td>8</td>\n",
       "      <td>E</td>\n",
       "    </tr>\n",
       "    <tr>\n",
       "      <th>4</th>\n",
       "      <td>Pokemon Red/Pokemon Blue</td>\n",
       "      <td>GB</td>\n",
       "      <td>1996</td>\n",
       "      <td>Role-Playing</td>\n",
       "      <td>11.27</td>\n",
       "      <td>8.89</td>\n",
       "      <td>10.22</td>\n",
       "      <td>1.00</td>\n",
       "      <td>&lt;NA&gt;</td>\n",
       "      <td>NaN</td>\n",
       "      <td>NaN</td>\n",
       "    </tr>\n",
       "  </tbody>\n",
       "</table>\n",
       "</div>"
      ],
      "text/plain": [
       "                       name platform  year_of_release         genre  na_sales  \\\n",
       "0                Wii Sports      Wii             2006        Sports     41.36   \n",
       "1         Super Mario Bros.      NES             1985      Platform     29.08   \n",
       "2            Mario Kart Wii      Wii             2008        Racing     15.68   \n",
       "3         Wii Sports Resort      Wii             2009        Sports     15.61   \n",
       "4  Pokemon Red/Pokemon Blue       GB             1996  Role-Playing     11.27   \n",
       "\n",
       "   eu_sales  jp_sales  other_sales  critic_score user_score rating  \n",
       "0     28.96      3.77         8.45            76          8      E  \n",
       "1      3.58      6.81         0.77          <NA>        NaN    NaN  \n",
       "2     12.76      3.79         3.29            82        8.3      E  \n",
       "3     10.93      3.28         2.95            80          8      E  \n",
       "4      8.89     10.22         1.00          <NA>        NaN    NaN  "
      ]
     },
     "execution_count": 6,
     "metadata": {},
     "output_type": "execute_result"
    }
   ],
   "source": [
    "data[['year_of_release', 'critic_score']] = data[['year_of_release', 'critic_score']].astype('Int64')\n",
    "\n",
    "# Посмотрим что получилось\n",
    "data.head()"
   ]
  },
  {
   "cell_type": "code",
   "execution_count": 7,
   "metadata": {},
   "outputs": [
    {
     "name": "stdout",
     "output_type": "stream",
     "text": [
      "<class 'pandas.core.frame.DataFrame'>\n",
      "RangeIndex: 16715 entries, 0 to 16714\n",
      "Data columns (total 11 columns):\n",
      " #   Column           Non-Null Count  Dtype  \n",
      "---  ------           --------------  -----  \n",
      " 0   name             16713 non-null  object \n",
      " 1   platform         16715 non-null  object \n",
      " 2   year_of_release  16446 non-null  Int64  \n",
      " 3   genre            16713 non-null  object \n",
      " 4   na_sales         16715 non-null  float64\n",
      " 5   eu_sales         16715 non-null  float64\n",
      " 6   jp_sales         16715 non-null  float64\n",
      " 7   other_sales      16715 non-null  float64\n",
      " 8   critic_score     8137 non-null   Int64  \n",
      " 9   user_score       10014 non-null  object \n",
      " 10  rating           9949 non-null   object \n",
      "dtypes: Int64(2), float64(4), object(5)\n",
      "memory usage: 1.4+ MB\n"
     ]
    }
   ],
   "source": [
    "data.info()"
   ]
  },
  {
   "cell_type": "markdown",
   "metadata": {},
   "source": [
    "Преобразовали к целым числам (int) столбец с датой выхода,  так как она не может иметь дробное значение, и так же оценка критиков, так как она так же имела целые числа, а после запятой были 0."
   ]
  },
  {
   "cell_type": "code",
   "execution_count": 8,
   "metadata": {},
   "outputs": [
    {
     "data": {
      "text/plain": [
       "array(['0', '0.2', '0.3', '0.5', '0.6', '0.7', '0.9', '1', '1.1', '1.2',\n",
       "       '1.3', '1.4', '1.5', '1.6', '1.7', '1.8', '1.9', '2', '2.1', '2.2',\n",
       "       '2.3', '2.4', '2.5', '2.6', '2.7', '2.8', '2.9', '3', '3.1', '3.2',\n",
       "       '3.3', '3.4', '3.5', '3.6', '3.7', '3.8', '3.9', '4', '4.1', '4.2',\n",
       "       '4.3', '4.4', '4.5', '4.6', '4.7', '4.8', '4.9', '5', '5.1', '5.2',\n",
       "       '5.3', '5.4', '5.5', '5.6', '5.7', '5.8', '5.9', '6', '6.1', '6.2',\n",
       "       '6.3', '6.4', '6.5', '6.6', '6.7', '6.8', '6.9', '7', '7.1', '7.2',\n",
       "       '7.3', '7.4', '7.5', '7.6', '7.7', '7.8', '7.9', '8', '8.1', '8.2',\n",
       "       '8.3', '8.4', '8.5', '8.6', '8.7', '8.8', '8.9', '9', '9.1', '9.2',\n",
       "       '9.3', '9.4', '9.5', '9.6', '9.7', 'tbd', nan], dtype=object)"
      ]
     },
     "execution_count": 8,
     "metadata": {},
     "output_type": "execute_result"
    }
   ],
   "source": [
    "# Уникальные значения оценок пользователей\n",
    "data['user_score'].sort_values().unique()"
   ]
  },
  {
   "cell_type": "markdown",
   "metadata": {},
   "source": [
    "В столбце оценка пользователей встречается значение TBD — сокращение от To Be Determined. Служит для отметки неясностей, т.е. пользователь еще не определился с оценкой, а остальные значения имеют десятичную оценку, считаю что данный столбец необходимо преобразовать в float64, псоле обработки пропусков."
   ]
  },
  {
   "cell_type": "markdown",
   "metadata": {},
   "source": [
    "__Обработайте пропуски при необходимости__"
   ]
  },
  {
   "cell_type": "code",
   "execution_count": 9,
   "metadata": {},
   "outputs": [
    {
     "data": {
      "text/plain": [
       "name                object\n",
       "platform            object\n",
       "year_of_release      Int64\n",
       "genre               object\n",
       "na_sales           float64\n",
       "eu_sales           float64\n",
       "jp_sales           float64\n",
       "other_sales        float64\n",
       "critic_score         Int64\n",
       "user_score         float64\n",
       "rating              object\n",
       "dtype: object"
      ]
     },
     "execution_count": 9,
     "metadata": {},
     "output_type": "execute_result"
    }
   ],
   "source": [
    "data['user_score'] = pd.to_numeric(data['user_score'], errors='coerce')\n",
    "data.dtypes"
   ]
  },
  {
   "cell_type": "code",
   "execution_count": 10,
   "metadata": {},
   "outputs": [
    {
     "data": {
      "text/plain": [
       "array([0. , 0.2, 0.3, 0.5, 0.6, 0.7, 0.9, 1. , 1.1, 1.2, 1.3, 1.4, 1.5,\n",
       "       1.6, 1.7, 1.8, 1.9, 2. , 2.1, 2.2, 2.3, 2.4, 2.5, 2.6, 2.7, 2.8,\n",
       "       2.9, 3. , 3.1, 3.2, 3.3, 3.4, 3.5, 3.6, 3.7, 3.8, 3.9, 4. , 4.1,\n",
       "       4.2, 4.3, 4.4, 4.5, 4.6, 4.7, 4.8, 4.9, 5. , 5.1, 5.2, 5.3, 5.4,\n",
       "       5.5, 5.6, 5.7, 5.8, 5.9, 6. , 6.1, 6.2, 6.3, 6.4, 6.5, 6.6, 6.7,\n",
       "       6.8, 6.9, 7. , 7.1, 7.2, 7.3, 7.4, 7.5, 7.6, 7.7, 7.8, 7.9, 8. ,\n",
       "       8.1, 8.2, 8.3, 8.4, 8.5, 8.6, 8.7, 8.8, 8.9, 9. , 9.1, 9.2, 9.3,\n",
       "       9.4, 9.5, 9.6, 9.7, nan])"
      ]
     },
     "execution_count": 10,
     "metadata": {},
     "output_type": "execute_result"
    }
   ],
   "source": [
    "data['user_score'].sort_values().unique()"
   ]
  },
  {
   "cell_type": "markdown",
   "metadata": {},
   "source": [
    "Данные в столбце Оценка пользователей переведена в float64, а значение tbd заменена на nan, так как неясно, какая оценка по итогу будет, а заменить ее на среднее или медианное значение будет не корректно, и указывать 0, так как пользователь мог в действительности выставить такую оценку."
   ]
  },
  {
   "cell_type": "code",
   "execution_count": 11,
   "metadata": {},
   "outputs": [
    {
     "data": {
      "text/plain": [
       "name                  2\n",
       "platform              0\n",
       "year_of_release     269\n",
       "genre                 2\n",
       "na_sales              0\n",
       "eu_sales              0\n",
       "jp_sales              0\n",
       "other_sales           0\n",
       "critic_score       8578\n",
       "user_score         9125\n",
       "rating             6766\n",
       "dtype: int64"
      ]
     },
     "execution_count": 11,
     "metadata": {},
     "output_type": "execute_result"
    }
   ],
   "source": [
    "data.isna().sum()"
   ]
  },
  {
   "cell_type": "markdown",
   "metadata": {},
   "source": [
    "__Обработаем пропуски в столбце \"name\"__"
   ]
  },
  {
   "cell_type": "markdown",
   "metadata": {},
   "source": [
    "Так как в данном столбце всего 2 пропуска, считаю что их можно удалить, так как их очень мало, и на качество анализа это не повлияет"
   ]
  },
  {
   "cell_type": "code",
   "execution_count": 12,
   "metadata": {},
   "outputs": [],
   "source": [
    "data=data.dropna(subset=['name'])"
   ]
  },
  {
   "cell_type": "code",
   "execution_count": 13,
   "metadata": {},
   "outputs": [
    {
     "data": {
      "text/plain": [
       "name                  0\n",
       "platform              0\n",
       "year_of_release     269\n",
       "genre                 0\n",
       "na_sales              0\n",
       "eu_sales              0\n",
       "jp_sales              0\n",
       "other_sales           0\n",
       "critic_score       8576\n",
       "user_score         9123\n",
       "rating             6764\n",
       "dtype: int64"
      ]
     },
     "execution_count": 13,
     "metadata": {},
     "output_type": "execute_result"
    }
   ],
   "source": [
    "data.isna().sum()"
   ]
  },
  {
   "cell_type": "markdown",
   "metadata": {},
   "source": [
    "__Обработаем пропуски в столбце \"year_of_release\"__"
   ]
  },
  {
   "cell_type": "markdown",
   "metadata": {},
   "source": [
    "Так как реальный год выпуска игры нам не известен, и 269 значений искать в интернет массивах оооочень трудоемко, а так же заполнять эти данные средним или медианным значением не правильно, считаю, что их можно удалить, и по итогу будет удалено менее 10% от изначального объема данных."
   ]
  },
  {
   "cell_type": "code",
   "execution_count": 14,
   "metadata": {},
   "outputs": [],
   "source": [
    "data = data.dropna(axis='index', how='any', subset=['year_of_release'])"
   ]
  },
  {
   "cell_type": "code",
   "execution_count": 15,
   "metadata": {},
   "outputs": [
    {
     "data": {
      "text/plain": [
       "name                  0\n",
       "platform              0\n",
       "year_of_release       0\n",
       "genre                 0\n",
       "na_sales              0\n",
       "eu_sales              0\n",
       "jp_sales              0\n",
       "other_sales           0\n",
       "critic_score       8461\n",
       "user_score         8981\n",
       "rating             6676\n",
       "dtype: int64"
      ]
     },
     "execution_count": 15,
     "metadata": {},
     "output_type": "execute_result"
    }
   ],
   "source": [
    "data.isna().sum()"
   ]
  },
  {
   "cell_type": "markdown",
   "metadata": {},
   "source": [
    "__Обработаем пропуски в столбце \"Critic_Score\", \"rating\"__"
   ]
  },
  {
   "cell_type": "markdown",
   "metadata": {},
   "source": [
    "Ранее уже высказалась, что допущенные пропуски в столбце rating имеется пропуски, так как возростную категорию могли не указать, так как на момент выхода игры отсутствовало обязательство по присвоению возростного ценза. Возможно именно игры которые самые старые преимущественно имеют пропущенные значения  в столбцах с рейтингами и оценками критиков и пользователей, именно по той причине, что ранее этим попропосту не занимались. Проверим."
   ]
  },
  {
   "cell_type": "code",
   "execution_count": 16,
   "metadata": {},
   "outputs": [
    {
     "data": {
      "text/html": [
       "<div>\n",
       "<style scoped>\n",
       "    .dataframe tbody tr th:only-of-type {\n",
       "        vertical-align: middle;\n",
       "    }\n",
       "\n",
       "    .dataframe tbody tr th {\n",
       "        vertical-align: top;\n",
       "    }\n",
       "\n",
       "    .dataframe thead th {\n",
       "        text-align: right;\n",
       "    }\n",
       "</style>\n",
       "<table border=\"1\" class=\"dataframe\">\n",
       "  <thead>\n",
       "    <tr style=\"text-align: right;\">\n",
       "      <th></th>\n",
       "      <th>name</th>\n",
       "      <th>platform</th>\n",
       "      <th>year_of_release</th>\n",
       "      <th>genre</th>\n",
       "      <th>na_sales</th>\n",
       "      <th>eu_sales</th>\n",
       "      <th>jp_sales</th>\n",
       "      <th>other_sales</th>\n",
       "      <th>critic_score</th>\n",
       "      <th>user_score</th>\n",
       "      <th>rating</th>\n",
       "    </tr>\n",
       "  </thead>\n",
       "  <tbody>\n",
       "    <tr>\n",
       "      <th>1764</th>\n",
       "      <td>Kaboom!</td>\n",
       "      <td>2600</td>\n",
       "      <td>1980</td>\n",
       "      <td>Misc</td>\n",
       "      <td>1.07</td>\n",
       "      <td>0.07</td>\n",
       "      <td>0.0</td>\n",
       "      <td>0.01</td>\n",
       "      <td>&lt;NA&gt;</td>\n",
       "      <td>NaN</td>\n",
       "      <td>NaN</td>\n",
       "    </tr>\n",
       "    <tr>\n",
       "      <th>546</th>\n",
       "      <td>Missile Command</td>\n",
       "      <td>2600</td>\n",
       "      <td>1980</td>\n",
       "      <td>Shooter</td>\n",
       "      <td>2.56</td>\n",
       "      <td>0.17</td>\n",
       "      <td>0.0</td>\n",
       "      <td>0.03</td>\n",
       "      <td>&lt;NA&gt;</td>\n",
       "      <td>NaN</td>\n",
       "      <td>NaN</td>\n",
       "    </tr>\n",
       "    <tr>\n",
       "      <th>1968</th>\n",
       "      <td>Defender</td>\n",
       "      <td>2600</td>\n",
       "      <td>1980</td>\n",
       "      <td>Misc</td>\n",
       "      <td>0.99</td>\n",
       "      <td>0.05</td>\n",
       "      <td>0.0</td>\n",
       "      <td>0.01</td>\n",
       "      <td>&lt;NA&gt;</td>\n",
       "      <td>NaN</td>\n",
       "      <td>NaN</td>\n",
       "    </tr>\n",
       "    <tr>\n",
       "      <th>6300</th>\n",
       "      <td>Bridge</td>\n",
       "      <td>2600</td>\n",
       "      <td>1980</td>\n",
       "      <td>Misc</td>\n",
       "      <td>0.25</td>\n",
       "      <td>0.02</td>\n",
       "      <td>0.0</td>\n",
       "      <td>0.00</td>\n",
       "      <td>&lt;NA&gt;</td>\n",
       "      <td>NaN</td>\n",
       "      <td>NaN</td>\n",
       "    </tr>\n",
       "    <tr>\n",
       "      <th>5360</th>\n",
       "      <td>Freeway</td>\n",
       "      <td>2600</td>\n",
       "      <td>1980</td>\n",
       "      <td>Action</td>\n",
       "      <td>0.32</td>\n",
       "      <td>0.02</td>\n",
       "      <td>0.0</td>\n",
       "      <td>0.00</td>\n",
       "      <td>&lt;NA&gt;</td>\n",
       "      <td>NaN</td>\n",
       "      <td>NaN</td>\n",
       "    </tr>\n",
       "    <tr>\n",
       "      <th>262</th>\n",
       "      <td>Asteroids</td>\n",
       "      <td>2600</td>\n",
       "      <td>1980</td>\n",
       "      <td>Shooter</td>\n",
       "      <td>4.00</td>\n",
       "      <td>0.26</td>\n",
       "      <td>0.0</td>\n",
       "      <td>0.05</td>\n",
       "      <td>&lt;NA&gt;</td>\n",
       "      <td>NaN</td>\n",
       "      <td>NaN</td>\n",
       "    </tr>\n",
       "    <tr>\n",
       "      <th>4019</th>\n",
       "      <td>Ice Hockey</td>\n",
       "      <td>2600</td>\n",
       "      <td>1980</td>\n",
       "      <td>Sports</td>\n",
       "      <td>0.46</td>\n",
       "      <td>0.03</td>\n",
       "      <td>0.0</td>\n",
       "      <td>0.01</td>\n",
       "      <td>&lt;NA&gt;</td>\n",
       "      <td>NaN</td>\n",
       "      <td>NaN</td>\n",
       "    </tr>\n",
       "    <tr>\n",
       "      <th>6875</th>\n",
       "      <td>Checkers</td>\n",
       "      <td>2600</td>\n",
       "      <td>1980</td>\n",
       "      <td>Misc</td>\n",
       "      <td>0.22</td>\n",
       "      <td>0.01</td>\n",
       "      <td>0.0</td>\n",
       "      <td>0.00</td>\n",
       "      <td>&lt;NA&gt;</td>\n",
       "      <td>NaN</td>\n",
       "      <td>NaN</td>\n",
       "    </tr>\n",
       "    <tr>\n",
       "      <th>2650</th>\n",
       "      <td>Boxing</td>\n",
       "      <td>2600</td>\n",
       "      <td>1980</td>\n",
       "      <td>Fighting</td>\n",
       "      <td>0.72</td>\n",
       "      <td>0.04</td>\n",
       "      <td>0.0</td>\n",
       "      <td>0.01</td>\n",
       "      <td>&lt;NA&gt;</td>\n",
       "      <td>NaN</td>\n",
       "      <td>NaN</td>\n",
       "    </tr>\n",
       "    <tr>\n",
       "      <th>3394</th>\n",
       "      <td>BurgerTime</td>\n",
       "      <td>2600</td>\n",
       "      <td>1981</td>\n",
       "      <td>Puzzle</td>\n",
       "      <td>0.55</td>\n",
       "      <td>0.03</td>\n",
       "      <td>0.0</td>\n",
       "      <td>0.01</td>\n",
       "      <td>&lt;NA&gt;</td>\n",
       "      <td>NaN</td>\n",
       "      <td>NaN</td>\n",
       "    </tr>\n",
       "    <tr>\n",
       "      <th>3398</th>\n",
       "      <td>Smurf: Rescue In Gargamel's Castle</td>\n",
       "      <td>2600</td>\n",
       "      <td>1981</td>\n",
       "      <td>Action</td>\n",
       "      <td>0.55</td>\n",
       "      <td>0.03</td>\n",
       "      <td>0.0</td>\n",
       "      <td>0.01</td>\n",
       "      <td>&lt;NA&gt;</td>\n",
       "      <td>NaN</td>\n",
       "      <td>NaN</td>\n",
       "    </tr>\n",
       "    <tr>\n",
       "      <th>866</th>\n",
       "      <td>E.T.: The Extra Terrestrial</td>\n",
       "      <td>2600</td>\n",
       "      <td>1981</td>\n",
       "      <td>Action</td>\n",
       "      <td>1.84</td>\n",
       "      <td>0.11</td>\n",
       "      <td>0.0</td>\n",
       "      <td>0.02</td>\n",
       "      <td>&lt;NA&gt;</td>\n",
       "      <td>NaN</td>\n",
       "      <td>NaN</td>\n",
       "    </tr>\n",
       "    <tr>\n",
       "      <th>736</th>\n",
       "      <td>Frogger</td>\n",
       "      <td>2600</td>\n",
       "      <td>1981</td>\n",
       "      <td>Action</td>\n",
       "      <td>2.06</td>\n",
       "      <td>0.12</td>\n",
       "      <td>0.0</td>\n",
       "      <td>0.02</td>\n",
       "      <td>&lt;NA&gt;</td>\n",
       "      <td>NaN</td>\n",
       "      <td>NaN</td>\n",
       "    </tr>\n",
       "    <tr>\n",
       "      <th>7165</th>\n",
       "      <td>Crazy Climber</td>\n",
       "      <td>2600</td>\n",
       "      <td>1981</td>\n",
       "      <td>Action</td>\n",
       "      <td>0.21</td>\n",
       "      <td>0.01</td>\n",
       "      <td>0.0</td>\n",
       "      <td>0.00</td>\n",
       "      <td>&lt;NA&gt;</td>\n",
       "      <td>NaN</td>\n",
       "      <td>NaN</td>\n",
       "    </tr>\n",
       "    <tr>\n",
       "      <th>4366</th>\n",
       "      <td>Jawbreaker</td>\n",
       "      <td>2600</td>\n",
       "      <td>1981</td>\n",
       "      <td>Action</td>\n",
       "      <td>0.42</td>\n",
       "      <td>0.03</td>\n",
       "      <td>0.0</td>\n",
       "      <td>0.00</td>\n",
       "      <td>&lt;NA&gt;</td>\n",
       "      <td>NaN</td>\n",
       "      <td>NaN</td>\n",
       "    </tr>\n",
       "    <tr>\n",
       "      <th>2218</th>\n",
       "      <td>Spider-Man</td>\n",
       "      <td>2600</td>\n",
       "      <td>1981</td>\n",
       "      <td>Action</td>\n",
       "      <td>0.87</td>\n",
       "      <td>0.05</td>\n",
       "      <td>0.0</td>\n",
       "      <td>0.01</td>\n",
       "      <td>&lt;NA&gt;</td>\n",
       "      <td>NaN</td>\n",
       "      <td>NaN</td>\n",
       "    </tr>\n",
       "    <tr>\n",
       "      <th>5233</th>\n",
       "      <td>Frogs And Flies</td>\n",
       "      <td>2600</td>\n",
       "      <td>1981</td>\n",
       "      <td>Action</td>\n",
       "      <td>0.33</td>\n",
       "      <td>0.02</td>\n",
       "      <td>0.0</td>\n",
       "      <td>0.00</td>\n",
       "      <td>&lt;NA&gt;</td>\n",
       "      <td>NaN</td>\n",
       "      <td>NaN</td>\n",
       "    </tr>\n",
       "    <tr>\n",
       "      <th>5803</th>\n",
       "      <td>Astroblast</td>\n",
       "      <td>2600</td>\n",
       "      <td>1981</td>\n",
       "      <td>Action</td>\n",
       "      <td>0.29</td>\n",
       "      <td>0.02</td>\n",
       "      <td>0.0</td>\n",
       "      <td>0.00</td>\n",
       "      <td>&lt;NA&gt;</td>\n",
       "      <td>NaN</td>\n",
       "      <td>NaN</td>\n",
       "    </tr>\n",
       "    <tr>\n",
       "      <th>6922</th>\n",
       "      <td>Dark Cavern</td>\n",
       "      <td>2600</td>\n",
       "      <td>1981</td>\n",
       "      <td>Shooter</td>\n",
       "      <td>0.22</td>\n",
       "      <td>0.01</td>\n",
       "      <td>0.0</td>\n",
       "      <td>0.00</td>\n",
       "      <td>&lt;NA&gt;</td>\n",
       "      <td>NaN</td>\n",
       "      <td>NaN</td>\n",
       "    </tr>\n",
       "    <tr>\n",
       "      <th>1426</th>\n",
       "      <td>Centipede</td>\n",
       "      <td>2600</td>\n",
       "      <td>1981</td>\n",
       "      <td>Shooter</td>\n",
       "      <td>1.26</td>\n",
       "      <td>0.08</td>\n",
       "      <td>0.0</td>\n",
       "      <td>0.01</td>\n",
       "      <td>&lt;NA&gt;</td>\n",
       "      <td>NaN</td>\n",
       "      <td>NaN</td>\n",
       "    </tr>\n",
       "    <tr>\n",
       "      <th>4499</th>\n",
       "      <td>Barnstorming</td>\n",
       "      <td>2600</td>\n",
       "      <td>1981</td>\n",
       "      <td>Action</td>\n",
       "      <td>0.40</td>\n",
       "      <td>0.02</td>\n",
       "      <td>0.0</td>\n",
       "      <td>0.00</td>\n",
       "      <td>&lt;NA&gt;</td>\n",
       "      <td>NaN</td>\n",
       "      <td>NaN</td>\n",
       "    </tr>\n",
       "    <tr>\n",
       "      <th>7355</th>\n",
       "      <td>RealSports Baseball</td>\n",
       "      <td>2600</td>\n",
       "      <td>1981</td>\n",
       "      <td>Sports</td>\n",
       "      <td>0.20</td>\n",
       "      <td>0.01</td>\n",
       "      <td>0.0</td>\n",
       "      <td>0.00</td>\n",
       "      <td>&lt;NA&gt;</td>\n",
       "      <td>NaN</td>\n",
       "      <td>NaN</td>\n",
       "    </tr>\n",
       "    <tr>\n",
       "      <th>5996</th>\n",
       "      <td>Fast Food</td>\n",
       "      <td>2600</td>\n",
       "      <td>1981</td>\n",
       "      <td>Action</td>\n",
       "      <td>0.27</td>\n",
       "      <td>0.02</td>\n",
       "      <td>0.0</td>\n",
       "      <td>0.00</td>\n",
       "      <td>&lt;NA&gt;</td>\n",
       "      <td>NaN</td>\n",
       "      <td>NaN</td>\n",
       "    </tr>\n",
       "    <tr>\n",
       "      <th>2935</th>\n",
       "      <td>King Kong</td>\n",
       "      <td>2600</td>\n",
       "      <td>1981</td>\n",
       "      <td>Action</td>\n",
       "      <td>0.65</td>\n",
       "      <td>0.04</td>\n",
       "      <td>0.0</td>\n",
       "      <td>0.01</td>\n",
       "      <td>&lt;NA&gt;</td>\n",
       "      <td>NaN</td>\n",
       "      <td>NaN</td>\n",
       "    </tr>\n",
       "    <tr>\n",
       "      <th>7135</th>\n",
       "      <td>Reactor</td>\n",
       "      <td>2600</td>\n",
       "      <td>1981</td>\n",
       "      <td>Action</td>\n",
       "      <td>0.21</td>\n",
       "      <td>0.01</td>\n",
       "      <td>0.0</td>\n",
       "      <td>0.00</td>\n",
       "      <td>&lt;NA&gt;</td>\n",
       "      <td>NaN</td>\n",
       "      <td>NaN</td>\n",
       "    </tr>\n",
       "    <tr>\n",
       "      <th>7133</th>\n",
       "      <td>Deadly Duck</td>\n",
       "      <td>2600</td>\n",
       "      <td>1981</td>\n",
       "      <td>Shooter</td>\n",
       "      <td>0.21</td>\n",
       "      <td>0.01</td>\n",
       "      <td>0.0</td>\n",
       "      <td>0.00</td>\n",
       "      <td>&lt;NA&gt;</td>\n",
       "      <td>NaN</td>\n",
       "      <td>NaN</td>\n",
       "    </tr>\n",
       "    <tr>\n",
       "      <th>5111</th>\n",
       "      <td>Dragonfire</td>\n",
       "      <td>2600</td>\n",
       "      <td>1981</td>\n",
       "      <td>Action</td>\n",
       "      <td>0.35</td>\n",
       "      <td>0.02</td>\n",
       "      <td>0.0</td>\n",
       "      <td>0.00</td>\n",
       "      <td>&lt;NA&gt;</td>\n",
       "      <td>NaN</td>\n",
       "      <td>NaN</td>\n",
       "    </tr>\n",
       "    <tr>\n",
       "      <th>1555</th>\n",
       "      <td>Atlantis</td>\n",
       "      <td>2600</td>\n",
       "      <td>1981</td>\n",
       "      <td>Shooter</td>\n",
       "      <td>1.18</td>\n",
       "      <td>0.08</td>\n",
       "      <td>0.0</td>\n",
       "      <td>0.01</td>\n",
       "      <td>&lt;NA&gt;</td>\n",
       "      <td>NaN</td>\n",
       "      <td>NaN</td>\n",
       "    </tr>\n",
       "    <tr>\n",
       "      <th>1965</th>\n",
       "      <td>Cosmic Ark</td>\n",
       "      <td>2600</td>\n",
       "      <td>1981</td>\n",
       "      <td>Shooter</td>\n",
       "      <td>0.99</td>\n",
       "      <td>0.05</td>\n",
       "      <td>0.0</td>\n",
       "      <td>0.01</td>\n",
       "      <td>&lt;NA&gt;</td>\n",
       "      <td>NaN</td>\n",
       "      <td>NaN</td>\n",
       "    </tr>\n",
       "    <tr>\n",
       "      <th>7880</th>\n",
       "      <td>International Soccer</td>\n",
       "      <td>2600</td>\n",
       "      <td>1981</td>\n",
       "      <td>Sports</td>\n",
       "      <td>0.18</td>\n",
       "      <td>0.01</td>\n",
       "      <td>0.0</td>\n",
       "      <td>0.00</td>\n",
       "      <td>&lt;NA&gt;</td>\n",
       "      <td>NaN</td>\n",
       "      <td>NaN</td>\n",
       "    </tr>\n",
       "  </tbody>\n",
       "</table>\n",
       "</div>"
      ],
      "text/plain": [
       "                                    name platform  year_of_release     genre  \\\n",
       "1764                             Kaboom!     2600             1980      Misc   \n",
       "546                      Missile Command     2600             1980   Shooter   \n",
       "1968                            Defender     2600             1980      Misc   \n",
       "6300                              Bridge     2600             1980      Misc   \n",
       "5360                             Freeway     2600             1980    Action   \n",
       "262                            Asteroids     2600             1980   Shooter   \n",
       "4019                          Ice Hockey     2600             1980    Sports   \n",
       "6875                            Checkers     2600             1980      Misc   \n",
       "2650                              Boxing     2600             1980  Fighting   \n",
       "3394                          BurgerTime     2600             1981    Puzzle   \n",
       "3398  Smurf: Rescue In Gargamel's Castle     2600             1981    Action   \n",
       "866          E.T.: The Extra Terrestrial     2600             1981    Action   \n",
       "736                              Frogger     2600             1981    Action   \n",
       "7165                       Crazy Climber     2600             1981    Action   \n",
       "4366                          Jawbreaker     2600             1981    Action   \n",
       "2218                          Spider-Man     2600             1981    Action   \n",
       "5233                     Frogs And Flies     2600             1981    Action   \n",
       "5803                          Astroblast     2600             1981    Action   \n",
       "6922                         Dark Cavern     2600             1981   Shooter   \n",
       "1426                           Centipede     2600             1981   Shooter   \n",
       "4499                        Barnstorming     2600             1981    Action   \n",
       "7355                 RealSports Baseball     2600             1981    Sports   \n",
       "5996                           Fast Food     2600             1981    Action   \n",
       "2935                           King Kong     2600             1981    Action   \n",
       "7135                             Reactor     2600             1981    Action   \n",
       "7133                         Deadly Duck     2600             1981   Shooter   \n",
       "5111                          Dragonfire     2600             1981    Action   \n",
       "1555                            Atlantis     2600             1981   Shooter   \n",
       "1965                          Cosmic Ark     2600             1981   Shooter   \n",
       "7880                International Soccer     2600             1981    Sports   \n",
       "\n",
       "      na_sales  eu_sales  jp_sales  other_sales  critic_score  user_score  \\\n",
       "1764      1.07      0.07       0.0         0.01          <NA>         NaN   \n",
       "546       2.56      0.17       0.0         0.03          <NA>         NaN   \n",
       "1968      0.99      0.05       0.0         0.01          <NA>         NaN   \n",
       "6300      0.25      0.02       0.0         0.00          <NA>         NaN   \n",
       "5360      0.32      0.02       0.0         0.00          <NA>         NaN   \n",
       "262       4.00      0.26       0.0         0.05          <NA>         NaN   \n",
       "4019      0.46      0.03       0.0         0.01          <NA>         NaN   \n",
       "6875      0.22      0.01       0.0         0.00          <NA>         NaN   \n",
       "2650      0.72      0.04       0.0         0.01          <NA>         NaN   \n",
       "3394      0.55      0.03       0.0         0.01          <NA>         NaN   \n",
       "3398      0.55      0.03       0.0         0.01          <NA>         NaN   \n",
       "866       1.84      0.11       0.0         0.02          <NA>         NaN   \n",
       "736       2.06      0.12       0.0         0.02          <NA>         NaN   \n",
       "7165      0.21      0.01       0.0         0.00          <NA>         NaN   \n",
       "4366      0.42      0.03       0.0         0.00          <NA>         NaN   \n",
       "2218      0.87      0.05       0.0         0.01          <NA>         NaN   \n",
       "5233      0.33      0.02       0.0         0.00          <NA>         NaN   \n",
       "5803      0.29      0.02       0.0         0.00          <NA>         NaN   \n",
       "6922      0.22      0.01       0.0         0.00          <NA>         NaN   \n",
       "1426      1.26      0.08       0.0         0.01          <NA>         NaN   \n",
       "4499      0.40      0.02       0.0         0.00          <NA>         NaN   \n",
       "7355      0.20      0.01       0.0         0.00          <NA>         NaN   \n",
       "5996      0.27      0.02       0.0         0.00          <NA>         NaN   \n",
       "2935      0.65      0.04       0.0         0.01          <NA>         NaN   \n",
       "7135      0.21      0.01       0.0         0.00          <NA>         NaN   \n",
       "7133      0.21      0.01       0.0         0.00          <NA>         NaN   \n",
       "5111      0.35      0.02       0.0         0.00          <NA>         NaN   \n",
       "1555      1.18      0.08       0.0         0.01          <NA>         NaN   \n",
       "1965      0.99      0.05       0.0         0.01          <NA>         NaN   \n",
       "7880      0.18      0.01       0.0         0.00          <NA>         NaN   \n",
       "\n",
       "     rating  \n",
       "1764    NaN  \n",
       "546     NaN  \n",
       "1968    NaN  \n",
       "6300    NaN  \n",
       "5360    NaN  \n",
       "262     NaN  \n",
       "4019    NaN  \n",
       "6875    NaN  \n",
       "2650    NaN  \n",
       "3394    NaN  \n",
       "3398    NaN  \n",
       "866     NaN  \n",
       "736     NaN  \n",
       "7165    NaN  \n",
       "4366    NaN  \n",
       "2218    NaN  \n",
       "5233    NaN  \n",
       "5803    NaN  \n",
       "6922    NaN  \n",
       "1426    NaN  \n",
       "4499    NaN  \n",
       "7355    NaN  \n",
       "5996    NaN  \n",
       "2935    NaN  \n",
       "7135    NaN  \n",
       "7133    NaN  \n",
       "5111    NaN  \n",
       "1555    NaN  \n",
       "1965    NaN  \n",
       "7880    NaN  "
      ]
     },
     "execution_count": 16,
     "metadata": {},
     "output_type": "execute_result"
    }
   ],
   "source": [
    "data.sort_values(['year_of_release']).head(30)"
   ]
  },
  {
   "cell_type": "markdown",
   "metadata": {},
   "source": [
    "По сути так и есть, ранее выпущенные игры имеет во всех 2-х столбцах пропущенные значения. Так как данные столбцы заполнять медианным или средним значением будет не корректно, и удалить такую большую часть данных мы не можем, да и заполнить их 0 будет не корректно, иначе исказится результат, считаю что данные пропуски необходимо оставить так как есть."
   ]
  },
  {
   "cell_type": "markdown",
   "metadata": {},
   "source": [
    "__Посчитайте суммарные продажи во всех регионах и запишите их в отдельный столбец__"
   ]
  },
  {
   "cell_type": "code",
   "execution_count": 17,
   "metadata": {},
   "outputs": [
    {
     "data": {
      "text/html": [
       "<div>\n",
       "<style scoped>\n",
       "    .dataframe tbody tr th:only-of-type {\n",
       "        vertical-align: middle;\n",
       "    }\n",
       "\n",
       "    .dataframe tbody tr th {\n",
       "        vertical-align: top;\n",
       "    }\n",
       "\n",
       "    .dataframe thead th {\n",
       "        text-align: right;\n",
       "    }\n",
       "</style>\n",
       "<table border=\"1\" class=\"dataframe\">\n",
       "  <thead>\n",
       "    <tr style=\"text-align: right;\">\n",
       "      <th></th>\n",
       "      <th>name</th>\n",
       "      <th>platform</th>\n",
       "      <th>year_of_release</th>\n",
       "      <th>genre</th>\n",
       "      <th>na_sales</th>\n",
       "      <th>eu_sales</th>\n",
       "      <th>jp_sales</th>\n",
       "      <th>other_sales</th>\n",
       "      <th>critic_score</th>\n",
       "      <th>user_score</th>\n",
       "      <th>rating</th>\n",
       "      <th>total_sales</th>\n",
       "    </tr>\n",
       "  </thead>\n",
       "  <tbody>\n",
       "    <tr>\n",
       "      <th>0</th>\n",
       "      <td>Wii Sports</td>\n",
       "      <td>Wii</td>\n",
       "      <td>2006</td>\n",
       "      <td>Sports</td>\n",
       "      <td>41.36</td>\n",
       "      <td>28.96</td>\n",
       "      <td>3.77</td>\n",
       "      <td>8.45</td>\n",
       "      <td>76</td>\n",
       "      <td>8.0</td>\n",
       "      <td>E</td>\n",
       "      <td>82.54</td>\n",
       "    </tr>\n",
       "    <tr>\n",
       "      <th>1</th>\n",
       "      <td>Super Mario Bros.</td>\n",
       "      <td>NES</td>\n",
       "      <td>1985</td>\n",
       "      <td>Platform</td>\n",
       "      <td>29.08</td>\n",
       "      <td>3.58</td>\n",
       "      <td>6.81</td>\n",
       "      <td>0.77</td>\n",
       "      <td>&lt;NA&gt;</td>\n",
       "      <td>NaN</td>\n",
       "      <td>NaN</td>\n",
       "      <td>40.24</td>\n",
       "    </tr>\n",
       "    <tr>\n",
       "      <th>2</th>\n",
       "      <td>Mario Kart Wii</td>\n",
       "      <td>Wii</td>\n",
       "      <td>2008</td>\n",
       "      <td>Racing</td>\n",
       "      <td>15.68</td>\n",
       "      <td>12.76</td>\n",
       "      <td>3.79</td>\n",
       "      <td>3.29</td>\n",
       "      <td>82</td>\n",
       "      <td>8.3</td>\n",
       "      <td>E</td>\n",
       "      <td>35.52</td>\n",
       "    </tr>\n",
       "    <tr>\n",
       "      <th>3</th>\n",
       "      <td>Wii Sports Resort</td>\n",
       "      <td>Wii</td>\n",
       "      <td>2009</td>\n",
       "      <td>Sports</td>\n",
       "      <td>15.61</td>\n",
       "      <td>10.93</td>\n",
       "      <td>3.28</td>\n",
       "      <td>2.95</td>\n",
       "      <td>80</td>\n",
       "      <td>8.0</td>\n",
       "      <td>E</td>\n",
       "      <td>32.77</td>\n",
       "    </tr>\n",
       "    <tr>\n",
       "      <th>4</th>\n",
       "      <td>Pokemon Red/Pokemon Blue</td>\n",
       "      <td>GB</td>\n",
       "      <td>1996</td>\n",
       "      <td>Role-Playing</td>\n",
       "      <td>11.27</td>\n",
       "      <td>8.89</td>\n",
       "      <td>10.22</td>\n",
       "      <td>1.00</td>\n",
       "      <td>&lt;NA&gt;</td>\n",
       "      <td>NaN</td>\n",
       "      <td>NaN</td>\n",
       "      <td>31.38</td>\n",
       "    </tr>\n",
       "    <tr>\n",
       "      <th>5</th>\n",
       "      <td>Tetris</td>\n",
       "      <td>GB</td>\n",
       "      <td>1989</td>\n",
       "      <td>Puzzle</td>\n",
       "      <td>23.20</td>\n",
       "      <td>2.26</td>\n",
       "      <td>4.22</td>\n",
       "      <td>0.58</td>\n",
       "      <td>&lt;NA&gt;</td>\n",
       "      <td>NaN</td>\n",
       "      <td>NaN</td>\n",
       "      <td>30.26</td>\n",
       "    </tr>\n",
       "    <tr>\n",
       "      <th>6</th>\n",
       "      <td>New Super Mario Bros.</td>\n",
       "      <td>DS</td>\n",
       "      <td>2006</td>\n",
       "      <td>Platform</td>\n",
       "      <td>11.28</td>\n",
       "      <td>9.14</td>\n",
       "      <td>6.50</td>\n",
       "      <td>2.88</td>\n",
       "      <td>89</td>\n",
       "      <td>8.5</td>\n",
       "      <td>E</td>\n",
       "      <td>29.80</td>\n",
       "    </tr>\n",
       "    <tr>\n",
       "      <th>7</th>\n",
       "      <td>Wii Play</td>\n",
       "      <td>Wii</td>\n",
       "      <td>2006</td>\n",
       "      <td>Misc</td>\n",
       "      <td>13.96</td>\n",
       "      <td>9.18</td>\n",
       "      <td>2.93</td>\n",
       "      <td>2.84</td>\n",
       "      <td>58</td>\n",
       "      <td>6.6</td>\n",
       "      <td>E</td>\n",
       "      <td>28.91</td>\n",
       "    </tr>\n",
       "    <tr>\n",
       "      <th>8</th>\n",
       "      <td>New Super Mario Bros. Wii</td>\n",
       "      <td>Wii</td>\n",
       "      <td>2009</td>\n",
       "      <td>Platform</td>\n",
       "      <td>14.44</td>\n",
       "      <td>6.94</td>\n",
       "      <td>4.70</td>\n",
       "      <td>2.24</td>\n",
       "      <td>87</td>\n",
       "      <td>8.4</td>\n",
       "      <td>E</td>\n",
       "      <td>28.32</td>\n",
       "    </tr>\n",
       "    <tr>\n",
       "      <th>9</th>\n",
       "      <td>Duck Hunt</td>\n",
       "      <td>NES</td>\n",
       "      <td>1984</td>\n",
       "      <td>Shooter</td>\n",
       "      <td>26.93</td>\n",
       "      <td>0.63</td>\n",
       "      <td>0.28</td>\n",
       "      <td>0.47</td>\n",
       "      <td>&lt;NA&gt;</td>\n",
       "      <td>NaN</td>\n",
       "      <td>NaN</td>\n",
       "      <td>28.31</td>\n",
       "    </tr>\n",
       "  </tbody>\n",
       "</table>\n",
       "</div>"
      ],
      "text/plain": [
       "                        name platform  year_of_release         genre  \\\n",
       "0                 Wii Sports      Wii             2006        Sports   \n",
       "1          Super Mario Bros.      NES             1985      Platform   \n",
       "2             Mario Kart Wii      Wii             2008        Racing   \n",
       "3          Wii Sports Resort      Wii             2009        Sports   \n",
       "4   Pokemon Red/Pokemon Blue       GB             1996  Role-Playing   \n",
       "5                     Tetris       GB             1989        Puzzle   \n",
       "6      New Super Mario Bros.       DS             2006      Platform   \n",
       "7                   Wii Play      Wii             2006          Misc   \n",
       "8  New Super Mario Bros. Wii      Wii             2009      Platform   \n",
       "9                  Duck Hunt      NES             1984       Shooter   \n",
       "\n",
       "   na_sales  eu_sales  jp_sales  other_sales  critic_score  user_score rating  \\\n",
       "0     41.36     28.96      3.77         8.45            76         8.0      E   \n",
       "1     29.08      3.58      6.81         0.77          <NA>         NaN    NaN   \n",
       "2     15.68     12.76      3.79         3.29            82         8.3      E   \n",
       "3     15.61     10.93      3.28         2.95            80         8.0      E   \n",
       "4     11.27      8.89     10.22         1.00          <NA>         NaN    NaN   \n",
       "5     23.20      2.26      4.22         0.58          <NA>         NaN    NaN   \n",
       "6     11.28      9.14      6.50         2.88            89         8.5      E   \n",
       "7     13.96      9.18      2.93         2.84            58         6.6      E   \n",
       "8     14.44      6.94      4.70         2.24            87         8.4      E   \n",
       "9     26.93      0.63      0.28         0.47          <NA>         NaN    NaN   \n",
       "\n",
       "   total_sales  \n",
       "0        82.54  \n",
       "1        40.24  \n",
       "2        35.52  \n",
       "3        32.77  \n",
       "4        31.38  \n",
       "5        30.26  \n",
       "6        29.80  \n",
       "7        28.91  \n",
       "8        28.32  \n",
       "9        28.31  "
      ]
     },
     "execution_count": 17,
     "metadata": {},
     "output_type": "execute_result"
    }
   ],
   "source": [
    "data['total_sales'] = data['na_sales'] + data['eu_sales'] + data['jp_sales'] + data['other_sales']\n",
    "data.head(10)"
   ]
  },
  {
   "cell_type": "markdown",
   "metadata": {},
   "source": [
    "\n",
    "<br>Обработаем пропуски в стобце rating. Так как этот столбец мы не можем заполнить средним илимедианным значением, поставим заглушку\n",
    "</div>"
   ]
  },
  {
   "cell_type": "code",
   "execution_count": 18,
   "metadata": {},
   "outputs": [
    {
     "data": {
      "text/html": [
       "<div>\n",
       "<style scoped>\n",
       "    .dataframe tbody tr th:only-of-type {\n",
       "        vertical-align: middle;\n",
       "    }\n",
       "\n",
       "    .dataframe tbody tr th {\n",
       "        vertical-align: top;\n",
       "    }\n",
       "\n",
       "    .dataframe thead th {\n",
       "        text-align: right;\n",
       "    }\n",
       "</style>\n",
       "<table border=\"1\" class=\"dataframe\">\n",
       "  <thead>\n",
       "    <tr style=\"text-align: right;\">\n",
       "      <th></th>\n",
       "      <th>name</th>\n",
       "      <th>platform</th>\n",
       "      <th>year_of_release</th>\n",
       "      <th>genre</th>\n",
       "      <th>na_sales</th>\n",
       "      <th>eu_sales</th>\n",
       "      <th>jp_sales</th>\n",
       "      <th>other_sales</th>\n",
       "      <th>critic_score</th>\n",
       "      <th>user_score</th>\n",
       "      <th>rating</th>\n",
       "      <th>total_sales</th>\n",
       "    </tr>\n",
       "  </thead>\n",
       "  <tbody>\n",
       "    <tr>\n",
       "      <th>0</th>\n",
       "      <td>Wii Sports</td>\n",
       "      <td>Wii</td>\n",
       "      <td>2006</td>\n",
       "      <td>Sports</td>\n",
       "      <td>41.36</td>\n",
       "      <td>28.96</td>\n",
       "      <td>3.77</td>\n",
       "      <td>8.45</td>\n",
       "      <td>76</td>\n",
       "      <td>8.0</td>\n",
       "      <td>E</td>\n",
       "      <td>82.54</td>\n",
       "    </tr>\n",
       "    <tr>\n",
       "      <th>1</th>\n",
       "      <td>Super Mario Bros.</td>\n",
       "      <td>NES</td>\n",
       "      <td>1985</td>\n",
       "      <td>Platform</td>\n",
       "      <td>29.08</td>\n",
       "      <td>3.58</td>\n",
       "      <td>6.81</td>\n",
       "      <td>0.77</td>\n",
       "      <td>&lt;NA&gt;</td>\n",
       "      <td>NaN</td>\n",
       "      <td>-1</td>\n",
       "      <td>40.24</td>\n",
       "    </tr>\n",
       "    <tr>\n",
       "      <th>2</th>\n",
       "      <td>Mario Kart Wii</td>\n",
       "      <td>Wii</td>\n",
       "      <td>2008</td>\n",
       "      <td>Racing</td>\n",
       "      <td>15.68</td>\n",
       "      <td>12.76</td>\n",
       "      <td>3.79</td>\n",
       "      <td>3.29</td>\n",
       "      <td>82</td>\n",
       "      <td>8.3</td>\n",
       "      <td>E</td>\n",
       "      <td>35.52</td>\n",
       "    </tr>\n",
       "    <tr>\n",
       "      <th>3</th>\n",
       "      <td>Wii Sports Resort</td>\n",
       "      <td>Wii</td>\n",
       "      <td>2009</td>\n",
       "      <td>Sports</td>\n",
       "      <td>15.61</td>\n",
       "      <td>10.93</td>\n",
       "      <td>3.28</td>\n",
       "      <td>2.95</td>\n",
       "      <td>80</td>\n",
       "      <td>8.0</td>\n",
       "      <td>E</td>\n",
       "      <td>32.77</td>\n",
       "    </tr>\n",
       "    <tr>\n",
       "      <th>4</th>\n",
       "      <td>Pokemon Red/Pokemon Blue</td>\n",
       "      <td>GB</td>\n",
       "      <td>1996</td>\n",
       "      <td>Role-Playing</td>\n",
       "      <td>11.27</td>\n",
       "      <td>8.89</td>\n",
       "      <td>10.22</td>\n",
       "      <td>1.00</td>\n",
       "      <td>&lt;NA&gt;</td>\n",
       "      <td>NaN</td>\n",
       "      <td>-1</td>\n",
       "      <td>31.38</td>\n",
       "    </tr>\n",
       "    <tr>\n",
       "      <th>5</th>\n",
       "      <td>Tetris</td>\n",
       "      <td>GB</td>\n",
       "      <td>1989</td>\n",
       "      <td>Puzzle</td>\n",
       "      <td>23.20</td>\n",
       "      <td>2.26</td>\n",
       "      <td>4.22</td>\n",
       "      <td>0.58</td>\n",
       "      <td>&lt;NA&gt;</td>\n",
       "      <td>NaN</td>\n",
       "      <td>-1</td>\n",
       "      <td>30.26</td>\n",
       "    </tr>\n",
       "    <tr>\n",
       "      <th>6</th>\n",
       "      <td>New Super Mario Bros.</td>\n",
       "      <td>DS</td>\n",
       "      <td>2006</td>\n",
       "      <td>Platform</td>\n",
       "      <td>11.28</td>\n",
       "      <td>9.14</td>\n",
       "      <td>6.50</td>\n",
       "      <td>2.88</td>\n",
       "      <td>89</td>\n",
       "      <td>8.5</td>\n",
       "      <td>E</td>\n",
       "      <td>29.80</td>\n",
       "    </tr>\n",
       "    <tr>\n",
       "      <th>7</th>\n",
       "      <td>Wii Play</td>\n",
       "      <td>Wii</td>\n",
       "      <td>2006</td>\n",
       "      <td>Misc</td>\n",
       "      <td>13.96</td>\n",
       "      <td>9.18</td>\n",
       "      <td>2.93</td>\n",
       "      <td>2.84</td>\n",
       "      <td>58</td>\n",
       "      <td>6.6</td>\n",
       "      <td>E</td>\n",
       "      <td>28.91</td>\n",
       "    </tr>\n",
       "    <tr>\n",
       "      <th>8</th>\n",
       "      <td>New Super Mario Bros. Wii</td>\n",
       "      <td>Wii</td>\n",
       "      <td>2009</td>\n",
       "      <td>Platform</td>\n",
       "      <td>14.44</td>\n",
       "      <td>6.94</td>\n",
       "      <td>4.70</td>\n",
       "      <td>2.24</td>\n",
       "      <td>87</td>\n",
       "      <td>8.4</td>\n",
       "      <td>E</td>\n",
       "      <td>28.32</td>\n",
       "    </tr>\n",
       "    <tr>\n",
       "      <th>9</th>\n",
       "      <td>Duck Hunt</td>\n",
       "      <td>NES</td>\n",
       "      <td>1984</td>\n",
       "      <td>Shooter</td>\n",
       "      <td>26.93</td>\n",
       "      <td>0.63</td>\n",
       "      <td>0.28</td>\n",
       "      <td>0.47</td>\n",
       "      <td>&lt;NA&gt;</td>\n",
       "      <td>NaN</td>\n",
       "      <td>-1</td>\n",
       "      <td>28.31</td>\n",
       "    </tr>\n",
       "  </tbody>\n",
       "</table>\n",
       "</div>"
      ],
      "text/plain": [
       "                        name platform  year_of_release         genre  \\\n",
       "0                 Wii Sports      Wii             2006        Sports   \n",
       "1          Super Mario Bros.      NES             1985      Platform   \n",
       "2             Mario Kart Wii      Wii             2008        Racing   \n",
       "3          Wii Sports Resort      Wii             2009        Sports   \n",
       "4   Pokemon Red/Pokemon Blue       GB             1996  Role-Playing   \n",
       "5                     Tetris       GB             1989        Puzzle   \n",
       "6      New Super Mario Bros.       DS             2006      Platform   \n",
       "7                   Wii Play      Wii             2006          Misc   \n",
       "8  New Super Mario Bros. Wii      Wii             2009      Platform   \n",
       "9                  Duck Hunt      NES             1984       Shooter   \n",
       "\n",
       "   na_sales  eu_sales  jp_sales  other_sales  critic_score  user_score rating  \\\n",
       "0     41.36     28.96      3.77         8.45            76         8.0      E   \n",
       "1     29.08      3.58      6.81         0.77          <NA>         NaN     -1   \n",
       "2     15.68     12.76      3.79         3.29            82         8.3      E   \n",
       "3     15.61     10.93      3.28         2.95            80         8.0      E   \n",
       "4     11.27      8.89     10.22         1.00          <NA>         NaN     -1   \n",
       "5     23.20      2.26      4.22         0.58          <NA>         NaN     -1   \n",
       "6     11.28      9.14      6.50         2.88            89         8.5      E   \n",
       "7     13.96      9.18      2.93         2.84            58         6.6      E   \n",
       "8     14.44      6.94      4.70         2.24            87         8.4      E   \n",
       "9     26.93      0.63      0.28         0.47          <NA>         NaN     -1   \n",
       "\n",
       "   total_sales  \n",
       "0        82.54  \n",
       "1        40.24  \n",
       "2        35.52  \n",
       "3        32.77  \n",
       "4        31.38  \n",
       "5        30.26  \n",
       "6        29.80  \n",
       "7        28.91  \n",
       "8        28.32  \n",
       "9        28.31  "
      ]
     },
     "execution_count": 18,
     "metadata": {},
     "output_type": "execute_result"
    }
   ],
   "source": [
    "data[['rating']] = data[['rating']].fillna(-1)\n",
    "data.head(10)"
   ]
  },
  {
   "cell_type": "markdown",
   "metadata": {},
   "source": [
    "# Шаг 3. Проведите исследовательский анализ данных"
   ]
  },
  {
   "cell_type": "markdown",
   "metadata": {},
   "source": [
    "__Посмотрите, сколько игр выпускалось в разные годы. Важны ли данные за все периоды?__"
   ]
  },
  {
   "cell_type": "code",
   "execution_count": 19,
   "metadata": {},
   "outputs": [
    {
     "data": {
      "text/plain": [
       "<AxesSubplot:xlabel='year_of_release'>"
      ]
     },
     "execution_count": 19,
     "metadata": {},
     "output_type": "execute_result"
    },
    {
     "data": {
      "image/png": "[encoded data removed]",
      "text/plain": [
       "<Figure size 936x288 with 1 Axes>"
      ]
     },
     "metadata": {
      "needs_background": "light"
     },
     "output_type": "display_data"
    }
   ],
   "source": [
    "# Для начала создадим сводную таблицу по годам выпуска игр, а далее построим диаграмму, для визуализации\n",
    "data.pivot_table(index='year_of_release', values='name', aggfunc='count').plot(kind='bar', figsize=(13, 4))"
   ]
  },
  {
   "cell_type": "markdown",
   "metadata": {},
   "source": [
    "Судя по диаграмме можно сделать вывод что данные за все периоды не важны, так как до 1995 года выпускалось очень мало игр (менее 200). Пик количества игр по годам пришелся на 2008-2009, далее идет спад. "
   ]
  },
  {
   "cell_type": "code",
   "execution_count": 20,
   "metadata": {},
   "outputs": [
    {
     "data": {
      "image/png": "[encoded data removed]",
      "text/plain": [
       "<Figure size 1080x144 with 1 Axes>"
      ]
     },
     "metadata": {
      "needs_background": "light"
     },
     "output_type": "display_data"
    }
   ],
   "source": [
    "#Построим диаграмму размаха, чтобы увидеть явные выбросы\n",
    "year_of_release_no_emissions=data.boxplot('year_of_release', vert=False, figsize=(15,2), patch_artist=True, flierprops=dict(markeredgecolor=\"#e0434b\"),\n",
    "            medianprops=dict(color='#71c451'))\n",
    "year_of_release_no_emissions.set_yticklabels(['Год'])\n",
    "plt.show()"
   ]
  },
  {
   "cell_type": "code",
   "execution_count": 21,
   "metadata": {},
   "outputs": [],
   "source": [
    "#Удалим выбросы\n",
    "data = data.query('year_of_release >= 1994')"
   ]
  },
  {
   "cell_type": "code",
   "execution_count": 22,
   "metadata": {},
   "outputs": [
    {
     "data": {
      "text/plain": [
       "<AxesSubplot:xlabel='year_of_release'>"
      ]
     },
     "execution_count": 22,
     "metadata": {},
     "output_type": "execute_result"
    },
    {
     "data": {
      "image/png": "[encoded data removed]",
      "text/plain": [
       "<Figure size 936x288 with 1 Axes>"
      ]
     },
     "metadata": {
      "needs_background": "light"
     },
     "output_type": "display_data"
    }
   ],
   "source": [
    "data.pivot_table(index='year_of_release', values='name', aggfunc='count').plot(kind='bar', figsize=(13, 4))"
   ]
  },
  {
   "cell_type": "markdown",
   "metadata": {},
   "source": [
    "__Посмотрите, как менялись продажи по платформам. Выберите платформы с наибольшими суммарными продажами и постройте распределение по годам. За какой характерный срок появляются новые и исчезают старые платформы?__"
   ]
  },
  {
   "cell_type": "code",
   "execution_count": 23,
   "metadata": {
    "scrolled": true
   },
   "outputs": [
    {
     "data": {
      "text/html": [
       "<div>\n",
       "<style scoped>\n",
       "    .dataframe tbody tr th:only-of-type {\n",
       "        vertical-align: middle;\n",
       "    }\n",
       "\n",
       "    .dataframe tbody tr th {\n",
       "        vertical-align: top;\n",
       "    }\n",
       "\n",
       "    .dataframe thead th {\n",
       "        text-align: right;\n",
       "    }\n",
       "</style>\n",
       "<table border=\"1\" class=\"dataframe\">\n",
       "  <thead>\n",
       "    <tr style=\"text-align: right;\">\n",
       "      <th></th>\n",
       "      <th>platform</th>\n",
       "      <th>year_of_release</th>\n",
       "      <th>total_sales</th>\n",
       "    </tr>\n",
       "  </thead>\n",
       "  <tbody>\n",
       "    <tr>\n",
       "      <th>0</th>\n",
       "      <td>3DO</td>\n",
       "      <td>1994</td>\n",
       "      <td>0.02</td>\n",
       "    </tr>\n",
       "    <tr>\n",
       "      <th>1</th>\n",
       "      <td>3DO</td>\n",
       "      <td>1995</td>\n",
       "      <td>0.08</td>\n",
       "    </tr>\n",
       "    <tr>\n",
       "      <th>2</th>\n",
       "      <td>3DS</td>\n",
       "      <td>2011</td>\n",
       "      <td>63.20</td>\n",
       "    </tr>\n",
       "    <tr>\n",
       "      <th>3</th>\n",
       "      <td>3DS</td>\n",
       "      <td>2012</td>\n",
       "      <td>51.36</td>\n",
       "    </tr>\n",
       "    <tr>\n",
       "      <th>4</th>\n",
       "      <td>3DS</td>\n",
       "      <td>2013</td>\n",
       "      <td>56.57</td>\n",
       "    </tr>\n",
       "    <tr>\n",
       "      <th>...</th>\n",
       "      <td>...</td>\n",
       "      <td>...</td>\n",
       "      <td>...</td>\n",
       "    </tr>\n",
       "    <tr>\n",
       "      <th>192</th>\n",
       "      <td>XB</td>\n",
       "      <td>2008</td>\n",
       "      <td>0.18</td>\n",
       "    </tr>\n",
       "    <tr>\n",
       "      <th>193</th>\n",
       "      <td>XOne</td>\n",
       "      <td>2013</td>\n",
       "      <td>18.96</td>\n",
       "    </tr>\n",
       "    <tr>\n",
       "      <th>194</th>\n",
       "      <td>XOne</td>\n",
       "      <td>2014</td>\n",
       "      <td>54.07</td>\n",
       "    </tr>\n",
       "    <tr>\n",
       "      <th>195</th>\n",
       "      <td>XOne</td>\n",
       "      <td>2015</td>\n",
       "      <td>60.14</td>\n",
       "    </tr>\n",
       "    <tr>\n",
       "      <th>196</th>\n",
       "      <td>XOne</td>\n",
       "      <td>2016</td>\n",
       "      <td>26.15</td>\n",
       "    </tr>\n",
       "  </tbody>\n",
       "</table>\n",
       "<p>197 rows × 3 columns</p>\n",
       "</div>"
      ],
      "text/plain": [
       "    platform  year_of_release  total_sales\n",
       "0        3DO             1994         0.02\n",
       "1        3DO             1995         0.08\n",
       "2        3DS             2011        63.20\n",
       "3        3DS             2012        51.36\n",
       "4        3DS             2013        56.57\n",
       "..       ...              ...          ...\n",
       "192       XB             2008         0.18\n",
       "193     XOne             2013        18.96\n",
       "194     XOne             2014        54.07\n",
       "195     XOne             2015        60.14\n",
       "196     XOne             2016        26.15\n",
       "\n",
       "[197 rows x 3 columns]"
      ]
     },
     "execution_count": 23,
     "metadata": {},
     "output_type": "execute_result"
    }
   ],
   "source": [
    "# Для начала создадим сводную таблицу по годам выпуска игр на различных платформах и запишим ее в новую переменную\n",
    "total_sales_on_platforms = data.pivot_table(index=('platform', 'year_of_release'), values='total_sales', aggfunc='sum').reset_index()\n",
    "total_sales_on_platforms"
   ]
  },
  {
   "cell_type": "markdown",
   "metadata": {},
   "source": [
    "Выберем ТОП-10 платформ с наибольшими суммарными продажами и постройте распределение по годам"
   ]
  },
  {
   "cell_type": "code",
   "execution_count": 24,
   "metadata": {
    "scrolled": true
   },
   "outputs": [
    {
     "data": {
      "text/html": [
       "<div>\n",
       "<style scoped>\n",
       "    .dataframe tbody tr th:only-of-type {\n",
       "        vertical-align: middle;\n",
       "    }\n",
       "\n",
       "    .dataframe tbody tr th {\n",
       "        vertical-align: top;\n",
       "    }\n",
       "\n",
       "    .dataframe thead th {\n",
       "        text-align: right;\n",
       "    }\n",
       "</style>\n",
       "<table border=\"1\" class=\"dataframe\">\n",
       "  <thead>\n",
       "    <tr style=\"text-align: right;\">\n",
       "      <th></th>\n",
       "      <th>platform</th>\n",
       "      <th>total_sales</th>\n",
       "    </tr>\n",
       "  </thead>\n",
       "  <tbody>\n",
       "    <tr>\n",
       "      <th>0</th>\n",
       "      <td>PS2</td>\n",
       "      <td>1233.56</td>\n",
       "    </tr>\n",
       "    <tr>\n",
       "      <th>1</th>\n",
       "      <td>X360</td>\n",
       "      <td>961.24</td>\n",
       "    </tr>\n",
       "    <tr>\n",
       "      <th>2</th>\n",
       "      <td>PS3</td>\n",
       "      <td>931.34</td>\n",
       "    </tr>\n",
       "    <tr>\n",
       "      <th>3</th>\n",
       "      <td>Wii</td>\n",
       "      <td>891.18</td>\n",
       "    </tr>\n",
       "    <tr>\n",
       "      <th>4</th>\n",
       "      <td>DS</td>\n",
       "      <td>802.76</td>\n",
       "    </tr>\n",
       "    <tr>\n",
       "      <th>5</th>\n",
       "      <td>PS</td>\n",
       "      <td>727.58</td>\n",
       "    </tr>\n",
       "    <tr>\n",
       "      <th>6</th>\n",
       "      <td>PS4</td>\n",
       "      <td>314.14</td>\n",
       "    </tr>\n",
       "    <tr>\n",
       "      <th>7</th>\n",
       "      <td>GBA</td>\n",
       "      <td>312.88</td>\n",
       "    </tr>\n",
       "    <tr>\n",
       "      <th>8</th>\n",
       "      <td>PSP</td>\n",
       "      <td>289.53</td>\n",
       "    </tr>\n",
       "    <tr>\n",
       "      <th>9</th>\n",
       "      <td>3DS</td>\n",
       "      <td>257.81</td>\n",
       "    </tr>\n",
       "  </tbody>\n",
       "</table>\n",
       "</div>"
      ],
      "text/plain": [
       "  platform  total_sales\n",
       "0      PS2      1233.56\n",
       "1     X360       961.24\n",
       "2      PS3       931.34\n",
       "3      Wii       891.18\n",
       "4       DS       802.76\n",
       "5       PS       727.58\n",
       "6      PS4       314.14\n",
       "7      GBA       312.88\n",
       "8      PSP       289.53\n",
       "9      3DS       257.81"
      ]
     },
     "execution_count": 24,
     "metadata": {},
     "output_type": "execute_result"
    }
   ],
   "source": [
    "platf_top10 = (total_sales_on_platforms\n",
    "                        .pivot_table(index='platform', values='total_sales', aggfunc='sum')\n",
    "                        .reset_index()\n",
    "                        .sort_values(by='total_sales', ascending=False)\n",
    "                        .head(10)\n",
    "                        .reset_index(drop=True)\n",
    "                   )\n",
    "platf_top10"
   ]
  },
  {
   "cell_type": "markdown",
   "metadata": {},
   "source": [
    "Из выделенных 10 платформ с наибольшемы продажами особенно выделяются 6, далее сумма продаж значительнро ниже, более чем в два раза. Поэтому ТОП-10, перевоплотим в ТОП-6."
   ]
  },
  {
   "cell_type": "markdown",
   "metadata": {},
   "source": [
    "Теперь построим распределение по годам"
   ]
  },
  {
   "cell_type": "code",
   "execution_count": 25,
   "metadata": {
    "scrolled": true
   },
   "outputs": [
    {
     "data": {
      "text/html": [
       "<div>\n",
       "<style scoped>\n",
       "    .dataframe tbody tr th:only-of-type {\n",
       "        vertical-align: middle;\n",
       "    }\n",
       "\n",
       "    .dataframe tbody tr th {\n",
       "        vertical-align: top;\n",
       "    }\n",
       "\n",
       "    .dataframe thead th {\n",
       "        text-align: right;\n",
       "    }\n",
       "</style>\n",
       "<table border=\"1\" class=\"dataframe\">\n",
       "  <thead>\n",
       "    <tr style=\"text-align: right;\">\n",
       "      <th></th>\n",
       "      <th>name</th>\n",
       "      <th>platform</th>\n",
       "      <th>year_of_release</th>\n",
       "      <th>genre</th>\n",
       "      <th>na_sales</th>\n",
       "      <th>eu_sales</th>\n",
       "      <th>jp_sales</th>\n",
       "      <th>other_sales</th>\n",
       "      <th>critic_score</th>\n",
       "      <th>user_score</th>\n",
       "      <th>rating</th>\n",
       "      <th>total_sales</th>\n",
       "    </tr>\n",
       "  </thead>\n",
       "  <tbody>\n",
       "    <tr>\n",
       "      <th>0</th>\n",
       "      <td>Wii Sports</td>\n",
       "      <td>Wii</td>\n",
       "      <td>2006</td>\n",
       "      <td>Sports</td>\n",
       "      <td>41.36</td>\n",
       "      <td>28.96</td>\n",
       "      <td>3.77</td>\n",
       "      <td>8.45</td>\n",
       "      <td>76</td>\n",
       "      <td>8.0</td>\n",
       "      <td>E</td>\n",
       "      <td>82.54</td>\n",
       "    </tr>\n",
       "    <tr>\n",
       "      <th>2</th>\n",
       "      <td>Mario Kart Wii</td>\n",
       "      <td>Wii</td>\n",
       "      <td>2008</td>\n",
       "      <td>Racing</td>\n",
       "      <td>15.68</td>\n",
       "      <td>12.76</td>\n",
       "      <td>3.79</td>\n",
       "      <td>3.29</td>\n",
       "      <td>82</td>\n",
       "      <td>8.3</td>\n",
       "      <td>E</td>\n",
       "      <td>35.52</td>\n",
       "    </tr>\n",
       "    <tr>\n",
       "      <th>3</th>\n",
       "      <td>Wii Sports Resort</td>\n",
       "      <td>Wii</td>\n",
       "      <td>2009</td>\n",
       "      <td>Sports</td>\n",
       "      <td>15.61</td>\n",
       "      <td>10.93</td>\n",
       "      <td>3.28</td>\n",
       "      <td>2.95</td>\n",
       "      <td>80</td>\n",
       "      <td>8.0</td>\n",
       "      <td>E</td>\n",
       "      <td>32.77</td>\n",
       "    </tr>\n",
       "    <tr>\n",
       "      <th>6</th>\n",
       "      <td>New Super Mario Bros.</td>\n",
       "      <td>DS</td>\n",
       "      <td>2006</td>\n",
       "      <td>Platform</td>\n",
       "      <td>11.28</td>\n",
       "      <td>9.14</td>\n",
       "      <td>6.50</td>\n",
       "      <td>2.88</td>\n",
       "      <td>89</td>\n",
       "      <td>8.5</td>\n",
       "      <td>E</td>\n",
       "      <td>29.80</td>\n",
       "    </tr>\n",
       "    <tr>\n",
       "      <th>7</th>\n",
       "      <td>Wii Play</td>\n",
       "      <td>Wii</td>\n",
       "      <td>2006</td>\n",
       "      <td>Misc</td>\n",
       "      <td>13.96</td>\n",
       "      <td>9.18</td>\n",
       "      <td>2.93</td>\n",
       "      <td>2.84</td>\n",
       "      <td>58</td>\n",
       "      <td>6.6</td>\n",
       "      <td>E</td>\n",
       "      <td>28.91</td>\n",
       "    </tr>\n",
       "    <tr>\n",
       "      <th>8</th>\n",
       "      <td>New Super Mario Bros. Wii</td>\n",
       "      <td>Wii</td>\n",
       "      <td>2009</td>\n",
       "      <td>Platform</td>\n",
       "      <td>14.44</td>\n",
       "      <td>6.94</td>\n",
       "      <td>4.70</td>\n",
       "      <td>2.24</td>\n",
       "      <td>87</td>\n",
       "      <td>8.4</td>\n",
       "      <td>E</td>\n",
       "      <td>28.32</td>\n",
       "    </tr>\n",
       "  </tbody>\n",
       "</table>\n",
       "</div>"
      ],
      "text/plain": [
       "                        name platform  year_of_release     genre  na_sales  \\\n",
       "0                 Wii Sports      Wii             2006    Sports     41.36   \n",
       "2             Mario Kart Wii      Wii             2008    Racing     15.68   \n",
       "3          Wii Sports Resort      Wii             2009    Sports     15.61   \n",
       "6      New Super Mario Bros.       DS             2006  Platform     11.28   \n",
       "7                   Wii Play      Wii             2006      Misc     13.96   \n",
       "8  New Super Mario Bros. Wii      Wii             2009  Platform     14.44   \n",
       "\n",
       "   eu_sales  jp_sales  other_sales  critic_score  user_score rating  \\\n",
       "0     28.96      3.77         8.45            76         8.0      E   \n",
       "2     12.76      3.79         3.29            82         8.3      E   \n",
       "3     10.93      3.28         2.95            80         8.0      E   \n",
       "6      9.14      6.50         2.88            89         8.5      E   \n",
       "7      9.18      2.93         2.84            58         6.6      E   \n",
       "8      6.94      4.70         2.24            87         8.4      E   \n",
       "\n",
       "   total_sales  \n",
       "0        82.54  \n",
       "2        35.52  \n",
       "3        32.77  \n",
       "6        29.80  \n",
       "7        28.91  \n",
       "8        28.32  "
      ]
     },
     "execution_count": 25,
     "metadata": {},
     "output_type": "execute_result"
    }
   ],
   "source": [
    "# Построим отдельную таблицу с платформами, которые вошли в топ-6 по суммарным продажам\n",
    "platf_top6_2 = data[(data['platform'] == 'PS2') | (data['platform'] == 'X360') | (data['platform'] == 'PS3') | (data['platform'] == 'Wii')| (data['platform'] == 'DS') | (data['platform'] == 'PS')]\n",
    "platf_top6_2.head(6)"
   ]
  },
  {
   "cell_type": "code",
   "execution_count": 26,
   "metadata": {},
   "outputs": [
    {
     "data": {
      "image/png": "[encoded data removed]",
      "text/plain": [
       "<Figure size 1080x504 with 1 Axes>"
      ]
     },
     "metadata": {
      "needs_background": "light"
     },
     "output_type": "display_data"
    }
   ],
   "source": [
    "# И уже на основании данных из новой таблицы, в которую вошли топ-6, построим распределение по годам.\n",
    "pd.pivot_table(platf_top6_2, index='year_of_release', columns='platform', values='total_sales', aggfunc='sum').plot(figsize=(15,7))\n",
    "plt.grid(True)"
   ]
  },
  {
   "cell_type": "markdown",
   "metadata": {},
   "source": [
    "Судя по графику можно сделать следующий вывод:\n",
    "- Платформа \"DS\" в свои лучшие годы просуществовала - с 2004 по 2013 - 9 лет, лучшие продажи пришлись на 2008 год.\n",
    "- Платформа \"PS\" - с 1994 по 2004 - 10 лет, пик в  1998.\n",
    "- Платформа \"PS2\" - с 2000 по 2011 - 11 лет, пик 2002 по 2004.\n",
    "- Платформа \"PS3\" - с 2006 по настоящее время, но сдала позиции, согласно имеющимся данным, пик в 2011\n",
    "- Платформа \"Wii\" - с 2006 прям зашла так сказать с успехом, уже с высокими продажами, по настоящее врнемя, но сдала позиции, согласно имеющимся данным, пик на 2009\n",
    "- Платформа \"X360\" - с 2005 по настоящее время, но сдала позиции, согласно имеющимся данным, пик на 2010.\n",
    "\n",
    "Согласно описанному выше можно сделать вывод, что средний срок существования платформ 10 лет.\n",
    "Если посмотреть на начало 90-х, то мы можем увидеть, что конкуренции как таковой и не было, платформа PS была единственной с высокими продажами, и так вплоть до 2004 было мало хороших платформ, но с развитием индустрии, и развитием технологий, а так же появлению все новых идей, количество платформ начинает увеличеватся, и не просто на 1 штуку, а появляется очень много конкурентов. PS хорошо справляется с конкуренцией, развивает совю платформу, и выпускает не менее успешные PS2  и PS3. \n",
    "На популярность каждой платформы влияли фанаты игр, которые выходили эксклюзивно на определенных платформах, например: для PS3  Uncharted 3: Иллюзии Дрейка вышла в 2011 году, имеет высокий рейтинг. А так же сильно влияло доп.оборудование выпускаемое к каждой платформе эксклюзивно, например для PS3 это PS Move. Соответственно на жизнь каждой платформы влияет несколько факторов, это фанаты игр, развитие технологий и эксклюзивное доп.оборудование, это все приносит больше прибыли."
   ]
  },
  {
   "cell_type": "markdown",
   "metadata": {},
   "source": [
    "__Возьмите данные за соответствующий актуальный период для построения прогноза на 2017__\n",
    "\n",
    "Считаю что актуальный период для такой индустрии будет с 2012 по 2016. Слишком большой интервал так же не имеет смысла брать, технологии меняются, и предпочтения потребителей."
   ]
  },
  {
   "cell_type": "code",
   "execution_count": 27,
   "metadata": {},
   "outputs": [
    {
     "data": {
      "text/html": [
       "<div>\n",
       "<style scoped>\n",
       "    .dataframe tbody tr th:only-of-type {\n",
       "        vertical-align: middle;\n",
       "    }\n",
       "\n",
       "    .dataframe tbody tr th {\n",
       "        vertical-align: top;\n",
       "    }\n",
       "\n",
       "    .dataframe thead th {\n",
       "        text-align: right;\n",
       "    }\n",
       "</style>\n",
       "<table border=\"1\" class=\"dataframe\">\n",
       "  <thead>\n",
       "    <tr style=\"text-align: right;\">\n",
       "      <th></th>\n",
       "      <th>name</th>\n",
       "      <th>platform</th>\n",
       "      <th>year_of_release</th>\n",
       "      <th>genre</th>\n",
       "      <th>na_sales</th>\n",
       "      <th>eu_sales</th>\n",
       "      <th>jp_sales</th>\n",
       "      <th>other_sales</th>\n",
       "      <th>critic_score</th>\n",
       "      <th>user_score</th>\n",
       "      <th>rating</th>\n",
       "      <th>total_sales</th>\n",
       "    </tr>\n",
       "  </thead>\n",
       "  <tbody>\n",
       "    <tr>\n",
       "      <th>16</th>\n",
       "      <td>Grand Theft Auto V</td>\n",
       "      <td>PS3</td>\n",
       "      <td>2013</td>\n",
       "      <td>Action</td>\n",
       "      <td>7.02</td>\n",
       "      <td>9.09</td>\n",
       "      <td>0.98</td>\n",
       "      <td>3.96</td>\n",
       "      <td>97</td>\n",
       "      <td>8.2</td>\n",
       "      <td>M</td>\n",
       "      <td>21.05</td>\n",
       "    </tr>\n",
       "    <tr>\n",
       "      <th>23</th>\n",
       "      <td>Grand Theft Auto V</td>\n",
       "      <td>X360</td>\n",
       "      <td>2013</td>\n",
       "      <td>Action</td>\n",
       "      <td>9.66</td>\n",
       "      <td>5.14</td>\n",
       "      <td>0.06</td>\n",
       "      <td>1.41</td>\n",
       "      <td>97</td>\n",
       "      <td>8.1</td>\n",
       "      <td>M</td>\n",
       "      <td>16.27</td>\n",
       "    </tr>\n",
       "    <tr>\n",
       "      <th>31</th>\n",
       "      <td>Call of Duty: Black Ops 3</td>\n",
       "      <td>PS4</td>\n",
       "      <td>2015</td>\n",
       "      <td>Shooter</td>\n",
       "      <td>6.03</td>\n",
       "      <td>5.86</td>\n",
       "      <td>0.36</td>\n",
       "      <td>2.38</td>\n",
       "      <td>&lt;NA&gt;</td>\n",
       "      <td>NaN</td>\n",
       "      <td>-1</td>\n",
       "      <td>14.63</td>\n",
       "    </tr>\n",
       "    <tr>\n",
       "      <th>33</th>\n",
       "      <td>Pokemon X/Pokemon Y</td>\n",
       "      <td>3DS</td>\n",
       "      <td>2013</td>\n",
       "      <td>Role-Playing</td>\n",
       "      <td>5.28</td>\n",
       "      <td>4.19</td>\n",
       "      <td>4.35</td>\n",
       "      <td>0.78</td>\n",
       "      <td>&lt;NA&gt;</td>\n",
       "      <td>NaN</td>\n",
       "      <td>-1</td>\n",
       "      <td>14.60</td>\n",
       "    </tr>\n",
       "    <tr>\n",
       "      <th>34</th>\n",
       "      <td>Call of Duty: Black Ops II</td>\n",
       "      <td>PS3</td>\n",
       "      <td>2012</td>\n",
       "      <td>Shooter</td>\n",
       "      <td>4.99</td>\n",
       "      <td>5.73</td>\n",
       "      <td>0.65</td>\n",
       "      <td>2.42</td>\n",
       "      <td>83</td>\n",
       "      <td>5.3</td>\n",
       "      <td>M</td>\n",
       "      <td>13.79</td>\n",
       "    </tr>\n",
       "  </tbody>\n",
       "</table>\n",
       "</div>"
      ],
      "text/plain": [
       "                          name platform  year_of_release         genre  \\\n",
       "16          Grand Theft Auto V      PS3             2013        Action   \n",
       "23          Grand Theft Auto V     X360             2013        Action   \n",
       "31   Call of Duty: Black Ops 3      PS4             2015       Shooter   \n",
       "33         Pokemon X/Pokemon Y      3DS             2013  Role-Playing   \n",
       "34  Call of Duty: Black Ops II      PS3             2012       Shooter   \n",
       "\n",
       "    na_sales  eu_sales  jp_sales  other_sales  critic_score  user_score  \\\n",
       "16      7.02      9.09      0.98         3.96            97         8.2   \n",
       "23      9.66      5.14      0.06         1.41            97         8.1   \n",
       "31      6.03      5.86      0.36         2.38          <NA>         NaN   \n",
       "33      5.28      4.19      4.35         0.78          <NA>         NaN   \n",
       "34      4.99      5.73      0.65         2.42            83         5.3   \n",
       "\n",
       "   rating  total_sales  \n",
       "16      M        21.05  \n",
       "23      M        16.27  \n",
       "31     -1        14.63  \n",
       "33     -1        14.60  \n",
       "34      M        13.79  "
      ]
     },
     "execution_count": 27,
     "metadata": {},
     "output_type": "execute_result"
    }
   ],
   "source": [
    "current_period = data.query('2012 <= year_of_release')\n",
    "current_period.head()"
   ]
  },
  {
   "cell_type": "markdown",
   "metadata": {},
   "source": [
    "__Какие платформы лидируют по продажам, растут или падают? Выберите несколько потенциально прибыльных платформ__"
   ]
  },
  {
   "cell_type": "code",
   "execution_count": 28,
   "metadata": {},
   "outputs": [
    {
     "data": {
      "text/html": [
       "<div>\n",
       "<style scoped>\n",
       "    .dataframe tbody tr th:only-of-type {\n",
       "        vertical-align: middle;\n",
       "    }\n",
       "\n",
       "    .dataframe tbody tr th {\n",
       "        vertical-align: top;\n",
       "    }\n",
       "\n",
       "    .dataframe thead th {\n",
       "        text-align: right;\n",
       "    }\n",
       "</style>\n",
       "<table border=\"1\" class=\"dataframe\">\n",
       "  <thead>\n",
       "    <tr style=\"text-align: right;\">\n",
       "      <th></th>\n",
       "      <th>total_sales</th>\n",
       "    </tr>\n",
       "    <tr>\n",
       "      <th>platform</th>\n",
       "      <th></th>\n",
       "    </tr>\n",
       "  </thead>\n",
       "  <tbody>\n",
       "    <tr>\n",
       "      <th>PS4</th>\n",
       "      <td>314.14</td>\n",
       "    </tr>\n",
       "    <tr>\n",
       "      <th>PS3</th>\n",
       "      <td>288.79</td>\n",
       "    </tr>\n",
       "    <tr>\n",
       "      <th>X360</th>\n",
       "      <td>236.54</td>\n",
       "    </tr>\n",
       "    <tr>\n",
       "      <th>3DS</th>\n",
       "      <td>194.61</td>\n",
       "    </tr>\n",
       "    <tr>\n",
       "      <th>XOne</th>\n",
       "      <td>159.32</td>\n",
       "    </tr>\n",
       "    <tr>\n",
       "      <th>WiiU</th>\n",
       "      <td>82.19</td>\n",
       "    </tr>\n",
       "    <tr>\n",
       "      <th>PC</th>\n",
       "      <td>62.65</td>\n",
       "    </tr>\n",
       "    <tr>\n",
       "      <th>PSV</th>\n",
       "      <td>49.18</td>\n",
       "    </tr>\n",
       "    <tr>\n",
       "      <th>Wii</th>\n",
       "      <td>35.37</td>\n",
       "    </tr>\n",
       "    <tr>\n",
       "      <th>DS</th>\n",
       "      <td>12.55</td>\n",
       "    </tr>\n",
       "    <tr>\n",
       "      <th>PSP</th>\n",
       "      <td>11.19</td>\n",
       "    </tr>\n",
       "  </tbody>\n",
       "</table>\n",
       "</div>"
      ],
      "text/plain": [
       "          total_sales\n",
       "platform             \n",
       "PS4            314.14\n",
       "PS3            288.79\n",
       "X360           236.54\n",
       "3DS            194.61\n",
       "XOne           159.32\n",
       "WiiU            82.19\n",
       "PC              62.65\n",
       "PSV             49.18\n",
       "Wii             35.37\n",
       "DS              12.55\n",
       "PSP             11.19"
      ]
     },
     "metadata": {},
     "output_type": "display_data"
    }
   ],
   "source": [
    "current_period_on_platforms = current_period.groupby(['platform']).agg({'total_sales':'sum'})\n",
    "display(current_period_on_platforms.sort_values(by='total_sales', ascending=False).head(15))"
   ]
  },
  {
   "cell_type": "code",
   "execution_count": 29,
   "metadata": {
    "scrolled": false
   },
   "outputs": [
    {
     "data": {
      "image/png": "[encoded data removed]",
      "text/plain": [
       "<Figure size 1152x720 with 1 Axes>"
      ]
     },
     "metadata": {
      "needs_background": "light"
     },
     "output_type": "display_data"
    }
   ],
   "source": [
    "pd.pivot_table(current_period, index='year_of_release', columns='platform', values='total_sales', aggfunc='sum').plot(figsize=(16,10))\n",
    "plt.grid(True)\n",
    "plt.title('Продажи с 2012 по 2016 по платформам', fontsize=15)\n",
    "plt.xlabel('Года',fontsize=15)\n",
    "plt.ylabel('Продажи')\n",
    "plt.show()"
   ]
  },
  {
   "cell_type": "markdown",
   "metadata": {},
   "source": [
    "За выбранный период, можно сделать вывод, что лидируют по суммарным продажам PS4- но согласно графику, продажи с 2015г стали падать. Несколько потенциально прибыльных платформ: PS3, X360, PS4, 3DS и XOne. Все они в топе, по суммарным продажам, за актуальный период."
   ]
  },
  {
   "cell_type": "markdown",
   "metadata": {},
   "source": [
    "__Выберу наиболее перспективные платформы__"
   ]
  },
  {
   "cell_type": "code",
   "execution_count": 30,
   "metadata": {},
   "outputs": [
    {
     "data": {
      "text/html": [
       "<div>\n",
       "<style scoped>\n",
       "    .dataframe tbody tr th:only-of-type {\n",
       "        vertical-align: middle;\n",
       "    }\n",
       "\n",
       "    .dataframe tbody tr th {\n",
       "        vertical-align: top;\n",
       "    }\n",
       "\n",
       "    .dataframe thead th {\n",
       "        text-align: right;\n",
       "    }\n",
       "</style>\n",
       "<table border=\"1\" class=\"dataframe\">\n",
       "  <thead>\n",
       "    <tr style=\"text-align: right;\">\n",
       "      <th></th>\n",
       "      <th>name</th>\n",
       "      <th>platform</th>\n",
       "      <th>year_of_release</th>\n",
       "      <th>genre</th>\n",
       "      <th>na_sales</th>\n",
       "      <th>eu_sales</th>\n",
       "      <th>jp_sales</th>\n",
       "      <th>other_sales</th>\n",
       "      <th>critic_score</th>\n",
       "      <th>user_score</th>\n",
       "      <th>rating</th>\n",
       "      <th>total_sales</th>\n",
       "    </tr>\n",
       "  </thead>\n",
       "  <tbody>\n",
       "    <tr>\n",
       "      <th>16</th>\n",
       "      <td>Grand Theft Auto V</td>\n",
       "      <td>PS3</td>\n",
       "      <td>2013</td>\n",
       "      <td>Action</td>\n",
       "      <td>7.02</td>\n",
       "      <td>9.09</td>\n",
       "      <td>0.98</td>\n",
       "      <td>3.96</td>\n",
       "      <td>97</td>\n",
       "      <td>8.2</td>\n",
       "      <td>M</td>\n",
       "      <td>21.05</td>\n",
       "    </tr>\n",
       "    <tr>\n",
       "      <th>23</th>\n",
       "      <td>Grand Theft Auto V</td>\n",
       "      <td>X360</td>\n",
       "      <td>2013</td>\n",
       "      <td>Action</td>\n",
       "      <td>9.66</td>\n",
       "      <td>5.14</td>\n",
       "      <td>0.06</td>\n",
       "      <td>1.41</td>\n",
       "      <td>97</td>\n",
       "      <td>8.1</td>\n",
       "      <td>M</td>\n",
       "      <td>16.27</td>\n",
       "    </tr>\n",
       "    <tr>\n",
       "      <th>31</th>\n",
       "      <td>Call of Duty: Black Ops 3</td>\n",
       "      <td>PS4</td>\n",
       "      <td>2015</td>\n",
       "      <td>Shooter</td>\n",
       "      <td>6.03</td>\n",
       "      <td>5.86</td>\n",
       "      <td>0.36</td>\n",
       "      <td>2.38</td>\n",
       "      <td>&lt;NA&gt;</td>\n",
       "      <td>NaN</td>\n",
       "      <td>-1</td>\n",
       "      <td>14.63</td>\n",
       "    </tr>\n",
       "    <tr>\n",
       "      <th>33</th>\n",
       "      <td>Pokemon X/Pokemon Y</td>\n",
       "      <td>3DS</td>\n",
       "      <td>2013</td>\n",
       "      <td>Role-Playing</td>\n",
       "      <td>5.28</td>\n",
       "      <td>4.19</td>\n",
       "      <td>4.35</td>\n",
       "      <td>0.78</td>\n",
       "      <td>&lt;NA&gt;</td>\n",
       "      <td>NaN</td>\n",
       "      <td>-1</td>\n",
       "      <td>14.60</td>\n",
       "    </tr>\n",
       "    <tr>\n",
       "      <th>34</th>\n",
       "      <td>Call of Duty: Black Ops II</td>\n",
       "      <td>PS3</td>\n",
       "      <td>2012</td>\n",
       "      <td>Shooter</td>\n",
       "      <td>4.99</td>\n",
       "      <td>5.73</td>\n",
       "      <td>0.65</td>\n",
       "      <td>2.42</td>\n",
       "      <td>83</td>\n",
       "      <td>5.3</td>\n",
       "      <td>M</td>\n",
       "      <td>13.79</td>\n",
       "    </tr>\n",
       "  </tbody>\n",
       "</table>\n",
       "</div>"
      ],
      "text/plain": [
       "                          name platform  year_of_release         genre  \\\n",
       "16          Grand Theft Auto V      PS3             2013        Action   \n",
       "23          Grand Theft Auto V     X360             2013        Action   \n",
       "31   Call of Duty: Black Ops 3      PS4             2015       Shooter   \n",
       "33         Pokemon X/Pokemon Y      3DS             2013  Role-Playing   \n",
       "34  Call of Duty: Black Ops II      PS3             2012       Shooter   \n",
       "\n",
       "    na_sales  eu_sales  jp_sales  other_sales  critic_score  user_score  \\\n",
       "16      7.02      9.09      0.98         3.96            97         8.2   \n",
       "23      9.66      5.14      0.06         1.41            97         8.1   \n",
       "31      6.03      5.86      0.36         2.38          <NA>         NaN   \n",
       "33      5.28      4.19      4.35         0.78          <NA>         NaN   \n",
       "34      4.99      5.73      0.65         2.42            83         5.3   \n",
       "\n",
       "   rating  total_sales  \n",
       "16      M        21.05  \n",
       "23      M        16.27  \n",
       "31     -1        14.63  \n",
       "33     -1        14.60  \n",
       "34      M        13.79  "
      ]
     },
     "execution_count": 30,
     "metadata": {},
     "output_type": "execute_result"
    }
   ],
   "source": [
    "promising_platforms = current_period[(current_period['platform'] == 'PS4') | (current_period['platform'] == 'X360') | (current_period['platform'] == 'PS3') | (current_period['platform'] == '3DS')| (current_period['platform'] == 'XOne')]\n",
    "promising_platforms.head()"
   ]
  },
  {
   "cell_type": "markdown",
   "metadata": {},
   "source": [
    "__Постройте график «ящик с усами» по глобальным продажам игр в разбивке по платформам. Опишите результат.__"
   ]
  },
  {
   "cell_type": "code",
   "execution_count": 31,
   "metadata": {},
   "outputs": [
    {
     "data": {
      "image/png": "[encoded data removed]",
      "text/plain": [
       "<Figure size 432x432 with 1 Axes>"
      ]
     },
     "metadata": {
      "needs_background": "light"
     },
     "output_type": "display_data"
    }
   ],
   "source": [
    "mustache_box = plt.subplots(figsize=(6,6))\n",
    "plt.title(\"Глобальные продажи игр по платформам\")\n",
    "plot = sbn.boxplot(x=\"platform\", y=\"total_sales\", data=current_period, palette='rainbow')\n",
    "plt.xlabel('название платформы')\n",
    "plt.ylabel('суммарные продажи')\n",
    "plt.show()"
   ]
  },
  {
   "cell_type": "markdown",
   "metadata": {},
   "source": [
    "\n",
    "<br>Построим дополнительный график, чтобы рассмотреть поближе и корректно сравнить статисики разных платформ.\n",
    "</div>"
   ]
  },
  {
   "cell_type": "code",
   "execution_count": 32,
   "metadata": {
    "scrolled": true
   },
   "outputs": [
    {
     "data": {
      "text/plain": [
       "(0.0, 2.0)"
      ]
     },
     "execution_count": 32,
     "metadata": {},
     "output_type": "execute_result"
    },
    {
     "data": {
      "image/png": "[encoded data removed]",
      "text/plain": [
       "<Figure size 432x288 with 1 Axes>"
      ]
     },
     "metadata": {
      "needs_background": "light"
     },
     "output_type": "display_data"
    }
   ],
   "source": [
    "plt.title(\"Глобальные продажи игр по платформам\")\n",
    "plot = sbn.boxplot(x=\"platform\", y=\"total_sales\", data=current_period, palette='rainbow')\n",
    "plt.xlabel('название платформы')\n",
    "plt.ylabel('суммарные продажи')\n",
    "plt.ylim(0,2)"
   ]
  },
  {
   "cell_type": "code",
   "execution_count": 33,
   "metadata": {},
   "outputs": [
    {
     "data": {
      "text/html": [
       "<div>\n",
       "<style scoped>\n",
       "    .dataframe tbody tr th:only-of-type {\n",
       "        vertical-align: middle;\n",
       "    }\n",
       "\n",
       "    .dataframe tbody tr th {\n",
       "        vertical-align: top;\n",
       "    }\n",
       "\n",
       "    .dataframe thead th {\n",
       "        text-align: right;\n",
       "    }\n",
       "</style>\n",
       "<table border=\"1\" class=\"dataframe\">\n",
       "  <thead>\n",
       "    <tr style=\"text-align: right;\">\n",
       "      <th></th>\n",
       "      <th>total_sales</th>\n",
       "    </tr>\n",
       "    <tr>\n",
       "      <th>platform</th>\n",
       "      <th></th>\n",
       "    </tr>\n",
       "  </thead>\n",
       "  <tbody>\n",
       "    <tr>\n",
       "      <th>PS4</th>\n",
       "      <td>314.14</td>\n",
       "    </tr>\n",
       "    <tr>\n",
       "      <th>PS3</th>\n",
       "      <td>288.79</td>\n",
       "    </tr>\n",
       "    <tr>\n",
       "      <th>X360</th>\n",
       "      <td>236.54</td>\n",
       "    </tr>\n",
       "    <tr>\n",
       "      <th>3DS</th>\n",
       "      <td>194.61</td>\n",
       "    </tr>\n",
       "    <tr>\n",
       "      <th>XOne</th>\n",
       "      <td>159.32</td>\n",
       "    </tr>\n",
       "    <tr>\n",
       "      <th>WiiU</th>\n",
       "      <td>82.19</td>\n",
       "    </tr>\n",
       "    <tr>\n",
       "      <th>PC</th>\n",
       "      <td>62.65</td>\n",
       "    </tr>\n",
       "    <tr>\n",
       "      <th>PSV</th>\n",
       "      <td>49.18</td>\n",
       "    </tr>\n",
       "    <tr>\n",
       "      <th>Wii</th>\n",
       "      <td>35.37</td>\n",
       "    </tr>\n",
       "    <tr>\n",
       "      <th>DS</th>\n",
       "      <td>12.55</td>\n",
       "    </tr>\n",
       "  </tbody>\n",
       "</table>\n",
       "</div>"
      ],
      "text/plain": [
       "          total_sales\n",
       "platform             \n",
       "PS4            314.14\n",
       "PS3            288.79\n",
       "X360           236.54\n",
       "3DS            194.61\n",
       "XOne           159.32\n",
       "WiiU            82.19\n",
       "PC              62.65\n",
       "PSV             49.18\n",
       "Wii             35.37\n",
       "DS              12.55"
      ]
     },
     "execution_count": 33,
     "metadata": {},
     "output_type": "execute_result"
    }
   ],
   "source": [
    "current_period.pivot_table(index='platform', values='total_sales', aggfunc='sum').nlargest(10, 'total_sales')"
   ]
  },
  {
   "cell_type": "markdown",
   "metadata": {},
   "source": [
    "По данному графику можно сделать выводы, что в период с 2012 по 2016 лидерами продаж являлись, PS4, PS3, X360 далее со средними показателями - XOne, WiiU, "
   ]
  },
  {
   "cell_type": "markdown",
   "metadata": {},
   "source": [
    "__Посмотрите, как влияют на продажи внутри одной популярной платформы отзывы пользователей и критиков. Постройте диаграмму рассеяния и посчитайте корреляцию между отзывами и продажами. Сформулируйте выводы.__"
   ]
  },
  {
   "cell_type": "markdown",
   "metadata": {},
   "source": [
    "На примере PS4 - за актуальный период с 2012 по 2016 является часой популярной."
   ]
  },
  {
   "cell_type": "markdown",
   "metadata": {},
   "source": [
    "- Влияние оценки критиков на продажи"
   ]
  },
  {
   "cell_type": "code",
   "execution_count": 34,
   "metadata": {},
   "outputs": [],
   "source": [
    "data_ps = data[data['platform'] == 'PS4']"
   ]
  },
  {
   "cell_type": "code",
   "execution_count": 35,
   "metadata": {
    "scrolled": true
   },
   "outputs": [
    {
     "data": {
      "text/plain": [
       "<AxesSubplot:xlabel='critic_score', ylabel='total_sales'>"
      ]
     },
     "execution_count": 35,
     "metadata": {},
     "output_type": "execute_result"
    },
    {
     "data": {
      "image/png": "[encoded data removed]",
      "text/plain": [
       "<Figure size 360x216 with 1 Axes>"
      ]
     },
     "metadata": {
      "needs_background": "light"
     },
     "output_type": "display_data"
    }
   ],
   "source": [
    "ps4_critic = data_ps[(data_ps['platform'] == 'PS4') & (data_ps['critic_score'] > 0)]\n",
    "ps4_critic.plot(kind='scatter', x='critic_score', y='total_sales', ec='pink', figsize=(5,3))"
   ]
  },
  {
   "cell_type": "markdown",
   "metadata": {},
   "source": [
    "По диаграмме рассеивания можно сделать вывод, что чем выше оценка критиков, тем выше становятся продажи. Это логично, многие пользователи доверяют отзывам экспертов, и на этом могут основывваться их покупки."
   ]
  },
  {
   "cell_type": "markdown",
   "metadata": {},
   "source": [
    "- Влияние оценки пользователей на продажи"
   ]
  },
  {
   "cell_type": "code",
   "execution_count": 36,
   "metadata": {
    "scrolled": true
   },
   "outputs": [
    {
     "data": {
      "text/plain": [
       "<AxesSubplot:xlabel='user_score', ylabel='total_sales'>"
      ]
     },
     "execution_count": 36,
     "metadata": {},
     "output_type": "execute_result"
    },
    {
     "data": {
      "image/png": "[encoded data removed]",
      "text/plain": [
       "<Figure size 360x216 with 1 Axes>"
      ]
     },
     "metadata": {
      "needs_background": "light"
     },
     "output_type": "display_data"
    }
   ],
   "source": [
    "ps4_users = data_ps[(data_ps['platform'] == 'PS4') & (data_ps['user_score'])]\n",
    "ps4_users.plot(kind='scatter', x='user_score', y='total_sales', ec='pink', figsize=(5,3))"
   ]
  },
  {
   "cell_type": "markdown",
   "metadata": {},
   "source": [
    "Утверждение, что оценка пользователей влияет на продажи, имеет место быть, но не так как с оценкой критиков. Скорее всего, покупатель не так сильно полагается на личное мнение пользователя, поэтому мы можем увидеть, что при оценки 4,5 были высокие продажи, а приоценки 8 продажи ниже. Здесь думаю покупатель больше полагается на собственные предпочтения в играх, ну или на отзывы компетентных игроков, которые в этой сфере себя и своё виденье уже зарекомендовали."
   ]
  },
  {
   "cell_type": "code",
   "execution_count": 37,
   "metadata": {},
   "outputs": [
    {
     "data": {
      "text/html": [
       "<div>\n",
       "<style scoped>\n",
       "    .dataframe tbody tr th:only-of-type {\n",
       "        vertical-align: middle;\n",
       "    }\n",
       "\n",
       "    .dataframe tbody tr th {\n",
       "        vertical-align: top;\n",
       "    }\n",
       "\n",
       "    .dataframe thead th {\n",
       "        text-align: right;\n",
       "    }\n",
       "</style>\n",
       "<table border=\"1\" class=\"dataframe\">\n",
       "  <thead>\n",
       "    <tr style=\"text-align: right;\">\n",
       "      <th></th>\n",
       "      <th>total_sales</th>\n",
       "      <th>critic_score</th>\n",
       "      <th>user_score</th>\n",
       "    </tr>\n",
       "  </thead>\n",
       "  <tbody>\n",
       "    <tr>\n",
       "      <th>total_sales</th>\n",
       "      <td>1.000000</td>\n",
       "      <td>0.406568</td>\n",
       "      <td>-0.031957</td>\n",
       "    </tr>\n",
       "    <tr>\n",
       "      <th>critic_score</th>\n",
       "      <td>0.406568</td>\n",
       "      <td>1.000000</td>\n",
       "      <td>0.557654</td>\n",
       "    </tr>\n",
       "    <tr>\n",
       "      <th>user_score</th>\n",
       "      <td>-0.031957</td>\n",
       "      <td>0.557654</td>\n",
       "      <td>1.000000</td>\n",
       "    </tr>\n",
       "  </tbody>\n",
       "</table>\n",
       "</div>"
      ],
      "text/plain": [
       "              total_sales  critic_score  user_score\n",
       "total_sales      1.000000      0.406568   -0.031957\n",
       "critic_score     0.406568      1.000000    0.557654\n",
       "user_score      -0.031957      0.557654    1.000000"
      ]
     },
     "execution_count": 37,
     "metadata": {},
     "output_type": "execute_result"
    }
   ],
   "source": [
    "data_ps_cor = data_ps[['total_sales', 'critic_score', 'user_score']]\n",
    "data_ps_cor.corr()"
   ]
  },
  {
   "cell_type": "markdown",
   "metadata": {},
   "source": [
    "По таблице с корреляцией, так же видно что связи с оценкой пользователей и продажами нет, а связь с оценкой критиков и продажами есть необольшая."
   ]
  },
  {
   "cell_type": "markdown",
   "metadata": {},
   "source": [
    "__Соотнесите выводы с продажами игр на других платформах__"
   ]
  },
  {
   "cell_type": "markdown",
   "metadata": {},
   "source": [
    "Влияние оценки критиков на продажи по наиболее перспективным платформам за актуальный период"
   ]
  },
  {
   "cell_type": "code",
   "execution_count": 38,
   "metadata": {},
   "outputs": [],
   "source": [
    "#critic = promising_platforms[(promising_platforms['platform'] != 'PS4') & (promising_platforms['critic_score'] > 0)]\n",
    "#critic.plot(kind='scatter', x='critic_score', y='total_sales', ec='black', figsize=(5,3))"
   ]
  },
  {
   "cell_type": "markdown",
   "metadata": {},
   "source": [
    "Влияние оценки критиков имеется."
   ]
  },
  {
   "cell_type": "markdown",
   "metadata": {},
   "source": [
    "Влияние оценки пользователей на продажи по наиболее перспективным платформам за актуальный период"
   ]
  },
  {
   "cell_type": "code",
   "execution_count": 39,
   "metadata": {},
   "outputs": [],
   "source": [
    "#users = promising_platforms[(promising_platforms['platform'] != 'PS4') & (promising_platforms['user_score'])]\n",
    "#users.plot(kind='scatter', x='user_score', y='total_sales', ec='black', figsize=(5,3))"
   ]
  },
  {
   "cell_type": "markdown",
   "metadata": {},
   "source": [
    "Влияние оценки пользователей не имеется."
   ]
  },
  {
   "cell_type": "code",
   "execution_count": 40,
   "metadata": {},
   "outputs": [],
   "source": [
    "#correlation = pd.DataFrame(promising_platforms[['critic_score','user_score', 'total_sales']])\n",
    "#correlation.corr()"
   ]
  },
  {
   "cell_type": "markdown",
   "metadata": {},
   "source": [
    "По таблице с корреляцией, так же видно что связи с оценкой пользователей и продажами нет, а связь с оценкой критиков и продажами есть необольшая. Впринципе от платформы не зависят эти взаимосвязи."
   ]
  },
  {
   "cell_type": "markdown",
   "metadata": {},
   "source": [
    "\n",
    "<br>Влияние оценки критиков и пользователей на продажи по наиболее перспективным платформам (PS3, X360).\n",
    "</div>"
   ]
  },
  {
   "cell_type": "markdown",
   "metadata": {},
   "source": [
    "__PS3__"
   ]
  },
  {
   "cell_type": "markdown",
   "metadata": {},
   "source": [
    "- Влияние оценки критиков на продажи"
   ]
  },
  {
   "cell_type": "code",
   "execution_count": 41,
   "metadata": {
    "scrolled": true
   },
   "outputs": [
    {
     "data": {
      "text/plain": [
       "<AxesSubplot:xlabel='critic_score', ylabel='total_sales'>"
      ]
     },
     "execution_count": 41,
     "metadata": {},
     "output_type": "execute_result"
    },
    {
     "data": {
      "image/png": "[encoded data removed]",
      "text/plain": [
       "<Figure size 360x216 with 1 Axes>"
      ]
     },
     "metadata": {
      "needs_background": "light"
     },
     "output_type": "display_data"
    }
   ],
   "source": [
    "data_ps3 = data[data['platform'] == 'PS3']\n",
    "ps3_critic = data_ps3[(data_ps3['platform'] == 'PS3') & (data_ps3['critic_score'] > 0)]\n",
    "ps3_critic.plot(kind='scatter', x='critic_score', y='total_sales', ec='purple', figsize=(5,3))"
   ]
  },
  {
   "cell_type": "markdown",
   "metadata": {},
   "source": [
    "По диаграмме рассеивания можно сделать вывод, что чем выше оценка критиков, тем выше становятся продажи."
   ]
  },
  {
   "cell_type": "markdown",
   "metadata": {},
   "source": [
    "- Влияние оценки пользователей на продажи"
   ]
  },
  {
   "cell_type": "code",
   "execution_count": 42,
   "metadata": {},
   "outputs": [
    {
     "data": {
      "text/plain": [
       "<AxesSubplot:xlabel='user_score', ylabel='total_sales'>"
      ]
     },
     "execution_count": 42,
     "metadata": {},
     "output_type": "execute_result"
    },
    {
     "data": {
      "image/png": "[encoded data removed]",
      "text/plain": [
       "<Figure size 360x216 with 1 Axes>"
      ]
     },
     "metadata": {
      "needs_background": "light"
     },
     "output_type": "display_data"
    }
   ],
   "source": [
    "ps3_users = data_ps3[(data_ps3['platform'] == 'PS3') & (data_ps3['user_score'])]\n",
    "ps3_users.plot(kind='scatter', x='user_score', y='total_sales', ec='purple', figsize=(5,3))"
   ]
  },
  {
   "cell_type": "markdown",
   "metadata": {},
   "source": [
    "Оценка пользователей не влияет на продажи"
   ]
  },
  {
   "cell_type": "code",
   "execution_count": 43,
   "metadata": {},
   "outputs": [
    {
     "data": {
      "text/html": [
       "<div>\n",
       "<style scoped>\n",
       "    .dataframe tbody tr th:only-of-type {\n",
       "        vertical-align: middle;\n",
       "    }\n",
       "\n",
       "    .dataframe tbody tr th {\n",
       "        vertical-align: top;\n",
       "    }\n",
       "\n",
       "    .dataframe thead th {\n",
       "        text-align: right;\n",
       "    }\n",
       "</style>\n",
       "<table border=\"1\" class=\"dataframe\">\n",
       "  <thead>\n",
       "    <tr style=\"text-align: right;\">\n",
       "      <th></th>\n",
       "      <th>total_sales</th>\n",
       "      <th>critic_score</th>\n",
       "      <th>user_score</th>\n",
       "    </tr>\n",
       "  </thead>\n",
       "  <tbody>\n",
       "    <tr>\n",
       "      <th>total_sales</th>\n",
       "      <td>1.000000</td>\n",
       "      <td>0.432759</td>\n",
       "      <td>0.128416</td>\n",
       "    </tr>\n",
       "    <tr>\n",
       "      <th>critic_score</th>\n",
       "      <td>0.432759</td>\n",
       "      <td>1.000000</td>\n",
       "      <td>0.631154</td>\n",
       "    </tr>\n",
       "    <tr>\n",
       "      <th>user_score</th>\n",
       "      <td>0.128416</td>\n",
       "      <td>0.631154</td>\n",
       "      <td>1.000000</td>\n",
       "    </tr>\n",
       "  </tbody>\n",
       "</table>\n",
       "</div>"
      ],
      "text/plain": [
       "              total_sales  critic_score  user_score\n",
       "total_sales      1.000000      0.432759    0.128416\n",
       "critic_score     0.432759      1.000000    0.631154\n",
       "user_score       0.128416      0.631154    1.000000"
      ]
     },
     "execution_count": 43,
     "metadata": {},
     "output_type": "execute_result"
    }
   ],
   "source": [
    "data_ps3_cor = data_ps3[['total_sales', 'critic_score', 'user_score']]\n",
    "data_ps3_cor.corr()"
   ]
  },
  {
   "cell_type": "markdown",
   "metadata": {},
   "source": [
    "По таблице с корреляцией, так же видно что связи с оценкой пользователей и продажами нет, а связь с оценкой критиков и продажами есть необольшая."
   ]
  },
  {
   "cell_type": "markdown",
   "metadata": {},
   "source": [
    "__X360__"
   ]
  },
  {
   "cell_type": "markdown",
   "metadata": {},
   "source": [
    "- Влияние оценки критиков на продажи"
   ]
  },
  {
   "cell_type": "code",
   "execution_count": 44,
   "metadata": {},
   "outputs": [
    {
     "data": {
      "text/plain": [
       "<AxesSubplot:xlabel='critic_score', ylabel='total_sales'>"
      ]
     },
     "execution_count": 44,
     "metadata": {},
     "output_type": "execute_result"
    },
    {
     "data": {
      "image/png": "[encoded data removed]",
      "text/plain": [
       "<Figure size 360x216 with 1 Axes>"
      ]
     },
     "metadata": {
      "needs_background": "light"
     },
     "output_type": "display_data"
    }
   ],
   "source": [
    "data_x360 = data[data['platform'] == 'X360']\n",
    "x360_critic = data_x360[(data_x360['platform'] == 'X360') & (data_x360['critic_score'] > 0)]\n",
    "x360_critic.plot(kind='scatter', x='critic_score', y='total_sales', ec='violet', figsize=(5,3))"
   ]
  },
  {
   "cell_type": "markdown",
   "metadata": {},
   "source": [
    "По диаграмме рассеивания можно сделать вывод, что чем выше оценка критиков, тем выше становятся продажи."
   ]
  },
  {
   "cell_type": "markdown",
   "metadata": {},
   "source": [
    "- Влияние оценки пользователей на продажи"
   ]
  },
  {
   "cell_type": "code",
   "execution_count": 45,
   "metadata": {
    "scrolled": true
   },
   "outputs": [
    {
     "data": {
      "text/plain": [
       "<AxesSubplot:xlabel='user_score', ylabel='total_sales'>"
      ]
     },
     "execution_count": 45,
     "metadata": {},
     "output_type": "execute_result"
    },
    {
     "data": {
      "image/png": "[encoded data removed]",
      "text/plain": [
       "<Figure size 360x216 with 1 Axes>"
      ]
     },
     "metadata": {
      "needs_background": "light"
     },
     "output_type": "display_data"
    }
   ],
   "source": [
    "x360_users = data_x360[(data_x360['platform'] == 'X360') & (data_x360['user_score'])]\n",
    "x360_users.plot(kind='scatter', x='user_score', y='total_sales', ec='violet', figsize=(5,3))"
   ]
  },
  {
   "cell_type": "markdown",
   "metadata": {},
   "source": [
    "Оценка пользователей не влияет на продажи"
   ]
  },
  {
   "cell_type": "code",
   "execution_count": 46,
   "metadata": {},
   "outputs": [
    {
     "data": {
      "text/html": [
       "<div>\n",
       "<style scoped>\n",
       "    .dataframe tbody tr th:only-of-type {\n",
       "        vertical-align: middle;\n",
       "    }\n",
       "\n",
       "    .dataframe tbody tr th {\n",
       "        vertical-align: top;\n",
       "    }\n",
       "\n",
       "    .dataframe thead th {\n",
       "        text-align: right;\n",
       "    }\n",
       "</style>\n",
       "<table border=\"1\" class=\"dataframe\">\n",
       "  <thead>\n",
       "    <tr style=\"text-align: right;\">\n",
       "      <th></th>\n",
       "      <th>total_sales</th>\n",
       "      <th>critic_score</th>\n",
       "      <th>user_score</th>\n",
       "    </tr>\n",
       "  </thead>\n",
       "  <tbody>\n",
       "    <tr>\n",
       "      <th>total_sales</th>\n",
       "      <td>1.000000</td>\n",
       "      <td>0.392866</td>\n",
       "      <td>0.114187</td>\n",
       "    </tr>\n",
       "    <tr>\n",
       "      <th>critic_score</th>\n",
       "      <td>0.392866</td>\n",
       "      <td>1.000000</td>\n",
       "      <td>0.625020</td>\n",
       "    </tr>\n",
       "    <tr>\n",
       "      <th>user_score</th>\n",
       "      <td>0.114187</td>\n",
       "      <td>0.625020</td>\n",
       "      <td>1.000000</td>\n",
       "    </tr>\n",
       "  </tbody>\n",
       "</table>\n",
       "</div>"
      ],
      "text/plain": [
       "              total_sales  critic_score  user_score\n",
       "total_sales      1.000000      0.392866    0.114187\n",
       "critic_score     0.392866      1.000000    0.625020\n",
       "user_score       0.114187      0.625020    1.000000"
      ]
     },
     "execution_count": 46,
     "metadata": {},
     "output_type": "execute_result"
    }
   ],
   "source": [
    "data_x360_cor = data_x360[['total_sales', 'critic_score', 'user_score']]\n",
    "data_x360_cor.corr()"
   ]
  },
  {
   "cell_type": "markdown",
   "metadata": {},
   "source": [
    "По таблице с корреляцией, так же видно что связи с оценкой пользователей и продажами нет, а связь с оценкой критиков и продажами есть необольшая."
   ]
  },
  {
   "cell_type": "markdown",
   "metadata": {},
   "source": [
    "__Посмотрите на общее распределение игр по жанрам. Что можно сказать о самых прибыльных жанрах? Выделяются ли жанры с высокими и низкими продажами?__"
   ]
  },
  {
   "cell_type": "code",
   "execution_count": 47,
   "metadata": {
    "scrolled": true
   },
   "outputs": [
    {
     "data": {
      "text/plain": [
       "genre\n",
       "Action          376.25\n",
       "Shooter         282.11\n",
       "Sports          167.81\n",
       "Role-Playing    151.26\n",
       "Misc             48.78\n",
       "Racing           42.18\n",
       "Fighting         35.53\n",
       "Platform         34.13\n",
       "Simulation       25.16\n",
       "Adventure        22.68\n",
       "Strategy          4.79\n",
       "Puzzle            2.72\n",
       "Name: total_sales, dtype: float64"
      ]
     },
     "execution_count": 47,
     "metadata": {},
     "output_type": "execute_result"
    }
   ],
   "source": [
    "promising_platforms.groupby('genre')['total_sales'].sum().sort_values(ascending=False)"
   ]
  },
  {
   "cell_type": "code",
   "execution_count": 48,
   "metadata": {},
   "outputs": [
    {
     "data": {
      "image/png": "[encoded data removed]",
      "text/plain": [
       "<Figure size 864x360 with 1 Axes>"
      ]
     },
     "metadata": {
      "needs_background": "light"
     },
     "output_type": "display_data"
    }
   ],
   "source": [
    "genre_sum = promising_platforms.groupby('genre')['total_sales'].sum().reset_index()\n",
    "genre_sales = genre_sum.sort_values(by='total_sales', ascending=False).plot(x='genre', y='total_sales', kind='bar', figsize=(12, 5), rot=360)\n",
    "genre_sales.get_legend().remove()\n",
    "plt.title('Продаваемые жанры по общей сумме', size=12)\n",
    "plt.xlabel('Жанр')\n",
    "plt.ylabel('Суммарные продажи')\n",
    "plt.show()"
   ]
  },
  {
   "cell_type": "markdown",
   "metadata": {},
   "source": [
    "Предпочтение покупатели отдают играм жанра Action и Shooter, далее по популярности Sports и Role-Playing. Самые низкие продажи по жанрам Strategy и Puzzle. Можно сделать вывод, что пользователи отдают предпочтения более динамичным играм, играм стрелялкам, нежели спокойным играм."
   ]
  },
  {
   "cell_type": "markdown",
   "metadata": {},
   "source": [
    "\n",
    "<br>Выше построила график, для таблицы о суммарных продажах по каждому жанру. \n",
    "Далее необходимо построить график по медианному значениею суммарных продажах, так как это будет более правильно для корректных выводов. Это имеет смысл, так как та или иная игра в каждом жанре может значительно выбиваться, например в одном жанре, разные игры могли продаться за очень высокие деньги, а какие-то за копейки (грубо, но общий смысл ясен)).\n",
    "</div>"
   ]
  },
  {
   "cell_type": "code",
   "execution_count": 49,
   "metadata": {},
   "outputs": [
    {
     "data": {
      "text/plain": [
       "genre\n",
       "Shooter         0.585\n",
       "Sports          0.390\n",
       "Racing          0.225\n",
       "Platform        0.210\n",
       "Role-Playing    0.200\n",
       "Fighting        0.180\n",
       "Action          0.170\n",
       "Misc            0.150\n",
       "Simulation      0.130\n",
       "Strategy        0.085\n",
       "Puzzle          0.070\n",
       "Adventure       0.060\n",
       "Name: total_sales, dtype: float64"
      ]
     },
     "execution_count": 49,
     "metadata": {},
     "output_type": "execute_result"
    }
   ],
   "source": [
    "promising_platforms.groupby('genre')['total_sales'].median().sort_values(ascending=False)"
   ]
  },
  {
   "cell_type": "code",
   "execution_count": 50,
   "metadata": {
    "scrolled": true
   },
   "outputs": [
    {
     "data": {
      "image/png": "[encoded data removed]",
      "text/plain": [
       "<Figure size 864x360 with 1 Axes>"
      ]
     },
     "metadata": {
      "needs_background": "light"
     },
     "output_type": "display_data"
    }
   ],
   "source": [
    "genre_med = promising_platforms.groupby('genre')['total_sales'].median().reset_index()\n",
    "genre_sales_med = genre_med.sort_values(by='total_sales', ascending=False).plot(x='genre', y='total_sales', kind='bar', figsize=(12, 5), rot=360)\n",
    "genre_sales_med.get_legend().remove()\n",
    "plt.title('Продаваемые жанры по общей сумме', size=12)\n",
    "plt.xlabel('Жанр')\n",
    "plt.ylabel('Суммарные продажи')\n",
    "plt.show()"
   ]
  },
  {
   "cell_type": "markdown",
   "metadata": {},
   "source": [
    "\n",
    "<br>Реальная картина такова, что покупатели отдают предпочтения играм жанра Shooter и Sports, далее по популярности Racing, Platform и Role-Playing. Самые низкие продажи по жанрам Puzzle и Adventure. Можно сделать вывод, что пользователи отдают предпочтения более динамичным играм, играм стрелялкам, нежели спокойным играм.\n",
    "</div>"
   ]
  },
  {
   "cell_type": "markdown",
   "metadata": {},
   "source": [
    "# Шаг 4. Составьте портрет пользователя каждого региона"
   ]
  },
  {
   "cell_type": "markdown",
   "metadata": {},
   "source": [
    "Определите для пользователя каждого региона (NA, EU, JP):\n",
    "\n",
    "-\tСамые популярные платформы (топ-5). Опишите различия в долях продаж.\n"
   ]
  },
  {
   "cell_type": "markdown",
   "metadata": {},
   "source": [
    "ТОП-5 платформ для NA (Северная Америка)"
   ]
  },
  {
   "cell_type": "code",
   "execution_count": 51,
   "metadata": {},
   "outputs": [
    {
     "data": {
      "text/plain": [
       "<AxesSubplot:ylabel='platform'>"
      ]
     },
     "execution_count": 51,
     "metadata": {},
     "output_type": "execute_result"
    },
    {
     "data": {
      "image/png": "[encoded data removed]",
      "text/plain": [
       "<Figure size 432x288 with 1 Axes>"
      ]
     },
     "metadata": {
      "needs_background": "light"
     },
     "output_type": "display_data"
    }
   ],
   "source": [
    "top5_platform_na = (current_period\n",
    "                     .pivot_table(index='platform', values='na_sales', aggfunc='sum')\n",
    "                     .sort_values(by='na_sales', ascending=False)\n",
    "                     .head(5))\n",
    "\n",
    "top5_platform_na.plot(kind='barh')"
   ]
  },
  {
   "cell_type": "markdown",
   "metadata": {},
   "source": [
    "ТОП-5 платформ для EU (Европа)"
   ]
  },
  {
   "cell_type": "code",
   "execution_count": 52,
   "metadata": {},
   "outputs": [
    {
     "data": {
      "image/png": "[encoded data removed]",
      "text/plain": [
       "<Figure size 432x288 with 1 Axes>"
      ]
     },
     "metadata": {
      "needs_background": "light"
     },
     "output_type": "display_data"
    }
   ],
   "source": [
    "top5_platform_eu = (current_period\n",
    "                     .pivot_table(index='platform', values='eu_sales', aggfunc='sum')\n",
    "                     .sort_values(by='eu_sales', ascending=False)\n",
    "                     .head(5))\n",
    "\n",
    "top5_platform_eu.plot(kind='barh');"
   ]
  },
  {
   "cell_type": "markdown",
   "metadata": {},
   "source": [
    "ТОП-5 платформ для JP (Япония)"
   ]
  },
  {
   "cell_type": "code",
   "execution_count": 53,
   "metadata": {},
   "outputs": [
    {
     "data": {
      "image/png": "[encoded data removed]",
      "text/plain": [
       "<Figure size 432x288 with 1 Axes>"
      ]
     },
     "metadata": {
      "needs_background": "light"
     },
     "output_type": "display_data"
    }
   ],
   "source": [
    "top5_platform_jp = (current_period\n",
    "                     .pivot_table(index='platform', values='jp_sales', aggfunc='sum')\n",
    "                     .sort_values(by='jp_sales', ascending=False)\n",
    "                     .head(5))\n",
    "\n",
    "top5_platform_jp.plot(kind='barh');"
   ]
  },
  {
   "cell_type": "markdown",
   "metadata": {},
   "source": [
    "ТОП-5 платформ для регионов. Самая популярная платформа для Северной Америки - X360, для Европы - PS4 и PS3, для Японии - 3DS."
   ]
  },
  {
   "cell_type": "markdown",
   "metadata": {},
   "source": [
    "- Самые популярные жанры (топ-5)"
   ]
  },
  {
   "cell_type": "markdown",
   "metadata": {},
   "source": [
    "ТОП-5 жанров для NA (Северная Америка)"
   ]
  },
  {
   "cell_type": "code",
   "execution_count": 54,
   "metadata": {},
   "outputs": [
    {
     "data": {
      "text/plain": [
       "<AxesSubplot:ylabel='genre'>"
      ]
     },
     "execution_count": 54,
     "metadata": {},
     "output_type": "execute_result"
    },
    {
     "data": {
      "image/png": "[encoded data removed]",
      "text/plain": [
       "<Figure size 432x288 with 1 Axes>"
      ]
     },
     "metadata": {
      "needs_background": "light"
     },
     "output_type": "display_data"
    }
   ],
   "source": [
    "top5_genre_na = (current_period\n",
    "                     .pivot_table(index='genre', values='na_sales', aggfunc='sum')\n",
    "                     .sort_values(by='na_sales', ascending=False)\n",
    "                     .head(5))\n",
    "\n",
    "top5_genre_na.plot(kind='barh')"
   ]
  },
  {
   "cell_type": "markdown",
   "metadata": {},
   "source": [
    "ТОП-5 жанров для EU (Европа)"
   ]
  },
  {
   "cell_type": "code",
   "execution_count": 55,
   "metadata": {},
   "outputs": [
    {
     "data": {
      "text/plain": [
       "<AxesSubplot:ylabel='genre'>"
      ]
     },
     "execution_count": 55,
     "metadata": {},
     "output_type": "execute_result"
    },
    {
     "data": {
      "image/png": "[encoded data removed]",
      "text/plain": [
       "<Figure size 432x288 with 1 Axes>"
      ]
     },
     "metadata": {
      "needs_background": "light"
     },
     "output_type": "display_data"
    }
   ],
   "source": [
    "top5_genre_eu = (current_period\n",
    "                     .pivot_table(index='genre', values='eu_sales', aggfunc='sum')\n",
    "                     .sort_values(by='eu_sales', ascending=False)\n",
    "                     .head(5))\n",
    "\n",
    "top5_genre_eu.plot(kind='barh')"
   ]
  },
  {
   "cell_type": "markdown",
   "metadata": {},
   "source": [
    "ТОП-5 жанров для JP (Япония)"
   ]
  },
  {
   "cell_type": "code",
   "execution_count": 56,
   "metadata": {},
   "outputs": [
    {
     "data": {
      "text/plain": [
       "<AxesSubplot:ylabel='genre'>"
      ]
     },
     "execution_count": 56,
     "metadata": {},
     "output_type": "execute_result"
    },
    {
     "data": {
      "image/png": "[encoded data removed]",
      "text/plain": [
       "<Figure size 432x288 with 1 Axes>"
      ]
     },
     "metadata": {
      "needs_background": "light"
     },
     "output_type": "display_data"
    }
   ],
   "source": [
    "top5_genre_jp = (current_period\n",
    "                     .pivot_table(index='genre', values='jp_sales', aggfunc='sum')\n",
    "                     .sort_values(by='jp_sales', ascending=False)\n",
    "                     .head(5))\n",
    "\n",
    "top5_genre_jp.plot(kind='barh')"
   ]
  },
  {
   "cell_type": "markdown",
   "metadata": {},
   "source": [
    "Самые популярные жанры для Северной Америки и Европы - Action, а для Японии - Role-Playing"
   ]
  },
  {
   "cell_type": "markdown",
   "metadata": {},
   "source": [
    "-\tВлияет ли рейтинг ESRB на продажи в отдельном регионе?"
   ]
  },
  {
   "cell_type": "markdown",
   "metadata": {},
   "source": [
    "Рейтинг для NA (Северная Америка)"
   ]
  },
  {
   "cell_type": "code",
   "execution_count": 57,
   "metadata": {},
   "outputs": [
    {
     "data": {
      "text/plain": [
       "<AxesSubplot:ylabel='rating'>"
      ]
     },
     "execution_count": 57,
     "metadata": {},
     "output_type": "execute_result"
    },
    {
     "data": {
      "image/png": "[encoded data removed]",
      "text/plain": [
       "<Figure size 432x288 with 1 Axes>"
      ]
     },
     "metadata": {
      "needs_background": "light"
     },
     "output_type": "display_data"
    }
   ],
   "source": [
    "rating_na = (current_period\n",
    "                     .pivot_table(index='rating', values='na_sales', aggfunc='sum')\n",
    "                     .sort_values(by='na_sales', ascending=False))\n",
    "\n",
    "rating_na.plot(kind='barh')"
   ]
  },
  {
   "cell_type": "markdown",
   "metadata": {},
   "source": [
    "Рейтинг для EU (Европа)"
   ]
  },
  {
   "cell_type": "code",
   "execution_count": 58,
   "metadata": {},
   "outputs": [
    {
     "data": {
      "text/plain": [
       "<AxesSubplot:ylabel='rating'>"
      ]
     },
     "execution_count": 58,
     "metadata": {},
     "output_type": "execute_result"
    },
    {
     "data": {
      "image/png": "[encoded data removed]",
      "text/plain": [
       "<Figure size 432x288 with 1 Axes>"
      ]
     },
     "metadata": {
      "needs_background": "light"
     },
     "output_type": "display_data"
    }
   ],
   "source": [
    "rating_eu = (current_period\n",
    "                     .pivot_table(index='rating', values='eu_sales', aggfunc='sum')\n",
    "                     .sort_values(by='eu_sales', ascending=False))\n",
    "\n",
    "rating_eu.plot(kind='barh')"
   ]
  },
  {
   "cell_type": "markdown",
   "metadata": {},
   "source": [
    "Рейтинг для JP (Япония)"
   ]
  },
  {
   "cell_type": "code",
   "execution_count": 59,
   "metadata": {},
   "outputs": [
    {
     "data": {
      "text/plain": [
       "<AxesSubplot:ylabel='rating'>"
      ]
     },
     "execution_count": 59,
     "metadata": {},
     "output_type": "execute_result"
    },
    {
     "data": {
      "image/png": "[encoded data removed]",
      "text/plain": [
       "<Figure size 432x288 with 1 Axes>"
      ]
     },
     "metadata": {
      "needs_background": "light"
     },
     "output_type": "display_data"
    }
   ],
   "source": [
    "rating_jp = (current_period\n",
    "                     .pivot_table(index='rating', values='jp_sales', aggfunc='sum')\n",
    "                     .sort_values(by='jp_sales', ascending=False))\n",
    "\n",
    "rating_jp.plot(kind='barh')"
   ]
  },
  {
   "cell_type": "markdown",
   "metadata": {},
   "source": [
    "Популярные рейтинги в Северной Америке и Европе M - Подходит для лиц старше 17 лет. Этот рейтинг используется, когда насилие становится реалистичным и похожим на реальную жизнь. Также может присутствовать ненормативная лексика, употребление табака, алкоголя или запрещенных наркотиков.\n",
    "\n",
    "А в Японии предпочтителен рейтинг E - Подходит для всех возрастных категорий. Игра не должна содержать звуков или изображений, которые могут напугать маленьких детей. Не должна использоваться ненормативная лексика. Но самые популярные игры без указания возростного рейтинга."
   ]
  },
  {
   "cell_type": "markdown",
   "metadata": {},
   "source": [
    "# Шаг 5. Проверьте гипотезы"
   ]
  },
  {
   "cell_type": "markdown",
   "metadata": {},
   "source": [
    "-\tСредние пользовательские рейтинги платформ Xbox One и PC одинаковые"
   ]
  },
  {
   "cell_type": "markdown",
   "metadata": {},
   "source": [
    "__- Гипотеза 1:__\n",
    "\n",
    "H_0: средний пользовательский рейтинг (user_score) Xbox One  = средний пользовательский рейтинг (user_score) PC\n",
    "\n",
    "H_1: средний пользовательский рейтинг (user_score) Xbox One ≠ средний пользовательский рейтинг (user_score) PC\n",
    "\n",
    "alpha = 0.05 - критический уровень статистической значимости если p-value окажется меньше него - отвергнем гипотезу"
   ]
  },
  {
   "cell_type": "code",
   "execution_count": 60,
   "metadata": {},
   "outputs": [],
   "source": [
    "Xbox_One = current_period.query('platform == \"XOne\"')['user_score'].dropna()\n",
    "PC = current_period.query('platform == \"PC\"')['user_score'].dropna()"
   ]
  },
  {
   "cell_type": "code",
   "execution_count": 61,
   "metadata": {
    "scrolled": true
   },
   "outputs": [
    {
     "name": "stdout",
     "output_type": "stream",
     "text": [
      "0.5489537965134912\n",
      "Не получилось отвергнуть нулевую гипотезу\n"
     ]
    }
   ],
   "source": [
    "# results = вызов метода для проверки гипотезы\n",
    "results = st.ttest_ind(Xbox_One, PC, equal_var=False)\n",
    "# alpha = задайте значение уровня значимости\n",
    "alpha = 0.05\n",
    "# вывод значения p-value на экран \n",
    "print(results.pvalue)\n",
    "# условный оператор с выводом строки с ответом\n",
    "if (results.pvalue < alpha):\n",
    "    print(\"Отвергаем нулевую гипотезу\")\n",
    "else:\n",
    "    print(\"Не получилось отвергнуть нулевую гипотезу\")"
   ]
  },
  {
   "cell_type": "code",
   "execution_count": 62,
   "metadata": {
    "scrolled": false
   },
   "outputs": [
    {
     "name": "stdout",
     "output_type": "stream",
     "text": [
      "Средний пользовательский рейтинг Xbox_One =  6.521428571428572\n",
      "Средний пользовательский рейтинг PC =  6.4286407766990274\n"
     ]
    }
   ],
   "source": [
    "print('Средний пользовательский рейтинг Xbox_One = ', Xbox_One.mean())\n",
    "print('Средний пользовательский рейтинг PC = ',PC.mean())"
   ]
  },
  {
   "cell_type": "markdown",
   "metadata": {},
   "source": [
    "-\tСредние пользовательские рейтинги жанров Action (англ. «действие», экшен-игры) и Sports (англ. «спортивные соревнования») разные."
   ]
  },
  {
   "cell_type": "markdown",
   "metadata": {},
   "source": [
    "__- Гипотеза 2:__\n",
    "\n",
    "H_0: средний пользовательский рейтинг (user_score) жанра Action = средний пользовательский рейтинг (user_score) жанра Sports\n",
    "\n",
    "H_1: средний пользовательский рейтинг (user_score) жанра Action ≠ средний пользовательский рейтинг (user_score) жанра Sports\n",
    "\n",
    "\n",
    "alpha = 0.05 - критический уровень статистической значимости если p-value окажется меньше него - отвергнем гипотезу"
   ]
  },
  {
   "cell_type": "code",
   "execution_count": 63,
   "metadata": {},
   "outputs": [],
   "source": [
    "Action = current_period.query('genre == \"Action\"')['user_score'].dropna()\n",
    "Sports = current_period.query('genre == \"Sports\"')['user_score'].dropna()"
   ]
  },
  {
   "cell_type": "code",
   "execution_count": 64,
   "metadata": {},
   "outputs": [
    {
     "name": "stdout",
     "output_type": "stream",
     "text": [
      "4.24307776572644e-20\n",
      "Отвергаем нулевую гипотезу\n"
     ]
    }
   ],
   "source": [
    "# results = вызов метода для проверки гипотезы\n",
    "results = st.ttest_ind(Action, Sports, equal_var=False)\n",
    "# alpha = задайте значение уровня значимости\n",
    "alpha = 0.05\n",
    "# вывод значения p-value на экран \n",
    "print(results.pvalue)\n",
    "# условный оператор с выводом строки с ответом\n",
    "if (results.pvalue < alpha):\n",
    "    print(\"Отвергаем нулевую гипотезу\")\n",
    "else:\n",
    "    print(\"Не получилось отвергнуть нулевую гипотезу\")"
   ]
  },
  {
   "cell_type": "code",
   "execution_count": 65,
   "metadata": {},
   "outputs": [
    {
     "name": "stdout",
     "output_type": "stream",
     "text": [
      "Средний пользовательский рейтинг жанра Action =  6.825047801147227\n",
      "Средний пользовательский рейтинг жанра Sports =  5.455897435897437\n"
     ]
    }
   ],
   "source": [
    "print('Средний пользовательский рейтинг жанра Action = ', Action.mean())\n",
    "print('Средний пользовательский рейтинг жанра Sports = ',Sports.mean())"
   ]
  },
  {
   "cell_type": "markdown",
   "metadata": {},
   "source": [
    "Проверили двухстороннюю гипотезу. Сформировали нулевую гипотезу, исходя из задания, и сформировали альтернативную гипотезу (протевоположную нулевой).\n",
    "\n",
    "Выводы: с 99% можно утверждать, что Средние пользовательские рейтинги платформ Xbox One и PC одинаковы. \n",
    "\n",
    "Средние пользовательские рейтинги жанров Action и Sports разные."
   ]
  },
  {
   "cell_type": "markdown",
   "metadata": {},
   "source": [
    "# Шаг 6. Напишите общий вывод"
   ]
  },
  {
   "cell_type": "markdown",
   "metadata": {},
   "source": [
    "В этом проекте были проанализированы исторические данные о продажах игр, оценки пользователей и экспертов, жанры и платформы. \n",
    "Мы подготовили данные к анализу, заменили названия столбцов, преобразовали данные в нужные типы и обработали пропуски там, где это было необходимо и возможно. Так же добавили новый столбец с данными о суммарных продажах по регионам.\n",
    "Проанализировали сколько игр выпускалось в разные годы. Сделали вывод что данные за все периоды не важны, так как до 1995 года выпускалось очень мало игр (менее 200). Пик количества выпускаемых игр по годам пришелся на 2008-2009, далее идет спад. Скорее всего это связано с тем, что после 2011 начали развивать индустрию игр на мобильные телефоны, ведь все больше пользователей стали предпочитать играть на мобильных устройствах.\n",
    "\n",
    "Посмотрели, как менялись продажи по платформам. Опередили, что средний срок жизни платформ около 10лет. Так же стоит отметить, что на начало 90-х конкуренции как таковой и не было, платформа PS была единственной с высокими продажами, и так вплоть до 2004 было мало хороших платформ, но с развитием индустрии, и развитием технологий, а так же появлению все новых идей, количество платформ начинает увеличиваться, и не просто на 1 штуку, а появляется очень много конкурентов. PS хорошо справляется с конкуренцией, развивает свою платформу, и выпускает не менее успешные PS2 и PS3. На популярность каждой платформы влияли фанаты игр, которые выходили эксклюзивно на определенных платформах, например: для PS3 Uncharted 3: Иллюзии Дрейка вышла в 2011 году, имеет высокий рейтинг. А так же сильно влияло доп.оборудование выпускаемое к каждой платформе эксклюзивно, например для PS3 это PS Move. Соответственно на жизнь каждой платформы влияет несколько факторов, это фанаты игр, развитие технологий и эксклюзивное доп.оборудование, это все приносит больше прибыли и заинтересованности к той или иной платформе.\n",
    "Определили актуальный период – это с 2012 по 2016, для построения прогноза на 2017г.\n",
    "За выбранный период, можно сделать вывод, что лидируют по суммарным продажам PS4- но согласно графику, продажи с 2015г стали падать. Несколько потенциально прибыльных платформ: PS3, X360, PS4, 3DS и XOne. Все они в топе, по суммарным продажам, за актуальный период, но две из них растут в продажах, а 3 падают.\n",
    "Определили, наиболее перспективные платформы - PS4, PS3, X360 далее со средними показателями - XOne, WiiU.\n",
    "Так же сделали вывод о продажах основываясь на  отзывы критиков и игроков: чем выше оценка критиков, тем выше становятся продажи. Это логично, многие пользователи доверяют отзывам экспертов, и на этом могут основываться их покупки. А на продажи оценки игроков не влияют.\n",
    "Определили самые популярные жанры - Предпочтение покупатели отдают играм жанра Shooter и Sports, далее по популярности Racing,  Platform и Role-Playing. Можно сделать вывод, что пользователи отдают предпочтения более динамичным играм, играм стрелялкам, нежели спокойным играм.\n",
    " Составили портрет пользователей по регионам, и по ним можно сделать вывод, что пользователи Северной Америки и Европы, схожи в предпочтениях по выбору жанра - Action и возрастного рейтинга - M - Подходит для лиц старше 17 лет. Этот рейтинг используется, когда насилие становится реалистичным и похожим на реальную жизнь. Также может присутствовать ненормативная лексика, употребление табака, алкоголя или запрещенных наркотиков., но играют на разных платформах, так игроки из Северной Америки отдают предпочтение – X360, а пользователи Европы - PS4. В то время как игроки Японии в корне отличаются, они предпочитают играть на платформе - 3DS, жанр - Role-Playing, возрастной рейтинг - E - Подходит для всех возрастных категорий. Игра не должна содержать звуков или изображений, которые могут напугать маленьких детей. Не должна использоваться ненормативная лексика. Но самые популярные игры без указания возростного рейтинга.\n",
    "Так же проверили две двухсторонние гипотезы. Сформировали нулевую гипотезу, исходя из задания, и сформировали альтернативную гипотезу (противоположную нулевой). И сделали выводы, что с 99% можно утверждать, что Средние пользовательские рейтинги платформ Xbox One и PC одинаковы. Средние пользовательские рейтинги жанров Action и Sports разные.\n",
    "\n",
    "Для интернет-магазина «Стримчик», можно рекомендовать, делать ставки на игры для платформ PS3, X360, PS4, 3DS, XOne. Продавать игры в жанре Shooter, Sports, Racing, Platform, Role-Playing, Action – самые популярные, согласно проведенному анализу. Это все удовлетворит предпочтения пользователей во всех регионах. Так же стоит обратить внимание на оценки критиков, и не основываться в принятии решении на оценки пользователей.\n"
   ]
  },
  {
   "cell_type": "code",
   "execution_count": null,
   "metadata": {},
   "outputs": [],
   "source": []
  }
 ],
 "metadata": {
  "ExecuteTimeLog": [
   {
    "duration": 44,
    "start_time": "2022-10-31T19:12:11.120Z"
   },
   {
    "duration": 1254,
    "start_time": "2022-10-31T19:16:37.360Z"
   },
   {
    "duration": 100,
    "start_time": "2022-10-31T19:21:09.654Z"
   },
   {
    "duration": 21,
    "start_time": "2022-10-31T19:24:38.876Z"
   },
   {
    "duration": 60,
    "start_time": "2022-10-31T19:25:28.198Z"
   },
   {
    "duration": 13,
    "start_time": "2022-10-31T19:25:34.491Z"
   },
   {
    "duration": 13,
    "start_time": "2022-10-31T19:25:38.536Z"
   },
   {
    "duration": 31,
    "start_time": "2022-10-31T19:26:08.472Z"
   },
   {
    "duration": 12,
    "start_time": "2022-10-31T19:33:26.693Z"
   },
   {
    "duration": 9,
    "start_time": "2022-10-31T19:33:31.734Z"
   },
   {
    "duration": 8,
    "start_time": "2022-10-31T19:33:49.694Z"
   },
   {
    "duration": 27,
    "start_time": "2022-10-31T19:33:52.958Z"
   },
   {
    "duration": 103,
    "start_time": "2022-10-31T19:43:32.631Z"
   },
   {
    "duration": 4,
    "start_time": "2022-10-31T19:43:37.384Z"
   },
   {
    "duration": 14,
    "start_time": "2022-10-31T19:44:12.531Z"
   },
   {
    "duration": 7,
    "start_time": "2022-10-31T19:51:49.190Z"
   },
   {
    "duration": 14,
    "start_time": "2022-10-31T19:52:12.983Z"
   },
   {
    "duration": 15,
    "start_time": "2022-10-31T19:52:27.481Z"
   },
   {
    "duration": 25,
    "start_time": "2022-10-31T19:55:59.174Z"
   },
   {
    "duration": 23,
    "start_time": "2022-10-31T19:56:25.086Z"
   },
   {
    "duration": 14,
    "start_time": "2022-10-31T19:56:35.357Z"
   },
   {
    "duration": 1024,
    "start_time": "2022-10-31T19:56:55.883Z"
   },
   {
    "duration": 63,
    "start_time": "2022-10-31T19:56:56.908Z"
   },
   {
    "duration": 13,
    "start_time": "2022-10-31T19:56:56.973Z"
   },
   {
    "duration": 8,
    "start_time": "2022-10-31T19:56:56.988Z"
   },
   {
    "duration": 18,
    "start_time": "2022-10-31T19:56:56.997Z"
   },
   {
    "duration": 7,
    "start_time": "2022-10-31T19:56:57.020Z"
   },
   {
    "duration": 15,
    "start_time": "2022-10-31T19:57:23.105Z"
   },
   {
    "duration": 17,
    "start_time": "2022-10-31T19:58:42.246Z"
   },
   {
    "duration": 15,
    "start_time": "2022-10-31T19:58:56.364Z"
   },
   {
    "duration": 16,
    "start_time": "2022-10-31T19:59:00.589Z"
   },
   {
    "duration": 14,
    "start_time": "2022-10-31T19:59:03.523Z"
   },
   {
    "duration": 11,
    "start_time": "2022-10-31T20:08:06.289Z"
   },
   {
    "duration": 107,
    "start_time": "2022-10-31T20:13:09.915Z"
   },
   {
    "duration": 14,
    "start_time": "2022-10-31T20:13:27.386Z"
   },
   {
    "duration": 13,
    "start_time": "2022-10-31T20:13:39.610Z"
   },
   {
    "duration": 10,
    "start_time": "2022-10-31T20:30:39.826Z"
   },
   {
    "duration": 6,
    "start_time": "2022-10-31T20:31:38.952Z"
   },
   {
    "duration": 7,
    "start_time": "2022-10-31T20:31:54.039Z"
   },
   {
    "duration": 9,
    "start_time": "2022-10-31T20:34:47.003Z"
   },
   {
    "duration": 9,
    "start_time": "2022-10-31T20:37:33.142Z"
   },
   {
    "duration": 9,
    "start_time": "2022-10-31T20:37:45.694Z"
   },
   {
    "duration": 9,
    "start_time": "2022-10-31T20:43:18.899Z"
   },
   {
    "duration": 17,
    "start_time": "2022-10-31T20:43:39.215Z"
   },
   {
    "duration": 4,
    "start_time": "2022-10-31T20:45:19.577Z"
   },
   {
    "duration": 17,
    "start_time": "2022-10-31T20:45:42.799Z"
   },
   {
    "duration": 16,
    "start_time": "2022-10-31T20:47:23.155Z"
   },
   {
    "duration": 27,
    "start_time": "2022-10-31T21:06:35.913Z"
   },
   {
    "duration": 7,
    "start_time": "2022-10-31T21:14:08.396Z"
   },
   {
    "duration": 8,
    "start_time": "2022-10-31T21:14:14.291Z"
   },
   {
    "duration": 13,
    "start_time": "2022-10-31T21:14:27.450Z"
   },
   {
    "duration": 1480,
    "start_time": "2022-11-01T17:46:36.151Z"
   },
   {
    "duration": 245,
    "start_time": "2022-11-01T17:46:37.634Z"
   },
   {
    "duration": 19,
    "start_time": "2022-11-01T17:46:37.881Z"
   },
   {
    "duration": 15,
    "start_time": "2022-11-01T17:46:37.903Z"
   },
   {
    "duration": 35,
    "start_time": "2022-11-01T17:46:37.922Z"
   },
   {
    "duration": 28,
    "start_time": "2022-11-01T17:46:37.960Z"
   },
   {
    "duration": 47,
    "start_time": "2022-11-01T17:46:37.990Z"
   },
   {
    "duration": 17,
    "start_time": "2022-11-01T17:46:38.039Z"
   },
   {
    "duration": 17,
    "start_time": "2022-11-01T17:46:38.058Z"
   },
   {
    "duration": 53,
    "start_time": "2022-11-01T17:46:38.080Z"
   },
   {
    "duration": 22,
    "start_time": "2022-11-01T17:46:38.135Z"
   },
   {
    "duration": 14,
    "start_time": "2022-11-01T17:46:38.160Z"
   },
   {
    "duration": 14,
    "start_time": "2022-11-01T17:46:38.176Z"
   },
   {
    "duration": 38,
    "start_time": "2022-11-01T17:46:38.194Z"
   },
   {
    "duration": 28,
    "start_time": "2022-11-01T17:46:38.234Z"
   },
   {
    "duration": 13,
    "start_time": "2022-11-01T17:57:29.602Z"
   },
   {
    "duration": 29,
    "start_time": "2022-11-01T18:11:32.090Z"
   },
   {
    "duration": 25,
    "start_time": "2022-11-01T18:11:55.995Z"
   },
   {
    "duration": 28,
    "start_time": "2022-11-01T18:16:18.170Z"
   },
   {
    "duration": 26,
    "start_time": "2022-11-01T18:30:07.352Z"
   },
   {
    "duration": 34,
    "start_time": "2022-11-01T18:31:40.113Z"
   },
   {
    "duration": 572,
    "start_time": "2022-11-01T19:11:31.302Z"
   },
   {
    "duration": 605,
    "start_time": "2022-11-01T19:13:03.483Z"
   },
   {
    "duration": 422,
    "start_time": "2022-11-01T19:13:10.517Z"
   },
   {
    "duration": 571,
    "start_time": "2022-11-01T19:13:19.101Z"
   },
   {
    "duration": 484,
    "start_time": "2022-11-01T19:13:25.219Z"
   },
   {
    "duration": 591,
    "start_time": "2022-11-01T19:13:32.602Z"
   },
   {
    "duration": 128,
    "start_time": "2022-11-01T19:23:22.118Z"
   },
   {
    "duration": 271,
    "start_time": "2022-11-01T19:24:06.721Z"
   },
   {
    "duration": 178,
    "start_time": "2022-11-01T19:25:02.391Z"
   },
   {
    "duration": 106,
    "start_time": "2022-11-01T19:25:22.293Z"
   },
   {
    "duration": 111,
    "start_time": "2022-11-01T19:25:38.356Z"
   },
   {
    "duration": 99,
    "start_time": "2022-11-01T19:25:54.493Z"
   },
   {
    "duration": 172,
    "start_time": "2022-11-01T19:26:50.803Z"
   },
   {
    "duration": 149,
    "start_time": "2022-11-01T19:27:01.890Z"
   },
   {
    "duration": 6,
    "start_time": "2022-11-01T19:28:04.042Z"
   },
   {
    "duration": 8,
    "start_time": "2022-11-01T19:28:06.529Z"
   },
   {
    "duration": 237,
    "start_time": "2022-11-01T19:28:39.848Z"
   },
   {
    "duration": 24,
    "start_time": "2022-11-01T19:28:59.049Z"
   },
   {
    "duration": 1243,
    "start_time": "2022-11-01T19:29:32.351Z"
   },
   {
    "duration": 71,
    "start_time": "2022-11-01T19:29:33.596Z"
   },
   {
    "duration": 15,
    "start_time": "2022-11-01T19:29:33.670Z"
   },
   {
    "duration": 11,
    "start_time": "2022-11-01T19:29:33.688Z"
   },
   {
    "duration": 16,
    "start_time": "2022-11-01T19:29:33.731Z"
   },
   {
    "duration": 32,
    "start_time": "2022-11-01T19:29:33.749Z"
   },
   {
    "duration": 23,
    "start_time": "2022-11-01T19:29:33.784Z"
   },
   {
    "duration": 13,
    "start_time": "2022-11-01T19:29:33.833Z"
   },
   {
    "duration": 12,
    "start_time": "2022-11-01T19:29:33.848Z"
   },
   {
    "duration": 14,
    "start_time": "2022-11-01T19:29:33.863Z"
   },
   {
    "duration": 16,
    "start_time": "2022-11-01T19:29:33.879Z"
   },
   {
    "duration": 13,
    "start_time": "2022-11-01T19:29:33.933Z"
   },
   {
    "duration": 14,
    "start_time": "2022-11-01T19:29:33.948Z"
   },
   {
    "duration": 10,
    "start_time": "2022-11-01T19:29:33.965Z"
   },
   {
    "duration": 13,
    "start_time": "2022-11-01T19:29:33.976Z"
   },
   {
    "duration": 71,
    "start_time": "2022-11-01T19:29:33.992Z"
   },
   {
    "duration": 26,
    "start_time": "2022-11-01T19:29:34.066Z"
   },
   {
    "duration": 513,
    "start_time": "2022-11-01T19:29:34.094Z"
   },
   {
    "duration": 154,
    "start_time": "2022-11-01T19:29:34.610Z"
   },
   {
    "duration": 12,
    "start_time": "2022-11-01T19:29:34.766Z"
   },
   {
    "duration": 379,
    "start_time": "2022-11-01T19:29:34.780Z"
   },
   {
    "duration": 10,
    "start_time": "2022-11-01T19:29:53.854Z"
   },
   {
    "duration": 293,
    "start_time": "2022-11-01T19:29:56.354Z"
   },
   {
    "duration": 1251,
    "start_time": "2022-11-01T19:30:25.609Z"
   },
   {
    "duration": 71,
    "start_time": "2022-11-01T19:30:26.862Z"
   },
   {
    "duration": 15,
    "start_time": "2022-11-01T19:30:26.935Z"
   },
   {
    "duration": 27,
    "start_time": "2022-11-01T19:30:26.952Z"
   },
   {
    "duration": 29,
    "start_time": "2022-11-01T19:30:26.982Z"
   },
   {
    "duration": 41,
    "start_time": "2022-11-01T19:30:27.013Z"
   },
   {
    "duration": 15,
    "start_time": "2022-11-01T19:30:27.056Z"
   },
   {
    "duration": 31,
    "start_time": "2022-11-01T19:30:27.073Z"
   },
   {
    "duration": 19,
    "start_time": "2022-11-01T19:30:27.106Z"
   },
   {
    "duration": 10,
    "start_time": "2022-11-01T19:30:27.127Z"
   },
   {
    "duration": 29,
    "start_time": "2022-11-01T19:30:27.139Z"
   },
   {
    "duration": 31,
    "start_time": "2022-11-01T19:30:27.171Z"
   },
   {
    "duration": 26,
    "start_time": "2022-11-01T19:30:27.205Z"
   },
   {
    "duration": 12,
    "start_time": "2022-11-01T19:30:27.234Z"
   },
   {
    "duration": 23,
    "start_time": "2022-11-01T19:30:27.248Z"
   },
   {
    "duration": 40,
    "start_time": "2022-11-01T19:30:27.273Z"
   },
   {
    "duration": 31,
    "start_time": "2022-11-01T19:30:27.315Z"
   },
   {
    "duration": 396,
    "start_time": "2022-11-01T19:30:27.348Z"
   },
   {
    "duration": 157,
    "start_time": "2022-11-01T19:30:27.747Z"
   },
   {
    "duration": 12,
    "start_time": "2022-11-01T19:30:27.906Z"
   },
   {
    "duration": 411,
    "start_time": "2022-11-01T19:30:27.920Z"
   },
   {
    "duration": 22,
    "start_time": "2022-11-01T19:33:02.310Z"
   },
   {
    "duration": 3117,
    "start_time": "2022-11-01T19:33:43.503Z"
   },
   {
    "duration": 23,
    "start_time": "2022-11-01T19:34:05.056Z"
   },
   {
    "duration": 14,
    "start_time": "2022-11-01T19:35:56.117Z"
   },
   {
    "duration": 29,
    "start_time": "2022-11-01T19:37:10.459Z"
   },
   {
    "duration": 16,
    "start_time": "2022-11-01T19:38:02.962Z"
   },
   {
    "duration": 224,
    "start_time": "2022-11-01T19:39:18.267Z"
   },
   {
    "duration": 1292,
    "start_time": "2022-11-01T19:39:33.553Z"
   },
   {
    "duration": 72,
    "start_time": "2022-11-01T19:39:34.848Z"
   },
   {
    "duration": 23,
    "start_time": "2022-11-01T19:39:34.923Z"
   },
   {
    "duration": 26,
    "start_time": "2022-11-01T19:39:34.948Z"
   },
   {
    "duration": 35,
    "start_time": "2022-11-01T19:39:34.976Z"
   },
   {
    "duration": 184,
    "start_time": "2022-11-01T19:39:35.013Z"
   },
   {
    "duration": 24,
    "start_time": "2022-11-01T19:39:35.199Z"
   },
   {
    "duration": 14,
    "start_time": "2022-11-01T19:39:35.225Z"
   },
   {
    "duration": 19,
    "start_time": "2022-11-01T19:39:35.241Z"
   },
   {
    "duration": 36,
    "start_time": "2022-11-01T19:39:35.264Z"
   },
   {
    "duration": 21,
    "start_time": "2022-11-01T19:39:35.303Z"
   },
   {
    "duration": 39,
    "start_time": "2022-11-01T19:39:35.326Z"
   },
   {
    "duration": 24,
    "start_time": "2022-11-01T19:39:35.368Z"
   },
   {
    "duration": 15,
    "start_time": "2022-11-01T19:39:35.394Z"
   },
   {
    "duration": 41,
    "start_time": "2022-11-01T19:39:35.411Z"
   },
   {
    "duration": 56,
    "start_time": "2022-11-01T19:39:35.455Z"
   },
   {
    "duration": 28,
    "start_time": "2022-11-01T19:39:35.513Z"
   },
   {
    "duration": 440,
    "start_time": "2022-11-01T19:39:35.543Z"
   },
   {
    "duration": 152,
    "start_time": "2022-11-01T19:39:35.985Z"
   },
   {
    "duration": 10,
    "start_time": "2022-11-01T19:39:36.139Z"
   },
   {
    "duration": 330,
    "start_time": "2022-11-01T19:39:36.152Z"
   },
   {
    "duration": 49,
    "start_time": "2022-11-01T19:39:36.485Z"
   },
   {
    "duration": 17,
    "start_time": "2022-11-01T19:39:36.536Z"
   },
   {
    "duration": 208,
    "start_time": "2022-11-01T19:48:34.713Z"
   },
   {
    "duration": 237,
    "start_time": "2022-11-01T19:49:19.364Z"
   },
   {
    "duration": 204,
    "start_time": "2022-11-01T19:49:24.633Z"
   },
   {
    "duration": 5,
    "start_time": "2022-11-01T19:49:30.799Z"
   },
   {
    "duration": 5,
    "start_time": "2022-11-01T19:49:33.293Z"
   },
   {
    "duration": 23,
    "start_time": "2022-11-01T19:56:16.143Z"
   },
   {
    "duration": 269,
    "start_time": "2022-11-01T20:02:20.279Z"
   },
   {
    "duration": 116,
    "start_time": "2022-11-01T20:02:32.965Z"
   },
   {
    "duration": 19,
    "start_time": "2022-11-01T20:04:06.880Z"
   },
   {
    "duration": 18,
    "start_time": "2022-11-01T20:04:52.969Z"
   },
   {
    "duration": 20,
    "start_time": "2022-11-01T20:05:08.513Z"
   },
   {
    "duration": 24,
    "start_time": "2022-11-01T20:06:09.824Z"
   },
   {
    "duration": 113,
    "start_time": "2022-11-01T20:06:29.294Z"
   },
   {
    "duration": 11,
    "start_time": "2022-11-01T20:07:06.531Z"
   },
   {
    "duration": 11,
    "start_time": "2022-11-01T20:07:22.153Z"
   },
   {
    "duration": 8,
    "start_time": "2022-11-01T20:07:57.711Z"
   },
   {
    "duration": 24,
    "start_time": "2022-11-01T20:13:51.994Z"
   },
   {
    "duration": 18,
    "start_time": "2022-11-01T20:14:04.975Z"
   },
   {
    "duration": 22,
    "start_time": "2022-11-01T20:14:17.441Z"
   },
   {
    "duration": 24,
    "start_time": "2022-11-01T20:16:45.891Z"
   },
   {
    "duration": 24,
    "start_time": "2022-11-01T20:17:36.600Z"
   },
   {
    "duration": 17,
    "start_time": "2022-11-01T20:18:54.161Z"
   },
   {
    "duration": 65,
    "start_time": "2022-11-01T20:20:34.298Z"
   },
   {
    "duration": 68,
    "start_time": "2022-11-01T20:21:09.072Z"
   },
   {
    "duration": 70,
    "start_time": "2022-11-01T20:21:20.578Z"
   },
   {
    "duration": 56,
    "start_time": "2022-11-01T20:21:39.043Z"
   },
   {
    "duration": 14,
    "start_time": "2022-11-01T20:37:27.178Z"
   },
   {
    "duration": 43,
    "start_time": "2022-11-01T20:37:42.134Z"
   },
   {
    "duration": 16,
    "start_time": "2022-11-01T20:38:11.488Z"
   },
   {
    "duration": 1227,
    "start_time": "2022-11-01T20:38:49.766Z"
   },
   {
    "duration": 67,
    "start_time": "2022-11-01T20:38:50.995Z"
   },
   {
    "duration": 18,
    "start_time": "2022-11-01T20:38:51.064Z"
   },
   {
    "duration": 10,
    "start_time": "2022-11-01T20:38:51.084Z"
   },
   {
    "duration": 38,
    "start_time": "2022-11-01T20:38:51.096Z"
   },
   {
    "duration": 23,
    "start_time": "2022-11-01T20:38:51.139Z"
   },
   {
    "duration": 14,
    "start_time": "2022-11-01T20:38:51.164Z"
   },
   {
    "duration": 16,
    "start_time": "2022-11-01T20:38:51.179Z"
   },
   {
    "duration": 39,
    "start_time": "2022-11-01T20:38:51.197Z"
   },
   {
    "duration": 9,
    "start_time": "2022-11-01T20:38:51.240Z"
   },
   {
    "duration": 8,
    "start_time": "2022-11-01T20:38:51.251Z"
   },
   {
    "duration": 13,
    "start_time": "2022-11-01T20:38:51.262Z"
   },
   {
    "duration": 16,
    "start_time": "2022-11-01T20:38:51.278Z"
   },
   {
    "duration": 36,
    "start_time": "2022-11-01T20:38:51.301Z"
   },
   {
    "duration": 11,
    "start_time": "2022-11-01T20:38:51.338Z"
   },
   {
    "duration": 26,
    "start_time": "2022-11-01T20:38:51.351Z"
   },
   {
    "duration": 21,
    "start_time": "2022-11-01T20:38:51.379Z"
   },
   {
    "duration": 404,
    "start_time": "2022-11-01T20:38:51.433Z"
   },
   {
    "duration": 126,
    "start_time": "2022-11-01T20:38:51.839Z"
   },
   {
    "duration": 8,
    "start_time": "2022-11-01T20:38:51.967Z"
   },
   {
    "duration": 281,
    "start_time": "2022-11-01T20:38:51.977Z"
   },
   {
    "duration": 22,
    "start_time": "2022-11-01T20:38:52.260Z"
   },
   {
    "duration": 18,
    "start_time": "2022-11-01T20:38:52.284Z"
   },
   {
    "duration": 62,
    "start_time": "2022-11-01T20:38:52.304Z"
   },
   {
    "duration": 22,
    "start_time": "2022-11-01T20:39:42.381Z"
   },
   {
    "duration": 105,
    "start_time": "2022-11-01T20:40:42.573Z"
   },
   {
    "duration": 240,
    "start_time": "2022-11-01T20:40:51.636Z"
   },
   {
    "duration": 115,
    "start_time": "2022-11-01T20:40:58.275Z"
   },
   {
    "duration": 106,
    "start_time": "2022-11-01T20:41:25.859Z"
   },
   {
    "duration": 193,
    "start_time": "2022-11-01T20:41:40.729Z"
   },
   {
    "duration": 7,
    "start_time": "2022-11-01T20:42:16.114Z"
   },
   {
    "duration": 8,
    "start_time": "2022-11-01T20:42:18.953Z"
   },
   {
    "duration": 140,
    "start_time": "2022-11-01T20:42:35.448Z"
   },
   {
    "duration": 126,
    "start_time": "2022-11-01T20:42:42.760Z"
   },
   {
    "duration": 1270,
    "start_time": "2022-11-01T20:42:52.704Z"
   },
   {
    "duration": 73,
    "start_time": "2022-11-01T20:42:53.976Z"
   },
   {
    "duration": 17,
    "start_time": "2022-11-01T20:42:54.052Z"
   },
   {
    "duration": 16,
    "start_time": "2022-11-01T20:42:54.071Z"
   },
   {
    "duration": 20,
    "start_time": "2022-11-01T20:42:54.089Z"
   },
   {
    "duration": 34,
    "start_time": "2022-11-01T20:42:54.111Z"
   },
   {
    "duration": 17,
    "start_time": "2022-11-01T20:42:54.147Z"
   },
   {
    "duration": 12,
    "start_time": "2022-11-01T20:42:54.167Z"
   },
   {
    "duration": 13,
    "start_time": "2022-11-01T20:42:54.181Z"
   },
   {
    "duration": 37,
    "start_time": "2022-11-01T20:42:54.199Z"
   },
   {
    "duration": 9,
    "start_time": "2022-11-01T20:42:54.238Z"
   },
   {
    "duration": 11,
    "start_time": "2022-11-01T20:42:54.249Z"
   },
   {
    "duration": 10,
    "start_time": "2022-11-01T20:42:54.262Z"
   },
   {
    "duration": 7,
    "start_time": "2022-11-01T20:42:54.274Z"
   },
   {
    "duration": 10,
    "start_time": "2022-11-01T20:42:54.283Z"
   },
   {
    "duration": 41,
    "start_time": "2022-11-01T20:42:54.333Z"
   },
   {
    "duration": 24,
    "start_time": "2022-11-01T20:42:54.376Z"
   },
   {
    "duration": 400,
    "start_time": "2022-11-01T20:42:54.402Z"
   },
   {
    "duration": 134,
    "start_time": "2022-11-01T20:42:54.804Z"
   },
   {
    "duration": 9,
    "start_time": "2022-11-01T20:42:54.940Z"
   },
   {
    "duration": 317,
    "start_time": "2022-11-01T20:42:54.951Z"
   },
   {
    "duration": 37,
    "start_time": "2022-11-01T20:42:55.270Z"
   },
   {
    "duration": 161,
    "start_time": "2022-11-01T20:42:55.310Z"
   },
   {
    "duration": 7,
    "start_time": "2022-11-01T20:42:55.472Z"
   },
   {
    "duration": 119,
    "start_time": "2022-11-01T20:42:55.481Z"
   },
   {
    "duration": 17,
    "start_time": "2022-11-01T20:42:55.602Z"
   },
   {
    "duration": 23,
    "start_time": "2022-11-01T20:42:55.632Z"
   },
   {
    "duration": 138,
    "start_time": "2022-11-01T20:43:31.545Z"
   },
   {
    "duration": 1266,
    "start_time": "2022-11-01T20:43:48.097Z"
   },
   {
    "duration": 81,
    "start_time": "2022-11-01T20:43:49.365Z"
   },
   {
    "duration": 20,
    "start_time": "2022-11-01T20:43:49.448Z"
   },
   {
    "duration": 15,
    "start_time": "2022-11-01T20:43:49.470Z"
   },
   {
    "duration": 19,
    "start_time": "2022-11-01T20:43:49.488Z"
   },
   {
    "duration": 45,
    "start_time": "2022-11-01T20:43:49.509Z"
   },
   {
    "duration": 17,
    "start_time": "2022-11-01T20:43:49.556Z"
   },
   {
    "duration": 16,
    "start_time": "2022-11-01T20:43:49.575Z"
   },
   {
    "duration": 41,
    "start_time": "2022-11-01T20:43:49.594Z"
   },
   {
    "duration": 7,
    "start_time": "2022-11-01T20:43:49.637Z"
   },
   {
    "duration": 10,
    "start_time": "2022-11-01T20:43:49.646Z"
   },
   {
    "duration": 12,
    "start_time": "2022-11-01T20:43:49.658Z"
   },
   {
    "duration": 10,
    "start_time": "2022-11-01T20:43:49.673Z"
   },
   {
    "duration": 46,
    "start_time": "2022-11-01T20:43:49.686Z"
   },
   {
    "duration": 13,
    "start_time": "2022-11-01T20:43:49.734Z"
   },
   {
    "duration": 32,
    "start_time": "2022-11-01T20:43:49.749Z"
   },
   {
    "duration": 51,
    "start_time": "2022-11-01T20:43:49.783Z"
   },
   {
    "duration": 398,
    "start_time": "2022-11-01T20:43:49.835Z"
   },
   {
    "duration": 141,
    "start_time": "2022-11-01T20:43:50.236Z"
   },
   {
    "duration": 11,
    "start_time": "2022-11-01T20:43:50.379Z"
   },
   {
    "duration": 295,
    "start_time": "2022-11-01T20:43:50.392Z"
   },
   {
    "duration": 31,
    "start_time": "2022-11-01T20:43:50.689Z"
   },
   {
    "duration": 24,
    "start_time": "2022-11-01T20:43:50.722Z"
   },
   {
    "duration": 47,
    "start_time": "2022-11-01T20:43:50.748Z"
   },
   {
    "duration": 123,
    "start_time": "2022-11-01T20:52:53.207Z"
   },
   {
    "duration": 78,
    "start_time": "2022-11-01T20:54:00.558Z"
   },
   {
    "duration": 73,
    "start_time": "2022-11-01T20:55:17.529Z"
   },
   {
    "duration": 5,
    "start_time": "2022-11-01T20:55:31.551Z"
   },
   {
    "duration": 24,
    "start_time": "2022-11-01T20:57:44.195Z"
   },
   {
    "duration": 72,
    "start_time": "2022-11-01T20:58:15.880Z"
   },
   {
    "duration": 21,
    "start_time": "2022-11-01T20:58:20.237Z"
   },
   {
    "duration": 4,
    "start_time": "2022-11-01T20:58:23.737Z"
   },
   {
    "duration": 13,
    "start_time": "2022-11-01T21:00:51.825Z"
   },
   {
    "duration": 28,
    "start_time": "2022-11-01T21:01:11.053Z"
   },
   {
    "duration": 269,
    "start_time": "2022-11-01T21:03:46.923Z"
   },
   {
    "duration": 131,
    "start_time": "2022-11-01T21:04:26.693Z"
   },
   {
    "duration": 365,
    "start_time": "2022-11-01T21:06:40.812Z"
   },
   {
    "duration": 99,
    "start_time": "2022-11-01T21:07:13.330Z"
   },
   {
    "duration": 438,
    "start_time": "2022-11-01T21:07:22.328Z"
   },
   {
    "duration": 358,
    "start_time": "2022-11-01T21:07:41.650Z"
   },
   {
    "duration": 1645,
    "start_time": "2022-11-01T21:07:56.531Z"
   },
   {
    "duration": 345,
    "start_time": "2022-11-01T21:08:28.343Z"
   },
   {
    "duration": 293,
    "start_time": "2022-11-01T21:11:43.753Z"
   },
   {
    "duration": 229,
    "start_time": "2022-11-01T21:14:55.950Z"
   },
   {
    "duration": 10,
    "start_time": "2022-11-01T21:15:39.558Z"
   },
   {
    "duration": 30,
    "start_time": "2022-11-01T21:15:59.024Z"
   },
   {
    "duration": 13,
    "start_time": "2022-11-01T21:16:39.964Z"
   },
   {
    "duration": 243,
    "start_time": "2022-11-01T21:20:46.748Z"
   },
   {
    "duration": 255,
    "start_time": "2022-11-01T21:22:14.446Z"
   },
   {
    "duration": 14,
    "start_time": "2022-11-01T21:23:07.789Z"
   },
   {
    "duration": 14,
    "start_time": "2022-11-01T21:23:29.524Z"
   },
   {
    "duration": 1254,
    "start_time": "2022-11-01T21:23:50.236Z"
   },
   {
    "duration": 71,
    "start_time": "2022-11-01T21:23:51.492Z"
   },
   {
    "duration": 15,
    "start_time": "2022-11-01T21:23:51.565Z"
   },
   {
    "duration": 12,
    "start_time": "2022-11-01T21:23:51.582Z"
   },
   {
    "duration": 21,
    "start_time": "2022-11-01T21:23:51.595Z"
   },
   {
    "duration": 20,
    "start_time": "2022-11-01T21:23:51.631Z"
   },
   {
    "duration": 14,
    "start_time": "2022-11-01T21:23:51.652Z"
   },
   {
    "duration": 10,
    "start_time": "2022-11-01T21:23:51.668Z"
   },
   {
    "duration": 12,
    "start_time": "2022-11-01T21:23:51.680Z"
   },
   {
    "duration": 39,
    "start_time": "2022-11-01T21:23:51.695Z"
   },
   {
    "duration": 11,
    "start_time": "2022-11-01T21:23:51.736Z"
   },
   {
    "duration": 11,
    "start_time": "2022-11-01T21:23:51.748Z"
   },
   {
    "duration": 9,
    "start_time": "2022-11-01T21:23:51.761Z"
   },
   {
    "duration": 9,
    "start_time": "2022-11-01T21:23:51.772Z"
   },
   {
    "duration": 34,
    "start_time": "2022-11-01T21:23:51.783Z"
   },
   {
    "duration": 38,
    "start_time": "2022-11-01T21:23:51.818Z"
   },
   {
    "duration": 22,
    "start_time": "2022-11-01T21:23:51.857Z"
   },
   {
    "duration": 399,
    "start_time": "2022-11-01T21:23:51.881Z"
   },
   {
    "duration": 141,
    "start_time": "2022-11-01T21:23:52.282Z"
   },
   {
    "duration": 13,
    "start_time": "2022-11-01T21:23:52.425Z"
   },
   {
    "duration": 286,
    "start_time": "2022-11-01T21:23:52.440Z"
   },
   {
    "duration": 23,
    "start_time": "2022-11-01T21:23:52.731Z"
   },
   {
    "duration": 17,
    "start_time": "2022-11-01T21:23:52.760Z"
   },
   {
    "duration": 33,
    "start_time": "2022-11-01T21:23:52.779Z"
   },
   {
    "duration": 298,
    "start_time": "2022-11-01T21:23:52.832Z"
   },
   {
    "duration": 282,
    "start_time": "2022-11-01T21:24:19.843Z"
   },
   {
    "duration": 304,
    "start_time": "2022-11-01T21:24:27.700Z"
   },
   {
    "duration": 247,
    "start_time": "2022-11-01T21:24:34.226Z"
   },
   {
    "duration": 328,
    "start_time": "2022-11-01T21:24:39.442Z"
   },
   {
    "duration": 240,
    "start_time": "2022-11-01T21:29:08.473Z"
   },
   {
    "duration": 1282,
    "start_time": "2022-11-04T08:58:38.344Z"
   },
   {
    "duration": 202,
    "start_time": "2022-11-04T08:58:39.629Z"
   },
   {
    "duration": 16,
    "start_time": "2022-11-04T08:58:39.832Z"
   },
   {
    "duration": 7,
    "start_time": "2022-11-04T08:58:39.851Z"
   },
   {
    "duration": 14,
    "start_time": "2022-11-04T08:58:39.860Z"
   },
   {
    "duration": 24,
    "start_time": "2022-11-04T08:58:39.876Z"
   },
   {
    "duration": 12,
    "start_time": "2022-11-04T08:58:39.902Z"
   },
   {
    "duration": 13,
    "start_time": "2022-11-04T08:58:39.916Z"
   },
   {
    "duration": 13,
    "start_time": "2022-11-04T08:58:39.931Z"
   },
   {
    "duration": 8,
    "start_time": "2022-11-04T08:58:39.947Z"
   },
   {
    "duration": 41,
    "start_time": "2022-11-04T08:58:39.957Z"
   },
   {
    "duration": 10,
    "start_time": "2022-11-04T08:58:40.000Z"
   },
   {
    "duration": 15,
    "start_time": "2022-11-04T08:58:40.011Z"
   },
   {
    "duration": 9,
    "start_time": "2022-11-04T08:58:40.028Z"
   },
   {
    "duration": 13,
    "start_time": "2022-11-04T08:58:40.039Z"
   },
   {
    "duration": 68,
    "start_time": "2022-11-04T08:58:40.055Z"
   },
   {
    "duration": 20,
    "start_time": "2022-11-04T08:58:40.124Z"
   },
   {
    "duration": 387,
    "start_time": "2022-11-04T08:58:40.146Z"
   },
   {
    "duration": 139,
    "start_time": "2022-11-04T08:58:40.534Z"
   },
   {
    "duration": 16,
    "start_time": "2022-11-04T08:58:40.675Z"
   },
   {
    "duration": 294,
    "start_time": "2022-11-04T08:58:40.693Z"
   },
   {
    "duration": 21,
    "start_time": "2022-11-04T08:58:40.989Z"
   },
   {
    "duration": 20,
    "start_time": "2022-11-04T08:58:41.012Z"
   },
   {
    "duration": 27,
    "start_time": "2022-11-04T08:58:41.034Z"
   },
   {
    "duration": 302,
    "start_time": "2022-11-04T08:58:41.062Z"
   },
   {
    "duration": 16,
    "start_time": "2022-11-04T09:01:04.277Z"
   },
   {
    "duration": 5,
    "start_time": "2022-11-04T09:03:16.960Z"
   },
   {
    "duration": 4,
    "start_time": "2022-11-04T09:03:31.068Z"
   },
   {
    "duration": 4,
    "start_time": "2022-11-04T09:03:37.538Z"
   },
   {
    "duration": 3,
    "start_time": "2022-11-04T09:03:41.466Z"
   },
   {
    "duration": 70,
    "start_time": "2022-11-04T09:03:48.714Z"
   },
   {
    "duration": 91,
    "start_time": "2022-11-04T09:03:57.842Z"
   },
   {
    "duration": 71,
    "start_time": "2022-11-04T09:04:09.162Z"
   },
   {
    "duration": 66,
    "start_time": "2022-11-04T09:04:17.337Z"
   },
   {
    "duration": 23,
    "start_time": "2022-11-04T09:04:35.992Z"
   },
   {
    "duration": 23,
    "start_time": "2022-11-04T09:04:45.370Z"
   },
   {
    "duration": 207,
    "start_time": "2022-11-04T09:04:55.521Z"
   },
   {
    "duration": 217,
    "start_time": "2022-11-04T09:36:10.170Z"
   },
   {
    "duration": 71,
    "start_time": "2022-11-04T10:32:32.905Z"
   },
   {
    "duration": 9,
    "start_time": "2022-11-04T10:32:39.793Z"
   },
   {
    "duration": 106,
    "start_time": "2022-11-04T10:32:50.585Z"
   },
   {
    "duration": 12,
    "start_time": "2022-11-04T10:32:53.953Z"
   },
   {
    "duration": 8,
    "start_time": "2022-11-04T10:33:06.507Z"
   },
   {
    "duration": 15,
    "start_time": "2022-11-04T10:33:22.048Z"
   },
   {
    "duration": 1194,
    "start_time": "2022-11-04T10:33:37.809Z"
   },
   {
    "duration": 75,
    "start_time": "2022-11-04T10:33:39.008Z"
   },
   {
    "duration": 28,
    "start_time": "2022-11-04T10:33:39.086Z"
   },
   {
    "duration": 16,
    "start_time": "2022-11-04T10:33:39.119Z"
   },
   {
    "duration": 23,
    "start_time": "2022-11-04T10:33:39.137Z"
   },
   {
    "duration": 36,
    "start_time": "2022-11-04T10:33:39.162Z"
   },
   {
    "duration": 21,
    "start_time": "2022-11-04T10:33:39.200Z"
   },
   {
    "duration": 24,
    "start_time": "2022-11-04T10:33:39.224Z"
   },
   {
    "duration": 14,
    "start_time": "2022-11-04T10:33:39.250Z"
   },
   {
    "duration": 27,
    "start_time": "2022-11-04T10:33:39.267Z"
   },
   {
    "duration": 25,
    "start_time": "2022-11-04T10:33:39.298Z"
   },
   {
    "duration": 21,
    "start_time": "2022-11-04T10:33:39.325Z"
   },
   {
    "duration": 14,
    "start_time": "2022-11-04T10:33:39.348Z"
   },
   {
    "duration": 10,
    "start_time": "2022-11-04T10:33:39.368Z"
   },
   {
    "duration": 30,
    "start_time": "2022-11-04T10:33:39.380Z"
   },
   {
    "duration": 30,
    "start_time": "2022-11-04T10:33:39.414Z"
   },
   {
    "duration": 27,
    "start_time": "2022-11-04T10:33:39.445Z"
   },
   {
    "duration": 478,
    "start_time": "2022-11-04T10:33:39.474Z"
   },
   {
    "duration": 178,
    "start_time": "2022-11-04T10:33:39.955Z"
   },
   {
    "duration": 10,
    "start_time": "2022-11-04T10:33:40.136Z"
   },
   {
    "duration": 361,
    "start_time": "2022-11-04T10:33:40.148Z"
   },
   {
    "duration": 24,
    "start_time": "2022-11-04T10:33:40.511Z"
   },
   {
    "duration": 21,
    "start_time": "2022-11-04T10:33:40.537Z"
   },
   {
    "duration": 57,
    "start_time": "2022-11-04T10:33:40.560Z"
   },
   {
    "duration": 294,
    "start_time": "2022-11-04T10:33:40.618Z"
   },
   {
    "duration": 116,
    "start_time": "2022-11-04T10:33:40.914Z"
   },
   {
    "duration": 18,
    "start_time": "2022-11-04T10:34:24.205Z"
   },
   {
    "duration": 20,
    "start_time": "2022-11-04T10:35:05.752Z"
   },
   {
    "duration": 31,
    "start_time": "2022-11-04T10:35:11.176Z"
   },
   {
    "duration": 31,
    "start_time": "2022-11-04T10:35:28.880Z"
   },
   {
    "duration": 17,
    "start_time": "2022-11-04T10:35:37.173Z"
   },
   {
    "duration": 23,
    "start_time": "2022-11-04T10:35:45.239Z"
   },
   {
    "duration": 29,
    "start_time": "2022-11-04T10:36:19.773Z"
   },
   {
    "duration": 36,
    "start_time": "2022-11-04T10:36:27.878Z"
   },
   {
    "duration": 34,
    "start_time": "2022-11-04T10:36:34.382Z"
   },
   {
    "duration": 23,
    "start_time": "2022-11-04T10:36:39.340Z"
   },
   {
    "duration": 24,
    "start_time": "2022-11-04T10:40:35.172Z"
   },
   {
    "duration": 20,
    "start_time": "2022-11-04T10:41:03.266Z"
   },
   {
    "duration": 17,
    "start_time": "2022-11-04T10:41:50.216Z"
   },
   {
    "duration": 14,
    "start_time": "2022-11-04T10:43:56.546Z"
   },
   {
    "duration": 14,
    "start_time": "2022-11-04T10:54:48.561Z"
   },
   {
    "duration": 367,
    "start_time": "2022-11-04T10:55:33.215Z"
   },
   {
    "duration": 426,
    "start_time": "2022-11-04T10:56:14.677Z"
   },
   {
    "duration": 14,
    "start_time": "2022-11-04T12:29:04.923Z"
   },
   {
    "duration": 317,
    "start_time": "2022-11-04T12:32:44.851Z"
   },
   {
    "duration": 152,
    "start_time": "2022-11-04T12:34:50.086Z"
   },
   {
    "duration": 354,
    "start_time": "2022-11-04T12:35:55.169Z"
   },
   {
    "duration": 26,
    "start_time": "2022-11-04T12:37:18.429Z"
   },
   {
    "duration": 19,
    "start_time": "2022-11-04T12:37:50.837Z"
   },
   {
    "duration": 337,
    "start_time": "2022-11-04T12:38:18.806Z"
   },
   {
    "duration": 123,
    "start_time": "2022-11-04T12:38:25.329Z"
   },
   {
    "duration": 166,
    "start_time": "2022-11-04T12:38:55.687Z"
   },
   {
    "duration": 273,
    "start_time": "2022-11-04T12:39:28.542Z"
   },
   {
    "duration": 43,
    "start_time": "2022-11-04T12:47:21.733Z"
   },
   {
    "duration": 175,
    "start_time": "2022-11-04T12:47:37.340Z"
   },
   {
    "duration": 1267,
    "start_time": "2022-11-04T12:47:55.738Z"
   },
   {
    "duration": 66,
    "start_time": "2022-11-04T12:47:57.007Z"
   },
   {
    "duration": 15,
    "start_time": "2022-11-04T12:47:57.074Z"
   },
   {
    "duration": 10,
    "start_time": "2022-11-04T12:47:57.091Z"
   },
   {
    "duration": 17,
    "start_time": "2022-11-04T12:47:57.103Z"
   },
   {
    "duration": 18,
    "start_time": "2022-11-04T12:47:57.121Z"
   },
   {
    "duration": 16,
    "start_time": "2022-11-04T12:47:57.141Z"
   },
   {
    "duration": 48,
    "start_time": "2022-11-04T12:47:57.158Z"
   },
   {
    "duration": 14,
    "start_time": "2022-11-04T12:47:57.209Z"
   },
   {
    "duration": 6,
    "start_time": "2022-11-04T12:47:57.226Z"
   },
   {
    "duration": 10,
    "start_time": "2022-11-04T12:47:57.234Z"
   },
   {
    "duration": 46,
    "start_time": "2022-11-04T12:47:57.245Z"
   },
   {
    "duration": 9,
    "start_time": "2022-11-04T12:47:57.294Z"
   },
   {
    "duration": 7,
    "start_time": "2022-11-04T12:47:57.305Z"
   },
   {
    "duration": 10,
    "start_time": "2022-11-04T12:47:57.313Z"
   },
   {
    "duration": 27,
    "start_time": "2022-11-04T12:47:57.324Z"
   },
   {
    "duration": 61,
    "start_time": "2022-11-04T12:47:57.354Z"
   },
   {
    "duration": 376,
    "start_time": "2022-11-04T12:47:57.417Z"
   },
   {
    "duration": 149,
    "start_time": "2022-11-04T12:47:57.795Z"
   },
   {
    "duration": 8,
    "start_time": "2022-11-04T12:47:57.946Z"
   },
   {
    "duration": 288,
    "start_time": "2022-11-04T12:47:57.956Z"
   },
   {
    "duration": 27,
    "start_time": "2022-11-04T12:47:58.246Z"
   },
   {
    "duration": 19,
    "start_time": "2022-11-04T12:47:58.290Z"
   },
   {
    "duration": 32,
    "start_time": "2022-11-04T12:47:58.313Z"
   },
   {
    "duration": 286,
    "start_time": "2022-11-04T12:47:58.347Z"
   },
   {
    "duration": 26,
    "start_time": "2022-11-04T12:47:58.635Z"
   },
   {
    "duration": 12,
    "start_time": "2022-11-04T12:47:58.663Z"
   },
   {
    "duration": 389,
    "start_time": "2022-11-04T12:47:58.679Z"
   },
   {
    "duration": 42,
    "start_time": "2022-11-04T12:47:59.069Z"
   },
   {
    "duration": 195,
    "start_time": "2022-11-04T12:47:59.113Z"
   },
   {
    "duration": 35,
    "start_time": "2022-11-04T12:49:18.249Z"
   },
   {
    "duration": 32,
    "start_time": "2022-11-04T12:50:00.945Z"
   },
   {
    "duration": 23,
    "start_time": "2022-11-04T12:50:11.302Z"
   },
   {
    "duration": 216,
    "start_time": "2022-11-04T12:50:26.557Z"
   },
   {
    "duration": 245,
    "start_time": "2022-11-04T12:53:02.657Z"
   },
   {
    "duration": 229,
    "start_time": "2022-11-04T12:54:15.034Z"
   },
   {
    "duration": 176,
    "start_time": "2022-11-04T13:01:37.135Z"
   },
   {
    "duration": 264,
    "start_time": "2022-11-04T13:03:30.943Z"
   },
   {
    "duration": 10,
    "start_time": "2022-11-04T13:19:49.512Z"
   },
   {
    "duration": 4,
    "start_time": "2022-11-04T13:20:45.722Z"
   },
   {
    "duration": 1337,
    "start_time": "2022-11-04T13:21:38.105Z"
   },
   {
    "duration": 3,
    "start_time": "2022-11-04T13:22:12.816Z"
   },
   {
    "duration": 6,
    "start_time": "2022-11-04T13:22:22.201Z"
   },
   {
    "duration": 1369,
    "start_time": "2022-11-04T13:22:23.411Z"
   },
   {
    "duration": 3,
    "start_time": "2022-11-04T13:22:58.725Z"
   },
   {
    "duration": 1496,
    "start_time": "2022-11-04T13:22:59.965Z"
   },
   {
    "duration": 4,
    "start_time": "2022-11-04T13:23:09.252Z"
   },
   {
    "duration": 171,
    "start_time": "2022-11-04T13:23:10.341Z"
   },
   {
    "duration": 6,
    "start_time": "2022-11-04T13:24:27.488Z"
   },
   {
    "duration": 186,
    "start_time": "2022-11-04T13:24:31.728Z"
   },
   {
    "duration": 7,
    "start_time": "2022-11-04T13:24:51.401Z"
   },
   {
    "duration": 422,
    "start_time": "2022-11-04T13:24:52.432Z"
   },
   {
    "duration": 4,
    "start_time": "2022-11-04T13:26:33.650Z"
   },
   {
    "duration": 424,
    "start_time": "2022-11-04T13:26:34.235Z"
   },
   {
    "duration": 14,
    "start_time": "2022-11-04T13:28:44.800Z"
   },
   {
    "duration": 1016,
    "start_time": "2022-11-04T13:29:03.918Z"
   },
   {
    "duration": 78,
    "start_time": "2022-11-04T13:29:51.852Z"
   },
   {
    "duration": 83,
    "start_time": "2022-11-04T13:30:15.877Z"
   },
   {
    "duration": 84,
    "start_time": "2022-11-04T13:30:44.544Z"
   },
   {
    "duration": 83,
    "start_time": "2022-11-04T13:30:48.992Z"
   },
   {
    "duration": 1182,
    "start_time": "2022-11-04T13:31:28.749Z"
   },
   {
    "duration": 77,
    "start_time": "2022-11-04T13:31:29.934Z"
   },
   {
    "duration": 14,
    "start_time": "2022-11-04T13:31:30.013Z"
   },
   {
    "duration": 10,
    "start_time": "2022-11-04T13:31:30.029Z"
   },
   {
    "duration": 18,
    "start_time": "2022-11-04T13:31:30.040Z"
   },
   {
    "duration": 45,
    "start_time": "2022-11-04T13:31:30.060Z"
   },
   {
    "duration": 17,
    "start_time": "2022-11-04T13:31:30.107Z"
   },
   {
    "duration": 14,
    "start_time": "2022-11-04T13:31:30.126Z"
   },
   {
    "duration": 13,
    "start_time": "2022-11-04T13:31:30.142Z"
   },
   {
    "duration": 9,
    "start_time": "2022-11-04T13:31:30.157Z"
   },
   {
    "duration": 35,
    "start_time": "2022-11-04T13:31:30.167Z"
   },
   {
    "duration": 14,
    "start_time": "2022-11-04T13:31:30.205Z"
   },
   {
    "duration": 12,
    "start_time": "2022-11-04T13:31:30.221Z"
   },
   {
    "duration": 12,
    "start_time": "2022-11-04T13:31:30.234Z"
   },
   {
    "duration": 27,
    "start_time": "2022-11-04T13:31:30.247Z"
   },
   {
    "duration": 45,
    "start_time": "2022-11-04T13:31:30.276Z"
   },
   {
    "duration": 54,
    "start_time": "2022-11-04T13:31:30.323Z"
   },
   {
    "duration": 383,
    "start_time": "2022-11-04T13:31:30.379Z"
   },
   {
    "duration": 144,
    "start_time": "2022-11-04T13:31:30.764Z"
   },
   {
    "duration": 8,
    "start_time": "2022-11-04T13:31:30.910Z"
   },
   {
    "duration": 292,
    "start_time": "2022-11-04T13:31:30.919Z"
   },
   {
    "duration": 22,
    "start_time": "2022-11-04T13:31:31.213Z"
   },
   {
    "duration": 16,
    "start_time": "2022-11-04T13:31:31.237Z"
   },
   {
    "duration": 56,
    "start_time": "2022-11-04T13:31:31.255Z"
   },
   {
    "duration": 259,
    "start_time": "2022-11-04T13:31:31.313Z"
   },
   {
    "duration": 27,
    "start_time": "2022-11-04T13:31:31.574Z"
   },
   {
    "duration": 11,
    "start_time": "2022-11-04T13:31:31.610Z"
   },
   {
    "duration": 351,
    "start_time": "2022-11-04T13:31:31.624Z"
   },
   {
    "duration": 38,
    "start_time": "2022-11-04T13:31:31.976Z"
   },
   {
    "duration": 267,
    "start_time": "2022-11-04T13:31:32.016Z"
   },
   {
    "duration": 78,
    "start_time": "2022-11-04T13:31:32.285Z"
   },
   {
    "duration": 0,
    "start_time": "2022-11-04T13:31:32.365Z"
   },
   {
    "duration": 83,
    "start_time": "2022-11-04T13:31:57.952Z"
   },
   {
    "duration": 82,
    "start_time": "2022-11-04T13:32:46.141Z"
   },
   {
    "duration": 76,
    "start_time": "2022-11-04T13:32:55.601Z"
   },
   {
    "duration": 3,
    "start_time": "2022-11-04T13:33:24.164Z"
   },
   {
    "duration": 5,
    "start_time": "2022-11-04T13:33:27.301Z"
   },
   {
    "duration": 84,
    "start_time": "2022-11-04T13:33:52.237Z"
   },
   {
    "duration": 128,
    "start_time": "2022-11-04T13:35:00.072Z"
   },
   {
    "duration": 100,
    "start_time": "2022-11-04T13:36:00.288Z"
   },
   {
    "duration": 89,
    "start_time": "2022-11-04T13:36:24.532Z"
   },
   {
    "duration": 17,
    "start_time": "2022-11-04T13:37:27.022Z"
   },
   {
    "duration": 99,
    "start_time": "2022-11-04T13:37:41.338Z"
   },
   {
    "duration": 15,
    "start_time": "2022-11-04T13:39:52.158Z"
   },
   {
    "duration": 2131,
    "start_time": "2022-11-04T13:40:00.888Z"
   },
   {
    "duration": 179,
    "start_time": "2022-11-04T13:40:14.687Z"
   },
   {
    "duration": 1539,
    "start_time": "2022-11-04T13:42:54.814Z"
   },
   {
    "duration": 190,
    "start_time": "2022-11-04T13:43:06.889Z"
   },
   {
    "duration": 178,
    "start_time": "2022-11-04T13:43:18.883Z"
   },
   {
    "duration": 175,
    "start_time": "2022-11-04T13:44:17.134Z"
   },
   {
    "duration": 199,
    "start_time": "2022-11-04T13:44:30.219Z"
   },
   {
    "duration": 166,
    "start_time": "2022-11-04T13:44:40.921Z"
   },
   {
    "duration": 174,
    "start_time": "2022-11-04T13:44:52.780Z"
   },
   {
    "duration": 151,
    "start_time": "2022-11-04T13:44:59.713Z"
   },
   {
    "duration": 158,
    "start_time": "2022-11-04T13:49:00.717Z"
   },
   {
    "duration": 165,
    "start_time": "2022-11-04T13:50:52.815Z"
   },
   {
    "duration": 166,
    "start_time": "2022-11-04T13:51:14.582Z"
   },
   {
    "duration": 160,
    "start_time": "2022-11-04T13:51:48.116Z"
   },
   {
    "duration": 247,
    "start_time": "2022-11-04T13:51:53.580Z"
   },
   {
    "duration": 149,
    "start_time": "2022-11-04T13:52:06.811Z"
   },
   {
    "duration": 171,
    "start_time": "2022-11-04T13:52:13.720Z"
   },
   {
    "duration": 13,
    "start_time": "2022-11-04T13:52:24.635Z"
   },
   {
    "duration": 7,
    "start_time": "2022-11-04T13:53:56.609Z"
   },
   {
    "duration": 5,
    "start_time": "2022-11-04T13:54:16.519Z"
   },
   {
    "duration": 9,
    "start_time": "2022-11-04T13:54:24.019Z"
   },
   {
    "duration": 13,
    "start_time": "2022-11-04T13:54:28.486Z"
   },
   {
    "duration": 171,
    "start_time": "2022-11-04T13:56:14.030Z"
   },
   {
    "duration": 1224,
    "start_time": "2022-11-04T13:58:23.899Z"
   },
   {
    "duration": 74,
    "start_time": "2022-11-04T13:58:25.125Z"
   },
   {
    "duration": 22,
    "start_time": "2022-11-04T13:58:25.208Z"
   },
   {
    "duration": 12,
    "start_time": "2022-11-04T13:58:25.232Z"
   },
   {
    "duration": 18,
    "start_time": "2022-11-04T13:58:25.246Z"
   },
   {
    "duration": 31,
    "start_time": "2022-11-04T13:58:25.265Z"
   },
   {
    "duration": 18,
    "start_time": "2022-11-04T13:58:25.298Z"
   },
   {
    "duration": 13,
    "start_time": "2022-11-04T13:58:25.318Z"
   },
   {
    "duration": 11,
    "start_time": "2022-11-04T13:58:25.333Z"
   },
   {
    "duration": 7,
    "start_time": "2022-11-04T13:58:25.347Z"
   },
   {
    "duration": 42,
    "start_time": "2022-11-04T13:58:25.356Z"
   },
   {
    "duration": 12,
    "start_time": "2022-11-04T13:58:25.405Z"
   },
   {
    "duration": 8,
    "start_time": "2022-11-04T13:58:25.420Z"
   },
   {
    "duration": 6,
    "start_time": "2022-11-04T13:58:25.430Z"
   },
   {
    "duration": 10,
    "start_time": "2022-11-04T13:58:25.438Z"
   },
   {
    "duration": 49,
    "start_time": "2022-11-04T13:58:25.449Z"
   },
   {
    "duration": 25,
    "start_time": "2022-11-04T13:58:25.502Z"
   },
   {
    "duration": 387,
    "start_time": "2022-11-04T13:58:25.529Z"
   },
   {
    "duration": 124,
    "start_time": "2022-11-04T13:58:25.918Z"
   },
   {
    "duration": 10,
    "start_time": "2022-11-04T13:58:26.044Z"
   },
   {
    "duration": 297,
    "start_time": "2022-11-04T13:58:26.056Z"
   },
   {
    "duration": 20,
    "start_time": "2022-11-04T13:58:26.355Z"
   },
   {
    "duration": 30,
    "start_time": "2022-11-04T13:58:26.377Z"
   },
   {
    "duration": 28,
    "start_time": "2022-11-04T13:58:26.418Z"
   },
   {
    "duration": 313,
    "start_time": "2022-11-04T13:58:26.448Z"
   },
   {
    "duration": 27,
    "start_time": "2022-11-04T13:58:26.763Z"
   },
   {
    "duration": 23,
    "start_time": "2022-11-04T13:58:26.792Z"
   },
   {
    "duration": 400,
    "start_time": "2022-11-04T13:58:26.819Z"
   },
   {
    "duration": 24,
    "start_time": "2022-11-04T13:58:27.222Z"
   },
   {
    "duration": 295,
    "start_time": "2022-11-04T13:58:27.248Z"
   },
   {
    "duration": 276,
    "start_time": "2022-11-04T13:58:27.546Z"
   },
   {
    "duration": 15,
    "start_time": "2022-11-04T13:58:27.824Z"
   },
   {
    "duration": 74,
    "start_time": "2022-11-04T13:59:40.712Z"
   },
   {
    "duration": 191,
    "start_time": "2022-11-04T14:01:14.370Z"
   },
   {
    "duration": 167,
    "start_time": "2022-11-04T14:02:39.389Z"
   },
   {
    "duration": 161,
    "start_time": "2022-11-04T14:17:59.928Z"
   },
   {
    "duration": 144,
    "start_time": "2022-11-04T14:18:27.260Z"
   },
   {
    "duration": 152,
    "start_time": "2022-11-04T14:18:53.877Z"
   },
   {
    "duration": 10,
    "start_time": "2022-11-04T14:19:43.424Z"
   },
   {
    "duration": 21,
    "start_time": "2022-11-04T14:20:34.581Z"
   },
   {
    "duration": 136,
    "start_time": "2022-11-04T14:21:14.227Z"
   },
   {
    "duration": 12,
    "start_time": "2022-11-04T14:25:16.715Z"
   },
   {
    "duration": 14,
    "start_time": "2022-11-04T14:25:46.075Z"
   },
   {
    "duration": 15,
    "start_time": "2022-11-04T14:26:20.510Z"
   },
   {
    "duration": 23,
    "start_time": "2022-11-04T14:27:56.162Z"
   },
   {
    "duration": 244,
    "start_time": "2022-11-04T14:28:04.919Z"
   },
   {
    "duration": 22,
    "start_time": "2022-11-04T14:28:29.609Z"
   },
   {
    "duration": 19,
    "start_time": "2022-11-04T14:32:40.183Z"
   },
   {
    "duration": 27,
    "start_time": "2022-11-04T14:33:56.969Z"
   },
   {
    "duration": 9,
    "start_time": "2022-11-04T14:34:22.560Z"
   },
   {
    "duration": 26,
    "start_time": "2022-11-04T14:34:32.489Z"
   },
   {
    "duration": 12,
    "start_time": "2022-11-04T14:34:42.523Z"
   },
   {
    "duration": 31,
    "start_time": "2022-11-04T14:35:41.566Z"
   },
   {
    "duration": 18,
    "start_time": "2022-11-04T14:35:47.272Z"
   },
   {
    "duration": 7,
    "start_time": "2022-11-04T14:37:42.476Z"
   },
   {
    "duration": 5,
    "start_time": "2022-11-04T14:37:44.768Z"
   },
   {
    "duration": 16,
    "start_time": "2022-11-04T14:38:04.910Z"
   },
   {
    "duration": 10,
    "start_time": "2022-11-04T14:38:13.535Z"
   },
   {
    "duration": 5,
    "start_time": "2022-11-04T14:38:17.567Z"
   },
   {
    "duration": 20,
    "start_time": "2022-11-04T14:38:21.030Z"
   },
   {
    "duration": 15,
    "start_time": "2022-11-04T14:38:41.627Z"
   },
   {
    "duration": 153,
    "start_time": "2022-11-04T14:39:48.652Z"
   },
   {
    "duration": 160,
    "start_time": "2022-11-04T14:40:05.520Z"
   },
   {
    "duration": 33,
    "start_time": "2022-11-04T14:40:18.785Z"
   },
   {
    "duration": 8,
    "start_time": "2022-11-04T14:40:50.107Z"
   },
   {
    "duration": 10,
    "start_time": "2022-11-04T14:41:31.568Z"
   },
   {
    "duration": 13,
    "start_time": "2022-11-04T14:42:20.836Z"
   },
   {
    "duration": 11,
    "start_time": "2022-11-04T14:42:24.741Z"
   },
   {
    "duration": 163,
    "start_time": "2022-11-04T14:43:09.220Z"
   },
   {
    "duration": 148,
    "start_time": "2022-11-04T14:43:22.874Z"
   },
   {
    "duration": 90,
    "start_time": "2022-11-04T14:44:48.477Z"
   },
   {
    "duration": 10,
    "start_time": "2022-11-04T14:50:15.325Z"
   },
   {
    "duration": 25,
    "start_time": "2022-11-04T14:51:09.888Z"
   },
   {
    "duration": 1238,
    "start_time": "2022-11-04T14:51:17.593Z"
   },
   {
    "duration": 73,
    "start_time": "2022-11-04T14:51:18.833Z"
   },
   {
    "duration": 19,
    "start_time": "2022-11-04T14:51:18.907Z"
   },
   {
    "duration": 9,
    "start_time": "2022-11-04T14:51:18.929Z"
   },
   {
    "duration": 14,
    "start_time": "2022-11-04T14:51:18.940Z"
   },
   {
    "duration": 57,
    "start_time": "2022-11-04T14:51:18.956Z"
   },
   {
    "duration": 16,
    "start_time": "2022-11-04T14:51:19.015Z"
   },
   {
    "duration": 10,
    "start_time": "2022-11-04T14:51:19.033Z"
   },
   {
    "duration": 10,
    "start_time": "2022-11-04T14:51:19.045Z"
   },
   {
    "duration": 8,
    "start_time": "2022-11-04T14:51:19.058Z"
   },
   {
    "duration": 9,
    "start_time": "2022-11-04T14:51:19.068Z"
   },
   {
    "duration": 13,
    "start_time": "2022-11-04T14:51:19.092Z"
   },
   {
    "duration": 19,
    "start_time": "2022-11-04T14:51:19.112Z"
   },
   {
    "duration": 7,
    "start_time": "2022-11-04T14:51:19.133Z"
   },
   {
    "duration": 9,
    "start_time": "2022-11-04T14:51:19.141Z"
   },
   {
    "duration": 43,
    "start_time": "2022-11-04T14:51:19.151Z"
   },
   {
    "duration": 26,
    "start_time": "2022-11-04T14:51:19.197Z"
   },
   {
    "duration": 388,
    "start_time": "2022-11-04T14:51:19.225Z"
   },
   {
    "duration": 146,
    "start_time": "2022-11-04T14:51:19.616Z"
   },
   {
    "duration": 7,
    "start_time": "2022-11-04T14:51:19.763Z"
   },
   {
    "duration": 285,
    "start_time": "2022-11-04T14:51:19.772Z"
   },
   {
    "duration": 20,
    "start_time": "2022-11-04T14:51:20.058Z"
   },
   {
    "duration": 29,
    "start_time": "2022-11-04T14:51:20.080Z"
   },
   {
    "duration": 27,
    "start_time": "2022-11-04T14:51:20.111Z"
   },
   {
    "duration": 271,
    "start_time": "2022-11-04T14:51:20.140Z"
   },
   {
    "duration": 29,
    "start_time": "2022-11-04T14:51:20.414Z"
   },
   {
    "duration": 13,
    "start_time": "2022-11-04T14:51:20.444Z"
   },
   {
    "duration": 366,
    "start_time": "2022-11-04T14:51:20.461Z"
   },
   {
    "duration": 20,
    "start_time": "2022-11-04T14:51:20.829Z"
   },
   {
    "duration": 280,
    "start_time": "2022-11-04T14:51:20.850Z"
   },
   {
    "duration": 6,
    "start_time": "2022-11-04T14:51:21.134Z"
   },
   {
    "duration": 258,
    "start_time": "2022-11-04T14:51:21.141Z"
   },
   {
    "duration": 154,
    "start_time": "2022-11-04T14:51:21.403Z"
   },
   {
    "duration": 10,
    "start_time": "2022-11-04T14:51:21.558Z"
   },
   {
    "duration": 159,
    "start_time": "2022-11-04T14:51:21.569Z"
   },
   {
    "duration": 124,
    "start_time": "2022-11-04T14:51:21.730Z"
   },
   {
    "duration": 10,
    "start_time": "2022-11-04T14:51:21.856Z"
   },
   {
    "duration": 6,
    "start_time": "2022-11-04T14:51:21.868Z"
   },
   {
    "duration": 3,
    "start_time": "2022-11-04T15:05:53.831Z"
   },
   {
    "duration": 1197,
    "start_time": "2022-11-04T15:06:08.087Z"
   },
   {
    "duration": 72,
    "start_time": "2022-11-04T15:06:09.286Z"
   },
   {
    "duration": 17,
    "start_time": "2022-11-04T15:06:09.359Z"
   },
   {
    "duration": 15,
    "start_time": "2022-11-04T15:06:09.379Z"
   },
   {
    "duration": 20,
    "start_time": "2022-11-04T15:06:09.403Z"
   },
   {
    "duration": 22,
    "start_time": "2022-11-04T15:06:09.425Z"
   },
   {
    "duration": 13,
    "start_time": "2022-11-04T15:06:09.448Z"
   },
   {
    "duration": 11,
    "start_time": "2022-11-04T15:06:09.463Z"
   },
   {
    "duration": 26,
    "start_time": "2022-11-04T15:06:09.475Z"
   },
   {
    "duration": 8,
    "start_time": "2022-11-04T15:06:09.518Z"
   },
   {
    "duration": 8,
    "start_time": "2022-11-04T15:06:09.528Z"
   },
   {
    "duration": 9,
    "start_time": "2022-11-04T15:06:09.538Z"
   },
   {
    "duration": 8,
    "start_time": "2022-11-04T15:06:09.548Z"
   },
   {
    "duration": 6,
    "start_time": "2022-11-04T15:06:09.558Z"
   },
   {
    "duration": 41,
    "start_time": "2022-11-04T15:06:09.565Z"
   },
   {
    "duration": 34,
    "start_time": "2022-11-04T15:06:09.608Z"
   },
   {
    "duration": 22,
    "start_time": "2022-11-04T15:06:09.644Z"
   },
   {
    "duration": 391,
    "start_time": "2022-11-04T15:06:09.668Z"
   },
   {
    "duration": 152,
    "start_time": "2022-11-04T15:06:10.061Z"
   },
   {
    "duration": 7,
    "start_time": "2022-11-04T15:06:10.220Z"
   },
   {
    "duration": 267,
    "start_time": "2022-11-04T15:06:10.229Z"
   },
   {
    "duration": 25,
    "start_time": "2022-11-04T15:06:10.499Z"
   },
   {
    "duration": 15,
    "start_time": "2022-11-04T15:06:10.527Z"
   },
   {
    "duration": 23,
    "start_time": "2022-11-04T15:06:10.544Z"
   },
   {
    "duration": 307,
    "start_time": "2022-11-04T15:06:10.569Z"
   },
   {
    "duration": 36,
    "start_time": "2022-11-04T15:06:10.878Z"
   },
   {
    "duration": 11,
    "start_time": "2022-11-04T15:06:10.923Z"
   },
   {
    "duration": 346,
    "start_time": "2022-11-04T15:06:10.937Z"
   },
   {
    "duration": 39,
    "start_time": "2022-11-04T15:06:11.290Z"
   },
   {
    "duration": 246,
    "start_time": "2022-11-04T15:06:11.330Z"
   },
   {
    "duration": 6,
    "start_time": "2022-11-04T15:06:11.578Z"
   },
   {
    "duration": 266,
    "start_time": "2022-11-04T15:06:11.591Z"
   },
   {
    "duration": 162,
    "start_time": "2022-11-04T15:06:11.859Z"
   },
   {
    "duration": 9,
    "start_time": "2022-11-04T15:06:12.023Z"
   },
   {
    "duration": 131,
    "start_time": "2022-11-04T15:06:12.034Z"
   },
   {
    "duration": 149,
    "start_time": "2022-11-04T15:06:12.167Z"
   },
   {
    "duration": 10,
    "start_time": "2022-11-04T15:06:12.318Z"
   },
   {
    "duration": 9,
    "start_time": "2022-11-04T15:06:12.329Z"
   },
   {
    "duration": 1496,
    "start_time": "2022-11-04T17:49:17.524Z"
   },
   {
    "duration": 111,
    "start_time": "2022-11-04T17:49:19.022Z"
   },
   {
    "duration": 16,
    "start_time": "2022-11-04T17:49:19.135Z"
   },
   {
    "duration": 15,
    "start_time": "2022-11-04T17:49:19.154Z"
   },
   {
    "duration": 17,
    "start_time": "2022-11-04T17:49:19.171Z"
   },
   {
    "duration": 22,
    "start_time": "2022-11-04T17:49:19.189Z"
   },
   {
    "duration": 15,
    "start_time": "2022-11-04T17:49:19.233Z"
   },
   {
    "duration": 17,
    "start_time": "2022-11-04T17:49:19.250Z"
   },
   {
    "duration": 14,
    "start_time": "2022-11-04T17:49:19.268Z"
   },
   {
    "duration": 7,
    "start_time": "2022-11-04T17:49:19.285Z"
   },
   {
    "duration": 44,
    "start_time": "2022-11-04T17:49:19.294Z"
   },
   {
    "duration": 9,
    "start_time": "2022-11-04T17:49:19.340Z"
   },
   {
    "duration": 9,
    "start_time": "2022-11-04T17:49:19.351Z"
   },
   {
    "duration": 6,
    "start_time": "2022-11-04T17:49:19.362Z"
   },
   {
    "duration": 11,
    "start_time": "2022-11-04T17:49:19.369Z"
   },
   {
    "duration": 64,
    "start_time": "2022-11-04T17:49:19.381Z"
   },
   {
    "duration": 21,
    "start_time": "2022-11-04T17:49:19.447Z"
   },
   {
    "duration": 402,
    "start_time": "2022-11-04T17:49:19.470Z"
   },
   {
    "duration": 151,
    "start_time": "2022-11-04T17:49:19.874Z"
   },
   {
    "duration": 13,
    "start_time": "2022-11-04T17:49:20.027Z"
   },
   {
    "duration": 310,
    "start_time": "2022-11-04T17:49:20.043Z"
   },
   {
    "duration": 20,
    "start_time": "2022-11-04T17:49:20.355Z"
   },
   {
    "duration": 15,
    "start_time": "2022-11-04T17:49:20.377Z"
   },
   {
    "duration": 49,
    "start_time": "2022-11-04T17:49:20.394Z"
   },
   {
    "duration": 256,
    "start_time": "2022-11-04T17:49:20.445Z"
   },
   {
    "duration": 19,
    "start_time": "2022-11-04T17:49:20.703Z"
   },
   {
    "duration": 10,
    "start_time": "2022-11-04T17:49:20.723Z"
   },
   {
    "duration": 340,
    "start_time": "2022-11-04T17:49:20.737Z"
   },
   {
    "duration": 18,
    "start_time": "2022-11-04T17:49:21.078Z"
   },
   {
    "duration": 260,
    "start_time": "2022-11-04T17:49:21.098Z"
   },
   {
    "duration": 5,
    "start_time": "2022-11-04T17:49:21.359Z"
   },
   {
    "duration": 219,
    "start_time": "2022-11-04T17:49:21.366Z"
   },
   {
    "duration": 138,
    "start_time": "2022-11-04T17:49:21.587Z"
   },
   {
    "duration": 9,
    "start_time": "2022-11-04T17:49:21.733Z"
   },
   {
    "duration": 137,
    "start_time": "2022-11-04T17:49:21.744Z"
   },
   {
    "duration": 121,
    "start_time": "2022-11-04T17:49:21.882Z"
   },
   {
    "duration": 10,
    "start_time": "2022-11-04T17:49:22.005Z"
   },
   {
    "duration": 21,
    "start_time": "2022-11-04T17:49:22.017Z"
   },
   {
    "duration": 137,
    "start_time": "2022-11-04T17:54:25.373Z"
   },
   {
    "duration": 144,
    "start_time": "2022-11-04T17:55:11.955Z"
   },
   {
    "duration": 127,
    "start_time": "2022-11-04T17:55:33.218Z"
   },
   {
    "duration": 165,
    "start_time": "2022-11-04T17:55:53.488Z"
   },
   {
    "duration": 48,
    "start_time": "2022-11-04T17:57:04.843Z"
   },
   {
    "duration": 130,
    "start_time": "2022-11-04T17:57:43.317Z"
   },
   {
    "duration": 130,
    "start_time": "2022-11-04T17:58:16.660Z"
   },
   {
    "duration": 135,
    "start_time": "2022-11-04T17:59:39.960Z"
   },
   {
    "duration": 132,
    "start_time": "2022-11-04T18:01:14.514Z"
   },
   {
    "duration": 153,
    "start_time": "2022-11-04T18:01:18.139Z"
   },
   {
    "duration": 74,
    "start_time": "2022-11-04T18:01:21.868Z"
   },
   {
    "duration": 217,
    "start_time": "2022-11-04T18:01:27.003Z"
   },
   {
    "duration": 158,
    "start_time": "2022-11-04T18:03:32.261Z"
   },
   {
    "duration": 135,
    "start_time": "2022-11-04T18:04:01.366Z"
   },
   {
    "duration": 134,
    "start_time": "2022-11-04T18:04:11.262Z"
   },
   {
    "duration": 117,
    "start_time": "2022-11-04T18:05:33.380Z"
   },
   {
    "duration": 139,
    "start_time": "2022-11-04T18:05:49.550Z"
   },
   {
    "duration": 137,
    "start_time": "2022-11-04T18:06:39.976Z"
   },
   {
    "duration": 141,
    "start_time": "2022-11-04T18:09:27.240Z"
   },
   {
    "duration": 130,
    "start_time": "2022-11-04T18:10:25.678Z"
   },
   {
    "duration": 147,
    "start_time": "2022-11-04T18:11:02.183Z"
   },
   {
    "duration": 133,
    "start_time": "2022-11-04T18:11:11.211Z"
   },
   {
    "duration": 10,
    "start_time": "2022-11-04T18:50:13.298Z"
   },
   {
    "duration": 9,
    "start_time": "2022-11-04T18:50:44.866Z"
   },
   {
    "duration": 10,
    "start_time": "2022-11-04T18:51:40.036Z"
   },
   {
    "duration": 1213,
    "start_time": "2022-11-04T18:52:15.622Z"
   },
   {
    "duration": 67,
    "start_time": "2022-11-04T18:52:16.837Z"
   },
   {
    "duration": 16,
    "start_time": "2022-11-04T18:52:16.906Z"
   },
   {
    "duration": 8,
    "start_time": "2022-11-04T18:52:16.925Z"
   },
   {
    "duration": 15,
    "start_time": "2022-11-04T18:52:16.935Z"
   },
   {
    "duration": 20,
    "start_time": "2022-11-04T18:52:16.951Z"
   },
   {
    "duration": 12,
    "start_time": "2022-11-04T18:52:16.973Z"
   },
   {
    "duration": 12,
    "start_time": "2022-11-04T18:52:16.986Z"
   },
   {
    "duration": 33,
    "start_time": "2022-11-04T18:52:17.000Z"
   },
   {
    "duration": 6,
    "start_time": "2022-11-04T18:52:17.037Z"
   },
   {
    "duration": 9,
    "start_time": "2022-11-04T18:52:17.045Z"
   },
   {
    "duration": 9,
    "start_time": "2022-11-04T18:52:17.056Z"
   },
   {
    "duration": 8,
    "start_time": "2022-11-04T18:52:17.067Z"
   },
   {
    "duration": 6,
    "start_time": "2022-11-04T18:52:17.077Z"
   },
   {
    "duration": 9,
    "start_time": "2022-11-04T18:52:17.084Z"
   },
   {
    "duration": 25,
    "start_time": "2022-11-04T18:52:17.133Z"
   },
   {
    "duration": 18,
    "start_time": "2022-11-04T18:52:17.160Z"
   },
   {
    "duration": 356,
    "start_time": "2022-11-04T18:52:17.179Z"
   },
   {
    "duration": 123,
    "start_time": "2022-11-04T18:52:17.537Z"
   },
   {
    "duration": 9,
    "start_time": "2022-11-04T18:52:17.662Z"
   },
   {
    "duration": 355,
    "start_time": "2022-11-04T18:52:17.673Z"
   },
   {
    "duration": 22,
    "start_time": "2022-11-04T18:52:18.033Z"
   },
   {
    "duration": 15,
    "start_time": "2022-11-04T18:52:18.056Z"
   },
   {
    "duration": 30,
    "start_time": "2022-11-04T18:52:18.073Z"
   },
   {
    "duration": 284,
    "start_time": "2022-11-04T18:52:18.105Z"
   },
   {
    "duration": 18,
    "start_time": "2022-11-04T18:52:18.392Z"
   },
   {
    "duration": 11,
    "start_time": "2022-11-04T18:52:18.412Z"
   },
   {
    "duration": 363,
    "start_time": "2022-11-04T18:52:18.427Z"
   },
   {
    "duration": 42,
    "start_time": "2022-11-04T18:52:18.792Z"
   },
   {
    "duration": 317,
    "start_time": "2022-11-04T18:52:18.836Z"
   },
   {
    "duration": 5,
    "start_time": "2022-11-04T18:52:19.155Z"
   },
   {
    "duration": 258,
    "start_time": "2022-11-04T18:52:19.162Z"
   },
   {
    "duration": 151,
    "start_time": "2022-11-04T18:52:19.421Z"
   },
   {
    "duration": 9,
    "start_time": "2022-11-04T18:52:19.574Z"
   },
   {
    "duration": 148,
    "start_time": "2022-11-04T18:52:19.585Z"
   },
   {
    "duration": 137,
    "start_time": "2022-11-04T18:52:19.735Z"
   },
   {
    "duration": 10,
    "start_time": "2022-11-04T18:52:19.873Z"
   },
   {
    "duration": 9,
    "start_time": "2022-11-04T18:52:19.885Z"
   },
   {
    "duration": 155,
    "start_time": "2022-11-04T18:52:19.896Z"
   },
   {
    "duration": 133,
    "start_time": "2022-11-04T18:52:20.053Z"
   },
   {
    "duration": 156,
    "start_time": "2022-11-04T18:52:20.188Z"
   },
   {
    "duration": 173,
    "start_time": "2022-11-04T18:52:20.346Z"
   },
   {
    "duration": 152,
    "start_time": "2022-11-04T18:52:20.520Z"
   },
   {
    "duration": 144,
    "start_time": "2022-11-04T18:52:20.674Z"
   },
   {
    "duration": 142,
    "start_time": "2022-11-04T18:52:20.821Z"
   },
   {
    "duration": 147,
    "start_time": "2022-11-04T18:52:20.965Z"
   },
   {
    "duration": 137,
    "start_time": "2022-11-04T18:52:21.114Z"
   },
   {
    "duration": 8,
    "start_time": "2022-11-04T18:52:21.253Z"
   },
   {
    "duration": 7,
    "start_time": "2022-11-04T18:52:21.263Z"
   },
   {
    "duration": 5,
    "start_time": "2022-11-04T18:53:03.103Z"
   },
   {
    "duration": 5,
    "start_time": "2022-11-04T18:53:07.965Z"
   },
   {
    "duration": 8,
    "start_time": "2022-11-04T18:53:31.922Z"
   },
   {
    "duration": 5,
    "start_time": "2022-11-04T18:53:33.430Z"
   },
   {
    "duration": 8,
    "start_time": "2022-11-04T18:53:38.326Z"
   },
   {
    "duration": 6,
    "start_time": "2022-11-04T18:53:39.162Z"
   },
   {
    "duration": 10,
    "start_time": "2022-11-04T18:55:10.745Z"
   },
   {
    "duration": 8,
    "start_time": "2022-11-04T18:55:12.199Z"
   },
   {
    "duration": 6,
    "start_time": "2022-11-04T18:55:19.567Z"
   },
   {
    "duration": 9,
    "start_time": "2022-11-04T18:56:41.698Z"
   },
   {
    "duration": 5,
    "start_time": "2022-11-04T18:56:42.164Z"
   },
   {
    "duration": 5,
    "start_time": "2022-11-04T18:56:48.386Z"
   },
   {
    "duration": 9,
    "start_time": "2022-11-04T18:56:59.874Z"
   },
   {
    "duration": 6,
    "start_time": "2022-11-04T18:57:00.298Z"
   },
   {
    "duration": 6,
    "start_time": "2022-11-04T18:58:07.456Z"
   },
   {
    "duration": 9,
    "start_time": "2022-11-04T18:59:19.756Z"
   },
   {
    "duration": 44,
    "start_time": "2022-11-04T18:59:28.787Z"
   },
   {
    "duration": 50,
    "start_time": "2022-11-04T18:59:59.290Z"
   },
   {
    "duration": 4,
    "start_time": "2022-11-04T19:00:33.945Z"
   },
   {
    "duration": 109,
    "start_time": "2022-11-04T19:00:55.097Z"
   },
   {
    "duration": 5,
    "start_time": "2022-11-04T19:01:08.497Z"
   },
   {
    "duration": 5,
    "start_time": "2022-11-04T19:01:36.449Z"
   },
   {
    "duration": 4,
    "start_time": "2022-11-04T19:01:47.262Z"
   },
   {
    "duration": 5,
    "start_time": "2022-11-04T19:02:52.412Z"
   },
   {
    "duration": 4,
    "start_time": "2022-11-04T19:04:15.876Z"
   },
   {
    "duration": 4,
    "start_time": "2022-11-04T19:04:18.027Z"
   },
   {
    "duration": 9,
    "start_time": "2022-11-04T19:06:27.623Z"
   },
   {
    "duration": 8,
    "start_time": "2022-11-04T19:07:29.105Z"
   },
   {
    "duration": 9,
    "start_time": "2022-11-04T19:07:41.342Z"
   },
   {
    "duration": 5,
    "start_time": "2022-11-04T19:08:07.569Z"
   },
   {
    "duration": 5,
    "start_time": "2022-11-04T19:08:49.788Z"
   },
   {
    "duration": 10,
    "start_time": "2022-11-04T19:20:52.360Z"
   },
   {
    "duration": 5,
    "start_time": "2022-11-04T19:20:53.669Z"
   },
   {
    "duration": 10,
    "start_time": "2022-11-04T19:24:00.100Z"
   },
   {
    "duration": 6,
    "start_time": "2022-11-04T19:24:01.461Z"
   },
   {
    "duration": 5,
    "start_time": "2022-11-04T19:24:02.686Z"
   },
   {
    "duration": 9,
    "start_time": "2022-11-04T19:24:32.285Z"
   },
   {
    "duration": 5,
    "start_time": "2022-11-04T19:24:33.306Z"
   },
   {
    "duration": 5,
    "start_time": "2022-11-04T19:24:35.370Z"
   },
   {
    "duration": 1217,
    "start_time": "2022-11-04T20:17:19.424Z"
   },
   {
    "duration": 71,
    "start_time": "2022-11-04T20:17:20.643Z"
   },
   {
    "duration": 15,
    "start_time": "2022-11-04T20:17:20.715Z"
   },
   {
    "duration": 9,
    "start_time": "2022-11-04T20:17:20.732Z"
   },
   {
    "duration": 16,
    "start_time": "2022-11-04T20:17:20.742Z"
   },
   {
    "duration": 26,
    "start_time": "2022-11-04T20:17:20.760Z"
   },
   {
    "duration": 14,
    "start_time": "2022-11-04T20:17:20.787Z"
   },
   {
    "duration": 34,
    "start_time": "2022-11-04T20:17:20.802Z"
   },
   {
    "duration": 10,
    "start_time": "2022-11-04T20:17:20.837Z"
   },
   {
    "duration": 8,
    "start_time": "2022-11-04T20:17:20.849Z"
   },
   {
    "duration": 9,
    "start_time": "2022-11-04T20:17:20.858Z"
   },
   {
    "duration": 12,
    "start_time": "2022-11-04T20:17:20.868Z"
   },
   {
    "duration": 8,
    "start_time": "2022-11-04T20:17:20.881Z"
   },
   {
    "duration": 15,
    "start_time": "2022-11-04T20:17:20.891Z"
   },
   {
    "duration": 8,
    "start_time": "2022-11-04T20:17:20.934Z"
   },
   {
    "duration": 24,
    "start_time": "2022-11-04T20:17:20.944Z"
   },
   {
    "duration": 17,
    "start_time": "2022-11-04T20:17:20.970Z"
   },
   {
    "duration": 366,
    "start_time": "2022-11-04T20:17:20.988Z"
   },
   {
    "duration": 126,
    "start_time": "2022-11-04T20:17:21.356Z"
   },
   {
    "duration": 7,
    "start_time": "2022-11-04T20:17:21.484Z"
   },
   {
    "duration": 254,
    "start_time": "2022-11-04T20:17:21.492Z"
   },
   {
    "duration": 19,
    "start_time": "2022-11-04T20:17:21.748Z"
   },
   {
    "duration": 15,
    "start_time": "2022-11-04T20:17:21.768Z"
   },
   {
    "duration": 27,
    "start_time": "2022-11-04T20:17:21.784Z"
   },
   {
    "duration": 243,
    "start_time": "2022-11-04T20:17:21.834Z"
   },
   {
    "duration": 17,
    "start_time": "2022-11-04T20:17:22.079Z"
   },
   {
    "duration": 10,
    "start_time": "2022-11-04T20:17:22.098Z"
   },
   {
    "duration": 346,
    "start_time": "2022-11-04T20:17:22.111Z"
   },
   {
    "duration": 19,
    "start_time": "2022-11-04T20:17:22.459Z"
   },
   {
    "duration": 256,
    "start_time": "2022-11-04T20:17:22.479Z"
   },
   {
    "duration": 7,
    "start_time": "2022-11-04T20:17:22.738Z"
   },
   {
    "duration": 239,
    "start_time": "2022-11-04T20:17:22.747Z"
   },
   {
    "duration": 149,
    "start_time": "2022-11-04T20:17:22.988Z"
   },
   {
    "duration": 10,
    "start_time": "2022-11-04T20:17:23.138Z"
   },
   {
    "duration": 141,
    "start_time": "2022-11-04T20:17:23.150Z"
   },
   {
    "duration": 121,
    "start_time": "2022-11-04T20:17:23.293Z"
   },
   {
    "duration": 21,
    "start_time": "2022-11-04T20:17:23.416Z"
   },
   {
    "duration": 9,
    "start_time": "2022-11-04T20:17:23.439Z"
   },
   {
    "duration": 155,
    "start_time": "2022-11-04T20:17:23.450Z"
   },
   {
    "duration": 143,
    "start_time": "2022-11-04T20:17:23.607Z"
   },
   {
    "duration": 149,
    "start_time": "2022-11-04T20:17:23.752Z"
   },
   {
    "duration": 167,
    "start_time": "2022-11-04T20:17:23.903Z"
   },
   {
    "duration": 172,
    "start_time": "2022-11-04T20:17:24.072Z"
   },
   {
    "duration": 189,
    "start_time": "2022-11-04T20:17:24.246Z"
   },
   {
    "duration": 151,
    "start_time": "2022-11-04T20:17:24.437Z"
   },
   {
    "duration": 151,
    "start_time": "2022-11-04T20:17:24.590Z"
   },
   {
    "duration": 146,
    "start_time": "2022-11-04T20:17:24.743Z"
   },
   {
    "duration": 8,
    "start_time": "2022-11-04T20:17:24.891Z"
   },
   {
    "duration": 7,
    "start_time": "2022-11-04T20:17:24.900Z"
   },
   {
    "duration": 5,
    "start_time": "2022-11-04T20:17:24.909Z"
   },
   {
    "duration": 9,
    "start_time": "2022-11-04T20:17:24.934Z"
   },
   {
    "duration": 10,
    "start_time": "2022-11-04T20:17:24.945Z"
   },
   {
    "duration": 11,
    "start_time": "2022-11-04T20:17:24.958Z"
   },
   {
    "duration": 1360,
    "start_time": "2022-11-05T20:16:08.038Z"
   },
   {
    "duration": 112,
    "start_time": "2022-11-05T20:16:09.400Z"
   },
   {
    "duration": 16,
    "start_time": "2022-11-05T20:16:09.513Z"
   },
   {
    "duration": 8,
    "start_time": "2022-11-05T20:16:09.531Z"
   },
   {
    "duration": 19,
    "start_time": "2022-11-05T20:16:09.541Z"
   },
   {
    "duration": 22,
    "start_time": "2022-11-05T20:16:09.561Z"
   },
   {
    "duration": 33,
    "start_time": "2022-11-05T20:16:09.584Z"
   },
   {
    "duration": 13,
    "start_time": "2022-11-05T20:16:09.618Z"
   },
   {
    "duration": 9,
    "start_time": "2022-11-05T20:16:09.633Z"
   },
   {
    "duration": 11,
    "start_time": "2022-11-05T20:16:09.645Z"
   },
   {
    "duration": 9,
    "start_time": "2022-11-05T20:16:09.657Z"
   },
   {
    "duration": 12,
    "start_time": "2022-11-05T20:16:09.668Z"
   },
   {
    "duration": 8,
    "start_time": "2022-11-05T20:16:09.708Z"
   },
   {
    "duration": 7,
    "start_time": "2022-11-05T20:16:09.718Z"
   },
   {
    "duration": 10,
    "start_time": "2022-11-05T20:16:09.726Z"
   },
   {
    "duration": 31,
    "start_time": "2022-11-05T20:16:09.737Z"
   },
   {
    "duration": 42,
    "start_time": "2022-11-05T20:16:09.769Z"
   },
   {
    "duration": 320,
    "start_time": "2022-11-05T20:16:09.812Z"
   },
   {
    "duration": 118,
    "start_time": "2022-11-05T20:16:10.133Z"
   },
   {
    "duration": 7,
    "start_time": "2022-11-05T20:16:10.253Z"
   },
   {
    "duration": 260,
    "start_time": "2022-11-05T20:16:10.262Z"
   },
   {
    "duration": 19,
    "start_time": "2022-11-05T20:16:10.523Z"
   },
   {
    "duration": 14,
    "start_time": "2022-11-05T20:16:10.544Z"
   },
   {
    "duration": 51,
    "start_time": "2022-11-05T20:16:10.560Z"
   },
   {
    "duration": 256,
    "start_time": "2022-11-05T20:16:10.613Z"
   },
   {
    "duration": 18,
    "start_time": "2022-11-05T20:16:10.871Z"
   },
   {
    "duration": 10,
    "start_time": "2022-11-05T20:16:10.891Z"
   },
   {
    "duration": 329,
    "start_time": "2022-11-05T20:16:10.904Z"
   },
   {
    "duration": 18,
    "start_time": "2022-11-05T20:16:11.234Z"
   },
   {
    "duration": 248,
    "start_time": "2022-11-05T20:16:11.254Z"
   },
   {
    "duration": 6,
    "start_time": "2022-11-05T20:16:11.509Z"
   },
   {
    "duration": 246,
    "start_time": "2022-11-05T20:16:11.516Z"
   },
   {
    "duration": 134,
    "start_time": "2022-11-05T20:16:11.764Z"
   },
   {
    "duration": 9,
    "start_time": "2022-11-05T20:16:11.900Z"
   },
   {
    "duration": 165,
    "start_time": "2022-11-05T20:16:11.911Z"
   },
   {
    "duration": 144,
    "start_time": "2022-11-05T20:16:12.109Z"
   },
   {
    "duration": 10,
    "start_time": "2022-11-05T20:16:12.254Z"
   },
   {
    "duration": 14,
    "start_time": "2022-11-05T20:16:12.266Z"
   },
   {
    "duration": 154,
    "start_time": "2022-11-05T20:16:12.282Z"
   },
   {
    "duration": 144,
    "start_time": "2022-11-05T20:16:12.439Z"
   },
   {
    "duration": 174,
    "start_time": "2022-11-05T20:16:12.585Z"
   },
   {
    "duration": 159,
    "start_time": "2022-11-05T20:16:12.761Z"
   },
   {
    "duration": 180,
    "start_time": "2022-11-05T20:16:12.922Z"
   },
   {
    "duration": 140,
    "start_time": "2022-11-05T20:16:13.104Z"
   },
   {
    "duration": 142,
    "start_time": "2022-11-05T20:16:13.246Z"
   },
   {
    "duration": 149,
    "start_time": "2022-11-05T20:16:13.390Z"
   },
   {
    "duration": 135,
    "start_time": "2022-11-05T20:16:13.540Z"
   },
   {
    "duration": 8,
    "start_time": "2022-11-05T20:16:13.677Z"
   },
   {
    "duration": 7,
    "start_time": "2022-11-05T20:16:13.686Z"
   },
   {
    "duration": 17,
    "start_time": "2022-11-05T20:16:13.695Z"
   },
   {
    "duration": 11,
    "start_time": "2022-11-05T20:16:13.713Z"
   },
   {
    "duration": 5,
    "start_time": "2022-11-05T20:16:13.726Z"
   },
   {
    "duration": 8,
    "start_time": "2022-11-05T20:16:13.732Z"
   },
   {
    "duration": 8,
    "start_time": "2022-11-05T20:19:20.357Z"
   },
   {
    "duration": 29,
    "start_time": "2022-11-05T20:19:34.700Z"
   },
   {
    "duration": 51,
    "start_time": "2022-11-05T20:19:42.714Z"
   },
   {
    "duration": 20,
    "start_time": "2022-11-05T20:28:34.470Z"
   },
   {
    "duration": 27,
    "start_time": "2022-11-05T20:28:45.692Z"
   },
   {
    "duration": 1273,
    "start_time": "2022-11-05T20:28:52.327Z"
   },
   {
    "duration": 68,
    "start_time": "2022-11-05T20:28:53.602Z"
   },
   {
    "duration": 20,
    "start_time": "2022-11-05T20:28:53.672Z"
   },
   {
    "duration": 17,
    "start_time": "2022-11-05T20:28:53.695Z"
   },
   {
    "duration": 20,
    "start_time": "2022-11-05T20:28:53.714Z"
   },
   {
    "duration": 17,
    "start_time": "2022-11-05T20:28:53.736Z"
   },
   {
    "duration": 14,
    "start_time": "2022-11-05T20:28:53.755Z"
   },
   {
    "duration": 40,
    "start_time": "2022-11-05T20:28:53.770Z"
   },
   {
    "duration": 16,
    "start_time": "2022-11-05T20:28:53.812Z"
   },
   {
    "duration": 19,
    "start_time": "2022-11-05T20:28:53.832Z"
   },
   {
    "duration": 13,
    "start_time": "2022-11-05T20:28:53.853Z"
   },
   {
    "duration": 12,
    "start_time": "2022-11-05T20:28:53.868Z"
   },
   {
    "duration": 34,
    "start_time": "2022-11-05T20:28:53.882Z"
   },
   {
    "duration": 8,
    "start_time": "2022-11-05T20:28:53.918Z"
   },
   {
    "duration": 12,
    "start_time": "2022-11-05T20:28:53.927Z"
   },
   {
    "duration": 35,
    "start_time": "2022-11-05T20:28:53.941Z"
   },
   {
    "duration": 44,
    "start_time": "2022-11-05T20:28:53.978Z"
   },
   {
    "duration": 32,
    "start_time": "2022-11-05T20:28:54.024Z"
   },
   {
    "duration": 370,
    "start_time": "2022-11-05T20:28:54.058Z"
   },
   {
    "duration": 127,
    "start_time": "2022-11-05T20:28:54.430Z"
   },
   {
    "duration": 8,
    "start_time": "2022-11-05T20:28:54.558Z"
   },
   {
    "duration": 234,
    "start_time": "2022-11-05T20:28:54.581Z"
   },
   {
    "duration": 20,
    "start_time": "2022-11-05T20:28:54.818Z"
   },
   {
    "duration": 17,
    "start_time": "2022-11-05T20:28:54.840Z"
   },
   {
    "duration": 51,
    "start_time": "2022-11-05T20:28:54.859Z"
   },
   {
    "duration": 245,
    "start_time": "2022-11-05T20:28:54.912Z"
   },
   {
    "duration": 17,
    "start_time": "2022-11-05T20:28:55.159Z"
   },
   {
    "duration": 10,
    "start_time": "2022-11-05T20:28:55.180Z"
   },
   {
    "duration": 318,
    "start_time": "2022-11-05T20:28:55.192Z"
   },
   {
    "duration": 19,
    "start_time": "2022-11-05T20:28:55.511Z"
   },
   {
    "duration": 238,
    "start_time": "2022-11-05T20:28:55.532Z"
   },
   {
    "duration": 4,
    "start_time": "2022-11-05T20:28:55.772Z"
   },
   {
    "duration": 202,
    "start_time": "2022-11-05T20:28:55.779Z"
   },
   {
    "duration": 154,
    "start_time": "2022-11-05T20:28:55.982Z"
   },
   {
    "duration": 10,
    "start_time": "2022-11-05T20:28:56.137Z"
   },
   {
    "duration": 129,
    "start_time": "2022-11-05T20:28:56.149Z"
   },
   {
    "duration": 116,
    "start_time": "2022-11-05T20:28:56.280Z"
   },
   {
    "duration": 18,
    "start_time": "2022-11-05T20:28:56.398Z"
   },
   {
    "duration": 13,
    "start_time": "2022-11-05T20:28:56.418Z"
   },
   {
    "duration": 183,
    "start_time": "2022-11-05T20:28:56.432Z"
   },
   {
    "duration": 138,
    "start_time": "2022-11-05T20:28:56.617Z"
   },
   {
    "duration": 156,
    "start_time": "2022-11-05T20:28:56.757Z"
   },
   {
    "duration": 143,
    "start_time": "2022-11-05T20:28:56.914Z"
   },
   {
    "duration": 138,
    "start_time": "2022-11-05T20:28:57.059Z"
   },
   {
    "duration": 144,
    "start_time": "2022-11-05T20:28:57.198Z"
   },
   {
    "duration": 130,
    "start_time": "2022-11-05T20:28:57.344Z"
   },
   {
    "duration": 137,
    "start_time": "2022-11-05T20:28:57.476Z"
   },
   {
    "duration": 137,
    "start_time": "2022-11-05T20:28:57.614Z"
   },
   {
    "duration": 8,
    "start_time": "2022-11-05T20:28:57.753Z"
   },
   {
    "duration": 12,
    "start_time": "2022-11-05T20:28:57.763Z"
   },
   {
    "duration": 11,
    "start_time": "2022-11-05T20:28:57.776Z"
   },
   {
    "duration": 24,
    "start_time": "2022-11-05T20:28:57.789Z"
   },
   {
    "duration": 5,
    "start_time": "2022-11-05T20:28:57.814Z"
   },
   {
    "duration": 7,
    "start_time": "2022-11-05T20:28:57.821Z"
   },
   {
    "duration": 16,
    "start_time": "2022-11-05T20:30:46.721Z"
   },
   {
    "duration": 15,
    "start_time": "2022-11-05T20:30:58.952Z"
   },
   {
    "duration": 313,
    "start_time": "2022-11-05T20:31:16.096Z"
   },
   {
    "duration": 22,
    "start_time": "2022-11-05T20:33:42.224Z"
   },
   {
    "duration": 23,
    "start_time": "2022-11-05T20:33:49.236Z"
   },
   {
    "duration": 17,
    "start_time": "2022-11-05T20:33:55.178Z"
   },
   {
    "duration": 11,
    "start_time": "2022-11-05T20:34:02.371Z"
   },
   {
    "duration": 382,
    "start_time": "2022-11-05T20:34:09.325Z"
   },
   {
    "duration": 325,
    "start_time": "2022-11-05T20:34:16.776Z"
   },
   {
    "duration": 28,
    "start_time": "2022-11-05T20:36:00.322Z"
   },
   {
    "duration": 263,
    "start_time": "2022-11-05T20:36:09.796Z"
   },
   {
    "duration": 302,
    "start_time": "2022-11-05T20:40:57.993Z"
   },
   {
    "duration": 238,
    "start_time": "2022-11-05T20:41:13.209Z"
   },
   {
    "duration": 267,
    "start_time": "2022-11-05T20:41:17.297Z"
   },
   {
    "duration": 368,
    "start_time": "2022-11-05T20:44:11.891Z"
   },
   {
    "duration": 17,
    "start_time": "2022-11-05T20:44:27.992Z"
   },
   {
    "duration": 5,
    "start_time": "2022-11-05T20:46:57.673Z"
   },
   {
    "duration": 127,
    "start_time": "2022-11-05T20:46:58.419Z"
   },
   {
    "duration": 127,
    "start_time": "2022-11-05T20:47:01.521Z"
   },
   {
    "duration": 9,
    "start_time": "2022-11-05T20:47:04.257Z"
   },
   {
    "duration": 115,
    "start_time": "2022-11-05T20:47:09.193Z"
   },
   {
    "duration": 153,
    "start_time": "2022-11-05T20:47:12.583Z"
   },
   {
    "duration": 9,
    "start_time": "2022-11-05T20:47:15.482Z"
   },
   {
    "duration": 8,
    "start_time": "2022-11-05T20:47:21.834Z"
   },
   {
    "duration": 112,
    "start_time": "2022-11-05T20:55:44.673Z"
   },
   {
    "duration": 114,
    "start_time": "2022-11-05T20:56:13.371Z"
   },
   {
    "duration": 111,
    "start_time": "2022-11-05T20:56:27.049Z"
   },
   {
    "duration": 2,
    "start_time": "2022-11-05T20:57:27.676Z"
   },
   {
    "duration": 6,
    "start_time": "2022-11-05T20:57:33.857Z"
   },
   {
    "duration": 2,
    "start_time": "2022-11-05T20:57:41.151Z"
   },
   {
    "duration": 116,
    "start_time": "2022-11-05T20:58:45.756Z"
   },
   {
    "duration": 109,
    "start_time": "2022-11-05T20:59:02.381Z"
   },
   {
    "duration": 119,
    "start_time": "2022-11-05T21:01:58.701Z"
   },
   {
    "duration": 9,
    "start_time": "2022-11-05T21:03:28.988Z"
   },
   {
    "duration": 9,
    "start_time": "2022-11-05T21:03:48.785Z"
   },
   {
    "duration": 120,
    "start_time": "2022-11-05T21:04:39.362Z"
   },
   {
    "duration": 156,
    "start_time": "2022-11-05T21:06:03.974Z"
   },
   {
    "duration": 109,
    "start_time": "2022-11-05T21:06:24.563Z"
   },
   {
    "duration": 108,
    "start_time": "2022-11-05T21:06:27.944Z"
   },
   {
    "duration": 107,
    "start_time": "2022-11-05T21:06:31.036Z"
   },
   {
    "duration": 130,
    "start_time": "2022-11-05T21:06:53.298Z"
   },
   {
    "duration": 134,
    "start_time": "2022-11-05T21:07:32.914Z"
   },
   {
    "duration": 115,
    "start_time": "2022-11-05T21:09:56.105Z"
   },
   {
    "duration": 106,
    "start_time": "2022-11-05T21:10:00.136Z"
   },
   {
    "duration": 10,
    "start_time": "2022-11-05T21:10:48.217Z"
   },
   {
    "duration": 7,
    "start_time": "2022-11-05T21:12:12.325Z"
   },
   {
    "duration": 204,
    "start_time": "2022-11-05T21:12:19.051Z"
   },
   {
    "duration": 146,
    "start_time": "2022-11-05T21:12:26.148Z"
   },
   {
    "duration": 117,
    "start_time": "2022-11-05T21:12:29.315Z"
   },
   {
    "duration": 128,
    "start_time": "2022-11-05T21:12:33.506Z"
   },
   {
    "duration": 137,
    "start_time": "2022-11-05T21:12:36.773Z"
   },
   {
    "duration": 127,
    "start_time": "2022-11-05T21:12:40.235Z"
   },
   {
    "duration": 116,
    "start_time": "2022-11-05T21:12:45.330Z"
   },
   {
    "duration": 126,
    "start_time": "2022-11-05T21:12:48.660Z"
   },
   {
    "duration": 122,
    "start_time": "2022-11-05T21:12:51.900Z"
   },
   {
    "duration": 8,
    "start_time": "2022-11-05T21:30:31.591Z"
   },
   {
    "duration": 8,
    "start_time": "2022-11-05T21:34:32.388Z"
   },
   {
    "duration": 180,
    "start_time": "2022-11-05T21:37:29.449Z"
   },
   {
    "duration": 182,
    "start_time": "2022-11-05T21:42:38.379Z"
   },
   {
    "duration": 242,
    "start_time": "2022-11-05T21:44:15.275Z"
   },
   {
    "duration": 215,
    "start_time": "2022-11-05T21:44:42.004Z"
   },
   {
    "duration": 302,
    "start_time": "2022-11-05T21:44:53.021Z"
   },
   {
    "duration": 198,
    "start_time": "2022-11-05T21:44:58.955Z"
   },
   {
    "duration": 236,
    "start_time": "2022-11-05T21:45:03.861Z"
   },
   {
    "duration": 237,
    "start_time": "2022-11-05T21:45:08.781Z"
   },
   {
    "duration": 246,
    "start_time": "2022-11-05T21:45:16.107Z"
   },
   {
    "duration": 239,
    "start_time": "2022-11-05T21:45:35.627Z"
   },
   {
    "duration": 169,
    "start_time": "2022-11-05T21:46:57.617Z"
   },
   {
    "duration": 170,
    "start_time": "2022-11-05T21:47:27.832Z"
   },
   {
    "duration": 1147,
    "start_time": "2022-11-05T22:09:33.388Z"
   },
   {
    "duration": 67,
    "start_time": "2022-11-05T22:09:34.537Z"
   },
   {
    "duration": 14,
    "start_time": "2022-11-05T22:09:34.606Z"
   },
   {
    "duration": 9,
    "start_time": "2022-11-05T22:09:34.623Z"
   },
   {
    "duration": 17,
    "start_time": "2022-11-05T22:09:34.633Z"
   },
   {
    "duration": 20,
    "start_time": "2022-11-05T22:09:34.652Z"
   },
   {
    "duration": 36,
    "start_time": "2022-11-05T22:09:34.673Z"
   },
   {
    "duration": 12,
    "start_time": "2022-11-05T22:09:34.711Z"
   },
   {
    "duration": 10,
    "start_time": "2022-11-05T22:09:34.725Z"
   },
   {
    "duration": 9,
    "start_time": "2022-11-05T22:09:34.738Z"
   },
   {
    "duration": 9,
    "start_time": "2022-11-05T22:09:34.748Z"
   },
   {
    "duration": 11,
    "start_time": "2022-11-05T22:09:34.758Z"
   },
   {
    "duration": 8,
    "start_time": "2022-11-05T22:09:34.770Z"
   },
   {
    "duration": 7,
    "start_time": "2022-11-05T22:09:34.809Z"
   },
   {
    "duration": 10,
    "start_time": "2022-11-05T22:09:34.818Z"
   },
   {
    "duration": 26,
    "start_time": "2022-11-05T22:09:34.829Z"
   },
   {
    "duration": 19,
    "start_time": "2022-11-05T22:09:34.856Z"
   },
   {
    "duration": 19,
    "start_time": "2022-11-05T22:09:34.909Z"
   },
   {
    "duration": 323,
    "start_time": "2022-11-05T22:09:34.929Z"
   },
   {
    "duration": 115,
    "start_time": "2022-11-05T22:09:35.254Z"
   },
   {
    "duration": 6,
    "start_time": "2022-11-05T22:09:35.371Z"
   },
   {
    "duration": 239,
    "start_time": "2022-11-05T22:09:35.378Z"
   },
   {
    "duration": 18,
    "start_time": "2022-11-05T22:09:35.619Z"
   },
   {
    "duration": 19,
    "start_time": "2022-11-05T22:09:35.638Z"
   },
   {
    "duration": 30,
    "start_time": "2022-11-05T22:09:35.658Z"
   },
   {
    "duration": 244,
    "start_time": "2022-11-05T22:09:35.689Z"
   },
   {
    "duration": 17,
    "start_time": "2022-11-05T22:09:35.934Z"
   },
   {
    "duration": 10,
    "start_time": "2022-11-05T22:09:35.955Z"
   },
   {
    "duration": 317,
    "start_time": "2022-11-05T22:09:35.966Z"
   },
   {
    "duration": 25,
    "start_time": "2022-11-05T22:09:36.284Z"
   },
   {
    "duration": 231,
    "start_time": "2022-11-05T22:09:36.311Z"
   },
   {
    "duration": 300,
    "start_time": "2022-11-05T22:09:36.543Z"
   },
   {
    "duration": 15,
    "start_time": "2022-11-05T22:09:36.845Z"
   },
   {
    "duration": 8,
    "start_time": "2022-11-05T22:09:36.861Z"
   },
   {
    "duration": 147,
    "start_time": "2022-11-05T22:09:36.870Z"
   },
   {
    "duration": 130,
    "start_time": "2022-11-05T22:09:37.018Z"
   },
   {
    "duration": 9,
    "start_time": "2022-11-05T22:09:37.149Z"
   },
   {
    "duration": 5,
    "start_time": "2022-11-05T22:09:37.159Z"
   },
   {
    "duration": 4,
    "start_time": "2022-11-05T22:09:37.165Z"
   },
   {
    "duration": 4,
    "start_time": "2022-11-05T22:09:37.170Z"
   },
   {
    "duration": 130,
    "start_time": "2022-11-05T22:09:37.175Z"
   },
   {
    "duration": 115,
    "start_time": "2022-11-05T22:09:37.309Z"
   },
   {
    "duration": 9,
    "start_time": "2022-11-05T22:09:37.425Z"
   },
   {
    "duration": 138,
    "start_time": "2022-11-05T22:09:37.435Z"
   },
   {
    "duration": 111,
    "start_time": "2022-11-05T22:09:37.575Z"
   },
   {
    "duration": 8,
    "start_time": "2022-11-05T22:09:37.688Z"
   },
   {
    "duration": 16,
    "start_time": "2022-11-05T22:09:37.697Z"
   },
   {
    "duration": 187,
    "start_time": "2022-11-05T22:09:37.714Z"
   },
   {
    "duration": 10,
    "start_time": "2022-11-05T22:09:37.903Z"
   },
   {
    "duration": 179,
    "start_time": "2022-11-05T22:09:37.915Z"
   },
   {
    "duration": 139,
    "start_time": "2022-11-05T22:09:38.095Z"
   },
   {
    "duration": 126,
    "start_time": "2022-11-05T22:09:38.235Z"
   },
   {
    "duration": 195,
    "start_time": "2022-11-05T22:09:38.362Z"
   },
   {
    "duration": 139,
    "start_time": "2022-11-05T22:09:38.558Z"
   },
   {
    "duration": 143,
    "start_time": "2022-11-05T22:09:38.699Z"
   },
   {
    "duration": 138,
    "start_time": "2022-11-05T22:09:38.844Z"
   },
   {
    "duration": 127,
    "start_time": "2022-11-05T22:09:38.983Z"
   },
   {
    "duration": 136,
    "start_time": "2022-11-05T22:09:39.111Z"
   },
   {
    "duration": 129,
    "start_time": "2022-11-05T22:09:39.249Z"
   },
   {
    "duration": 8,
    "start_time": "2022-11-05T22:09:39.380Z"
   },
   {
    "duration": 6,
    "start_time": "2022-11-05T22:09:39.389Z"
   },
   {
    "duration": 4,
    "start_time": "2022-11-05T22:09:39.409Z"
   },
   {
    "duration": 10,
    "start_time": "2022-11-05T22:09:39.415Z"
   },
   {
    "duration": 7,
    "start_time": "2022-11-05T22:09:39.426Z"
   },
   {
    "duration": 9,
    "start_time": "2022-11-05T22:09:39.434Z"
   },
   {
    "duration": 103,
    "start_time": "2022-11-06T09:34:47.796Z"
   },
   {
    "duration": 74,
    "start_time": "2022-11-06T09:37:26.698Z"
   },
   {
    "duration": 75,
    "start_time": "2022-11-06T09:38:15.452Z"
   },
   {
    "duration": 92,
    "start_time": "2022-11-06T09:39:25.746Z"
   },
   {
    "duration": 1199,
    "start_time": "2023-05-07T17:34:49.817Z"
   },
   {
    "duration": 112,
    "start_time": "2023-05-07T17:34:51.017Z"
   },
   {
    "duration": 14,
    "start_time": "2023-05-07T17:34:51.131Z"
   },
   {
    "duration": 20,
    "start_time": "2023-05-07T17:34:51.147Z"
   },
   {
    "duration": 22,
    "start_time": "2023-05-07T17:34:51.169Z"
   },
   {
    "duration": 42,
    "start_time": "2023-05-07T17:34:51.195Z"
   },
   {
    "duration": 15,
    "start_time": "2023-05-07T17:34:51.238Z"
   },
   {
    "duration": 16,
    "start_time": "2023-05-07T17:34:51.255Z"
   },
   {
    "duration": 54,
    "start_time": "2023-05-07T17:34:51.273Z"
   },
   {
    "duration": 11,
    "start_time": "2023-05-07T17:34:51.330Z"
   },
   {
    "duration": 13,
    "start_time": "2023-05-07T17:34:51.343Z"
   },
   {
    "duration": 31,
    "start_time": "2023-05-07T17:34:51.358Z"
   },
   {
    "duration": 27,
    "start_time": "2023-05-07T17:34:51.391Z"
   },
   {
    "duration": 30,
    "start_time": "2023-05-07T17:34:51.420Z"
   },
   {
    "duration": 16,
    "start_time": "2023-05-07T17:34:51.452Z"
   },
   {
    "duration": 36,
    "start_time": "2023-05-07T17:34:51.469Z"
   },
   {
    "duration": 21,
    "start_time": "2023-05-07T17:34:51.506Z"
   },
   {
    "duration": 43,
    "start_time": "2023-05-07T17:34:51.529Z"
   },
   {
    "duration": 354,
    "start_time": "2023-05-07T17:34:51.573Z"
   },
   {
    "duration": 133,
    "start_time": "2023-05-07T17:34:51.929Z"
   },
   {
    "duration": 8,
    "start_time": "2023-05-07T17:34:52.063Z"
   },
   {
    "duration": 267,
    "start_time": "2023-05-07T17:34:52.073Z"
   },
   {
    "duration": 22,
    "start_time": "2023-05-07T17:34:52.342Z"
   },
   {
    "duration": 27,
    "start_time": "2023-05-07T17:34:52.366Z"
   },
   {
    "duration": 55,
    "start_time": "2023-05-07T17:34:52.395Z"
   },
   {
    "duration": 236,
    "start_time": "2023-05-07T17:34:52.452Z"
   },
   {
    "duration": 20,
    "start_time": "2023-05-07T17:34:52.690Z"
   },
   {
    "duration": 18,
    "start_time": "2023-05-07T17:34:52.714Z"
   },
   {
    "duration": 344,
    "start_time": "2023-05-07T17:34:52.734Z"
   },
   {
    "duration": 27,
    "start_time": "2023-05-07T17:34:53.080Z"
   },
   {
    "duration": 269,
    "start_time": "2023-05-07T17:34:53.109Z"
   },
   {
    "duration": 391,
    "start_time": "2023-05-07T17:34:53.380Z"
   },
   {
    "duration": 30,
    "start_time": "2023-05-07T17:34:53.774Z"
   },
   {
    "duration": 6,
    "start_time": "2023-05-07T17:34:53.806Z"
   },
   {
    "duration": 166,
    "start_time": "2023-05-07T17:34:53.814Z"
   },
   {
    "duration": 157,
    "start_time": "2023-05-07T17:34:53.982Z"
   },
   {
    "duration": 12,
    "start_time": "2023-05-07T17:34:54.141Z"
   },
   {
    "duration": 9,
    "start_time": "2023-05-07T17:34:54.154Z"
   },
   {
    "duration": 5,
    "start_time": "2023-05-07T17:34:54.165Z"
   },
   {
    "duration": 23,
    "start_time": "2023-05-07T17:34:54.172Z"
   },
   {
    "duration": 135,
    "start_time": "2023-05-07T17:34:54.197Z"
   },
   {
    "duration": 149,
    "start_time": "2023-05-07T17:34:54.334Z"
   },
   {
    "duration": 12,
    "start_time": "2023-05-07T17:34:54.491Z"
   },
   {
    "duration": 171,
    "start_time": "2023-05-07T17:34:54.505Z"
   },
   {
    "duration": 132,
    "start_time": "2023-05-07T17:34:54.677Z"
   },
   {
    "duration": 9,
    "start_time": "2023-05-07T17:34:54.811Z"
   },
   {
    "duration": 6,
    "start_time": "2023-05-07T17:34:54.822Z"
   },
   {
    "duration": 203,
    "start_time": "2023-05-07T17:34:54.830Z"
   },
   {
    "duration": 7,
    "start_time": "2023-05-07T17:34:55.035Z"
   },
   {
    "duration": 194,
    "start_time": "2023-05-07T17:34:55.043Z"
   },
   {
    "duration": 153,
    "start_time": "2023-05-07T17:34:55.239Z"
   },
   {
    "duration": 151,
    "start_time": "2023-05-07T17:34:55.394Z"
   },
   {
    "duration": 214,
    "start_time": "2023-05-07T17:34:55.547Z"
   },
   {
    "duration": 149,
    "start_time": "2023-05-07T17:34:55.762Z"
   },
   {
    "duration": 165,
    "start_time": "2023-05-07T17:34:55.913Z"
   },
   {
    "duration": 146,
    "start_time": "2023-05-07T17:34:56.080Z"
   },
   {
    "duration": 140,
    "start_time": "2023-05-07T17:34:56.227Z"
   },
   {
    "duration": 167,
    "start_time": "2023-05-07T17:34:56.369Z"
   },
   {
    "duration": 151,
    "start_time": "2023-05-07T17:34:56.537Z"
   },
   {
    "duration": 10,
    "start_time": "2023-05-07T17:34:56.692Z"
   },
   {
    "duration": 8,
    "start_time": "2023-05-07T17:34:56.704Z"
   },
   {
    "duration": 5,
    "start_time": "2023-05-07T17:34:56.713Z"
   },
   {
    "duration": 8,
    "start_time": "2023-05-07T17:34:56.720Z"
   },
   {
    "duration": 5,
    "start_time": "2023-05-07T17:34:56.730Z"
   },
   {
    "duration": 6,
    "start_time": "2023-05-07T17:34:56.736Z"
   }
  ],
  "kernelspec": {
   "display_name": "Python 3 (ipykernel)",
   "language": "python",
   "name": "python3"
  },
  "language_info": {
   "codemirror_mode": {
    "name": "ipython",
    "version": 3
   },
   "file_extension": ".py",
   "mimetype": "text/x-python",
   "name": "python",
   "nbconvert_exporter": "python",
   "pygments_lexer": "ipython3",
   "version": "3.9.5"
  },
  "toc": {
   "base_numbering": 1,
   "nav_menu": {},
   "number_sections": true,
   "sideBar": true,
   "skip_h1_title": true,
   "title_cell": "Table of Contents",
   "title_sidebar": "Contents",
   "toc_cell": false,
   "toc_position": {},
   "toc_section_display": true,
   "toc_window_display": false
  }
 },
 "nbformat": 4,
 "nbformat_minor": 2
}
